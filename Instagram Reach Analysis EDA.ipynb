{
 "cells": [
  {
   "cell_type": "code",
   "execution_count": 14,
   "metadata": {},
   "outputs": [],
   "source": [
    "import pandas as pd\n",
    "import plotly.express as px\n",
    "import plotly.graph_objs as go\n",
    "import plotly.io as pio\n",
    "pio.templates.default = 'plotly_white'"
   ]
  },
  {
   "cell_type": "code",
   "execution_count": 15,
   "metadata": {},
   "outputs": [
    {
     "data": {
      "text/html": [
       "<div>\n",
       "<style scoped>\n",
       "    .dataframe tbody tr th:only-of-type {\n",
       "        vertical-align: middle;\n",
       "    }\n",
       "\n",
       "    .dataframe tbody tr th {\n",
       "        vertical-align: top;\n",
       "    }\n",
       "\n",
       "    .dataframe thead th {\n",
       "        text-align: right;\n",
       "    }\n",
       "</style>\n",
       "<table border=\"1\" class=\"dataframe\">\n",
       "  <thead>\n",
       "    <tr style=\"text-align: right;\">\n",
       "      <th></th>\n",
       "      <th>Impressions</th>\n",
       "      <th>From Home</th>\n",
       "      <th>From Hashtags</th>\n",
       "      <th>From Explore</th>\n",
       "      <th>From Other</th>\n",
       "      <th>Saves</th>\n",
       "      <th>Comments</th>\n",
       "      <th>Shares</th>\n",
       "      <th>Likes</th>\n",
       "      <th>Profile Visits</th>\n",
       "      <th>Follows</th>\n",
       "      <th>Caption</th>\n",
       "      <th>Hashtags</th>\n",
       "    </tr>\n",
       "  </thead>\n",
       "  <tbody>\n",
       "    <tr>\n",
       "      <th>0</th>\n",
       "      <td>3920</td>\n",
       "      <td>2586</td>\n",
       "      <td>1028</td>\n",
       "      <td>619</td>\n",
       "      <td>56</td>\n",
       "      <td>98</td>\n",
       "      <td>9</td>\n",
       "      <td>5</td>\n",
       "      <td>162</td>\n",
       "      <td>35</td>\n",
       "      <td>2</td>\n",
       "      <td>Here are some of the most important data visua...</td>\n",
       "      <td>#financeï¿½#moneyï¿½#businessï¿½#investingï¿½#...</td>\n",
       "    </tr>\n",
       "    <tr>\n",
       "      <th>1</th>\n",
       "      <td>5394</td>\n",
       "      <td>2727</td>\n",
       "      <td>1838</td>\n",
       "      <td>1174</td>\n",
       "      <td>78</td>\n",
       "      <td>194</td>\n",
       "      <td>7</td>\n",
       "      <td>14</td>\n",
       "      <td>224</td>\n",
       "      <td>48</td>\n",
       "      <td>10</td>\n",
       "      <td>Here are some of the best data science project...</td>\n",
       "      <td>#healthcareï¿½#healthï¿½#covidï¿½#dataï¿½#data...</td>\n",
       "    </tr>\n",
       "    <tr>\n",
       "      <th>2</th>\n",
       "      <td>4021</td>\n",
       "      <td>2085</td>\n",
       "      <td>1188</td>\n",
       "      <td>0</td>\n",
       "      <td>533</td>\n",
       "      <td>41</td>\n",
       "      <td>11</td>\n",
       "      <td>1</td>\n",
       "      <td>131</td>\n",
       "      <td>62</td>\n",
       "      <td>12</td>\n",
       "      <td>Learn how to train a machine learning model an...</td>\n",
       "      <td>#dataï¿½#datascienceï¿½#dataanalysisï¿½#dataan...</td>\n",
       "    </tr>\n",
       "    <tr>\n",
       "      <th>3</th>\n",
       "      <td>4528</td>\n",
       "      <td>2700</td>\n",
       "      <td>621</td>\n",
       "      <td>932</td>\n",
       "      <td>73</td>\n",
       "      <td>172</td>\n",
       "      <td>10</td>\n",
       "      <td>7</td>\n",
       "      <td>213</td>\n",
       "      <td>23</td>\n",
       "      <td>8</td>\n",
       "      <td>Hereï¿½s how you can write a Python program to...</td>\n",
       "      <td>#pythonï¿½#pythonprogrammingï¿½#pythonprojects...</td>\n",
       "    </tr>\n",
       "    <tr>\n",
       "      <th>4</th>\n",
       "      <td>2518</td>\n",
       "      <td>1704</td>\n",
       "      <td>255</td>\n",
       "      <td>279</td>\n",
       "      <td>37</td>\n",
       "      <td>96</td>\n",
       "      <td>5</td>\n",
       "      <td>4</td>\n",
       "      <td>123</td>\n",
       "      <td>8</td>\n",
       "      <td>0</td>\n",
       "      <td>Plotting annotations while visualizing your da...</td>\n",
       "      <td>#datavisualizationï¿½#datascienceï¿½#dataï¿½#d...</td>\n",
       "    </tr>\n",
       "  </tbody>\n",
       "</table>\n",
       "</div>"
      ],
      "text/plain": [
       "   Impressions  From Home  From Hashtags  From Explore  From Other  Saves  \\\n",
       "0         3920       2586           1028           619          56     98   \n",
       "1         5394       2727           1838          1174          78    194   \n",
       "2         4021       2085           1188             0         533     41   \n",
       "3         4528       2700            621           932          73    172   \n",
       "4         2518       1704            255           279          37     96   \n",
       "\n",
       "   Comments  Shares  Likes  Profile Visits  Follows  \\\n",
       "0         9       5    162              35        2   \n",
       "1         7      14    224              48       10   \n",
       "2        11       1    131              62       12   \n",
       "3        10       7    213              23        8   \n",
       "4         5       4    123               8        0   \n",
       "\n",
       "                                             Caption  \\\n",
       "0  Here are some of the most important data visua...   \n",
       "1  Here are some of the best data science project...   \n",
       "2  Learn how to train a machine learning model an...   \n",
       "3  Hereï¿½s how you can write a Python program to...   \n",
       "4  Plotting annotations while visualizing your da...   \n",
       "\n",
       "                                            Hashtags  \n",
       "0  #financeï¿½#moneyï¿½#businessï¿½#investingï¿½#...  \n",
       "1  #healthcareï¿½#healthï¿½#covidï¿½#dataï¿½#data...  \n",
       "2  #dataï¿½#datascienceï¿½#dataanalysisï¿½#dataan...  \n",
       "3  #pythonï¿½#pythonprogrammingï¿½#pythonprojects...  \n",
       "4  #datavisualizationï¿½#datascienceï¿½#dataï¿½#d...  "
      ]
     },
     "execution_count": 15,
     "metadata": {},
     "output_type": "execute_result"
    }
   ],
   "source": [
    "df = pd.read_csv('D:\\VS Code\\Machine Learning\\Projects\\Instagram Reach Analysis EDA\\Instagram data.csv',encoding='latin-1')\n",
    "df.head()"
   ]
  },
  {
   "cell_type": "code",
   "execution_count": 16,
   "metadata": {},
   "outputs": [
    {
     "data": {
      "text/plain": [
       "Index(['Impressions', 'From Home', 'From Hashtags', 'From Explore',\n",
       "       'From Other', 'Saves', 'Comments', 'Shares', 'Likes', 'Profile Visits',\n",
       "       'Follows', 'Caption', 'Hashtags'],\n",
       "      dtype='object')"
      ]
     },
     "execution_count": 16,
     "metadata": {},
     "output_type": "execute_result"
    }
   ],
   "source": [
    "df.columns"
   ]
  },
  {
   "cell_type": "code",
   "execution_count": 17,
   "metadata": {},
   "outputs": [
    {
     "name": "stdout",
     "output_type": "stream",
     "text": [
      "<class 'pandas.core.frame.DataFrame'>\n",
      "RangeIndex: 119 entries, 0 to 118\n",
      "Data columns (total 13 columns):\n",
      " #   Column          Non-Null Count  Dtype \n",
      "---  ------          --------------  ----- \n",
      " 0   Impressions     119 non-null    int64 \n",
      " 1   From Home       119 non-null    int64 \n",
      " 2   From Hashtags   119 non-null    int64 \n",
      " 3   From Explore    119 non-null    int64 \n",
      " 4   From Other      119 non-null    int64 \n",
      " 5   Saves           119 non-null    int64 \n",
      " 6   Comments        119 non-null    int64 \n",
      " 7   Shares          119 non-null    int64 \n",
      " 8   Likes           119 non-null    int64 \n",
      " 9   Profile Visits  119 non-null    int64 \n",
      " 10  Follows         119 non-null    int64 \n",
      " 11  Caption         119 non-null    object\n",
      " 12  Hashtags        119 non-null    object\n",
      "dtypes: int64(11), object(2)\n",
      "memory usage: 12.2+ KB\n"
     ]
    }
   ],
   "source": [
    "df.info()"
   ]
  },
  {
   "cell_type": "code",
   "execution_count": 18,
   "metadata": {},
   "outputs": [
    {
     "data": {
      "text/html": [
       "<div>\n",
       "<style scoped>\n",
       "    .dataframe tbody tr th:only-of-type {\n",
       "        vertical-align: middle;\n",
       "    }\n",
       "\n",
       "    .dataframe tbody tr th {\n",
       "        vertical-align: top;\n",
       "    }\n",
       "\n",
       "    .dataframe thead th {\n",
       "        text-align: right;\n",
       "    }\n",
       "</style>\n",
       "<table border=\"1\" class=\"dataframe\">\n",
       "  <thead>\n",
       "    <tr style=\"text-align: right;\">\n",
       "      <th></th>\n",
       "      <th>Impressions</th>\n",
       "      <th>From Home</th>\n",
       "      <th>From Hashtags</th>\n",
       "      <th>From Explore</th>\n",
       "      <th>From Other</th>\n",
       "      <th>Saves</th>\n",
       "      <th>Comments</th>\n",
       "      <th>Shares</th>\n",
       "      <th>Likes</th>\n",
       "      <th>Profile Visits</th>\n",
       "      <th>Follows</th>\n",
       "    </tr>\n",
       "  </thead>\n",
       "  <tbody>\n",
       "    <tr>\n",
       "      <th>count</th>\n",
       "      <td>119.000000</td>\n",
       "      <td>119.000000</td>\n",
       "      <td>119.000000</td>\n",
       "      <td>119.000000</td>\n",
       "      <td>119.000000</td>\n",
       "      <td>119.000000</td>\n",
       "      <td>119.000000</td>\n",
       "      <td>119.000000</td>\n",
       "      <td>119.000000</td>\n",
       "      <td>119.000000</td>\n",
       "      <td>119.000000</td>\n",
       "    </tr>\n",
       "    <tr>\n",
       "      <th>mean</th>\n",
       "      <td>5703.991597</td>\n",
       "      <td>2475.789916</td>\n",
       "      <td>1887.512605</td>\n",
       "      <td>1078.100840</td>\n",
       "      <td>171.092437</td>\n",
       "      <td>153.310924</td>\n",
       "      <td>6.663866</td>\n",
       "      <td>9.361345</td>\n",
       "      <td>173.781513</td>\n",
       "      <td>50.621849</td>\n",
       "      <td>20.756303</td>\n",
       "    </tr>\n",
       "    <tr>\n",
       "      <th>std</th>\n",
       "      <td>4843.780105</td>\n",
       "      <td>1489.386348</td>\n",
       "      <td>1884.361443</td>\n",
       "      <td>2613.026132</td>\n",
       "      <td>289.431031</td>\n",
       "      <td>156.317731</td>\n",
       "      <td>3.544576</td>\n",
       "      <td>10.089205</td>\n",
       "      <td>82.378947</td>\n",
       "      <td>87.088402</td>\n",
       "      <td>40.921580</td>\n",
       "    </tr>\n",
       "    <tr>\n",
       "      <th>min</th>\n",
       "      <td>1941.000000</td>\n",
       "      <td>1133.000000</td>\n",
       "      <td>116.000000</td>\n",
       "      <td>0.000000</td>\n",
       "      <td>9.000000</td>\n",
       "      <td>22.000000</td>\n",
       "      <td>0.000000</td>\n",
       "      <td>0.000000</td>\n",
       "      <td>72.000000</td>\n",
       "      <td>4.000000</td>\n",
       "      <td>0.000000</td>\n",
       "    </tr>\n",
       "    <tr>\n",
       "      <th>25%</th>\n",
       "      <td>3467.000000</td>\n",
       "      <td>1945.000000</td>\n",
       "      <td>726.000000</td>\n",
       "      <td>157.500000</td>\n",
       "      <td>38.000000</td>\n",
       "      <td>65.000000</td>\n",
       "      <td>4.000000</td>\n",
       "      <td>3.000000</td>\n",
       "      <td>121.500000</td>\n",
       "      <td>15.000000</td>\n",
       "      <td>4.000000</td>\n",
       "    </tr>\n",
       "    <tr>\n",
       "      <th>50%</th>\n",
       "      <td>4289.000000</td>\n",
       "      <td>2207.000000</td>\n",
       "      <td>1278.000000</td>\n",
       "      <td>326.000000</td>\n",
       "      <td>74.000000</td>\n",
       "      <td>109.000000</td>\n",
       "      <td>6.000000</td>\n",
       "      <td>6.000000</td>\n",
       "      <td>151.000000</td>\n",
       "      <td>23.000000</td>\n",
       "      <td>8.000000</td>\n",
       "    </tr>\n",
       "    <tr>\n",
       "      <th>75%</th>\n",
       "      <td>6138.000000</td>\n",
       "      <td>2602.500000</td>\n",
       "      <td>2363.500000</td>\n",
       "      <td>689.500000</td>\n",
       "      <td>196.000000</td>\n",
       "      <td>169.000000</td>\n",
       "      <td>8.000000</td>\n",
       "      <td>13.500000</td>\n",
       "      <td>204.000000</td>\n",
       "      <td>42.000000</td>\n",
       "      <td>18.000000</td>\n",
       "    </tr>\n",
       "    <tr>\n",
       "      <th>max</th>\n",
       "      <td>36919.000000</td>\n",
       "      <td>13473.000000</td>\n",
       "      <td>11817.000000</td>\n",
       "      <td>17414.000000</td>\n",
       "      <td>2547.000000</td>\n",
       "      <td>1095.000000</td>\n",
       "      <td>19.000000</td>\n",
       "      <td>75.000000</td>\n",
       "      <td>549.000000</td>\n",
       "      <td>611.000000</td>\n",
       "      <td>260.000000</td>\n",
       "    </tr>\n",
       "  </tbody>\n",
       "</table>\n",
       "</div>"
      ],
      "text/plain": [
       "        Impressions     From Home  From Hashtags  From Explore   From Other  \\\n",
       "count    119.000000    119.000000     119.000000    119.000000   119.000000   \n",
       "mean    5703.991597   2475.789916    1887.512605   1078.100840   171.092437   \n",
       "std     4843.780105   1489.386348    1884.361443   2613.026132   289.431031   \n",
       "min     1941.000000   1133.000000     116.000000      0.000000     9.000000   \n",
       "25%     3467.000000   1945.000000     726.000000    157.500000    38.000000   \n",
       "50%     4289.000000   2207.000000    1278.000000    326.000000    74.000000   \n",
       "75%     6138.000000   2602.500000    2363.500000    689.500000   196.000000   \n",
       "max    36919.000000  13473.000000   11817.000000  17414.000000  2547.000000   \n",
       "\n",
       "             Saves    Comments      Shares       Likes  Profile Visits  \\\n",
       "count   119.000000  119.000000  119.000000  119.000000      119.000000   \n",
       "mean    153.310924    6.663866    9.361345  173.781513       50.621849   \n",
       "std     156.317731    3.544576   10.089205   82.378947       87.088402   \n",
       "min      22.000000    0.000000    0.000000   72.000000        4.000000   \n",
       "25%      65.000000    4.000000    3.000000  121.500000       15.000000   \n",
       "50%     109.000000    6.000000    6.000000  151.000000       23.000000   \n",
       "75%     169.000000    8.000000   13.500000  204.000000       42.000000   \n",
       "max    1095.000000   19.000000   75.000000  549.000000      611.000000   \n",
       "\n",
       "          Follows  \n",
       "count  119.000000  \n",
       "mean    20.756303  \n",
       "std     40.921580  \n",
       "min      0.000000  \n",
       "25%      4.000000  \n",
       "50%      8.000000  \n",
       "75%     18.000000  \n",
       "max    260.000000  "
      ]
     },
     "execution_count": 18,
     "metadata": {},
     "output_type": "execute_result"
    }
   ],
   "source": [
    "df.describe()"
   ]
  },
  {
   "cell_type": "code",
   "execution_count": 19,
   "metadata": {},
   "outputs": [
    {
     "data": {
      "text/plain": [
       "Impressions       0\n",
       "From Home         0\n",
       "From Hashtags     0\n",
       "From Explore      0\n",
       "From Other        0\n",
       "Saves             0\n",
       "Comments          0\n",
       "Shares            0\n",
       "Likes             0\n",
       "Profile Visits    0\n",
       "Follows           0\n",
       "Caption           0\n",
       "Hashtags          0\n",
       "dtype: int64"
      ]
     },
     "execution_count": 19,
     "metadata": {},
     "output_type": "execute_result"
    }
   ],
   "source": [
    "df.isnull().sum()"
   ]
  },
  {
   "cell_type": "code",
   "execution_count": 20,
   "metadata": {},
   "outputs": [
    {
     "data": {
      "application/vnd.plotly.v1+json": {
       "config": {
        "plotlyServerURL": "https://plot.ly"
       },
       "data": [
        {
         "alignmentgroup": "True",
         "bingroup": "x",
         "hovertemplate": "Impressions=%{x}<br>count=%{y}<extra></extra>",
         "legendgroup": "",
         "marker": {
          "color": "#636efa",
          "pattern": {
           "shape": ""
          }
         },
         "name": "",
         "nbinsx": 10,
         "offsetgroup": "",
         "orientation": "v",
         "showlegend": false,
         "type": "histogram",
         "x": [
          3920,
          5394,
          4021,
          4528,
          2518,
          3884,
          2621,
          3541,
          3749,
          4115,
          2218,
          3234,
          4344,
          3216,
          9453,
          5055,
          4002,
          3169,
          6168,
          2407,
          2064,
          3973,
          7281,
          3052,
          4628,
          4082,
          5394,
          2766,
          3924,
          3015,
          6666,
          3854,
          4355,
          4343,
          6108,
          2523,
          2327,
          3990,
          2191,
          1941,
          16062,
          4998,
          4289,
          3880,
          3786,
          4298,
          3630,
          2826,
          7407,
          10386,
          2998,
          7018,
          2941,
          6432,
          10667,
          3988,
          4978,
          3388,
          4467,
          3246,
          5072,
          6339,
          4239,
          3454,
          7571,
          3333,
          3818,
          10933,
          5058,
          3601,
          3480,
          3525,
          3606,
          5542,
          6559,
          3623,
          10493,
          4446,
          2957,
          5538,
          4681,
          5273,
          5055,
          4002,
          3169,
          6168,
          2407,
          3630,
          2826,
          7407,
          10386,
          2998,
          3052,
          4628,
          4082,
          5394,
          2766,
          3924,
          3015,
          5409,
          5323,
          8001,
          4150,
          4609,
          6348,
          11068,
          7231,
          17396,
          6814,
          17713,
          5563,
          4842,
          11149,
          10206,
          13700,
          5731,
          4139,
          32695,
          36919
         ],
         "xaxis": "x",
         "yaxis": "y"
        }
       ],
       "layout": {
        "barmode": "relative",
        "legend": {
         "tracegroupgap": 0
        },
        "template": {
         "data": {
          "bar": [
           {
            "error_x": {
             "color": "#2a3f5f"
            },
            "error_y": {
             "color": "#2a3f5f"
            },
            "marker": {
             "line": {
              "color": "white",
              "width": 0.5
             },
             "pattern": {
              "fillmode": "overlay",
              "size": 10,
              "solidity": 0.2
             }
            },
            "type": "bar"
           }
          ],
          "barpolar": [
           {
            "marker": {
             "line": {
              "color": "white",
              "width": 0.5
             },
             "pattern": {
              "fillmode": "overlay",
              "size": 10,
              "solidity": 0.2
             }
            },
            "type": "barpolar"
           }
          ],
          "carpet": [
           {
            "aaxis": {
             "endlinecolor": "#2a3f5f",
             "gridcolor": "#C8D4E3",
             "linecolor": "#C8D4E3",
             "minorgridcolor": "#C8D4E3",
             "startlinecolor": "#2a3f5f"
            },
            "baxis": {
             "endlinecolor": "#2a3f5f",
             "gridcolor": "#C8D4E3",
             "linecolor": "#C8D4E3",
             "minorgridcolor": "#C8D4E3",
             "startlinecolor": "#2a3f5f"
            },
            "type": "carpet"
           }
          ],
          "choropleth": [
           {
            "colorbar": {
             "outlinewidth": 0,
             "ticks": ""
            },
            "type": "choropleth"
           }
          ],
          "contour": [
           {
            "colorbar": {
             "outlinewidth": 0,
             "ticks": ""
            },
            "colorscale": [
             [
              0,
              "#0d0887"
             ],
             [
              0.1111111111111111,
              "#46039f"
             ],
             [
              0.2222222222222222,
              "#7201a8"
             ],
             [
              0.3333333333333333,
              "#9c179e"
             ],
             [
              0.4444444444444444,
              "#bd3786"
             ],
             [
              0.5555555555555556,
              "#d8576b"
             ],
             [
              0.6666666666666666,
              "#ed7953"
             ],
             [
              0.7777777777777778,
              "#fb9f3a"
             ],
             [
              0.8888888888888888,
              "#fdca26"
             ],
             [
              1,
              "#f0f921"
             ]
            ],
            "type": "contour"
           }
          ],
          "contourcarpet": [
           {
            "colorbar": {
             "outlinewidth": 0,
             "ticks": ""
            },
            "type": "contourcarpet"
           }
          ],
          "heatmap": [
           {
            "colorbar": {
             "outlinewidth": 0,
             "ticks": ""
            },
            "colorscale": [
             [
              0,
              "#0d0887"
             ],
             [
              0.1111111111111111,
              "#46039f"
             ],
             [
              0.2222222222222222,
              "#7201a8"
             ],
             [
              0.3333333333333333,
              "#9c179e"
             ],
             [
              0.4444444444444444,
              "#bd3786"
             ],
             [
              0.5555555555555556,
              "#d8576b"
             ],
             [
              0.6666666666666666,
              "#ed7953"
             ],
             [
              0.7777777777777778,
              "#fb9f3a"
             ],
             [
              0.8888888888888888,
              "#fdca26"
             ],
             [
              1,
              "#f0f921"
             ]
            ],
            "type": "heatmap"
           }
          ],
          "heatmapgl": [
           {
            "colorbar": {
             "outlinewidth": 0,
             "ticks": ""
            },
            "colorscale": [
             [
              0,
              "#0d0887"
             ],
             [
              0.1111111111111111,
              "#46039f"
             ],
             [
              0.2222222222222222,
              "#7201a8"
             ],
             [
              0.3333333333333333,
              "#9c179e"
             ],
             [
              0.4444444444444444,
              "#bd3786"
             ],
             [
              0.5555555555555556,
              "#d8576b"
             ],
             [
              0.6666666666666666,
              "#ed7953"
             ],
             [
              0.7777777777777778,
              "#fb9f3a"
             ],
             [
              0.8888888888888888,
              "#fdca26"
             ],
             [
              1,
              "#f0f921"
             ]
            ],
            "type": "heatmapgl"
           }
          ],
          "histogram": [
           {
            "marker": {
             "pattern": {
              "fillmode": "overlay",
              "size": 10,
              "solidity": 0.2
             }
            },
            "type": "histogram"
           }
          ],
          "histogram2d": [
           {
            "colorbar": {
             "outlinewidth": 0,
             "ticks": ""
            },
            "colorscale": [
             [
              0,
              "#0d0887"
             ],
             [
              0.1111111111111111,
              "#46039f"
             ],
             [
              0.2222222222222222,
              "#7201a8"
             ],
             [
              0.3333333333333333,
              "#9c179e"
             ],
             [
              0.4444444444444444,
              "#bd3786"
             ],
             [
              0.5555555555555556,
              "#d8576b"
             ],
             [
              0.6666666666666666,
              "#ed7953"
             ],
             [
              0.7777777777777778,
              "#fb9f3a"
             ],
             [
              0.8888888888888888,
              "#fdca26"
             ],
             [
              1,
              "#f0f921"
             ]
            ],
            "type": "histogram2d"
           }
          ],
          "histogram2dcontour": [
           {
            "colorbar": {
             "outlinewidth": 0,
             "ticks": ""
            },
            "colorscale": [
             [
              0,
              "#0d0887"
             ],
             [
              0.1111111111111111,
              "#46039f"
             ],
             [
              0.2222222222222222,
              "#7201a8"
             ],
             [
              0.3333333333333333,
              "#9c179e"
             ],
             [
              0.4444444444444444,
              "#bd3786"
             ],
             [
              0.5555555555555556,
              "#d8576b"
             ],
             [
              0.6666666666666666,
              "#ed7953"
             ],
             [
              0.7777777777777778,
              "#fb9f3a"
             ],
             [
              0.8888888888888888,
              "#fdca26"
             ],
             [
              1,
              "#f0f921"
             ]
            ],
            "type": "histogram2dcontour"
           }
          ],
          "mesh3d": [
           {
            "colorbar": {
             "outlinewidth": 0,
             "ticks": ""
            },
            "type": "mesh3d"
           }
          ],
          "parcoords": [
           {
            "line": {
             "colorbar": {
              "outlinewidth": 0,
              "ticks": ""
             }
            },
            "type": "parcoords"
           }
          ],
          "pie": [
           {
            "automargin": true,
            "type": "pie"
           }
          ],
          "scatter": [
           {
            "fillpattern": {
             "fillmode": "overlay",
             "size": 10,
             "solidity": 0.2
            },
            "type": "scatter"
           }
          ],
          "scatter3d": [
           {
            "line": {
             "colorbar": {
              "outlinewidth": 0,
              "ticks": ""
             }
            },
            "marker": {
             "colorbar": {
              "outlinewidth": 0,
              "ticks": ""
             }
            },
            "type": "scatter3d"
           }
          ],
          "scattercarpet": [
           {
            "marker": {
             "colorbar": {
              "outlinewidth": 0,
              "ticks": ""
             }
            },
            "type": "scattercarpet"
           }
          ],
          "scattergeo": [
           {
            "marker": {
             "colorbar": {
              "outlinewidth": 0,
              "ticks": ""
             }
            },
            "type": "scattergeo"
           }
          ],
          "scattergl": [
           {
            "marker": {
             "colorbar": {
              "outlinewidth": 0,
              "ticks": ""
             }
            },
            "type": "scattergl"
           }
          ],
          "scattermapbox": [
           {
            "marker": {
             "colorbar": {
              "outlinewidth": 0,
              "ticks": ""
             }
            },
            "type": "scattermapbox"
           }
          ],
          "scatterpolar": [
           {
            "marker": {
             "colorbar": {
              "outlinewidth": 0,
              "ticks": ""
             }
            },
            "type": "scatterpolar"
           }
          ],
          "scatterpolargl": [
           {
            "marker": {
             "colorbar": {
              "outlinewidth": 0,
              "ticks": ""
             }
            },
            "type": "scatterpolargl"
           }
          ],
          "scatterternary": [
           {
            "marker": {
             "colorbar": {
              "outlinewidth": 0,
              "ticks": ""
             }
            },
            "type": "scatterternary"
           }
          ],
          "surface": [
           {
            "colorbar": {
             "outlinewidth": 0,
             "ticks": ""
            },
            "colorscale": [
             [
              0,
              "#0d0887"
             ],
             [
              0.1111111111111111,
              "#46039f"
             ],
             [
              0.2222222222222222,
              "#7201a8"
             ],
             [
              0.3333333333333333,
              "#9c179e"
             ],
             [
              0.4444444444444444,
              "#bd3786"
             ],
             [
              0.5555555555555556,
              "#d8576b"
             ],
             [
              0.6666666666666666,
              "#ed7953"
             ],
             [
              0.7777777777777778,
              "#fb9f3a"
             ],
             [
              0.8888888888888888,
              "#fdca26"
             ],
             [
              1,
              "#f0f921"
             ]
            ],
            "type": "surface"
           }
          ],
          "table": [
           {
            "cells": {
             "fill": {
              "color": "#EBF0F8"
             },
             "line": {
              "color": "white"
             }
            },
            "header": {
             "fill": {
              "color": "#C8D4E3"
             },
             "line": {
              "color": "white"
             }
            },
            "type": "table"
           }
          ]
         },
         "layout": {
          "annotationdefaults": {
           "arrowcolor": "#2a3f5f",
           "arrowhead": 0,
           "arrowwidth": 1
          },
          "autotypenumbers": "strict",
          "coloraxis": {
           "colorbar": {
            "outlinewidth": 0,
            "ticks": ""
           }
          },
          "colorscale": {
           "diverging": [
            [
             0,
             "#8e0152"
            ],
            [
             0.1,
             "#c51b7d"
            ],
            [
             0.2,
             "#de77ae"
            ],
            [
             0.3,
             "#f1b6da"
            ],
            [
             0.4,
             "#fde0ef"
            ],
            [
             0.5,
             "#f7f7f7"
            ],
            [
             0.6,
             "#e6f5d0"
            ],
            [
             0.7,
             "#b8e186"
            ],
            [
             0.8,
             "#7fbc41"
            ],
            [
             0.9,
             "#4d9221"
            ],
            [
             1,
             "#276419"
            ]
           ],
           "sequential": [
            [
             0,
             "#0d0887"
            ],
            [
             0.1111111111111111,
             "#46039f"
            ],
            [
             0.2222222222222222,
             "#7201a8"
            ],
            [
             0.3333333333333333,
             "#9c179e"
            ],
            [
             0.4444444444444444,
             "#bd3786"
            ],
            [
             0.5555555555555556,
             "#d8576b"
            ],
            [
             0.6666666666666666,
             "#ed7953"
            ],
            [
             0.7777777777777778,
             "#fb9f3a"
            ],
            [
             0.8888888888888888,
             "#fdca26"
            ],
            [
             1,
             "#f0f921"
            ]
           ],
           "sequentialminus": [
            [
             0,
             "#0d0887"
            ],
            [
             0.1111111111111111,
             "#46039f"
            ],
            [
             0.2222222222222222,
             "#7201a8"
            ],
            [
             0.3333333333333333,
             "#9c179e"
            ],
            [
             0.4444444444444444,
             "#bd3786"
            ],
            [
             0.5555555555555556,
             "#d8576b"
            ],
            [
             0.6666666666666666,
             "#ed7953"
            ],
            [
             0.7777777777777778,
             "#fb9f3a"
            ],
            [
             0.8888888888888888,
             "#fdca26"
            ],
            [
             1,
             "#f0f921"
            ]
           ]
          },
          "colorway": [
           "#636efa",
           "#EF553B",
           "#00cc96",
           "#ab63fa",
           "#FFA15A",
           "#19d3f3",
           "#FF6692",
           "#B6E880",
           "#FF97FF",
           "#FECB52"
          ],
          "font": {
           "color": "#2a3f5f"
          },
          "geo": {
           "bgcolor": "white",
           "lakecolor": "white",
           "landcolor": "white",
           "showlakes": true,
           "showland": true,
           "subunitcolor": "#C8D4E3"
          },
          "hoverlabel": {
           "align": "left"
          },
          "hovermode": "closest",
          "mapbox": {
           "style": "light"
          },
          "paper_bgcolor": "white",
          "plot_bgcolor": "white",
          "polar": {
           "angularaxis": {
            "gridcolor": "#EBF0F8",
            "linecolor": "#EBF0F8",
            "ticks": ""
           },
           "bgcolor": "white",
           "radialaxis": {
            "gridcolor": "#EBF0F8",
            "linecolor": "#EBF0F8",
            "ticks": ""
           }
          },
          "scene": {
           "xaxis": {
            "backgroundcolor": "white",
            "gridcolor": "#DFE8F3",
            "gridwidth": 2,
            "linecolor": "#EBF0F8",
            "showbackground": true,
            "ticks": "",
            "zerolinecolor": "#EBF0F8"
           },
           "yaxis": {
            "backgroundcolor": "white",
            "gridcolor": "#DFE8F3",
            "gridwidth": 2,
            "linecolor": "#EBF0F8",
            "showbackground": true,
            "ticks": "",
            "zerolinecolor": "#EBF0F8"
           },
           "zaxis": {
            "backgroundcolor": "white",
            "gridcolor": "#DFE8F3",
            "gridwidth": 2,
            "linecolor": "#EBF0F8",
            "showbackground": true,
            "ticks": "",
            "zerolinecolor": "#EBF0F8"
           }
          },
          "shapedefaults": {
           "line": {
            "color": "#2a3f5f"
           }
          },
          "ternary": {
           "aaxis": {
            "gridcolor": "#DFE8F3",
            "linecolor": "#A2B1C6",
            "ticks": ""
           },
           "baxis": {
            "gridcolor": "#DFE8F3",
            "linecolor": "#A2B1C6",
            "ticks": ""
           },
           "bgcolor": "white",
           "caxis": {
            "gridcolor": "#DFE8F3",
            "linecolor": "#A2B1C6",
            "ticks": ""
           }
          },
          "title": {
           "x": 0.05
          },
          "xaxis": {
           "automargin": true,
           "gridcolor": "#EBF0F8",
           "linecolor": "#EBF0F8",
           "ticks": "",
           "title": {
            "standoff": 15
           },
           "zerolinecolor": "#EBF0F8",
           "zerolinewidth": 2
          },
          "yaxis": {
           "automargin": true,
           "gridcolor": "#EBF0F8",
           "linecolor": "#EBF0F8",
           "ticks": "",
           "title": {
            "standoff": 15
           },
           "zerolinecolor": "#EBF0F8",
           "zerolinewidth": 2
          }
         }
        },
        "title": {
         "text": "distrubution of Impression"
        },
        "xaxis": {
         "anchor": "y",
         "domain": [
          0,
          1
         ],
         "title": {
          "text": "Impressions"
         }
        },
        "yaxis": {
         "anchor": "x",
         "domain": [
          0,
          1
         ],
         "title": {
          "text": "count"
         }
        }
       }
      }
     },
     "metadata": {},
     "output_type": "display_data"
    }
   ],
   "source": [
    "#eda\n",
    "fig = px.histogram(df,x='Impressions',nbins=10,title='distrubution of Impression')\n",
    "fig.show()"
   ]
  },
  {
   "cell_type": "code",
   "execution_count": 21,
   "metadata": {},
   "outputs": [
    {
     "data": {
      "application/vnd.plotly.v1+json": {
       "config": {
        "plotlyServerURL": "https://plot.ly"
       },
       "data": [
        {
         "hovertemplate": "index=%{x}<br>Impressions=%{y}<extra></extra>",
         "legendgroup": "",
         "line": {
          "color": "#636efa",
          "dash": "solid"
         },
         "marker": {
          "symbol": "circle"
         },
         "mode": "lines",
         "name": "",
         "orientation": "v",
         "showlegend": false,
         "type": "scatter",
         "x": [
          0,
          1,
          2,
          3,
          4,
          5,
          6,
          7,
          8,
          9,
          10,
          11,
          12,
          13,
          14,
          15,
          16,
          17,
          18,
          19,
          20,
          21,
          22,
          23,
          24,
          25,
          26,
          27,
          28,
          29,
          30,
          31,
          32,
          33,
          34,
          35,
          36,
          37,
          38,
          39,
          40,
          41,
          42,
          43,
          44,
          45,
          46,
          47,
          48,
          49,
          50,
          51,
          52,
          53,
          54,
          55,
          56,
          57,
          58,
          59,
          60,
          61,
          62,
          63,
          64,
          65,
          66,
          67,
          68,
          69,
          70,
          71,
          72,
          73,
          74,
          75,
          76,
          77,
          78,
          79,
          80,
          81,
          82,
          83,
          84,
          85,
          86,
          87,
          88,
          89,
          90,
          91,
          92,
          93,
          94,
          95,
          96,
          97,
          98,
          99,
          100,
          101,
          102,
          103,
          104,
          105,
          106,
          107,
          108,
          109,
          110,
          111,
          112,
          113,
          114,
          115,
          116,
          117,
          118
         ],
         "xaxis": "x",
         "y": [
          3920,
          5394,
          4021,
          4528,
          2518,
          3884,
          2621,
          3541,
          3749,
          4115,
          2218,
          3234,
          4344,
          3216,
          9453,
          5055,
          4002,
          3169,
          6168,
          2407,
          2064,
          3973,
          7281,
          3052,
          4628,
          4082,
          5394,
          2766,
          3924,
          3015,
          6666,
          3854,
          4355,
          4343,
          6108,
          2523,
          2327,
          3990,
          2191,
          1941,
          16062,
          4998,
          4289,
          3880,
          3786,
          4298,
          3630,
          2826,
          7407,
          10386,
          2998,
          7018,
          2941,
          6432,
          10667,
          3988,
          4978,
          3388,
          4467,
          3246,
          5072,
          6339,
          4239,
          3454,
          7571,
          3333,
          3818,
          10933,
          5058,
          3601,
          3480,
          3525,
          3606,
          5542,
          6559,
          3623,
          10493,
          4446,
          2957,
          5538,
          4681,
          5273,
          5055,
          4002,
          3169,
          6168,
          2407,
          3630,
          2826,
          7407,
          10386,
          2998,
          3052,
          4628,
          4082,
          5394,
          2766,
          3924,
          3015,
          5409,
          5323,
          8001,
          4150,
          4609,
          6348,
          11068,
          7231,
          17396,
          6814,
          17713,
          5563,
          4842,
          11149,
          10206,
          13700,
          5731,
          4139,
          32695,
          36919
         ],
         "yaxis": "y"
        }
       ],
       "layout": {
        "legend": {
         "tracegroupgap": 0
        },
        "template": {
         "data": {
          "bar": [
           {
            "error_x": {
             "color": "#2a3f5f"
            },
            "error_y": {
             "color": "#2a3f5f"
            },
            "marker": {
             "line": {
              "color": "white",
              "width": 0.5
             },
             "pattern": {
              "fillmode": "overlay",
              "size": 10,
              "solidity": 0.2
             }
            },
            "type": "bar"
           }
          ],
          "barpolar": [
           {
            "marker": {
             "line": {
              "color": "white",
              "width": 0.5
             },
             "pattern": {
              "fillmode": "overlay",
              "size": 10,
              "solidity": 0.2
             }
            },
            "type": "barpolar"
           }
          ],
          "carpet": [
           {
            "aaxis": {
             "endlinecolor": "#2a3f5f",
             "gridcolor": "#C8D4E3",
             "linecolor": "#C8D4E3",
             "minorgridcolor": "#C8D4E3",
             "startlinecolor": "#2a3f5f"
            },
            "baxis": {
             "endlinecolor": "#2a3f5f",
             "gridcolor": "#C8D4E3",
             "linecolor": "#C8D4E3",
             "minorgridcolor": "#C8D4E3",
             "startlinecolor": "#2a3f5f"
            },
            "type": "carpet"
           }
          ],
          "choropleth": [
           {
            "colorbar": {
             "outlinewidth": 0,
             "ticks": ""
            },
            "type": "choropleth"
           }
          ],
          "contour": [
           {
            "colorbar": {
             "outlinewidth": 0,
             "ticks": ""
            },
            "colorscale": [
             [
              0,
              "#0d0887"
             ],
             [
              0.1111111111111111,
              "#46039f"
             ],
             [
              0.2222222222222222,
              "#7201a8"
             ],
             [
              0.3333333333333333,
              "#9c179e"
             ],
             [
              0.4444444444444444,
              "#bd3786"
             ],
             [
              0.5555555555555556,
              "#d8576b"
             ],
             [
              0.6666666666666666,
              "#ed7953"
             ],
             [
              0.7777777777777778,
              "#fb9f3a"
             ],
             [
              0.8888888888888888,
              "#fdca26"
             ],
             [
              1,
              "#f0f921"
             ]
            ],
            "type": "contour"
           }
          ],
          "contourcarpet": [
           {
            "colorbar": {
             "outlinewidth": 0,
             "ticks": ""
            },
            "type": "contourcarpet"
           }
          ],
          "heatmap": [
           {
            "colorbar": {
             "outlinewidth": 0,
             "ticks": ""
            },
            "colorscale": [
             [
              0,
              "#0d0887"
             ],
             [
              0.1111111111111111,
              "#46039f"
             ],
             [
              0.2222222222222222,
              "#7201a8"
             ],
             [
              0.3333333333333333,
              "#9c179e"
             ],
             [
              0.4444444444444444,
              "#bd3786"
             ],
             [
              0.5555555555555556,
              "#d8576b"
             ],
             [
              0.6666666666666666,
              "#ed7953"
             ],
             [
              0.7777777777777778,
              "#fb9f3a"
             ],
             [
              0.8888888888888888,
              "#fdca26"
             ],
             [
              1,
              "#f0f921"
             ]
            ],
            "type": "heatmap"
           }
          ],
          "heatmapgl": [
           {
            "colorbar": {
             "outlinewidth": 0,
             "ticks": ""
            },
            "colorscale": [
             [
              0,
              "#0d0887"
             ],
             [
              0.1111111111111111,
              "#46039f"
             ],
             [
              0.2222222222222222,
              "#7201a8"
             ],
             [
              0.3333333333333333,
              "#9c179e"
             ],
             [
              0.4444444444444444,
              "#bd3786"
             ],
             [
              0.5555555555555556,
              "#d8576b"
             ],
             [
              0.6666666666666666,
              "#ed7953"
             ],
             [
              0.7777777777777778,
              "#fb9f3a"
             ],
             [
              0.8888888888888888,
              "#fdca26"
             ],
             [
              1,
              "#f0f921"
             ]
            ],
            "type": "heatmapgl"
           }
          ],
          "histogram": [
           {
            "marker": {
             "pattern": {
              "fillmode": "overlay",
              "size": 10,
              "solidity": 0.2
             }
            },
            "type": "histogram"
           }
          ],
          "histogram2d": [
           {
            "colorbar": {
             "outlinewidth": 0,
             "ticks": ""
            },
            "colorscale": [
             [
              0,
              "#0d0887"
             ],
             [
              0.1111111111111111,
              "#46039f"
             ],
             [
              0.2222222222222222,
              "#7201a8"
             ],
             [
              0.3333333333333333,
              "#9c179e"
             ],
             [
              0.4444444444444444,
              "#bd3786"
             ],
             [
              0.5555555555555556,
              "#d8576b"
             ],
             [
              0.6666666666666666,
              "#ed7953"
             ],
             [
              0.7777777777777778,
              "#fb9f3a"
             ],
             [
              0.8888888888888888,
              "#fdca26"
             ],
             [
              1,
              "#f0f921"
             ]
            ],
            "type": "histogram2d"
           }
          ],
          "histogram2dcontour": [
           {
            "colorbar": {
             "outlinewidth": 0,
             "ticks": ""
            },
            "colorscale": [
             [
              0,
              "#0d0887"
             ],
             [
              0.1111111111111111,
              "#46039f"
             ],
             [
              0.2222222222222222,
              "#7201a8"
             ],
             [
              0.3333333333333333,
              "#9c179e"
             ],
             [
              0.4444444444444444,
              "#bd3786"
             ],
             [
              0.5555555555555556,
              "#d8576b"
             ],
             [
              0.6666666666666666,
              "#ed7953"
             ],
             [
              0.7777777777777778,
              "#fb9f3a"
             ],
             [
              0.8888888888888888,
              "#fdca26"
             ],
             [
              1,
              "#f0f921"
             ]
            ],
            "type": "histogram2dcontour"
           }
          ],
          "mesh3d": [
           {
            "colorbar": {
             "outlinewidth": 0,
             "ticks": ""
            },
            "type": "mesh3d"
           }
          ],
          "parcoords": [
           {
            "line": {
             "colorbar": {
              "outlinewidth": 0,
              "ticks": ""
             }
            },
            "type": "parcoords"
           }
          ],
          "pie": [
           {
            "automargin": true,
            "type": "pie"
           }
          ],
          "scatter": [
           {
            "fillpattern": {
             "fillmode": "overlay",
             "size": 10,
             "solidity": 0.2
            },
            "type": "scatter"
           }
          ],
          "scatter3d": [
           {
            "line": {
             "colorbar": {
              "outlinewidth": 0,
              "ticks": ""
             }
            },
            "marker": {
             "colorbar": {
              "outlinewidth": 0,
              "ticks": ""
             }
            },
            "type": "scatter3d"
           }
          ],
          "scattercarpet": [
           {
            "marker": {
             "colorbar": {
              "outlinewidth": 0,
              "ticks": ""
             }
            },
            "type": "scattercarpet"
           }
          ],
          "scattergeo": [
           {
            "marker": {
             "colorbar": {
              "outlinewidth": 0,
              "ticks": ""
             }
            },
            "type": "scattergeo"
           }
          ],
          "scattergl": [
           {
            "marker": {
             "colorbar": {
              "outlinewidth": 0,
              "ticks": ""
             }
            },
            "type": "scattergl"
           }
          ],
          "scattermapbox": [
           {
            "marker": {
             "colorbar": {
              "outlinewidth": 0,
              "ticks": ""
             }
            },
            "type": "scattermapbox"
           }
          ],
          "scatterpolar": [
           {
            "marker": {
             "colorbar": {
              "outlinewidth": 0,
              "ticks": ""
             }
            },
            "type": "scatterpolar"
           }
          ],
          "scatterpolargl": [
           {
            "marker": {
             "colorbar": {
              "outlinewidth": 0,
              "ticks": ""
             }
            },
            "type": "scatterpolargl"
           }
          ],
          "scatterternary": [
           {
            "marker": {
             "colorbar": {
              "outlinewidth": 0,
              "ticks": ""
             }
            },
            "type": "scatterternary"
           }
          ],
          "surface": [
           {
            "colorbar": {
             "outlinewidth": 0,
             "ticks": ""
            },
            "colorscale": [
             [
              0,
              "#0d0887"
             ],
             [
              0.1111111111111111,
              "#46039f"
             ],
             [
              0.2222222222222222,
              "#7201a8"
             ],
             [
              0.3333333333333333,
              "#9c179e"
             ],
             [
              0.4444444444444444,
              "#bd3786"
             ],
             [
              0.5555555555555556,
              "#d8576b"
             ],
             [
              0.6666666666666666,
              "#ed7953"
             ],
             [
              0.7777777777777778,
              "#fb9f3a"
             ],
             [
              0.8888888888888888,
              "#fdca26"
             ],
             [
              1,
              "#f0f921"
             ]
            ],
            "type": "surface"
           }
          ],
          "table": [
           {
            "cells": {
             "fill": {
              "color": "#EBF0F8"
             },
             "line": {
              "color": "white"
             }
            },
            "header": {
             "fill": {
              "color": "#C8D4E3"
             },
             "line": {
              "color": "white"
             }
            },
            "type": "table"
           }
          ]
         },
         "layout": {
          "annotationdefaults": {
           "arrowcolor": "#2a3f5f",
           "arrowhead": 0,
           "arrowwidth": 1
          },
          "autotypenumbers": "strict",
          "coloraxis": {
           "colorbar": {
            "outlinewidth": 0,
            "ticks": ""
           }
          },
          "colorscale": {
           "diverging": [
            [
             0,
             "#8e0152"
            ],
            [
             0.1,
             "#c51b7d"
            ],
            [
             0.2,
             "#de77ae"
            ],
            [
             0.3,
             "#f1b6da"
            ],
            [
             0.4,
             "#fde0ef"
            ],
            [
             0.5,
             "#f7f7f7"
            ],
            [
             0.6,
             "#e6f5d0"
            ],
            [
             0.7,
             "#b8e186"
            ],
            [
             0.8,
             "#7fbc41"
            ],
            [
             0.9,
             "#4d9221"
            ],
            [
             1,
             "#276419"
            ]
           ],
           "sequential": [
            [
             0,
             "#0d0887"
            ],
            [
             0.1111111111111111,
             "#46039f"
            ],
            [
             0.2222222222222222,
             "#7201a8"
            ],
            [
             0.3333333333333333,
             "#9c179e"
            ],
            [
             0.4444444444444444,
             "#bd3786"
            ],
            [
             0.5555555555555556,
             "#d8576b"
            ],
            [
             0.6666666666666666,
             "#ed7953"
            ],
            [
             0.7777777777777778,
             "#fb9f3a"
            ],
            [
             0.8888888888888888,
             "#fdca26"
            ],
            [
             1,
             "#f0f921"
            ]
           ],
           "sequentialminus": [
            [
             0,
             "#0d0887"
            ],
            [
             0.1111111111111111,
             "#46039f"
            ],
            [
             0.2222222222222222,
             "#7201a8"
            ],
            [
             0.3333333333333333,
             "#9c179e"
            ],
            [
             0.4444444444444444,
             "#bd3786"
            ],
            [
             0.5555555555555556,
             "#d8576b"
            ],
            [
             0.6666666666666666,
             "#ed7953"
            ],
            [
             0.7777777777777778,
             "#fb9f3a"
            ],
            [
             0.8888888888888888,
             "#fdca26"
            ],
            [
             1,
             "#f0f921"
            ]
           ]
          },
          "colorway": [
           "#636efa",
           "#EF553B",
           "#00cc96",
           "#ab63fa",
           "#FFA15A",
           "#19d3f3",
           "#FF6692",
           "#B6E880",
           "#FF97FF",
           "#FECB52"
          ],
          "font": {
           "color": "#2a3f5f"
          },
          "geo": {
           "bgcolor": "white",
           "lakecolor": "white",
           "landcolor": "white",
           "showlakes": true,
           "showland": true,
           "subunitcolor": "#C8D4E3"
          },
          "hoverlabel": {
           "align": "left"
          },
          "hovermode": "closest",
          "mapbox": {
           "style": "light"
          },
          "paper_bgcolor": "white",
          "plot_bgcolor": "white",
          "polar": {
           "angularaxis": {
            "gridcolor": "#EBF0F8",
            "linecolor": "#EBF0F8",
            "ticks": ""
           },
           "bgcolor": "white",
           "radialaxis": {
            "gridcolor": "#EBF0F8",
            "linecolor": "#EBF0F8",
            "ticks": ""
           }
          },
          "scene": {
           "xaxis": {
            "backgroundcolor": "white",
            "gridcolor": "#DFE8F3",
            "gridwidth": 2,
            "linecolor": "#EBF0F8",
            "showbackground": true,
            "ticks": "",
            "zerolinecolor": "#EBF0F8"
           },
           "yaxis": {
            "backgroundcolor": "white",
            "gridcolor": "#DFE8F3",
            "gridwidth": 2,
            "linecolor": "#EBF0F8",
            "showbackground": true,
            "ticks": "",
            "zerolinecolor": "#EBF0F8"
           },
           "zaxis": {
            "backgroundcolor": "white",
            "gridcolor": "#DFE8F3",
            "gridwidth": 2,
            "linecolor": "#EBF0F8",
            "showbackground": true,
            "ticks": "",
            "zerolinecolor": "#EBF0F8"
           }
          },
          "shapedefaults": {
           "line": {
            "color": "#2a3f5f"
           }
          },
          "ternary": {
           "aaxis": {
            "gridcolor": "#DFE8F3",
            "linecolor": "#A2B1C6",
            "ticks": ""
           },
           "baxis": {
            "gridcolor": "#DFE8F3",
            "linecolor": "#A2B1C6",
            "ticks": ""
           },
           "bgcolor": "white",
           "caxis": {
            "gridcolor": "#DFE8F3",
            "linecolor": "#A2B1C6",
            "ticks": ""
           }
          },
          "title": {
           "x": 0.05
          },
          "xaxis": {
           "automargin": true,
           "gridcolor": "#EBF0F8",
           "linecolor": "#EBF0F8",
           "ticks": "",
           "title": {
            "standoff": 15
           },
           "zerolinecolor": "#EBF0F8",
           "zerolinewidth": 2
          },
          "yaxis": {
           "automargin": true,
           "gridcolor": "#EBF0F8",
           "linecolor": "#EBF0F8",
           "ticks": "",
           "title": {
            "standoff": 15
           },
           "zerolinecolor": "#EBF0F8",
           "zerolinewidth": 2
          }
         }
        },
        "title": {
         "text": "Impression over time"
        },
        "xaxis": {
         "anchor": "y",
         "domain": [
          0,
          1
         ],
         "title": {
          "text": "index"
         }
        },
        "yaxis": {
         "anchor": "x",
         "domain": [
          0,
          1
         ],
         "title": {
          "text": "Impressions"
         }
        }
       }
      }
     },
     "metadata": {},
     "output_type": "display_data"
    }
   ],
   "source": [
    "fig = px.line(df,x=df.index,y='Impressions',title='Impression over time')\n",
    "fig.show()"
   ]
  },
  {
   "cell_type": "code",
   "execution_count": 22,
   "metadata": {},
   "outputs": [
    {
     "data": {
      "application/vnd.plotly.v1+json": {
       "config": {
        "plotlyServerURL": "https://plot.ly"
       },
       "data": [
        {
         "name": "Likes",
         "type": "scatter",
         "x": [
          0,
          1,
          2,
          3,
          4,
          5,
          6,
          7,
          8,
          9,
          10,
          11,
          12,
          13,
          14,
          15,
          16,
          17,
          18,
          19,
          20,
          21,
          22,
          23,
          24,
          25,
          26,
          27,
          28,
          29,
          30,
          31,
          32,
          33,
          34,
          35,
          36,
          37,
          38,
          39,
          40,
          41,
          42,
          43,
          44,
          45,
          46,
          47,
          48,
          49,
          50,
          51,
          52,
          53,
          54,
          55,
          56,
          57,
          58,
          59,
          60,
          61,
          62,
          63,
          64,
          65,
          66,
          67,
          68,
          69,
          70,
          71,
          72,
          73,
          74,
          75,
          76,
          77,
          78,
          79,
          80,
          81,
          82,
          83,
          84,
          85,
          86,
          87,
          88,
          89,
          90,
          91,
          92,
          93,
          94,
          95,
          96,
          97,
          98,
          99,
          100,
          101,
          102,
          103,
          104,
          105,
          106,
          107,
          108,
          109,
          110,
          111,
          112,
          113,
          114,
          115,
          116,
          117,
          118
         ],
         "y": [
          162,
          224,
          131,
          213,
          123,
          144,
          76,
          124,
          159,
          191,
          81,
          151,
          162,
          142,
          294,
          159,
          205,
          121,
          151,
          72,
          76,
          91,
          195,
          129,
          160,
          175,
          147,
          114,
          151,
          92,
          214,
          150,
          122,
          152,
          196,
          86,
          85,
          156,
          72,
          82,
          416,
          180,
          150,
          127,
          167,
          225,
          137,
          114,
          263,
          328,
          126,
          236,
          99,
          212,
          297,
          142,
          186,
          112,
          149,
          132,
          115,
          248,
          178,
          107,
          269,
          96,
          134,
          301,
          187,
          94,
          114,
          96,
          138,
          122,
          257,
          95,
          244,
          190,
          118,
          178,
          170,
          250,
          159,
          205,
          121,
          151,
          72,
          137,
          114,
          263,
          328,
          126,
          129,
          160,
          175,
          147,
          114,
          151,
          92,
          275,
          192,
          203,
          145,
          168,
          194,
          250,
          171,
          416,
          249,
          308,
          163,
          86,
          210,
          172,
          373,
          148,
          92,
          549,
          443
         ]
        },
        {
         "name": "Saves",
         "type": "scatter",
         "x": [
          0,
          1,
          2,
          3,
          4,
          5,
          6,
          7,
          8,
          9,
          10,
          11,
          12,
          13,
          14,
          15,
          16,
          17,
          18,
          19,
          20,
          21,
          22,
          23,
          24,
          25,
          26,
          27,
          28,
          29,
          30,
          31,
          32,
          33,
          34,
          35,
          36,
          37,
          38,
          39,
          40,
          41,
          42,
          43,
          44,
          45,
          46,
          47,
          48,
          49,
          50,
          51,
          52,
          53,
          54,
          55,
          56,
          57,
          58,
          59,
          60,
          61,
          62,
          63,
          64,
          65,
          66,
          67,
          68,
          69,
          70,
          71,
          72,
          73,
          74,
          75,
          76,
          77,
          78,
          79,
          80,
          81,
          82,
          83,
          84,
          85,
          86,
          87,
          88,
          89,
          90,
          91,
          92,
          93,
          94,
          95,
          96,
          97,
          98,
          99,
          100,
          101,
          102,
          103,
          104,
          105,
          106,
          107,
          108,
          109,
          110,
          111,
          112,
          113,
          114,
          115,
          116,
          117,
          118
         ],
         "y": [
          98,
          194,
          41,
          172,
          96,
          74,
          22,
          135,
          155,
          122,
          28,
          122,
          119,
          121,
          100,
          101,
          111,
          106,
          82,
          40,
          49,
          72,
          167,
          63,
          144,
          135,
          61,
          40,
          139,
          52,
          84,
          81,
          79,
          105,
          90,
          34,
          45,
          98,
          35,
          49,
          252,
          167,
          111,
          90,
          144,
          263,
          137,
          67,
          288,
          668,
          42,
          342,
          48,
          250,
          219,
          118,
          143,
          99,
          89,
          148,
          42,
          171,
          109,
          38,
          421,
          38,
          116,
          225,
          144,
          51,
          104,
          33,
          174,
          46,
          179,
          34,
          99,
          174,
          70,
          149,
          207,
          318,
          101,
          111,
          106,
          82,
          40,
          137,
          67,
          288,
          668,
          42,
          63,
          144,
          135,
          61,
          40,
          139,
          52,
          393,
          152,
          83,
          74,
          94,
          188,
          214,
          73,
          285,
          469,
          504,
          149,
          55,
          273,
          182,
          573,
          135,
          36,
          1095,
          653
         ]
        },
        {
         "name": "Follows",
         "type": "scatter",
         "x": [
          0,
          1,
          2,
          3,
          4,
          5,
          6,
          7,
          8,
          9,
          10,
          11,
          12,
          13,
          14,
          15,
          16,
          17,
          18,
          19,
          20,
          21,
          22,
          23,
          24,
          25,
          26,
          27,
          28,
          29,
          30,
          31,
          32,
          33,
          34,
          35,
          36,
          37,
          38,
          39,
          40,
          41,
          42,
          43,
          44,
          45,
          46,
          47,
          48,
          49,
          50,
          51,
          52,
          53,
          54,
          55,
          56,
          57,
          58,
          59,
          60,
          61,
          62,
          63,
          64,
          65,
          66,
          67,
          68,
          69,
          70,
          71,
          72,
          73,
          74,
          75,
          76,
          77,
          78,
          79,
          80,
          81,
          82,
          83,
          84,
          85,
          86,
          87,
          88,
          89,
          90,
          91,
          92,
          93,
          94,
          95,
          96,
          97,
          98,
          99,
          100,
          101,
          102,
          103,
          104,
          105,
          106,
          107,
          108,
          109,
          110,
          111,
          112,
          113,
          114,
          115,
          116,
          117,
          118
         ],
         "y": [
          2,
          10,
          12,
          8,
          0,
          2,
          0,
          6,
          4,
          6,
          4,
          0,
          2,
          4,
          42,
          6,
          2,
          2,
          30,
          0,
          0,
          24,
          100,
          2,
          4,
          6,
          6,
          6,
          2,
          2,
          20,
          2,
          4,
          8,
          26,
          2,
          2,
          4,
          0,
          2,
          94,
          8,
          18,
          10,
          4,
          4,
          4,
          4,
          18,
          38,
          10,
          12,
          4,
          4,
          74,
          0,
          6,
          6,
          0,
          6,
          12,
          10,
          8,
          8,
          46,
          12,
          10,
          94,
          6,
          10,
          6,
          4,
          12,
          16,
          12,
          8,
          32,
          8,
          16,
          6,
          10,
          10,
          6,
          2,
          2,
          30,
          0,
          4,
          4,
          18,
          38,
          10,
          2,
          4,
          6,
          6,
          6,
          2,
          2,
          14,
          8,
          14,
          28,
          18,
          12,
          34,
          26,
          260,
          16,
          96,
          20,
          30,
          58,
          100,
          80,
          18,
          10,
          214,
          228
         ]
        }
       ],
       "layout": {
        "template": {
         "data": {
          "bar": [
           {
            "error_x": {
             "color": "#2a3f5f"
            },
            "error_y": {
             "color": "#2a3f5f"
            },
            "marker": {
             "line": {
              "color": "white",
              "width": 0.5
             },
             "pattern": {
              "fillmode": "overlay",
              "size": 10,
              "solidity": 0.2
             }
            },
            "type": "bar"
           }
          ],
          "barpolar": [
           {
            "marker": {
             "line": {
              "color": "white",
              "width": 0.5
             },
             "pattern": {
              "fillmode": "overlay",
              "size": 10,
              "solidity": 0.2
             }
            },
            "type": "barpolar"
           }
          ],
          "carpet": [
           {
            "aaxis": {
             "endlinecolor": "#2a3f5f",
             "gridcolor": "#C8D4E3",
             "linecolor": "#C8D4E3",
             "minorgridcolor": "#C8D4E3",
             "startlinecolor": "#2a3f5f"
            },
            "baxis": {
             "endlinecolor": "#2a3f5f",
             "gridcolor": "#C8D4E3",
             "linecolor": "#C8D4E3",
             "minorgridcolor": "#C8D4E3",
             "startlinecolor": "#2a3f5f"
            },
            "type": "carpet"
           }
          ],
          "choropleth": [
           {
            "colorbar": {
             "outlinewidth": 0,
             "ticks": ""
            },
            "type": "choropleth"
           }
          ],
          "contour": [
           {
            "colorbar": {
             "outlinewidth": 0,
             "ticks": ""
            },
            "colorscale": [
             [
              0,
              "#0d0887"
             ],
             [
              0.1111111111111111,
              "#46039f"
             ],
             [
              0.2222222222222222,
              "#7201a8"
             ],
             [
              0.3333333333333333,
              "#9c179e"
             ],
             [
              0.4444444444444444,
              "#bd3786"
             ],
             [
              0.5555555555555556,
              "#d8576b"
             ],
             [
              0.6666666666666666,
              "#ed7953"
             ],
             [
              0.7777777777777778,
              "#fb9f3a"
             ],
             [
              0.8888888888888888,
              "#fdca26"
             ],
             [
              1,
              "#f0f921"
             ]
            ],
            "type": "contour"
           }
          ],
          "contourcarpet": [
           {
            "colorbar": {
             "outlinewidth": 0,
             "ticks": ""
            },
            "type": "contourcarpet"
           }
          ],
          "heatmap": [
           {
            "colorbar": {
             "outlinewidth": 0,
             "ticks": ""
            },
            "colorscale": [
             [
              0,
              "#0d0887"
             ],
             [
              0.1111111111111111,
              "#46039f"
             ],
             [
              0.2222222222222222,
              "#7201a8"
             ],
             [
              0.3333333333333333,
              "#9c179e"
             ],
             [
              0.4444444444444444,
              "#bd3786"
             ],
             [
              0.5555555555555556,
              "#d8576b"
             ],
             [
              0.6666666666666666,
              "#ed7953"
             ],
             [
              0.7777777777777778,
              "#fb9f3a"
             ],
             [
              0.8888888888888888,
              "#fdca26"
             ],
             [
              1,
              "#f0f921"
             ]
            ],
            "type": "heatmap"
           }
          ],
          "heatmapgl": [
           {
            "colorbar": {
             "outlinewidth": 0,
             "ticks": ""
            },
            "colorscale": [
             [
              0,
              "#0d0887"
             ],
             [
              0.1111111111111111,
              "#46039f"
             ],
             [
              0.2222222222222222,
              "#7201a8"
             ],
             [
              0.3333333333333333,
              "#9c179e"
             ],
             [
              0.4444444444444444,
              "#bd3786"
             ],
             [
              0.5555555555555556,
              "#d8576b"
             ],
             [
              0.6666666666666666,
              "#ed7953"
             ],
             [
              0.7777777777777778,
              "#fb9f3a"
             ],
             [
              0.8888888888888888,
              "#fdca26"
             ],
             [
              1,
              "#f0f921"
             ]
            ],
            "type": "heatmapgl"
           }
          ],
          "histogram": [
           {
            "marker": {
             "pattern": {
              "fillmode": "overlay",
              "size": 10,
              "solidity": 0.2
             }
            },
            "type": "histogram"
           }
          ],
          "histogram2d": [
           {
            "colorbar": {
             "outlinewidth": 0,
             "ticks": ""
            },
            "colorscale": [
             [
              0,
              "#0d0887"
             ],
             [
              0.1111111111111111,
              "#46039f"
             ],
             [
              0.2222222222222222,
              "#7201a8"
             ],
             [
              0.3333333333333333,
              "#9c179e"
             ],
             [
              0.4444444444444444,
              "#bd3786"
             ],
             [
              0.5555555555555556,
              "#d8576b"
             ],
             [
              0.6666666666666666,
              "#ed7953"
             ],
             [
              0.7777777777777778,
              "#fb9f3a"
             ],
             [
              0.8888888888888888,
              "#fdca26"
             ],
             [
              1,
              "#f0f921"
             ]
            ],
            "type": "histogram2d"
           }
          ],
          "histogram2dcontour": [
           {
            "colorbar": {
             "outlinewidth": 0,
             "ticks": ""
            },
            "colorscale": [
             [
              0,
              "#0d0887"
             ],
             [
              0.1111111111111111,
              "#46039f"
             ],
             [
              0.2222222222222222,
              "#7201a8"
             ],
             [
              0.3333333333333333,
              "#9c179e"
             ],
             [
              0.4444444444444444,
              "#bd3786"
             ],
             [
              0.5555555555555556,
              "#d8576b"
             ],
             [
              0.6666666666666666,
              "#ed7953"
             ],
             [
              0.7777777777777778,
              "#fb9f3a"
             ],
             [
              0.8888888888888888,
              "#fdca26"
             ],
             [
              1,
              "#f0f921"
             ]
            ],
            "type": "histogram2dcontour"
           }
          ],
          "mesh3d": [
           {
            "colorbar": {
             "outlinewidth": 0,
             "ticks": ""
            },
            "type": "mesh3d"
           }
          ],
          "parcoords": [
           {
            "line": {
             "colorbar": {
              "outlinewidth": 0,
              "ticks": ""
             }
            },
            "type": "parcoords"
           }
          ],
          "pie": [
           {
            "automargin": true,
            "type": "pie"
           }
          ],
          "scatter": [
           {
            "fillpattern": {
             "fillmode": "overlay",
             "size": 10,
             "solidity": 0.2
            },
            "type": "scatter"
           }
          ],
          "scatter3d": [
           {
            "line": {
             "colorbar": {
              "outlinewidth": 0,
              "ticks": ""
             }
            },
            "marker": {
             "colorbar": {
              "outlinewidth": 0,
              "ticks": ""
             }
            },
            "type": "scatter3d"
           }
          ],
          "scattercarpet": [
           {
            "marker": {
             "colorbar": {
              "outlinewidth": 0,
              "ticks": ""
             }
            },
            "type": "scattercarpet"
           }
          ],
          "scattergeo": [
           {
            "marker": {
             "colorbar": {
              "outlinewidth": 0,
              "ticks": ""
             }
            },
            "type": "scattergeo"
           }
          ],
          "scattergl": [
           {
            "marker": {
             "colorbar": {
              "outlinewidth": 0,
              "ticks": ""
             }
            },
            "type": "scattergl"
           }
          ],
          "scattermapbox": [
           {
            "marker": {
             "colorbar": {
              "outlinewidth": 0,
              "ticks": ""
             }
            },
            "type": "scattermapbox"
           }
          ],
          "scatterpolar": [
           {
            "marker": {
             "colorbar": {
              "outlinewidth": 0,
              "ticks": ""
             }
            },
            "type": "scatterpolar"
           }
          ],
          "scatterpolargl": [
           {
            "marker": {
             "colorbar": {
              "outlinewidth": 0,
              "ticks": ""
             }
            },
            "type": "scatterpolargl"
           }
          ],
          "scatterternary": [
           {
            "marker": {
             "colorbar": {
              "outlinewidth": 0,
              "ticks": ""
             }
            },
            "type": "scatterternary"
           }
          ],
          "surface": [
           {
            "colorbar": {
             "outlinewidth": 0,
             "ticks": ""
            },
            "colorscale": [
             [
              0,
              "#0d0887"
             ],
             [
              0.1111111111111111,
              "#46039f"
             ],
             [
              0.2222222222222222,
              "#7201a8"
             ],
             [
              0.3333333333333333,
              "#9c179e"
             ],
             [
              0.4444444444444444,
              "#bd3786"
             ],
             [
              0.5555555555555556,
              "#d8576b"
             ],
             [
              0.6666666666666666,
              "#ed7953"
             ],
             [
              0.7777777777777778,
              "#fb9f3a"
             ],
             [
              0.8888888888888888,
              "#fdca26"
             ],
             [
              1,
              "#f0f921"
             ]
            ],
            "type": "surface"
           }
          ],
          "table": [
           {
            "cells": {
             "fill": {
              "color": "#EBF0F8"
             },
             "line": {
              "color": "white"
             }
            },
            "header": {
             "fill": {
              "color": "#C8D4E3"
             },
             "line": {
              "color": "white"
             }
            },
            "type": "table"
           }
          ]
         },
         "layout": {
          "annotationdefaults": {
           "arrowcolor": "#2a3f5f",
           "arrowhead": 0,
           "arrowwidth": 1
          },
          "autotypenumbers": "strict",
          "coloraxis": {
           "colorbar": {
            "outlinewidth": 0,
            "ticks": ""
           }
          },
          "colorscale": {
           "diverging": [
            [
             0,
             "#8e0152"
            ],
            [
             0.1,
             "#c51b7d"
            ],
            [
             0.2,
             "#de77ae"
            ],
            [
             0.3,
             "#f1b6da"
            ],
            [
             0.4,
             "#fde0ef"
            ],
            [
             0.5,
             "#f7f7f7"
            ],
            [
             0.6,
             "#e6f5d0"
            ],
            [
             0.7,
             "#b8e186"
            ],
            [
             0.8,
             "#7fbc41"
            ],
            [
             0.9,
             "#4d9221"
            ],
            [
             1,
             "#276419"
            ]
           ],
           "sequential": [
            [
             0,
             "#0d0887"
            ],
            [
             0.1111111111111111,
             "#46039f"
            ],
            [
             0.2222222222222222,
             "#7201a8"
            ],
            [
             0.3333333333333333,
             "#9c179e"
            ],
            [
             0.4444444444444444,
             "#bd3786"
            ],
            [
             0.5555555555555556,
             "#d8576b"
            ],
            [
             0.6666666666666666,
             "#ed7953"
            ],
            [
             0.7777777777777778,
             "#fb9f3a"
            ],
            [
             0.8888888888888888,
             "#fdca26"
            ],
            [
             1,
             "#f0f921"
            ]
           ],
           "sequentialminus": [
            [
             0,
             "#0d0887"
            ],
            [
             0.1111111111111111,
             "#46039f"
            ],
            [
             0.2222222222222222,
             "#7201a8"
            ],
            [
             0.3333333333333333,
             "#9c179e"
            ],
            [
             0.4444444444444444,
             "#bd3786"
            ],
            [
             0.5555555555555556,
             "#d8576b"
            ],
            [
             0.6666666666666666,
             "#ed7953"
            ],
            [
             0.7777777777777778,
             "#fb9f3a"
            ],
            [
             0.8888888888888888,
             "#fdca26"
            ],
            [
             1,
             "#f0f921"
            ]
           ]
          },
          "colorway": [
           "#636efa",
           "#EF553B",
           "#00cc96",
           "#ab63fa",
           "#FFA15A",
           "#19d3f3",
           "#FF6692",
           "#B6E880",
           "#FF97FF",
           "#FECB52"
          ],
          "font": {
           "color": "#2a3f5f"
          },
          "geo": {
           "bgcolor": "white",
           "lakecolor": "white",
           "landcolor": "white",
           "showlakes": true,
           "showland": true,
           "subunitcolor": "#C8D4E3"
          },
          "hoverlabel": {
           "align": "left"
          },
          "hovermode": "closest",
          "mapbox": {
           "style": "light"
          },
          "paper_bgcolor": "white",
          "plot_bgcolor": "white",
          "polar": {
           "angularaxis": {
            "gridcolor": "#EBF0F8",
            "linecolor": "#EBF0F8",
            "ticks": ""
           },
           "bgcolor": "white",
           "radialaxis": {
            "gridcolor": "#EBF0F8",
            "linecolor": "#EBF0F8",
            "ticks": ""
           }
          },
          "scene": {
           "xaxis": {
            "backgroundcolor": "white",
            "gridcolor": "#DFE8F3",
            "gridwidth": 2,
            "linecolor": "#EBF0F8",
            "showbackground": true,
            "ticks": "",
            "zerolinecolor": "#EBF0F8"
           },
           "yaxis": {
            "backgroundcolor": "white",
            "gridcolor": "#DFE8F3",
            "gridwidth": 2,
            "linecolor": "#EBF0F8",
            "showbackground": true,
            "ticks": "",
            "zerolinecolor": "#EBF0F8"
           },
           "zaxis": {
            "backgroundcolor": "white",
            "gridcolor": "#DFE8F3",
            "gridwidth": 2,
            "linecolor": "#EBF0F8",
            "showbackground": true,
            "ticks": "",
            "zerolinecolor": "#EBF0F8"
           }
          },
          "shapedefaults": {
           "line": {
            "color": "#2a3f5f"
           }
          },
          "ternary": {
           "aaxis": {
            "gridcolor": "#DFE8F3",
            "linecolor": "#A2B1C6",
            "ticks": ""
           },
           "baxis": {
            "gridcolor": "#DFE8F3",
            "linecolor": "#A2B1C6",
            "ticks": ""
           },
           "bgcolor": "white",
           "caxis": {
            "gridcolor": "#DFE8F3",
            "linecolor": "#A2B1C6",
            "ticks": ""
           }
          },
          "title": {
           "x": 0.05
          },
          "xaxis": {
           "automargin": true,
           "gridcolor": "#EBF0F8",
           "linecolor": "#EBF0F8",
           "ticks": "",
           "title": {
            "standoff": 15
           },
           "zerolinecolor": "#EBF0F8",
           "zerolinewidth": 2
          },
          "yaxis": {
           "automargin": true,
           "gridcolor": "#EBF0F8",
           "linecolor": "#EBF0F8",
           "ticks": "",
           "title": {
            "standoff": 15
           },
           "zerolinecolor": "#EBF0F8",
           "zerolinewidth": 2
          }
         }
        },
        "title": {
         "text": "Metrics over time"
        },
        "xaxis": {
         "title": {
          "text": "Date"
         }
        },
        "yaxis": {
         "title": {
          "text": "Count"
         }
        }
       }
      }
     },
     "metadata": {},
     "output_type": "display_data"
    }
   ],
   "source": [
    "fig = go.Figure()\n",
    "\n",
    "fig.add_trace(go.Scatter(x=df.index,y=df['Likes'],name='Likes'))\n",
    "fig.add_traces(go.Scatter(x=df.index,y=df['Saves'],name='Saves'))\n",
    "fig.add_trace(go.Scatter(x=df.index,y=df['Follows'],name='Follows'))\n",
    "\n",
    "fig.update_layout(title='Metrics over time',\n",
    "                  xaxis_title = 'Date',\n",
    "                  yaxis_title = 'Count')\n",
    "\n",
    "fig.show()"
   ]
  },
  {
   "cell_type": "code",
   "execution_count": 23,
   "metadata": {},
   "outputs": [
    {
     "data": {
      "application/vnd.plotly.v1+json": {
       "config": {
        "plotlyServerURL": "https://plot.ly"
       },
       "data": [
        {
         "domain": {
          "x": [
           0,
           1
          ],
          "y": [
           0,
           1
          ]
         },
         "hovertemplate": "label=%{label}<br>value=%{value}<extra></extra>",
         "labels": [
          "From Home",
          "From Hashtags",
          "From Explore",
          "From Other"
         ],
         "legendgroup": "",
         "name": "",
         "showlegend": true,
         "type": "pie",
         "values": [
          294619,
          224614,
          128294,
          20360
         ]
        }
       ],
       "layout": {
        "legend": {
         "tracegroupgap": 0
        },
        "piecolorway": [
         "#FFB6C1",
         "#87CEFA",
         "#90EE90",
         "#FFDAB9"
        ],
        "template": {
         "data": {
          "bar": [
           {
            "error_x": {
             "color": "#2a3f5f"
            },
            "error_y": {
             "color": "#2a3f5f"
            },
            "marker": {
             "line": {
              "color": "white",
              "width": 0.5
             },
             "pattern": {
              "fillmode": "overlay",
              "size": 10,
              "solidity": 0.2
             }
            },
            "type": "bar"
           }
          ],
          "barpolar": [
           {
            "marker": {
             "line": {
              "color": "white",
              "width": 0.5
             },
             "pattern": {
              "fillmode": "overlay",
              "size": 10,
              "solidity": 0.2
             }
            },
            "type": "barpolar"
           }
          ],
          "carpet": [
           {
            "aaxis": {
             "endlinecolor": "#2a3f5f",
             "gridcolor": "#C8D4E3",
             "linecolor": "#C8D4E3",
             "minorgridcolor": "#C8D4E3",
             "startlinecolor": "#2a3f5f"
            },
            "baxis": {
             "endlinecolor": "#2a3f5f",
             "gridcolor": "#C8D4E3",
             "linecolor": "#C8D4E3",
             "minorgridcolor": "#C8D4E3",
             "startlinecolor": "#2a3f5f"
            },
            "type": "carpet"
           }
          ],
          "choropleth": [
           {
            "colorbar": {
             "outlinewidth": 0,
             "ticks": ""
            },
            "type": "choropleth"
           }
          ],
          "contour": [
           {
            "colorbar": {
             "outlinewidth": 0,
             "ticks": ""
            },
            "colorscale": [
             [
              0,
              "#0d0887"
             ],
             [
              0.1111111111111111,
              "#46039f"
             ],
             [
              0.2222222222222222,
              "#7201a8"
             ],
             [
              0.3333333333333333,
              "#9c179e"
             ],
             [
              0.4444444444444444,
              "#bd3786"
             ],
             [
              0.5555555555555556,
              "#d8576b"
             ],
             [
              0.6666666666666666,
              "#ed7953"
             ],
             [
              0.7777777777777778,
              "#fb9f3a"
             ],
             [
              0.8888888888888888,
              "#fdca26"
             ],
             [
              1,
              "#f0f921"
             ]
            ],
            "type": "contour"
           }
          ],
          "contourcarpet": [
           {
            "colorbar": {
             "outlinewidth": 0,
             "ticks": ""
            },
            "type": "contourcarpet"
           }
          ],
          "heatmap": [
           {
            "colorbar": {
             "outlinewidth": 0,
             "ticks": ""
            },
            "colorscale": [
             [
              0,
              "#0d0887"
             ],
             [
              0.1111111111111111,
              "#46039f"
             ],
             [
              0.2222222222222222,
              "#7201a8"
             ],
             [
              0.3333333333333333,
              "#9c179e"
             ],
             [
              0.4444444444444444,
              "#bd3786"
             ],
             [
              0.5555555555555556,
              "#d8576b"
             ],
             [
              0.6666666666666666,
              "#ed7953"
             ],
             [
              0.7777777777777778,
              "#fb9f3a"
             ],
             [
              0.8888888888888888,
              "#fdca26"
             ],
             [
              1,
              "#f0f921"
             ]
            ],
            "type": "heatmap"
           }
          ],
          "heatmapgl": [
           {
            "colorbar": {
             "outlinewidth": 0,
             "ticks": ""
            },
            "colorscale": [
             [
              0,
              "#0d0887"
             ],
             [
              0.1111111111111111,
              "#46039f"
             ],
             [
              0.2222222222222222,
              "#7201a8"
             ],
             [
              0.3333333333333333,
              "#9c179e"
             ],
             [
              0.4444444444444444,
              "#bd3786"
             ],
             [
              0.5555555555555556,
              "#d8576b"
             ],
             [
              0.6666666666666666,
              "#ed7953"
             ],
             [
              0.7777777777777778,
              "#fb9f3a"
             ],
             [
              0.8888888888888888,
              "#fdca26"
             ],
             [
              1,
              "#f0f921"
             ]
            ],
            "type": "heatmapgl"
           }
          ],
          "histogram": [
           {
            "marker": {
             "pattern": {
              "fillmode": "overlay",
              "size": 10,
              "solidity": 0.2
             }
            },
            "type": "histogram"
           }
          ],
          "histogram2d": [
           {
            "colorbar": {
             "outlinewidth": 0,
             "ticks": ""
            },
            "colorscale": [
             [
              0,
              "#0d0887"
             ],
             [
              0.1111111111111111,
              "#46039f"
             ],
             [
              0.2222222222222222,
              "#7201a8"
             ],
             [
              0.3333333333333333,
              "#9c179e"
             ],
             [
              0.4444444444444444,
              "#bd3786"
             ],
             [
              0.5555555555555556,
              "#d8576b"
             ],
             [
              0.6666666666666666,
              "#ed7953"
             ],
             [
              0.7777777777777778,
              "#fb9f3a"
             ],
             [
              0.8888888888888888,
              "#fdca26"
             ],
             [
              1,
              "#f0f921"
             ]
            ],
            "type": "histogram2d"
           }
          ],
          "histogram2dcontour": [
           {
            "colorbar": {
             "outlinewidth": 0,
             "ticks": ""
            },
            "colorscale": [
             [
              0,
              "#0d0887"
             ],
             [
              0.1111111111111111,
              "#46039f"
             ],
             [
              0.2222222222222222,
              "#7201a8"
             ],
             [
              0.3333333333333333,
              "#9c179e"
             ],
             [
              0.4444444444444444,
              "#bd3786"
             ],
             [
              0.5555555555555556,
              "#d8576b"
             ],
             [
              0.6666666666666666,
              "#ed7953"
             ],
             [
              0.7777777777777778,
              "#fb9f3a"
             ],
             [
              0.8888888888888888,
              "#fdca26"
             ],
             [
              1,
              "#f0f921"
             ]
            ],
            "type": "histogram2dcontour"
           }
          ],
          "mesh3d": [
           {
            "colorbar": {
             "outlinewidth": 0,
             "ticks": ""
            },
            "type": "mesh3d"
           }
          ],
          "parcoords": [
           {
            "line": {
             "colorbar": {
              "outlinewidth": 0,
              "ticks": ""
             }
            },
            "type": "parcoords"
           }
          ],
          "pie": [
           {
            "automargin": true,
            "type": "pie"
           }
          ],
          "scatter": [
           {
            "fillpattern": {
             "fillmode": "overlay",
             "size": 10,
             "solidity": 0.2
            },
            "type": "scatter"
           }
          ],
          "scatter3d": [
           {
            "line": {
             "colorbar": {
              "outlinewidth": 0,
              "ticks": ""
             }
            },
            "marker": {
             "colorbar": {
              "outlinewidth": 0,
              "ticks": ""
             }
            },
            "type": "scatter3d"
           }
          ],
          "scattercarpet": [
           {
            "marker": {
             "colorbar": {
              "outlinewidth": 0,
              "ticks": ""
             }
            },
            "type": "scattercarpet"
           }
          ],
          "scattergeo": [
           {
            "marker": {
             "colorbar": {
              "outlinewidth": 0,
              "ticks": ""
             }
            },
            "type": "scattergeo"
           }
          ],
          "scattergl": [
           {
            "marker": {
             "colorbar": {
              "outlinewidth": 0,
              "ticks": ""
             }
            },
            "type": "scattergl"
           }
          ],
          "scattermapbox": [
           {
            "marker": {
             "colorbar": {
              "outlinewidth": 0,
              "ticks": ""
             }
            },
            "type": "scattermapbox"
           }
          ],
          "scatterpolar": [
           {
            "marker": {
             "colorbar": {
              "outlinewidth": 0,
              "ticks": ""
             }
            },
            "type": "scatterpolar"
           }
          ],
          "scatterpolargl": [
           {
            "marker": {
             "colorbar": {
              "outlinewidth": 0,
              "ticks": ""
             }
            },
            "type": "scatterpolargl"
           }
          ],
          "scatterternary": [
           {
            "marker": {
             "colorbar": {
              "outlinewidth": 0,
              "ticks": ""
             }
            },
            "type": "scatterternary"
           }
          ],
          "surface": [
           {
            "colorbar": {
             "outlinewidth": 0,
             "ticks": ""
            },
            "colorscale": [
             [
              0,
              "#0d0887"
             ],
             [
              0.1111111111111111,
              "#46039f"
             ],
             [
              0.2222222222222222,
              "#7201a8"
             ],
             [
              0.3333333333333333,
              "#9c179e"
             ],
             [
              0.4444444444444444,
              "#bd3786"
             ],
             [
              0.5555555555555556,
              "#d8576b"
             ],
             [
              0.6666666666666666,
              "#ed7953"
             ],
             [
              0.7777777777777778,
              "#fb9f3a"
             ],
             [
              0.8888888888888888,
              "#fdca26"
             ],
             [
              1,
              "#f0f921"
             ]
            ],
            "type": "surface"
           }
          ],
          "table": [
           {
            "cells": {
             "fill": {
              "color": "#EBF0F8"
             },
             "line": {
              "color": "white"
             }
            },
            "header": {
             "fill": {
              "color": "#C8D4E3"
             },
             "line": {
              "color": "white"
             }
            },
            "type": "table"
           }
          ]
         },
         "layout": {
          "annotationdefaults": {
           "arrowcolor": "#2a3f5f",
           "arrowhead": 0,
           "arrowwidth": 1
          },
          "autotypenumbers": "strict",
          "coloraxis": {
           "colorbar": {
            "outlinewidth": 0,
            "ticks": ""
           }
          },
          "colorscale": {
           "diverging": [
            [
             0,
             "#8e0152"
            ],
            [
             0.1,
             "#c51b7d"
            ],
            [
             0.2,
             "#de77ae"
            ],
            [
             0.3,
             "#f1b6da"
            ],
            [
             0.4,
             "#fde0ef"
            ],
            [
             0.5,
             "#f7f7f7"
            ],
            [
             0.6,
             "#e6f5d0"
            ],
            [
             0.7,
             "#b8e186"
            ],
            [
             0.8,
             "#7fbc41"
            ],
            [
             0.9,
             "#4d9221"
            ],
            [
             1,
             "#276419"
            ]
           ],
           "sequential": [
            [
             0,
             "#0d0887"
            ],
            [
             0.1111111111111111,
             "#46039f"
            ],
            [
             0.2222222222222222,
             "#7201a8"
            ],
            [
             0.3333333333333333,
             "#9c179e"
            ],
            [
             0.4444444444444444,
             "#bd3786"
            ],
            [
             0.5555555555555556,
             "#d8576b"
            ],
            [
             0.6666666666666666,
             "#ed7953"
            ],
            [
             0.7777777777777778,
             "#fb9f3a"
            ],
            [
             0.8888888888888888,
             "#fdca26"
            ],
            [
             1,
             "#f0f921"
            ]
           ],
           "sequentialminus": [
            [
             0,
             "#0d0887"
            ],
            [
             0.1111111111111111,
             "#46039f"
            ],
            [
             0.2222222222222222,
             "#7201a8"
            ],
            [
             0.3333333333333333,
             "#9c179e"
            ],
            [
             0.4444444444444444,
             "#bd3786"
            ],
            [
             0.5555555555555556,
             "#d8576b"
            ],
            [
             0.6666666666666666,
             "#ed7953"
            ],
            [
             0.7777777777777778,
             "#fb9f3a"
            ],
            [
             0.8888888888888888,
             "#fdca26"
            ],
            [
             1,
             "#f0f921"
            ]
           ]
          },
          "colorway": [
           "#636efa",
           "#EF553B",
           "#00cc96",
           "#ab63fa",
           "#FFA15A",
           "#19d3f3",
           "#FF6692",
           "#B6E880",
           "#FF97FF",
           "#FECB52"
          ],
          "font": {
           "color": "#2a3f5f"
          },
          "geo": {
           "bgcolor": "white",
           "lakecolor": "white",
           "landcolor": "white",
           "showlakes": true,
           "showland": true,
           "subunitcolor": "#C8D4E3"
          },
          "hoverlabel": {
           "align": "left"
          },
          "hovermode": "closest",
          "mapbox": {
           "style": "light"
          },
          "paper_bgcolor": "white",
          "plot_bgcolor": "white",
          "polar": {
           "angularaxis": {
            "gridcolor": "#EBF0F8",
            "linecolor": "#EBF0F8",
            "ticks": ""
           },
           "bgcolor": "white",
           "radialaxis": {
            "gridcolor": "#EBF0F8",
            "linecolor": "#EBF0F8",
            "ticks": ""
           }
          },
          "scene": {
           "xaxis": {
            "backgroundcolor": "white",
            "gridcolor": "#DFE8F3",
            "gridwidth": 2,
            "linecolor": "#EBF0F8",
            "showbackground": true,
            "ticks": "",
            "zerolinecolor": "#EBF0F8"
           },
           "yaxis": {
            "backgroundcolor": "white",
            "gridcolor": "#DFE8F3",
            "gridwidth": 2,
            "linecolor": "#EBF0F8",
            "showbackground": true,
            "ticks": "",
            "zerolinecolor": "#EBF0F8"
           },
           "zaxis": {
            "backgroundcolor": "white",
            "gridcolor": "#DFE8F3",
            "gridwidth": 2,
            "linecolor": "#EBF0F8",
            "showbackground": true,
            "ticks": "",
            "zerolinecolor": "#EBF0F8"
           }
          },
          "shapedefaults": {
           "line": {
            "color": "#2a3f5f"
           }
          },
          "ternary": {
           "aaxis": {
            "gridcolor": "#DFE8F3",
            "linecolor": "#A2B1C6",
            "ticks": ""
           },
           "baxis": {
            "gridcolor": "#DFE8F3",
            "linecolor": "#A2B1C6",
            "ticks": ""
           },
           "bgcolor": "white",
           "caxis": {
            "gridcolor": "#DFE8F3",
            "linecolor": "#A2B1C6",
            "ticks": ""
           }
          },
          "title": {
           "x": 0.05
          },
          "xaxis": {
           "automargin": true,
           "gridcolor": "#EBF0F8",
           "linecolor": "#EBF0F8",
           "ticks": "",
           "title": {
            "standoff": 15
           },
           "zerolinecolor": "#EBF0F8",
           "zerolinewidth": 2
          },
          "yaxis": {
           "automargin": true,
           "gridcolor": "#EBF0F8",
           "linecolor": "#EBF0F8",
           "ticks": "",
           "title": {
            "standoff": 15
           },
           "zerolinecolor": "#EBF0F8",
           "zerolinewidth": 2
          }
         }
        },
        "title": {
         "text": "Reach from diffrent sources"
        }
       }
      }
     },
     "metadata": {},
     "output_type": "display_data"
    }
   ],
   "source": [
    "reach_sources = ['From Home','From Hashtags','From Explore','From Other']\n",
    "reach_count = [df[source].sum() for source in reach_sources]\n",
    "\n",
    "colours = ['#FFB6C1','#87CEFA','#90EE90','#FFDAB9']\n",
    "\n",
    "fig = px.pie(data_frame=df,names=reach_sources,values=reach_count,title='Reach from diffrent sources', color_discrete_sequence=colours)\n",
    "fig.show()"
   ]
  },
  {
   "cell_type": "code",
   "execution_count": 24,
   "metadata": {},
   "outputs": [
    {
     "data": {
      "application/vnd.plotly.v1+json": {
       "config": {
        "plotlyServerURL": "https://plot.ly"
       },
       "data": [
        {
         "domain": {
          "x": [
           0,
           1
          ],
          "y": [
           0,
           1
          ]
         },
         "hovertemplate": "label=%{label}<br>value=%{value}<extra></extra>",
         "labels": [
          "Saves",
          "Comments",
          "Shares",
          "Likes"
         ],
         "legendgroup": "",
         "name": "",
         "showlegend": true,
         "type": "pie",
         "values": [
          18244,
          793,
          1114,
          20680
         ]
        }
       ],
       "layout": {
        "legend": {
         "tracegroupgap": 0
        },
        "piecolorway": [
         "#FFB6C1",
         "#87CEFA",
         "#90EE90",
         "#FFDAB9"
        ],
        "template": {
         "data": {
          "bar": [
           {
            "error_x": {
             "color": "#2a3f5f"
            },
            "error_y": {
             "color": "#2a3f5f"
            },
            "marker": {
             "line": {
              "color": "white",
              "width": 0.5
             },
             "pattern": {
              "fillmode": "overlay",
              "size": 10,
              "solidity": 0.2
             }
            },
            "type": "bar"
           }
          ],
          "barpolar": [
           {
            "marker": {
             "line": {
              "color": "white",
              "width": 0.5
             },
             "pattern": {
              "fillmode": "overlay",
              "size": 10,
              "solidity": 0.2
             }
            },
            "type": "barpolar"
           }
          ],
          "carpet": [
           {
            "aaxis": {
             "endlinecolor": "#2a3f5f",
             "gridcolor": "#C8D4E3",
             "linecolor": "#C8D4E3",
             "minorgridcolor": "#C8D4E3",
             "startlinecolor": "#2a3f5f"
            },
            "baxis": {
             "endlinecolor": "#2a3f5f",
             "gridcolor": "#C8D4E3",
             "linecolor": "#C8D4E3",
             "minorgridcolor": "#C8D4E3",
             "startlinecolor": "#2a3f5f"
            },
            "type": "carpet"
           }
          ],
          "choropleth": [
           {
            "colorbar": {
             "outlinewidth": 0,
             "ticks": ""
            },
            "type": "choropleth"
           }
          ],
          "contour": [
           {
            "colorbar": {
             "outlinewidth": 0,
             "ticks": ""
            },
            "colorscale": [
             [
              0,
              "#0d0887"
             ],
             [
              0.1111111111111111,
              "#46039f"
             ],
             [
              0.2222222222222222,
              "#7201a8"
             ],
             [
              0.3333333333333333,
              "#9c179e"
             ],
             [
              0.4444444444444444,
              "#bd3786"
             ],
             [
              0.5555555555555556,
              "#d8576b"
             ],
             [
              0.6666666666666666,
              "#ed7953"
             ],
             [
              0.7777777777777778,
              "#fb9f3a"
             ],
             [
              0.8888888888888888,
              "#fdca26"
             ],
             [
              1,
              "#f0f921"
             ]
            ],
            "type": "contour"
           }
          ],
          "contourcarpet": [
           {
            "colorbar": {
             "outlinewidth": 0,
             "ticks": ""
            },
            "type": "contourcarpet"
           }
          ],
          "heatmap": [
           {
            "colorbar": {
             "outlinewidth": 0,
             "ticks": ""
            },
            "colorscale": [
             [
              0,
              "#0d0887"
             ],
             [
              0.1111111111111111,
              "#46039f"
             ],
             [
              0.2222222222222222,
              "#7201a8"
             ],
             [
              0.3333333333333333,
              "#9c179e"
             ],
             [
              0.4444444444444444,
              "#bd3786"
             ],
             [
              0.5555555555555556,
              "#d8576b"
             ],
             [
              0.6666666666666666,
              "#ed7953"
             ],
             [
              0.7777777777777778,
              "#fb9f3a"
             ],
             [
              0.8888888888888888,
              "#fdca26"
             ],
             [
              1,
              "#f0f921"
             ]
            ],
            "type": "heatmap"
           }
          ],
          "heatmapgl": [
           {
            "colorbar": {
             "outlinewidth": 0,
             "ticks": ""
            },
            "colorscale": [
             [
              0,
              "#0d0887"
             ],
             [
              0.1111111111111111,
              "#46039f"
             ],
             [
              0.2222222222222222,
              "#7201a8"
             ],
             [
              0.3333333333333333,
              "#9c179e"
             ],
             [
              0.4444444444444444,
              "#bd3786"
             ],
             [
              0.5555555555555556,
              "#d8576b"
             ],
             [
              0.6666666666666666,
              "#ed7953"
             ],
             [
              0.7777777777777778,
              "#fb9f3a"
             ],
             [
              0.8888888888888888,
              "#fdca26"
             ],
             [
              1,
              "#f0f921"
             ]
            ],
            "type": "heatmapgl"
           }
          ],
          "histogram": [
           {
            "marker": {
             "pattern": {
              "fillmode": "overlay",
              "size": 10,
              "solidity": 0.2
             }
            },
            "type": "histogram"
           }
          ],
          "histogram2d": [
           {
            "colorbar": {
             "outlinewidth": 0,
             "ticks": ""
            },
            "colorscale": [
             [
              0,
              "#0d0887"
             ],
             [
              0.1111111111111111,
              "#46039f"
             ],
             [
              0.2222222222222222,
              "#7201a8"
             ],
             [
              0.3333333333333333,
              "#9c179e"
             ],
             [
              0.4444444444444444,
              "#bd3786"
             ],
             [
              0.5555555555555556,
              "#d8576b"
             ],
             [
              0.6666666666666666,
              "#ed7953"
             ],
             [
              0.7777777777777778,
              "#fb9f3a"
             ],
             [
              0.8888888888888888,
              "#fdca26"
             ],
             [
              1,
              "#f0f921"
             ]
            ],
            "type": "histogram2d"
           }
          ],
          "histogram2dcontour": [
           {
            "colorbar": {
             "outlinewidth": 0,
             "ticks": ""
            },
            "colorscale": [
             [
              0,
              "#0d0887"
             ],
             [
              0.1111111111111111,
              "#46039f"
             ],
             [
              0.2222222222222222,
              "#7201a8"
             ],
             [
              0.3333333333333333,
              "#9c179e"
             ],
             [
              0.4444444444444444,
              "#bd3786"
             ],
             [
              0.5555555555555556,
              "#d8576b"
             ],
             [
              0.6666666666666666,
              "#ed7953"
             ],
             [
              0.7777777777777778,
              "#fb9f3a"
             ],
             [
              0.8888888888888888,
              "#fdca26"
             ],
             [
              1,
              "#f0f921"
             ]
            ],
            "type": "histogram2dcontour"
           }
          ],
          "mesh3d": [
           {
            "colorbar": {
             "outlinewidth": 0,
             "ticks": ""
            },
            "type": "mesh3d"
           }
          ],
          "parcoords": [
           {
            "line": {
             "colorbar": {
              "outlinewidth": 0,
              "ticks": ""
             }
            },
            "type": "parcoords"
           }
          ],
          "pie": [
           {
            "automargin": true,
            "type": "pie"
           }
          ],
          "scatter": [
           {
            "fillpattern": {
             "fillmode": "overlay",
             "size": 10,
             "solidity": 0.2
            },
            "type": "scatter"
           }
          ],
          "scatter3d": [
           {
            "line": {
             "colorbar": {
              "outlinewidth": 0,
              "ticks": ""
             }
            },
            "marker": {
             "colorbar": {
              "outlinewidth": 0,
              "ticks": ""
             }
            },
            "type": "scatter3d"
           }
          ],
          "scattercarpet": [
           {
            "marker": {
             "colorbar": {
              "outlinewidth": 0,
              "ticks": ""
             }
            },
            "type": "scattercarpet"
           }
          ],
          "scattergeo": [
           {
            "marker": {
             "colorbar": {
              "outlinewidth": 0,
              "ticks": ""
             }
            },
            "type": "scattergeo"
           }
          ],
          "scattergl": [
           {
            "marker": {
             "colorbar": {
              "outlinewidth": 0,
              "ticks": ""
             }
            },
            "type": "scattergl"
           }
          ],
          "scattermapbox": [
           {
            "marker": {
             "colorbar": {
              "outlinewidth": 0,
              "ticks": ""
             }
            },
            "type": "scattermapbox"
           }
          ],
          "scatterpolar": [
           {
            "marker": {
             "colorbar": {
              "outlinewidth": 0,
              "ticks": ""
             }
            },
            "type": "scatterpolar"
           }
          ],
          "scatterpolargl": [
           {
            "marker": {
             "colorbar": {
              "outlinewidth": 0,
              "ticks": ""
             }
            },
            "type": "scatterpolargl"
           }
          ],
          "scatterternary": [
           {
            "marker": {
             "colorbar": {
              "outlinewidth": 0,
              "ticks": ""
             }
            },
            "type": "scatterternary"
           }
          ],
          "surface": [
           {
            "colorbar": {
             "outlinewidth": 0,
             "ticks": ""
            },
            "colorscale": [
             [
              0,
              "#0d0887"
             ],
             [
              0.1111111111111111,
              "#46039f"
             ],
             [
              0.2222222222222222,
              "#7201a8"
             ],
             [
              0.3333333333333333,
              "#9c179e"
             ],
             [
              0.4444444444444444,
              "#bd3786"
             ],
             [
              0.5555555555555556,
              "#d8576b"
             ],
             [
              0.6666666666666666,
              "#ed7953"
             ],
             [
              0.7777777777777778,
              "#fb9f3a"
             ],
             [
              0.8888888888888888,
              "#fdca26"
             ],
             [
              1,
              "#f0f921"
             ]
            ],
            "type": "surface"
           }
          ],
          "table": [
           {
            "cells": {
             "fill": {
              "color": "#EBF0F8"
             },
             "line": {
              "color": "white"
             }
            },
            "header": {
             "fill": {
              "color": "#C8D4E3"
             },
             "line": {
              "color": "white"
             }
            },
            "type": "table"
           }
          ]
         },
         "layout": {
          "annotationdefaults": {
           "arrowcolor": "#2a3f5f",
           "arrowhead": 0,
           "arrowwidth": 1
          },
          "autotypenumbers": "strict",
          "coloraxis": {
           "colorbar": {
            "outlinewidth": 0,
            "ticks": ""
           }
          },
          "colorscale": {
           "diverging": [
            [
             0,
             "#8e0152"
            ],
            [
             0.1,
             "#c51b7d"
            ],
            [
             0.2,
             "#de77ae"
            ],
            [
             0.3,
             "#f1b6da"
            ],
            [
             0.4,
             "#fde0ef"
            ],
            [
             0.5,
             "#f7f7f7"
            ],
            [
             0.6,
             "#e6f5d0"
            ],
            [
             0.7,
             "#b8e186"
            ],
            [
             0.8,
             "#7fbc41"
            ],
            [
             0.9,
             "#4d9221"
            ],
            [
             1,
             "#276419"
            ]
           ],
           "sequential": [
            [
             0,
             "#0d0887"
            ],
            [
             0.1111111111111111,
             "#46039f"
            ],
            [
             0.2222222222222222,
             "#7201a8"
            ],
            [
             0.3333333333333333,
             "#9c179e"
            ],
            [
             0.4444444444444444,
             "#bd3786"
            ],
            [
             0.5555555555555556,
             "#d8576b"
            ],
            [
             0.6666666666666666,
             "#ed7953"
            ],
            [
             0.7777777777777778,
             "#fb9f3a"
            ],
            [
             0.8888888888888888,
             "#fdca26"
            ],
            [
             1,
             "#f0f921"
            ]
           ],
           "sequentialminus": [
            [
             0,
             "#0d0887"
            ],
            [
             0.1111111111111111,
             "#46039f"
            ],
            [
             0.2222222222222222,
             "#7201a8"
            ],
            [
             0.3333333333333333,
             "#9c179e"
            ],
            [
             0.4444444444444444,
             "#bd3786"
            ],
            [
             0.5555555555555556,
             "#d8576b"
            ],
            [
             0.6666666666666666,
             "#ed7953"
            ],
            [
             0.7777777777777778,
             "#fb9f3a"
            ],
            [
             0.8888888888888888,
             "#fdca26"
            ],
            [
             1,
             "#f0f921"
            ]
           ]
          },
          "colorway": [
           "#636efa",
           "#EF553B",
           "#00cc96",
           "#ab63fa",
           "#FFA15A",
           "#19d3f3",
           "#FF6692",
           "#B6E880",
           "#FF97FF",
           "#FECB52"
          ],
          "font": {
           "color": "#2a3f5f"
          },
          "geo": {
           "bgcolor": "white",
           "lakecolor": "white",
           "landcolor": "white",
           "showlakes": true,
           "showland": true,
           "subunitcolor": "#C8D4E3"
          },
          "hoverlabel": {
           "align": "left"
          },
          "hovermode": "closest",
          "mapbox": {
           "style": "light"
          },
          "paper_bgcolor": "white",
          "plot_bgcolor": "white",
          "polar": {
           "angularaxis": {
            "gridcolor": "#EBF0F8",
            "linecolor": "#EBF0F8",
            "ticks": ""
           },
           "bgcolor": "white",
           "radialaxis": {
            "gridcolor": "#EBF0F8",
            "linecolor": "#EBF0F8",
            "ticks": ""
           }
          },
          "scene": {
           "xaxis": {
            "backgroundcolor": "white",
            "gridcolor": "#DFE8F3",
            "gridwidth": 2,
            "linecolor": "#EBF0F8",
            "showbackground": true,
            "ticks": "",
            "zerolinecolor": "#EBF0F8"
           },
           "yaxis": {
            "backgroundcolor": "white",
            "gridcolor": "#DFE8F3",
            "gridwidth": 2,
            "linecolor": "#EBF0F8",
            "showbackground": true,
            "ticks": "",
            "zerolinecolor": "#EBF0F8"
           },
           "zaxis": {
            "backgroundcolor": "white",
            "gridcolor": "#DFE8F3",
            "gridwidth": 2,
            "linecolor": "#EBF0F8",
            "showbackground": true,
            "ticks": "",
            "zerolinecolor": "#EBF0F8"
           }
          },
          "shapedefaults": {
           "line": {
            "color": "#2a3f5f"
           }
          },
          "ternary": {
           "aaxis": {
            "gridcolor": "#DFE8F3",
            "linecolor": "#A2B1C6",
            "ticks": ""
           },
           "baxis": {
            "gridcolor": "#DFE8F3",
            "linecolor": "#A2B1C6",
            "ticks": ""
           },
           "bgcolor": "white",
           "caxis": {
            "gridcolor": "#DFE8F3",
            "linecolor": "#A2B1C6",
            "ticks": ""
           }
          },
          "title": {
           "x": 0.05
          },
          "xaxis": {
           "automargin": true,
           "gridcolor": "#EBF0F8",
           "linecolor": "#EBF0F8",
           "ticks": "",
           "title": {
            "standoff": 15
           },
           "zerolinecolor": "#EBF0F8",
           "zerolinewidth": 2
          },
          "yaxis": {
           "automargin": true,
           "gridcolor": "#EBF0F8",
           "linecolor": "#EBF0F8",
           "ticks": "",
           "title": {
            "standoff": 15
           },
           "zerolinecolor": "#EBF0F8",
           "zerolinewidth": 2
          }
         }
        },
        "title": {
         "text": "Engagement Sources"
        }
       }
      }
     },
     "metadata": {},
     "output_type": "display_data"
    }
   ],
   "source": [
    "engagement_metrics = ['Saves','Comments','Shares','Likes']\n",
    "engagement_count = [df[metric].sum() for metric in engagement_metrics]\n",
    "\n",
    "colours = ['#FFB6C1','#87CEFA','#90EE90','#FFDAB9']\n",
    "\n",
    "fig = px.pie(data_frame=df,names=engagement_metrics,values=engagement_count,title='Engagement Sources',color_discrete_sequence=colours)\n",
    "\n",
    "fig.show()"
   ]
  },
  {
   "cell_type": "code",
   "execution_count": 25,
   "metadata": {},
   "outputs": [
    {
     "data": {
      "application/vnd.plotly.v1+json": {
       "config": {
        "plotlyServerURL": "https://plot.ly"
       },
       "data": [
        {
         "hovertemplate": "Profile Visits=%{x}<br>Follows=%{y}<extra></extra>",
         "legendgroup": "",
         "marker": {
          "color": "#636efa",
          "symbol": "circle"
         },
         "mode": "markers",
         "name": "",
         "orientation": "v",
         "showlegend": false,
         "type": "scatter",
         "x": [
          35,
          48,
          62,
          23,
          8,
          9,
          26,
          12,
          36,
          31,
          29,
          15,
          8,
          20,
          181,
          17,
          16,
          21,
          77,
          10,
          9,
          11,
          144,
          14,
          10,
          19,
          69,
          11,
          19,
          9,
          57,
          13,
          11,
          24,
          81,
          4,
          7,
          14,
          18,
          8,
          330,
          21,
          19,
          32,
          19,
          21,
          14,
          30,
          39,
          42,
          31,
          20,
          12,
          22,
          306,
          13,
          26,
          16,
          15,
          15,
          39,
          21,
          8,
          45,
          50,
          37,
          25,
          347,
          26,
          48,
          16,
          26,
          17,
          52,
          22,
          41,
          155,
          12,
          22,
          20,
          23,
          25,
          17,
          16,
          21,
          77,
          10,
          14,
          30,
          39,
          42,
          31,
          14,
          10,
          19,
          69,
          11,
          19,
          9,
          38,
          42,
          92,
          75,
          21,
          26,
          39,
          74,
          467,
          24,
          70,
          22,
          46,
          61,
          237,
          73,
          20,
          34,
          148,
          611
         ],
         "xaxis": "x",
         "y": [
          2,
          10,
          12,
          8,
          0,
          2,
          0,
          6,
          4,
          6,
          4,
          0,
          2,
          4,
          42,
          6,
          2,
          2,
          30,
          0,
          0,
          24,
          100,
          2,
          4,
          6,
          6,
          6,
          2,
          2,
          20,
          2,
          4,
          8,
          26,
          2,
          2,
          4,
          0,
          2,
          94,
          8,
          18,
          10,
          4,
          4,
          4,
          4,
          18,
          38,
          10,
          12,
          4,
          4,
          74,
          0,
          6,
          6,
          0,
          6,
          12,
          10,
          8,
          8,
          46,
          12,
          10,
          94,
          6,
          10,
          6,
          4,
          12,
          16,
          12,
          8,
          32,
          8,
          16,
          6,
          10,
          10,
          6,
          2,
          2,
          30,
          0,
          4,
          4,
          18,
          38,
          10,
          2,
          4,
          6,
          6,
          6,
          2,
          2,
          14,
          8,
          14,
          28,
          18,
          12,
          34,
          26,
          260,
          16,
          96,
          20,
          30,
          58,
          100,
          80,
          18,
          10,
          214,
          228
         ],
         "yaxis": "y"
        },
        {
         "hovertemplate": "<b>OLS trendline</b><br>Follows = 0.400884 * Profile Visits + 0.46283<br>R<sup>2</sup>=0.727868<br><br>Profile Visits=%{x}<br>Follows=%{y} <b>(trend)</b><extra></extra>",
         "legendgroup": "",
         "marker": {
          "color": "#636efa",
          "symbol": "circle"
         },
         "mode": "lines",
         "name": "",
         "showlegend": false,
         "type": "scatter",
         "x": [
          4,
          7,
          8,
          8,
          8,
          8,
          9,
          9,
          9,
          9,
          10,
          10,
          10,
          10,
          11,
          11,
          11,
          11,
          12,
          12,
          12,
          13,
          13,
          14,
          14,
          14,
          14,
          14,
          15,
          15,
          15,
          16,
          16,
          16,
          16,
          17,
          17,
          17,
          18,
          19,
          19,
          19,
          19,
          19,
          19,
          20,
          20,
          20,
          20,
          21,
          21,
          21,
          21,
          21,
          21,
          22,
          22,
          22,
          22,
          23,
          23,
          24,
          24,
          25,
          25,
          26,
          26,
          26,
          26,
          26,
          29,
          30,
          30,
          31,
          31,
          31,
          32,
          34,
          35,
          36,
          37,
          38,
          39,
          39,
          39,
          39,
          41,
          42,
          42,
          42,
          45,
          46,
          48,
          48,
          50,
          52,
          57,
          61,
          62,
          69,
          69,
          70,
          73,
          74,
          75,
          77,
          77,
          81,
          92,
          144,
          148,
          155,
          181,
          237,
          306,
          330,
          347,
          467,
          611
         ],
         "xaxis": "x",
         "y": [
          2.066365070422533,
          3.269016056338026,
          3.669899718309857,
          3.669899718309857,
          3.669899718309857,
          3.669899718309857,
          4.0707833802816875,
          4.0707833802816875,
          4.0707833802816875,
          4.0707833802816875,
          4.471667042253519,
          4.471667042253519,
          4.471667042253519,
          4.471667042253519,
          4.87255070422535,
          4.87255070422535,
          4.87255070422535,
          4.87255070422535,
          5.273434366197181,
          5.273434366197181,
          5.273434366197181,
          5.6743180281690115,
          5.6743180281690115,
          6.075201690140843,
          6.075201690140843,
          6.075201690140843,
          6.075201690140843,
          6.075201690140843,
          6.476085352112674,
          6.476085352112674,
          6.476085352112674,
          6.876969014084505,
          6.876969014084505,
          6.876969014084505,
          6.876969014084505,
          7.277852676056336,
          7.277852676056336,
          7.277852676056336,
          7.678736338028167,
          8.079619999999998,
          8.079619999999998,
          8.079619999999998,
          8.079619999999998,
          8.079619999999998,
          8.079619999999998,
          8.480503661971829,
          8.480503661971829,
          8.480503661971829,
          8.480503661971829,
          8.88138732394366,
          8.88138732394366,
          8.88138732394366,
          8.88138732394366,
          8.88138732394366,
          8.88138732394366,
          9.282270985915492,
          9.282270985915492,
          9.282270985915492,
          9.282270985915492,
          9.683154647887322,
          9.683154647887322,
          10.084038309859153,
          10.084038309859153,
          10.484921971830984,
          10.484921971830984,
          10.885805633802814,
          10.885805633802814,
          10.885805633802814,
          10.885805633802814,
          10.885805633802814,
          12.088456619718308,
          12.48934028169014,
          12.48934028169014,
          12.89022394366197,
          12.89022394366197,
          12.89022394366197,
          13.291107605633801,
          14.092874929577462,
          14.493758591549295,
          14.894642253521125,
          15.295525915492956,
          15.696409577464788,
          16.097293239436617,
          16.097293239436617,
          16.097293239436617,
          16.097293239436617,
          16.89906056338028,
          17.29994422535211,
          17.29994422535211,
          17.29994422535211,
          18.502595211267604,
          18.903478873239436,
          19.705246197183097,
          19.705246197183097,
          20.50701352112676,
          21.30878084507042,
          23.313199154929578,
          24.9167338028169,
          25.317617464788732,
          28.123803098591548,
          28.123803098591548,
          28.52468676056338,
          29.727337746478874,
          30.128221408450703,
          30.529105070422535,
          31.330872394366196,
          31.330872394366196,
          32.934407042253525,
          37.34412732394367,
          58.19007774647888,
          59.79361239436619,
          62.59979802816902,
          73.02277323943662,
          95.47225830985916,
          123.13323098591549,
          132.75443887323945,
          139.56946112676056,
          187.6755005633803,
          245.40274788732395
         ],
         "yaxis": "y"
        }
       ],
       "layout": {
        "legend": {
         "tracegroupgap": 0
        },
        "template": {
         "data": {
          "bar": [
           {
            "error_x": {
             "color": "#2a3f5f"
            },
            "error_y": {
             "color": "#2a3f5f"
            },
            "marker": {
             "line": {
              "color": "white",
              "width": 0.5
             },
             "pattern": {
              "fillmode": "overlay",
              "size": 10,
              "solidity": 0.2
             }
            },
            "type": "bar"
           }
          ],
          "barpolar": [
           {
            "marker": {
             "line": {
              "color": "white",
              "width": 0.5
             },
             "pattern": {
              "fillmode": "overlay",
              "size": 10,
              "solidity": 0.2
             }
            },
            "type": "barpolar"
           }
          ],
          "carpet": [
           {
            "aaxis": {
             "endlinecolor": "#2a3f5f",
             "gridcolor": "#C8D4E3",
             "linecolor": "#C8D4E3",
             "minorgridcolor": "#C8D4E3",
             "startlinecolor": "#2a3f5f"
            },
            "baxis": {
             "endlinecolor": "#2a3f5f",
             "gridcolor": "#C8D4E3",
             "linecolor": "#C8D4E3",
             "minorgridcolor": "#C8D4E3",
             "startlinecolor": "#2a3f5f"
            },
            "type": "carpet"
           }
          ],
          "choropleth": [
           {
            "colorbar": {
             "outlinewidth": 0,
             "ticks": ""
            },
            "type": "choropleth"
           }
          ],
          "contour": [
           {
            "colorbar": {
             "outlinewidth": 0,
             "ticks": ""
            },
            "colorscale": [
             [
              0,
              "#0d0887"
             ],
             [
              0.1111111111111111,
              "#46039f"
             ],
             [
              0.2222222222222222,
              "#7201a8"
             ],
             [
              0.3333333333333333,
              "#9c179e"
             ],
             [
              0.4444444444444444,
              "#bd3786"
             ],
             [
              0.5555555555555556,
              "#d8576b"
             ],
             [
              0.6666666666666666,
              "#ed7953"
             ],
             [
              0.7777777777777778,
              "#fb9f3a"
             ],
             [
              0.8888888888888888,
              "#fdca26"
             ],
             [
              1,
              "#f0f921"
             ]
            ],
            "type": "contour"
           }
          ],
          "contourcarpet": [
           {
            "colorbar": {
             "outlinewidth": 0,
             "ticks": ""
            },
            "type": "contourcarpet"
           }
          ],
          "heatmap": [
           {
            "colorbar": {
             "outlinewidth": 0,
             "ticks": ""
            },
            "colorscale": [
             [
              0,
              "#0d0887"
             ],
             [
              0.1111111111111111,
              "#46039f"
             ],
             [
              0.2222222222222222,
              "#7201a8"
             ],
             [
              0.3333333333333333,
              "#9c179e"
             ],
             [
              0.4444444444444444,
              "#bd3786"
             ],
             [
              0.5555555555555556,
              "#d8576b"
             ],
             [
              0.6666666666666666,
              "#ed7953"
             ],
             [
              0.7777777777777778,
              "#fb9f3a"
             ],
             [
              0.8888888888888888,
              "#fdca26"
             ],
             [
              1,
              "#f0f921"
             ]
            ],
            "type": "heatmap"
           }
          ],
          "heatmapgl": [
           {
            "colorbar": {
             "outlinewidth": 0,
             "ticks": ""
            },
            "colorscale": [
             [
              0,
              "#0d0887"
             ],
             [
              0.1111111111111111,
              "#46039f"
             ],
             [
              0.2222222222222222,
              "#7201a8"
             ],
             [
              0.3333333333333333,
              "#9c179e"
             ],
             [
              0.4444444444444444,
              "#bd3786"
             ],
             [
              0.5555555555555556,
              "#d8576b"
             ],
             [
              0.6666666666666666,
              "#ed7953"
             ],
             [
              0.7777777777777778,
              "#fb9f3a"
             ],
             [
              0.8888888888888888,
              "#fdca26"
             ],
             [
              1,
              "#f0f921"
             ]
            ],
            "type": "heatmapgl"
           }
          ],
          "histogram": [
           {
            "marker": {
             "pattern": {
              "fillmode": "overlay",
              "size": 10,
              "solidity": 0.2
             }
            },
            "type": "histogram"
           }
          ],
          "histogram2d": [
           {
            "colorbar": {
             "outlinewidth": 0,
             "ticks": ""
            },
            "colorscale": [
             [
              0,
              "#0d0887"
             ],
             [
              0.1111111111111111,
              "#46039f"
             ],
             [
              0.2222222222222222,
              "#7201a8"
             ],
             [
              0.3333333333333333,
              "#9c179e"
             ],
             [
              0.4444444444444444,
              "#bd3786"
             ],
             [
              0.5555555555555556,
              "#d8576b"
             ],
             [
              0.6666666666666666,
              "#ed7953"
             ],
             [
              0.7777777777777778,
              "#fb9f3a"
             ],
             [
              0.8888888888888888,
              "#fdca26"
             ],
             [
              1,
              "#f0f921"
             ]
            ],
            "type": "histogram2d"
           }
          ],
          "histogram2dcontour": [
           {
            "colorbar": {
             "outlinewidth": 0,
             "ticks": ""
            },
            "colorscale": [
             [
              0,
              "#0d0887"
             ],
             [
              0.1111111111111111,
              "#46039f"
             ],
             [
              0.2222222222222222,
              "#7201a8"
             ],
             [
              0.3333333333333333,
              "#9c179e"
             ],
             [
              0.4444444444444444,
              "#bd3786"
             ],
             [
              0.5555555555555556,
              "#d8576b"
             ],
             [
              0.6666666666666666,
              "#ed7953"
             ],
             [
              0.7777777777777778,
              "#fb9f3a"
             ],
             [
              0.8888888888888888,
              "#fdca26"
             ],
             [
              1,
              "#f0f921"
             ]
            ],
            "type": "histogram2dcontour"
           }
          ],
          "mesh3d": [
           {
            "colorbar": {
             "outlinewidth": 0,
             "ticks": ""
            },
            "type": "mesh3d"
           }
          ],
          "parcoords": [
           {
            "line": {
             "colorbar": {
              "outlinewidth": 0,
              "ticks": ""
             }
            },
            "type": "parcoords"
           }
          ],
          "pie": [
           {
            "automargin": true,
            "type": "pie"
           }
          ],
          "scatter": [
           {
            "fillpattern": {
             "fillmode": "overlay",
             "size": 10,
             "solidity": 0.2
            },
            "type": "scatter"
           }
          ],
          "scatter3d": [
           {
            "line": {
             "colorbar": {
              "outlinewidth": 0,
              "ticks": ""
             }
            },
            "marker": {
             "colorbar": {
              "outlinewidth": 0,
              "ticks": ""
             }
            },
            "type": "scatter3d"
           }
          ],
          "scattercarpet": [
           {
            "marker": {
             "colorbar": {
              "outlinewidth": 0,
              "ticks": ""
             }
            },
            "type": "scattercarpet"
           }
          ],
          "scattergeo": [
           {
            "marker": {
             "colorbar": {
              "outlinewidth": 0,
              "ticks": ""
             }
            },
            "type": "scattergeo"
           }
          ],
          "scattergl": [
           {
            "marker": {
             "colorbar": {
              "outlinewidth": 0,
              "ticks": ""
             }
            },
            "type": "scattergl"
           }
          ],
          "scattermapbox": [
           {
            "marker": {
             "colorbar": {
              "outlinewidth": 0,
              "ticks": ""
             }
            },
            "type": "scattermapbox"
           }
          ],
          "scatterpolar": [
           {
            "marker": {
             "colorbar": {
              "outlinewidth": 0,
              "ticks": ""
             }
            },
            "type": "scatterpolar"
           }
          ],
          "scatterpolargl": [
           {
            "marker": {
             "colorbar": {
              "outlinewidth": 0,
              "ticks": ""
             }
            },
            "type": "scatterpolargl"
           }
          ],
          "scatterternary": [
           {
            "marker": {
             "colorbar": {
              "outlinewidth": 0,
              "ticks": ""
             }
            },
            "type": "scatterternary"
           }
          ],
          "surface": [
           {
            "colorbar": {
             "outlinewidth": 0,
             "ticks": ""
            },
            "colorscale": [
             [
              0,
              "#0d0887"
             ],
             [
              0.1111111111111111,
              "#46039f"
             ],
             [
              0.2222222222222222,
              "#7201a8"
             ],
             [
              0.3333333333333333,
              "#9c179e"
             ],
             [
              0.4444444444444444,
              "#bd3786"
             ],
             [
              0.5555555555555556,
              "#d8576b"
             ],
             [
              0.6666666666666666,
              "#ed7953"
             ],
             [
              0.7777777777777778,
              "#fb9f3a"
             ],
             [
              0.8888888888888888,
              "#fdca26"
             ],
             [
              1,
              "#f0f921"
             ]
            ],
            "type": "surface"
           }
          ],
          "table": [
           {
            "cells": {
             "fill": {
              "color": "#EBF0F8"
             },
             "line": {
              "color": "white"
             }
            },
            "header": {
             "fill": {
              "color": "#C8D4E3"
             },
             "line": {
              "color": "white"
             }
            },
            "type": "table"
           }
          ]
         },
         "layout": {
          "annotationdefaults": {
           "arrowcolor": "#2a3f5f",
           "arrowhead": 0,
           "arrowwidth": 1
          },
          "autotypenumbers": "strict",
          "coloraxis": {
           "colorbar": {
            "outlinewidth": 0,
            "ticks": ""
           }
          },
          "colorscale": {
           "diverging": [
            [
             0,
             "#8e0152"
            ],
            [
             0.1,
             "#c51b7d"
            ],
            [
             0.2,
             "#de77ae"
            ],
            [
             0.3,
             "#f1b6da"
            ],
            [
             0.4,
             "#fde0ef"
            ],
            [
             0.5,
             "#f7f7f7"
            ],
            [
             0.6,
             "#e6f5d0"
            ],
            [
             0.7,
             "#b8e186"
            ],
            [
             0.8,
             "#7fbc41"
            ],
            [
             0.9,
             "#4d9221"
            ],
            [
             1,
             "#276419"
            ]
           ],
           "sequential": [
            [
             0,
             "#0d0887"
            ],
            [
             0.1111111111111111,
             "#46039f"
            ],
            [
             0.2222222222222222,
             "#7201a8"
            ],
            [
             0.3333333333333333,
             "#9c179e"
            ],
            [
             0.4444444444444444,
             "#bd3786"
            ],
            [
             0.5555555555555556,
             "#d8576b"
            ],
            [
             0.6666666666666666,
             "#ed7953"
            ],
            [
             0.7777777777777778,
             "#fb9f3a"
            ],
            [
             0.8888888888888888,
             "#fdca26"
            ],
            [
             1,
             "#f0f921"
            ]
           ],
           "sequentialminus": [
            [
             0,
             "#0d0887"
            ],
            [
             0.1111111111111111,
             "#46039f"
            ],
            [
             0.2222222222222222,
             "#7201a8"
            ],
            [
             0.3333333333333333,
             "#9c179e"
            ],
            [
             0.4444444444444444,
             "#bd3786"
            ],
            [
             0.5555555555555556,
             "#d8576b"
            ],
            [
             0.6666666666666666,
             "#ed7953"
            ],
            [
             0.7777777777777778,
             "#fb9f3a"
            ],
            [
             0.8888888888888888,
             "#fdca26"
            ],
            [
             1,
             "#f0f921"
            ]
           ]
          },
          "colorway": [
           "#636efa",
           "#EF553B",
           "#00cc96",
           "#ab63fa",
           "#FFA15A",
           "#19d3f3",
           "#FF6692",
           "#B6E880",
           "#FF97FF",
           "#FECB52"
          ],
          "font": {
           "color": "#2a3f5f"
          },
          "geo": {
           "bgcolor": "white",
           "lakecolor": "white",
           "landcolor": "white",
           "showlakes": true,
           "showland": true,
           "subunitcolor": "#C8D4E3"
          },
          "hoverlabel": {
           "align": "left"
          },
          "hovermode": "closest",
          "mapbox": {
           "style": "light"
          },
          "paper_bgcolor": "white",
          "plot_bgcolor": "white",
          "polar": {
           "angularaxis": {
            "gridcolor": "#EBF0F8",
            "linecolor": "#EBF0F8",
            "ticks": ""
           },
           "bgcolor": "white",
           "radialaxis": {
            "gridcolor": "#EBF0F8",
            "linecolor": "#EBF0F8",
            "ticks": ""
           }
          },
          "scene": {
           "xaxis": {
            "backgroundcolor": "white",
            "gridcolor": "#DFE8F3",
            "gridwidth": 2,
            "linecolor": "#EBF0F8",
            "showbackground": true,
            "ticks": "",
            "zerolinecolor": "#EBF0F8"
           },
           "yaxis": {
            "backgroundcolor": "white",
            "gridcolor": "#DFE8F3",
            "gridwidth": 2,
            "linecolor": "#EBF0F8",
            "showbackground": true,
            "ticks": "",
            "zerolinecolor": "#EBF0F8"
           },
           "zaxis": {
            "backgroundcolor": "white",
            "gridcolor": "#DFE8F3",
            "gridwidth": 2,
            "linecolor": "#EBF0F8",
            "showbackground": true,
            "ticks": "",
            "zerolinecolor": "#EBF0F8"
           }
          },
          "shapedefaults": {
           "line": {
            "color": "#2a3f5f"
           }
          },
          "ternary": {
           "aaxis": {
            "gridcolor": "#DFE8F3",
            "linecolor": "#A2B1C6",
            "ticks": ""
           },
           "baxis": {
            "gridcolor": "#DFE8F3",
            "linecolor": "#A2B1C6",
            "ticks": ""
           },
           "bgcolor": "white",
           "caxis": {
            "gridcolor": "#DFE8F3",
            "linecolor": "#A2B1C6",
            "ticks": ""
           }
          },
          "title": {
           "x": 0.05
          },
          "xaxis": {
           "automargin": true,
           "gridcolor": "#EBF0F8",
           "linecolor": "#EBF0F8",
           "ticks": "",
           "title": {
            "standoff": 15
           },
           "zerolinecolor": "#EBF0F8",
           "zerolinewidth": 2
          },
          "yaxis": {
           "automargin": true,
           "gridcolor": "#EBF0F8",
           "linecolor": "#EBF0F8",
           "ticks": "",
           "title": {
            "standoff": 15
           },
           "zerolinecolor": "#EBF0F8",
           "zerolinewidth": 2
          }
         }
        },
        "title": {
         "text": "Profile visits vs. Follows"
        },
        "xaxis": {
         "anchor": "y",
         "domain": [
          0,
          1
         ],
         "title": {
          "text": "Profile Visits"
         }
        },
        "yaxis": {
         "anchor": "x",
         "domain": [
          0,
          1
         ],
         "title": {
          "text": "Follows"
         }
        }
       }
      }
     },
     "metadata": {},
     "output_type": "display_data"
    }
   ],
   "source": [
    "fig = px.scatter(df,x='Profile Visits',y='Follows',trendline = 'ols',title='Profile visits vs. Follows')\n",
    "fig.show()"
   ]
  },
  {
   "cell_type": "code",
   "execution_count": 26,
   "metadata": {},
   "outputs": [
    {
     "data": {
      "application/vnd.plotly.v1+json": {
       "config": {
        "plotlyServerURL": "https://plot.ly"
       },
       "data": [
        {
         "hovertemplate": "x: %{x}<br>y: %{y}<br>color: [%{z[0]}, %{z[1]}, %{z[2]}]<extra></extra>",
         "name": "0",
         "source": "data:image/png;base64,iVBORw0KGgoAAAANSUhEUgAAAZAAAADICAIAAABJdyC1AACl90lEQVR4XuyddXQc2ZXwb3FXM7eY0SRbZoYxDTNPmLOB3SQL2U2ykOy32dBmd5NskglMZpKBDDPZHo/tMbMtyQKLsZmh8Puj5FZ1davVAsvyRL/j41N1732vXpeqbj247z2AeeaZZ56/ZMrXP9Bwz3eU0jmJo27Dkrv+CcVwpWKe6x8NbkIAoXG9UgGAIph0YFOVp2oyQKJ0hW4FjpBKxTyzDgoApMZUt+uLKx7+z6TUXNqw7P7vYgQ1Zng1QVDMWrVKKZ0dEAQA4Mrje82htOaGe75DG/NQjGi4+1uGglqlxTw5U6CuI1CVTVWmkJMoXaNfZyTzAMBE5atxowY3SSo9YVNhWulYjRsNpAMBhBFigshh6OhXLWlDYzoAwBGSQCm5HEMIElMbyXwEEApTa3CjCtMp5ABgIO0UppbyNJL5RjKPQCm5DYpgJqpASkthai1h1hEWKc/k8XjXlbL98IECQFHjTWFXj0yIFDTsHG7ez7MJmfAqorWWFjbsVEpnhZGWg+df+HeBm6Vfmgsf4qdtlony/nx1bYKPEKhKLkcRjEApQeSlUz1hK9c14ihZoK7TEOZK/UoSpS1UkYOuxBFSBFGeVm6Tr64lUbpYuwhFcLlcR1iqdKsxBBNBLNU2aAlLhW45jpJyebFmEYmqy7WNBKoqUNdSmLpYu1gQebkNidIIoDWGtQBQqVtZommwqkqtqlL58XjXlZf5wwQKAJ0H/xTob0mKzGVLCVo30nJozOoqoy+cr0eMkgh7zz73rzH/sMCz557/XmCwVWkxT84MRzsAxADjVFSy4nw4IcSCrAsAAJDhWHuAcRKoSk/aKJSOcgEUwfSkYzDa4kn0yRMCgNxmKNqap64mUXWCj8jlAOBJ9HoS/QAAgDrjXUHWKVWUknI1bnDFu33MsAY3hVmviSwIMS5e5OQ2etKuI6xS9S0hRKOczxPvw1FSfjz+dT+cXOm7Qa981RGkoGHH8MX3JlXp0NrKSlberjYVsPGws/UDgWOTKhSnHPUbTCVLVHorguLxoGu46T1P5ylJW7b2PmNhPaHWA8DKj/5YEg5e2DNw5s0J0wKA2pRfuPRGja0UJ1RsPBx2dfefeSMR8oyqEcRRu95atUplsIMoMlG/q/3YcNN+SVm74/P6/Grp+MTjXx9NcgVSbShqvNlQWIfhVNQ/NHD2rcDAJUlVtfljPJfw9V4sWrpbpbex8ZCn68zA2bdEYfSLnf26WXKGiUo1z6TIV9cMRlvrDBt7I+cVKhTQYs2ivshFudAZ67RQJZzIJPiIK95doVsZ40M94bMa3GSk8gFB+8IX5DYiiHrC5o73KNImG5UAACCWaZdqcNNgtFVP2JJST6K/QreSwtRtgQ+0hIXAVFF+1OkkUWOG0S6L8Rn/uh9ORm+HLq+y9obPnvzT31vKG0tW3n7uhX8XOCbVclwIWr/kzm/GQ+6hC/sAwFG3XmWwCzx37rl/AwAExWp3fD40cjnqHQAEyVuwRWstaXr9v6LeAQBQGewoRhQu3aWxFLft/Y2UIRsLsrHQhGkRDF96z3ei3kFn6wcCz6n0NkNh3eUDj/NMXMqnfP2D1srl7o4TgcFWgee01pKob8jbfUbSohiOq7QFi3fYatYoXANOqRfe8jVR4Acv7OUSUUv5MnNpQ9u+30iepWrzx7SOChDFoYt7EyG3Pr/WUb+x//TrQxf3ScmzXDd7zpC1VBOiJowMH+WEXP9wGdFTjmBiRC5BERwABJGTC2eZZZabtITl4PATSsU0QBEs2SpMIrXHk00qBJD05pXCJru8xrCuPXAk3RgAEEBFEACg1rC+PXi0QF0XZFxB1pnRJgsZrzshpdqGMu2ygyNPpN+EuUzK6BiCoAUNO4ZbDpStucdQWCfwXM/R5/39TXKbdBwLNiEY3r73N0w0AAD+vosN93w7qRUF/tLbP0+eRtx9DXd/S5dXKTmdeMAJAFwiKgq8JJGTPS2pNuCUxtN5ytd7AQACAy0jLQeSxhpribVyxeD5dwfOviVJ/H0pn1OB55iIn02E5UIJx4LNhNpw4aXvS5U1f18TfVte4dLdSbdCqLSt7/4yONQOAP7+Fq29zFi0QHJY2a87Yc5ZSjUeedrakXCbCKJDU+2KdoUZt9JiMpQaGi8435RLrOpSURTd0S75K1Fr2TwSadMSVl98IMJ6ZebTAkHQAnXdQKRZqbgKZHxRFa99Ri+QUQjjyF2xlPsmJ+mJesPnC9X1MT6k8FYgs8nCePnnAgIoQIb7MDVoXL/ads9J98sxLrAx7yMXffuk6md2VJhuiXmnkcx7Z2D0Zc+jqxeatr4/9BgnKr++KQ7LXL4MI+mRloOU1tx1+Blr5YriFbdN6LA05qKYb0jyVgAg8GzY1aM2F6ZajcJEfALP4pRGqcgBRdpEyBsauVy65m6Ntdh9+UTEndLdYMivAQBX+zG5MEcM+bUx3+BY0xLEkLPTXrMWxXCB5wCAZxOSt5KIB11aW5l0nP26E+Y8HvnaOhWup3FdX/CciS4aDLVwQqLCtNod7S4zrFATRl+sHwCKdIswlBgKt4YZV7lxFQJIX/C8nrLThIHG9UPhVl+sr8q8HkNwb7zPHx9M2jBCrNq0Ls6HAUQcJSuMq1EEGwg1RVivnnJEGJ/irfDEehDAaMLQH7ogl08TI5lXpV89Ow5rdvAxQ0pRGjE+pGiczgI94XM94XNK6bSZwpBRrWGdnxmSBm0lqvSrukKn070VJB1WaPjyqSe/uej2vx+6uE/gmJh/GABABBAndvAErWNjQbmEZ2KyM8RWtcpcvlSlt+OUGsFwBEFl2uxkTyu2vvsrW/Vqe806e+36qG+o//TrgYHR0QNcpQEA9oobnRS4SkNpzck+tSQYQQt8CACkFusYIiBX+hqyX3fCnMdDhev88YGexMgC6w19wXMFunp/fIgX2GBiJMy4u/wnRFEwqgpc0S5/fGCBbXuMC/UFz8a40ELrjgjrDcSHe+KnFti2YwgeZX0DoSYAqDKvT9qEWfdAqCnC+hbadhTqFsX5cJT1V5rWnB15dSh0yaEZ7VZLwvCxfG1tmPGWG1d1+09M5yMvx0qVKkXzXD/EuOB7Q7+VjvcP/T5VOS7nvG+bqIIy7TLpNF9dQ2Lq8ZzpWA3LUrEcIyhX6xHpFCPp/MXbhi6+lzQYDzYexsjRcBIJnBo7LV5+s2PB5sHz7/affp2JBgWOaXzgezLbbEyYVhR4Z+thZ+thjaWooGF3zQ2fannr52FnFwBwiRgAELQuWfXLHZ6JRr3R3pOvKOQcE71yOK4fz37dHHIeF17kBJFDESyQGC7SL1Fhuq7ASYVNgo/wIgeA4AjBCawoClI/7pgcJRl+9HMit8EQghMYXmBEEHGUinNBQeQ6/ZnriQAQYlx5Ys1A6GKVeT0gCIgiADRabmGEmCveXa1fq8YNMT7YETw+FG0FABWm25z/8Vb/we7w2WQmZqpole2u0+5XnfGuRaYbbKoyCtMAwO6ir0gGl4Mn2oOjD6QgCnZVebVhrQY3JYToULS1I3gs2azTEdYawzoTWYAgaIAZ6Qge9SZGexiWWW7iBHYkfrlav1aDGxVps5RZYr3joaFomzveW2/cpCftgsj1RS62BQ5PeF0AMJD2GsN6PWGXRvokznreGI51QNacMYQo1Tbk0VVq3IgiWITzdYVOD0YvAYCJKlhmvumif99i0/Y4HzntfqXGsN5Olw/HOi569xip/Cxa6buy0nanhSqWCvNW//8kCwYT3SuY6BdlyTk7CIxWRBBAKnWrukKneXFs4E7OqMNCELRgyY6hi3sFngUABMWqt3wiONThaj+aYp6JqKffUb+RUOvZaBAAUIzQWIqFK0NmxqKF4ZGuwXPvSKcaS1H6wIfAMSieIYw4l7QSEU9/x/uPrXjo+zpbmeSwQsMdALusVasGz7+rtJ6IwECrrXZdzDfMJSJK3URkv+50ci7SLwZYPBJpAwB/fNCoKmD5GAAEEsO15s3DkZQAiP7QhWrzBl5ghyOtGsKclLuiXQtt242q/EBiWG4TZf2V5rURxssL7GCoqcq8Lsr6A4kRNWEs0i/WkdYQ43JFO5P5FGoXDoabSwzLMATHEZIVRwc67KpyI5nXFTrFiUyRZkGDeRfDRzyJ/jgfcsY6i7WL5Q6rUFOf4COueA8AdIVO94bPVxnWGAj7KfeoQ08IY3dJhWkWmrZ1hk5GuYBVVVKhW8EJTGfoJADoCMsa+70h1tPsf48X+QJ17UrbnafcryY7UGx0mVVV2hk6kZ4Wxi9z8tIWqqhQU98XvtAZOqHGjYww6vGzX5dE6RXWO7yJgWOuZ1EEX2jcSuP6g8OPs8LY+Pt4OQvAW1WlrnhPkD0BgJTrGhebd4RZjxSKQWLqAnVtk++9haZtq2x3j8Q72wKH642bByItIghZtN5EPwCccr9CoupK/cpizaJkSZJkuVcT/qLsOedCnrqGxOjesHJUN8mow7JUrkAxwtUmfc2QivUPsvFQ97HnZJbjMtzyvr12Xc0Nnxm6sE8UeXvNWlEcayBEfYOGwjpz2dJE2Ks25jvqN3IpDUYAgLCrx167vnjFrYGBVgwnE2Fv1Dc4YVpDYZ2tek1gsJWJ+BAUN5cuEUEMjlyWtCFnp6/3QmHDLoLWB4faRFGgDQ4EQQcv7AEAQBCcUGEkTVBaAFAZ7DwT45m45K+Hm/eby5bW7friSMtBJuLDVRqNpYRnYgPn3k5efTyyX3eCnLOWqsd/Osr5xdFGuih5LgDoC56TBrz88UFJIvWaN7neuTLINXpPJPm5kdcRBJXykdnAhZE3ki27C863kjatnvcloRyp6yrMJDvjRiEx9THX8xHOBwDOWOemvI9V6ld5XP0A0Bs+L32BpeAmDCHy6Kqe8DmpX1lKwgpxAYQrEVIpEKjqhOtFKa0r3m0kC2x0ufQiVevX8iJ3wvWCFMc0EutYbb93gXHzgeHHpbQkSo+XFrKWWcJMFR0a+ZNkADDqBGGi65qpIgJVtQYORbkAAFwOnWi03EJjelYY+3Xj5SyKwnHX88nTADOyJf8TZqooeWd6w+e9iQE7XWFXlbf6D4ogVhvWaglziHVn0UoOSxD5OB9KVrQVZLlXE/6i7DlPCAJIlX5Vd+jsQtNWq6pUEPlm33vOeJfcBocr1avBi3ulfl+trdRcvkzg2eUP/j8AaH79p7FAyji3AjYabN3z65IVt1VseJCNh52XDvl6L+Qv3i5pe0+8XIpiZWvuQTA86unvOvx0/qIbUjMAT+dplcFurVzpqNvIMdG+k69KDit72kTIi+Jk0bIbMZLmmXjMP9y+73cRd2/S4PL7j+ct3GKpWG6rWiWKQiLsHW4effcs5Y0VGx5KWi6+/e8BgEtEzjzzHQDgEtHmN/67cOmugoadBK3jEtGYbzAZSDUhWa6bPecspYqwPl5kJA+Sp62lMI3UDyWRccALxh8/uuL1AGQ2CmO5Te4wfPTK6wciiO5Ebz5dI516En1h1luiXSy9DHnqKgwh+nPuX+dERh7GGeV8RjJfOraoiodjHZLXkBiJdtQZN6pxg/RqZUkLWcssEeLcSQM52a+LoyTI/jTSgeImj5ezgjgf4kVOHq8f58MAwArxGB+U8uQERgpAmVCbnSz3KpdfNB3y1bUEQvWEz9C44YJvT6G6vs640Tmc5rBEUTj/wr8nRWFX92QjgMLOruY3/lsucbaONvLZWLBj/2NyVcf7f5CfAgCAOHDmTSlYVE72tPGgs23Pr2VKJaIoDF3clwyPkuPpPCUPQE2HS0R6jr3Qc+wFpSJT+TsP/Ul+muW6kDXnLKVyRjqSx8PhlNbfnIIRRtuGEqwQx1EyGfHUG7lQb9xIYZoEHylUL/AmBqKcX26fBYZP6eYTAaT+AakDTvFVZ4QoAJAoHYUAjJ9WInuZASCRmlxiwuu64z28yFXp17QHD6MIXq5bHuH8Yc4rt8+Ys0SRZmE+Xa0hTASqQhEs2csjcaVsotxdJn9Sdm12styrXH7R1PAm+t8d+MXGvI90hk7xIhdmR2vu6d4wJ6c7z9wFQQBBUJVKiI776M8m8r5YACBQFSskkm/+YKSlxrC2SLNgMHLJTBWe9472TuZC+rMrIYg8JzIkRsuFJKYGgGSX0HhpJbKXeTwmvG6cD5/1vN5ova1QU8cJjDcxcMq3N8d6a61hQ5lu6eXgidbg4QQf4UX2hoLPKY2uDlnu1XR+0YQUaOowhOyLXJBOCZSq0C3vCp1OtZp3WAA4StZat9o1lRhKBOLDLa496V0zAODQVleZN6hJY4IL9wbOdvtOKC1mF8JhY0dc+hu2oBSJEITvpdeUFtcCCtNocJPUzEEAsVIl8g4pTmQGI5cK1PWiKHACMxIbqzZK8AKL5dZykeOO99pUZRiCJysUeXRVlAtI7cEJyV7mLEx43QJ1vTPWedYz1jmYI3a63JcY7AiOjtLqSfsU4puuBlP+RdlBAK3UreoMnZDuJIpgyyw3exL96eFpk344Zopiw9I661YMJaTTCOM92PObVJNs1NtuKDUuT546I+2nB1+U6SdBrXVLsaFBOraoSxsL7jrY81vFd0NDWpbm3yE9NGrCVGfdGmeD17ZpRlWUa1Yu59ye4J4Tus3rleo0ZueGs0JiufW2ztAJRogXaRbSuP6ib4/coDdyvkS7pEizcDDaKm+wSPiZ4RLtkjrDBleiF0eIKBeQepGz0x44stZ+/0rbXb3hc7zIFajrDGTeWc8bSrtxmLDM4zHhdU1UwXCsPRn2kTsh1m2lSvPVNTEuqCUspdql8rHF6YAAgqMkjlJS3VCDmzgxwQlM+t8iI1l+0XRyLtTUYQiedE+LTTsYIdbsey/VCuCaOCwK0yxy7LZpKpWKnCExTdEVFyPR4RntMpsCDm2t/FRNmHSkTTGfzqGpUnziHNqaa+uw2KFh1ulSL15gvPXGyAllzVnObN7wKOfvDp+p0q9WY4YoHzjnfVuxeECY9XoT/WaqqD8yOnVJzmD0kgY3FWrqS7VLWSF+KXAoF4cV4XxHXX+uMaxfYNqKABpkXafcL7vjY8Mv2ZmwzOMx4XWHo21lukYpJFIQ+Qjn6wgeG4ldHstiHFr8BxYYtywwbkURLMg4L/jerdStUBpNiXx17RLzzuTpxryPAAArxPcOZusOTpLlF005Z6l6dTl0UmqGG8n8fHUNL3LbCz8PAEecz4Rlc79mu57p0FYvtO9WtPxhkh/8OuvWMtPK5KkrcvnU4PMy/SRAEHRX1TcUwlODz7siKU9VnW1bmTHlifHGeo/3Py2XzDKmO26Jt7bz4TA7OKxZtTx85LjSAgBm94Y3Wm5R44ZDIylDEOmstN5BYPThkaeUimtBjmWeAovNO/SErTN0UupZxxCiQF2bp656b/C3yc6164u58Itmr4aFo2S9bXuhfpFSMUlITF1sXCqXdHgzf+1zQRQFho9KfaVJElxYfgoACU4Z55luMyMgKCIKo5Xtqk15HQeGU/VjyDutMnqruXnDNbjJrCpu8u1VKj5cUJimUF1/1vPmcKxdJhbz1TUqTDtrr/cMMkd+0Sw5LDNdvDjvZvnq2qGESwRBTzlkVjlRblqJIaMdMQDginQG4kMy/aQZDreWGJYlTyOMN8Qo+1ydkfYay0b5TMbh8Gjc5gyCU1jZaptKi+vz1QBQusKSxWFlZ67dcBwlTWQ+hpBV+lUR1jsQHV2d4sMKw8cYIVamWyqIXEKIYAihI2zlusYw682lkTsHmSO/aJYcllVTIX95fLH+00Mvrii4V2aSEwRGy50LAFyextdeos39PgKoXVuFIUQgPtTi2pM+UhthvGeGXq62XBkl9J8ZuQoOCwBQFMyl2qa3BgBAbSCV6pyZazecQtVLzLtRBPUlBpv876Xf4Q8ZIggnXC9U6dcsNN1AYipBFGJcYDja1hk6NbPja7PGHPlFs9SHhQDSWHCX1O/b7TvR6nlfFIVNZZ9REybJIMculRrLpgrzmuSpO9p9cuDPMv2HAYxAeVYAAHOJxturbIrmyPwNn+dDSUr47NVDBPHc8KveWN/JgWcvuUc/sFKkf+4QmKrE2CiXXPZ+ID/9cGCt0N31w5WOOoOpWKvUyUHH/nb0onqZAmD+hs8Etk9/tODbf6+UpqHbvKHwX/8RIWaysZL/za+V/uxHpT/7UfEPv6fUXWuuxu/NnVlyWADACczx/qfc0a6kRN4zkgtlxpXyV84T7fHFBmT6DwmLbyk+91KvSkfkLzSieOY/EELg9IJazYplhp3bDDu36TZliMO6Xm44bjI6vvqFkp9+PylRL2so/sG/oaqUAPS5i9RKQTGFeDoM//h/B779vcjJM0rFXOAq/F7cYi763reJgjyEIAq/+y26PiXSSM61cZMSOc7GlCBQqlT5tZ9KZ8rch2cFU7GGibCmIo3Ajd/Xg6CE3RY5dRYAUE3KKOd4zM0bbrz95kRXD1VeOnqOIMabdgT37BfiMxMqebUJ7T8U2n9IKZ0eIsNyjH+OTLdScDV+LwCMt3KUgkk8wTPOZJYehVLTClw258sb6/PGxuaUf5g4/Lu2httLDQXqA78cdyhNZLnYhaZ48yWR5wEgdGjiZctgrt5w92N/oirL9ds2SaeaxgZMpwu+/xfU9pyH83j7/+nfpOOBb2drBV9Lh5U7OEqVpsZtdng+hA90Xr1x1cMVogg4hYq8uOEzNa//61mlkQztxrVCMBxtaiGsFsOuG0L7DzH9M9Nkm+UbjiT74xDEcOOOwJ79YiKn6hVVWW779Ee9Tz1neeR+3h9w/vJ3xttvVi+qj5y94PnjMyCKCEXpN69XL12C260IhrNOV3Dv/sjxU2NZIIhu03rt2lWEwwYicD5/+PCx4N79o1qeoxcvMN5yI+Gw8cFQ5OSZwOtvSx8JAHB8+XOq2mrpuOdL3xhNAgAAtk9/VIgnYucvGm/ZjdszpMWMBtPtN9EL6hGKZAeH/K+9HWse9/ukIEvaCX9v/je/Fj11NtbSar7nDrKkSGTZ0KGj/lfegBzKPJ3fS5YUm26/iSwpQumxGGbXbx+PnjkPWXNWcH04rFLjcvmUel+s3xvLdeLFdcRwi/+Vb51e/+mak093MVFuw2dqAJEW+MgMmZ8XdV7Ub16P6fWeP/3ZeOOOmXJY1+qGa5YvRbWa0IFJOEdMp9OsbPQ89bzlwXscX/1C9HyT79U3zffcETl2Mt7WARynWlAXa77EvDMAgOhv2Gz9yAPs4HDyRlkfuV+zann46InAO3uB48jSEt7vH8vcYLA8cE/g3X2c20PX1Rh2bhPj8cA7+ySt85e/xbRaw+7t2vVjA6lJ6IX19IK6wDt709OianXe174EPO978VUhGlWvWGb/wqec//fbXHzWBGkn+r0AoKqp0qxeGT50OPD2XtxmFcLhpCpLmWEavxfTah1f+ky8vXP4xz9DSMJy/92Y2TT43f8UoqPhptlzlnMdOCwcJRXTYjpmaKxqZ9XXFVtXZuGt9h8oRVcHnV1lLtUwEc5SpkUQRL58qwIhkUAokiwrwbRaVE0Dlutvyc7Vu+ETgKKGG3eG3jtoefBuur5O5DjPM8/HLjQrzdIIHTgcb7+sXrKQXrTA9+KrIAjGW24k8uzxtg6R50d++oukJdPTW/jdb6lqKqUXmCot0axeEXhrj/+1tySD6PmmpDEAoBr1yP/+Kt7aDgCxiy1URRm9aEHyBRZZjvP5edkLLwfTacdLq79hE240DPzbf3JuDwBELzSTeXnGW3bl4rCyp83+eyWo6sqh//djdsSZlCTJUmaYxu+laipRtdr34qtSmf1v7bF/7hO42cRccVjZc5YziU6Na0WJsZHAVMlTf3zQE+2R6T9svP+LSyWNlvqdhYcebUtO08lI4O29Ise5//CU6zd/MOzeIdWup8+1uuGaFctQtSr43oHAu+/1/9O/+d94x3zXbUqjTHA+PwAIkSjn9YEgAIAYjyMEoTADAM7nF1k2OUahqqsBgPDh0VVc0hHiCekNlGCdbsygl+mzkSUtXVfLDAxJby8AgCjGO7vI4qJcYgUmlVbxeyXYweGM3gqylnlCsqRFKQoARO7Ksg1SOzHboz0uGX7knAJDyTLjSrnkqnamzAXURtJWqccI1FSscXeGlGoZZGGBumGxeukSAPA88bRSPSWuyQ2Pt1/u/do/Fn7774LvvicyLDs4DAAgiqIgKE0zceVNEEWWlYkRAAAE0a5ZqVm+FHfYMY0awXF5/Bqq1QAA5w8kJQqEUOr9F8UcB7Mga1pUq8Et5tKf/SjFAABV0Tyb7S8OE6bN+nsl+EBQIUmSpcwTkiVtrKVVZFjjzbv8r76JEIR++xbW6WKHUxZEyZG57rBKDcvkKw0E4kPywKIPJcvuLnvju2cFXtzxt4s7Do5kqWSpGxu8z7yQ+pZOl2t1w7WrliMUFTp4RDpFadqwc1tgz3upVpPGdPvN+m2b/G/tib3yBh8Iigmm+IffTWqluAFMr+PH8VlZbv6EZEkrRGNMdMD3witp8onjGLKnzf57JyRLmSckS1reH3D95g/2z39Su3qFEIvHL3d6fvFssj9+Usxph4UhhHxVE5jpzpT3u39FYjSB0iRGExhNYjSJqQlMRWJqq7pcaT1riGDIVyciHEFjWTqwAID3+qiKMj4UAoDRWsn0uNo3fFxQ1LB7e+CdvZLzRTDM9tmPx9s6wh+M21jLEXrxgvjlrsAb70inZEnKTnHxtg64eZd2zcrAW3uSwlkg1tKq27CWGRwSIhN7KAXZ02b/vdcQzZoV0YvNrkf/kL7y36SY0w6rxLhMvvBLMDHsinTK9NMlwYUzrhKDIvjOqq8ppbPF4d+1rXyogqDx43+8nL2dz7m9ZFGhdDwjDutq3/Dx0K5egRBE+IOjAAAIYvnIA0Io7Hk6w5Jbk4UdGFItqNU0LuW8XiI/T791Y3JkCgASl7ui5y4ab96FGfTx1naRF8h8ByBo4O0c/BeCoLQKpWlMqwUAwmEXYjEhFs+lwhvcs1/T2JD3118M7j/Ie/2oVkOVlgjRqF9yNCiKqlQorULVakAQwmETonEhHhNZbsK02X/vtJjG7wUAVUV55PQ5BEUzVKwmk/PcdVgYgpcrvvbjrHL5IaOwwfz+Ly4BQM2WvOx9WJHTZ6WD9LmEU+Ca3fCx6hUHAFRZiWbFMpFlS3787wAw9IP/nlpnh4T3+ZfN2F3mB+9GcJzp7Xf/8RnDzm1yA9dvH9ffsFm7arl27SoQBM7tDb53QG4wHpoVjdaPPZg8Lfj23wGAEIn2/f13xozGQYhGh370P8abdhlv3InpdXwkyg4MBve+L2n1m9eb7r49aSzNZ+TcnoF/+Y8J0074e6fMdH4vAEROndXfsFkKDxZZjnW6Am++Ez17ASaZ87WsLu6u/rvkcfriAWXGFXW2sXsdTIwc7v2DTH8VyVjDmrWwhh3fWPTujy4CwOa/qj/4q9aMs3NwkxHT63GbBTebAICqqnD+YuKlF+bsDZ/nw431Iw8QRYXBt/dK3RcIRWlWNWqWLun/p3/jQxmaOFmYozUsFMHLTavkkqs0kW0Owib4JbeVRP2MqXjcuYR8KCwkEvTCuknNJczCXLjh+t2bVXUVzp/+nizO125e7f3jS0qLyaCqq4hfSmnP0ksXkAX2wBv7xyQN9cbbtwvRWOCVvfG2row26Uxoo9+xQbN+efTUxcCre5PCCVNBpjIrSM85XQK5XWtGoBfW4Pk2BEWZvsF4y2WlGgAAMINes3qF63dPRE+fG5OKoqZxKWbQf0gcVrFhCYWPLa4SSrhGwmMhHgBgVOXbtdUWulSF60hMzQlMnAv54wNDoZarNOVt1nj/55cqNzgoDf7m92R/4FREjhM5LvD23knNJczCXLjhwbfeV9WUA4D+5q2+Z15XqieJ8c5dw//xf3JJ7Gxz7GyzXKJdv9z71KuJ9u6kJN0mnQltgu8eElkO1WnkwglTQaYyK0jPOV0CuV1rRog1tUFTm1KaCh8K86GwfusmkWX5QAilSKKwwLB9Czs8wky+43XSDquWXt2XuBQVAgBQSi3yccOlqkUXIvsVZhWqpRSqbokerqVX9yVaosK4oR/poAhWbkqJ0Jd/7Y2qwhrrJjNdLNMDgakITKWjbMWGpZ5oz/mR1zP2pl8XlK6w1G8vQFCoXG9/5VunlWoZVGW5ZtVyaRhoOnFYc+iGowhZWigEw7wvc5wBAJg/eheRZ0UoMn6xzf/iOwBg/+tPxFs6qKoyzKhz/vi3mMVkuHkrWVpo/+tPAIDzvx8DUdRtW6vdsCLe3OF77k0AwO0W4507qZpyk0EnxOLuXz8tRGMKGwBQ1VUY7tgJvIBQxMgPHxUTTLpNennSUaSiKksMN28VeQHTazmP3/3o00SBI73M2s2rNasbAEUTrZ3j5ZxOeglN992MW0241Yxq1d4/vRw716LIOb08IIrpvz29POnXyoAgjPzvr4w377I8eC+m1Ygcz3k8kVNnA+/uk6J8J8WkHVZrbGykuSdxEQDSvRUA9Caaq+kVOEISKDUpbwUARfolKtnXPsy4pQ21EAStsWwsN60eM82ERV26pujhI31PKDbdvl6o31n45r+f4xJpgylpzFQc1py64YZbtkZPNZk/eiewnPepV5VqAN+TL4scDyha9MN/8L/0rjRMLrKc6+dPSAbCwLD7N88U/uffOX/6+2Sq0L4jQixOFuZJp5zT4/7VU7Yvfyzw6l6muz+jDaCo5VP3Df+//5N7T6XNOOVRkJ6KKM4f/OaPRI7L+4fPEwV2Nq3MuN2iWbN05Ae/BlF0fOMzZHkR0zVazuworoXgGN1QP/hPP0I1tONvPxs715KeM6SXZ8il+O3pqZiu/vTflRF2cMj16GNK6ZSYwGEt1mxBASVRujn6QYT3l6kWF1N1Z8J7wrwPABSn6ZRQ9X2JFqU0KyiCydfkBdnXvtK0Nv3lSfARXmBo3CBfO4UmDIscuzLu9Dn3CQ7HipeZw+4EALg6svn6GYnDmlM3PPDyHvWapZGjZ6JnmqyfuV+pBkAI3PzQbQhFiSyLqmm4sqOnvFk3U+BGvRCOZqnrwfjlmRCmZ1AK0OdD4YxLFRIFdsJucXz909JpRptcEDk+fumy7a8+AgChdz+ATDmLDKsoT/pvT0+VVM0mEzgsqfbkIMocRFknf7Y7fkGHmZNaxakCFDAdZuFEtoxacil2OJG2EVDGcbdC/WIVrkuehhnPcKhVOu70HTOrS6S2CScwXb5jA8GLcS4EAAiClhoaa61bkm+RXVOtJa1hxn0lp+sGX3/EUWdwAMBEDmuycVhz/4brb97qfeJFQFHzQ7dlbASp6qtQjdr1iz+iGrVm9dKkXBlmLYoIQeTuPjLCB0KoVoMZdHwgBAAZcxuvPBOTvg1HapnZQSfn9Y/85LcgCAiG5ThLKSOYXuN//i122CWdpudMVRQrypP+29NTye1njWwOC0fIevU6TkxQiDoiZPvOpMOJTIB3JoSYi+0lEApHqAQoHVY6CIKmfe2PJPfkEETu9OALq4seYvjoueHXGD6SNBNFodt/UoXr5IHaNk3lNN+fa8LIpUDFGjtGoM3vDCh1qYiCMLZy05SYUzecqirlXB4+EDLcth23mbUbVvqeeU1hk+jsM9yyzf7Xn+ADIaZvSKEdQxSjJ87nf/vLnMfr+vkfAUWtn7qPyLejNIVZjIGX9yTf3jEy2Xgfe972xUdEjkcw1Pm/fxBiCYVNenkQirR87C6iMA/BMSLf7n/+Lc4XUKRSXloitcyc0xPef8zxjc+AIACKOH/6e0AQRc58ODLhtXh/EBDE/NG7QBAQinT/5hluxK3MOQ2R5xW/Pb08Isen3zFlRjMNohTIyCer1Kj+cvx0MVWvQjXtsZMAsFizuSt+PtkGVJzKWardfja8R4MZi6m6S9GjSnUmigxLFtl3J08jjPdQz28VmwgRmIrjExl3FjKo8tYWfzR5OhC8cGFk/L7A8bm2cVjbv75o30+bpLmEe358UVl3kGG681bfixl6eXLnmtxwBEFFUYRMGc4z4+h3bhQ5LrTvCAAY797NDbvCH5xSGl0/ZKth+bnhEk09jWp54DiRIRCqim404vYqVaObGxhhuuSn/YlL8rQ2osTF9gLAEs0WNzugwywh3iM3SAdB0ErTWrlE/rVPwvJxhSRJjE2pBuKoSn563ZDzXEIhHrd+7CFp4q7v5UnHAczaDbcULeGYWMDZDgAoRpgLFgZclwGAINUYQUf8Axih4pkYodIxsQClMXGJKKHSJSJenNLwbBwjKDYepjQmJhrAKQ3PJTCc4pgoQWnYRAQnaEHgKNoYCzlxSsPGQ5TGhKI4RtARXz+h0iEoCqIYj3iVxfrLIHa+xfzRu+hFtYChQjgafP09pcV1RTaHFRPCx0IpH/CW6JEsp3IkbwUAR4IvpSjGp0C3kCYMydMo6xsKTS6WBE3dFYYTEvLT64Xc5xKG3v8AwTGlNGdm7YbzHEOqdCqNOR7x2koaUZwkVTpH+Rrv4EVRFGmdzVG+JujuFHjO6KgJ+/rYeFhjKrQULaHU5kTUyyUioiiEfX0FtVsotTkednFsHAEI+wfMBQt5jvENtWgtJaaCBZTaHPb2hH19BKUVRdFcuEjguYCz3VSw4C/WYbHD7pEf/FopvW4ZG+i5tiCAVI7fmZIjBlXK8Op0+lOuIfYavT5PrTaR6z5ZrdSlghkN2nWrdRvWTriwbDqzecNRFOe5BIoRACCKAk7QemuFwDPxsFulMUvHsZBTY8wXBI7SmElar9Y5mKjfN9SUiPhiYbcklyQIiuEkzXNM2NsrCAJOqgWBEzhW0kqWUs5SnlJuyIxuSzXPtSJbDWs2KdAvSG5KDAAxNjA4ya89ABTqF8lPXZHMcwXmOLnHYek3b4h3XBZicbKkSKmbiNm84d7Bi8ljZ/cJQBAQQerDincfTx5HAkMgigiCiqLQ2/QWQMrAnCQHBEEx0t1/VpKPdB4BBNGZigWB8/Sfk+wly3j3cRBFKc/R3Oa5/pkTDgsBpCK9MyV93DcrJrrIrqlKnvpi/WFmgl6zuQapwQ35ajbG5xiHJUSjiY5OdeNSTK9DMCzDwh3jcI1vuLxjLu04pRgy7ahcFN19Z5JCSRLy9oK3VzqWW479P8+HhTnRJMzX1WvIsXiuGBccCI19k3OBQFVLHDfLJW2eA/LT6wKtharcYA974o46Q+UGe+UGu9IileC+9zmfnw+GEm2Xc/dWMH/Ds1J444M1n/9npXROYm7cWPOZbyH4nKh2zA7X3mEhgFSYU772nZP82iOANOTfKu8/7g2c8cX6ZSbXB97eyNHHOgbO+Y4+1nH0sY7+sxP0E2N6ve2TH2GHhoT4uAN56czf8JkFQTHjolVK6ayAAIgASM47P11tCIO55vP/TFnzUZyo+ey3tWV1SotMEHpT2f1/teBvxsKG9LUNdV/6HkpmCKa/9g4rT1enJS3J0zgXGghO7mtfb98uX9E4mBi55Non019PIChSstyCYgiKIfU7CjEy2x9I2lAPpWmypAjJeY+v+Rs+s9AFpfZ1u5TSWcFz+mD7o98T2MyDs9cEJGtoZ0YcG2+ODXbLBIh97S73ifcEJsPvuvaVyUrl1/6oIE6idVNhWlNiWJY8jXOh04PPTyqHOUXd9oKarfmmIo0IMNzs55lsFR+R53GrRUgkcKsl9ybh/A2fgEn2euVYj/hLgA14W3/5L9Jx26+/m6Ibn/7X/6guqrCs2CydGuqW4hqd9/ShVKtRrrHDytPWaklr8jTOhfuD52X6CSjUL66xbkqeckLi1OBz8RlZ5+Qa0fLOgL8/MtTsVyoyEXxnn2bNStxsSm46MCHX5IYjKJpx6hmCYgC57uV19VAXlOVtvV1lL+SiYe+ZQwI3tvoFSlDmxg36mgbKZEVQPOFzek7s9zeflLQFu+7TlS/AtXoAWPiNn0hC19E9zkNvTJgWAFS2AvuGG+n8UoxScdFwdKDbefB1JnBl4AJBzMs2mBatIs12EEU25PdfOOY+8Z6kLLvvC5qS0aiXph8pZ2UQWoN90y268jqUpOKuIecHb4W7WiRV8W0fF5hEsOOCfcONlMnGRUKBltPOw2+NffCyXjdLzjBRqbIwNpEeQWxrd7pPvDdetfEaO6xK8zr5aZdvEl97h7Z6kWNsWgkvsCcHngslrvpspqtNxTp70TLLxdf7Yn5GqUtFiMdD+w8CAF1fy3l9SnUmrtINN1Q38IlYuLcNAHC1DgAEJoGSFB+LEHqTpqAi3NsqcCyu1rGRAEZQXDyK0xoA0BRWBjrO47SGj8dQkhKYBEar+UQMI6hU+wipN3OREEpSfDyG0Wo+FsEoWuA5QmtM+Jw4reEiIUJvQjEcU6mjI32EWgcoCqLIBLN1BeIafem9n2f87oE3nwIA87INlNku8JykFXlOV14X7mpxHx0ABKwrtxbe+GDcPRR3DgCA58R+75kP7Ot303nFPc8/KiXhIqMDu9nTIhhedt8X4q7BoXefFXiOMtm05XV8fGy2ZuHuB40Ll/suHHcf2yvwHJ1fwob8SW3PC4/itNa2dodpSUp9GQAwlbr8oa+IAj/8/qt8PGqoayy969M9Lzwa7rokGWgr6rXlde5jexi/R1NWY119A8/E3cf2Stos150w5yylyhFD3TKM1njPZK5ewbV1WA5ttY6yJU8TXLgvkOvX3qIubci7LdlgFkTu9NAL/vgEs4WvCz74TVtevXHNR6vUJrLl3cHOw06lBQButagXL0ieqmqrYy2tMn1mrt4NF5gErtaRejMT9BqqFpMGq//SKfOiNTHXQGykj9AZ9BWLfK2naHuRwbCEj0UxWkPqzUMHXgZRtC3fSurNnnOHzIvWxN1DMVe/qX4FH4vK7QWOxVRqBMUEJgaAxFz9+opFApsIdbWo80r1FQtJvTk63BMb6cNoDYiioXKxwHPhvjZ9+cLsDsuyfBOC4b3PP8qGAwAQ6rhY87nvJLWiwHc9/fPkaWy4r+az39YUV0lOJ+F1AgAfj4o8L0nkZE9LaA0YrfE3nQy2XwCAMLR4To0Ns9L5JcaFK1xH33UeGp2bGepI6WcUOY4N+bnomINLYlmxBdcaOn73H4zfAwChjiaV1WFff2PSreBqbfef/y/S2w4Aoc5mdUG5rmKB5LCyX3fCnLOUKhcQBLWt3ek9dSB/x7268jqBY4f2PB+63CS3ydane7WpNK+Xn3b5jgvi6JctOwZVfmP+neiVwRFB5E8Pvjg726nPApSWKFpiUpvI/nNerYXKGO9OFuSzLk+8/bL0j3XlFAB19W44ghMCE0dxAgDYSIjxuzUFFQLHiBxH6s1s0JcIuAmNQWV2SMdsyB/sbMI1epUlTzqW7AU2ER3uTbcXRUEUeATDMEot2YDA4yq1KHAix0g5SNdi/G7SYEn4nLQ1X8ohe4w7nVeccA9J3goABI6NDo77ILFBn8CxGK1RKnJAkZYJeCN9l/N33JO//W46ryTVFrSlNQDgO39UIc8FbVlNwjUo+RQAABAjA110XlEy+kFgEpK3kmB8Llw7OuCb/boT5jxNDPWNmIr2nD7gPr6v9f/+xXX4nbwttylsZuZKU8CuqdJTY3FGDB/pC5wdU4+PlrSsKLgHQ0npVBD5M0Mvzc7uxLPD4puLBi76Tj4z+ovqdxam6gEAYs2XRJ5PRkWK7OiSe1m4qjc8ePlC2rE05n4lQh0AAIaPyNZyQBAQxVGJLPYdAHyXTkkHSXtT/QoQRSbg8bedkX6158IRQBC1o0TguUB7Soy7t+kYiGLMPTiW//jgah17pREnwSeisjPEtHiVvm4ZZbZjKjWC4Ujazu/jkz2t2PPsL01LVpuWrjcvXR93DY4cfD3cOdofhNFaAOCuuNFJgdNawmBO9qklwUia40Iga7ReQUSubLaa/boT5jxlIn0dLT/9h6pP/r372D6BZRLuIQAAENMn/18zh1VlSelM6fQd53P42tOEYUXh/cSVvdRFUTg79PJ4M0KuU3pPe1Y9XIk9hF7aO9i6b6gl06pY0uKQREG+futGBMOiZy+wIxN03s36Db/iTMeL8EqLcc+Cr2Wsr3oMUYwO98Bwj3QMyWtNJsadi4YwlVouwVVjFSjH5lssyze7jr7rPPAaGw4KLFP/5X+X2WZjwrSiwHvPHvaePUw7imzrd5fe9emup34WHegCAD4eBQBco5f3W+UIH4/y8ejw/leU8iuOON0LJMl+3Qlzng6GhctRUuU7N/rpxSjauvoG9/F9qVbXyGHZNJV6amzeLMNH+/xnx9TjQGKalYX3JVcfF0Xh7PDLzkhHqtXEYAhB4moCpXCUwlEVgZH46DGFoxSBUUSmZVJWFN7LCQmWT/ACwwoJbuwfw/IJTkiwfIwVJhHAOR7L7il76z/Ocwx/4z81tL8/LPDjPl669Wu8f35B5HjzfXdGLzZnWdL/2t7wuUxspN+yfBOu1XPhIACgOKHKKxaF0YEIXeXC6ECn6/Db0intyLDzu8AyKDFa/ZSTS1qJ2Eh/38uPLfjr/1QXlksOK9LXAQDGhStdR99VWk9EuLvV1LAu7h7iY5PuS8p+3enknB0ERW1rdrqP7ZGGaBEMK77jE5He9vTG6bVxWFXKsaoTvMjKJRlZUXi3fL4uL3JV5vVVqf0yCtzR7lb3foWwxLis1rpFIZwQeahkRpyR9ukvag4AweFY/gIjG+cBwFSsYaJcyJnZD3I+P1lcJG1CQdgsQoKR1sZK59re8LmM59T75qXrS+/+rPvYXlEQzA1r5VWzuGtQV15nqFvKBHwqa555+SY+HpOlBgCIDXabl67P23JbuOsSQlBswBN3DU6YVlteZ1qyNtx9iQ36EAzX1zSIIEr+AgCi/Z3B9gv29btxrSHS0yYKPGXNQxDEdXQPAACCYJQKpWhcrQEAymznEzEhEZfedveJ9/S1S8vv/yvP6QNs0I/RGjq/RIhHnVdcZxayX3eCnLOWKjvGhStRnPCePwIAAEjhjQ9y0fDgu88pzOCaOCyrutygyk+eMnysN3BGph8XDTEWnw0AOErqZJ0yGYmyfqVozhMYihY2mADA1x+p3pLn7YmEnFKTXgnv9VHlZQDAub30ooWcyxXN5LDmb3gWuHCw57lf5W25vfDGh7hY2HvmULD9vHXNDkk7vO8lZPvd+TvuRTA8PtI/+OZT1tXbUzMAf/Np0uwwLlxhbtzIx6Mj+1+VHFb2tGzAixKkY8NNqIoWEvGEe6j3xd/GhnqTBv2v/sGyYotxwQrT4lWiILABT3IY0VjfWHjTw0nLqk/+AwDwsciln38bAPh4tPNPP7Wv321buxPX6Pl4NO4a9JzYn7TPTpbrZs85e6mygKCodc0O17E9UkeHuqDUUNcocGz9V/4DADr/+F8Jz8iYcfJo1lhT/IhRVZA8bfMc6PQqK34Z2VH5NxhKKKVZGQm3nRl6SSEsN62aQg1rQmaqhpU7ZGGBYdcNgXf2Ynp9rHl0aDmda37D55lnpsh9yGNmsKjL5C8Py8d7/adl+nkmQS5zCedv+DzzzDMnMN52k27Tes3qFZZH7lfqcsC4c7vlnjsBwHzHrYQ1pfUnB9PrHJ/9lFIKAABZUk0K444bir/zTcI6NmdIgeJC5jtuJWzjGsvRb95IFhXaHnlQqZhnnnlmCgRFUAyhDRnGnuSgKpVuy0bDjTtw81jXeO6gtMpyz50oTVsfyubvxnNYmF5nufsOpXSq2D/+yHgOa2YvNM91zTXodJ8nC5Yyrac7vOZjVSSN4Sps709S5iUowC1mVUVZ4J29RJ4jx7mEqSAAoN+wNvSBNDqjxPrgfShF8ZEIAACC2B5+AMFxTKd1//kFBMeMO7eT+Xm2hx+IXmyKnL8o17JOp/yUsFq0q1aIHIebTf433461X04xHhnrUgUAw5ZNfDgSPnkKwbC8L3/B8+wLKRc6d8GwdbNu/Vrnbx9jhoYBQLtyuaZxqchysZZLoSPHLPfciWk1CEH6392b6O5RGM8zzzwzydI7S7d8qb7hjhIAWPlghVKdiunOW+kFdarqSsPu7eP1YWUBpWnrA/faP/6IfsM6+yc+gul1cq2qosz6wL0AoKquktew1EsWGXduBwCqrFRqUcpJauWn6oUL7J/8GACQ+Xn2jz+S0ThZw0LVtGRM19UYtm2BTBeyPfwAmZ8HAJhGU/A3Xx6Lb0KQwm9+A9ONBo4pjOf5EDBfw5pbuDqC3p5w9ea8rV9ZcOG1PqU6lamth5VEiMUS3T18KBxtakY1GpSm+eDYBAvcbGFdLgDgXC640n4UojHMoGdHlPOxFdp0Y3Z4GACEWAwhqXStHCEaE2IxTKNRL1zgf2d0CYHxwK0WZmh4LHJKFD3PPGd94D4hFvW88LIQVcZMzXO982FzWLjeWPk3o7Ptu//vh4lxIpgmC6bWFj74KVVeQbSrfeDp3ycjoWecuh0F3UddTW8NONuDS24tdndmm6I14XpYdEl5ySe+rJQC8LFIxw++DQhCL6h3/v5xwmHHNGqF7+B8XlVVBQDgFjMAqBcuYF0e/1vv6Deswwx6ABA5DiVHe9kU2nRjeTRmBm0q4WPHNcsaAEX5UAhSL6SA83qJPIc0kVCSxDu7452/029Yp1u7OrB3f4r1zDFrz8M8Cj5sDusqoV+0jC4qBQBN9QJ1WWWks01pMUPIO63Ovtgj06RAFhfqtmwEUUQIAgTBsGu756lnlUYToV5YH2tuAVG0f/ThaEsrWVjADAwmtfHLXbrVq+wf/wjn8YIoxDu7bBvW4SajyHFCNAoA7PAIZjTYP/HR8PGTCm26sRyFFtPpjDtvoEqKTTfvjl5qDR87Ee/s1m/ZHD4+On8w5ULd3abdO6nyMuPunbFLraEjx8JHj+d99lMCk4i1dUTPnrc+8oCYSCAU5X3pVVSjVhinFmTqzNrzcDWwbNppXr+VcY/0P/Gr0eB7BCm8/5PqiurwpQtDL/xJmWAucQ0CR68qV6mGZVq10X7jaDdK3x9+Ee2eE/PpDDu3hQ4eFhKMYdcNgbf2pE/3RUlKVViCqTWYWoup1XRJhaaiBpI1rLkKgqKOz39m5JePXvPFSMdjbj4PuYHU/NN/SgvCDL/0VODcCQBQFRSXfuZvJHXn//w760suIDOT4Fqd/ca7dAsaAMD17qvew+8pLQCovMKyz30dAELN5waf/YNSPV/DypHgxdO6xY2UIz/ccj7ak8taBbMBZjTgNpuYiBN2m7xZlERgEtGu9uSpoXGN5LDmMtoVjdpVK0MfHJ6z3grm6vOQGyIkF9JILl+f9uTMNIihcbV9x62oanTZj/Gwbr0RAEAUPfszz3ycd1g5wUcjvb/9b6X0WuN//W3t6hUISQbe3ptlqYbri/DJ0+GTcz0Wf24+DzniObjHvOEGxjUcbh3tf4gPD4RbL6orasItF65G9Sr/zgf1S1aAKHoPv2det1WpvoKqoFhbswAAQk1nE67MYSjzDus6RohEg/vG1tWdZ55c8Bx413Pg3RSRKA48/bsUyYziObCHtNqd77zK+b1ZHJZ1624AAFF0v5+5egXzDmueeea52jAeZ8+jPwUA0upQ6q6gKizVVNUDQPDiacatDHZJMtuTn+eZZ56/WLKEN1+pXgme9zPH6EiM1rB0i5YV3P0RALH9/31TYFnzui3GlesxtSbhHPbsfytyuRUAEJywbtmlX9yIqTUJ14jvyP7ghcx9DQiOaypqNdX1qvxCwmRBVbTI80IiwXicsb7u4LkTWTyoAsqer1uwhC6tJEwWTK1BMFxkEmzQz7idsf7uSFsz43Ep01xB6rUlzTbDslWa6npcb0AplRCPJVwjkfaWwKkj6YuxJcHUmqq//a5SCgAA7f/5T8L4CUE2Uhk4e2L45acAgDBZDI1rtFV1uN6IqnItQxIqr1C/uFFTUSMl52NR1uuOXG4NnDoqrZM5C0ynDNN8HpLRZJ7333ZLfbEIoq1eYFi2irTnE3qDwHF8OBgf7I9cvhS6eFYeFTVTf4u58zxgGq2xcY26ooay5aE0nWWLjcHnnwhdPCOXTOdXzAzjrLlKF5dpKmsBIHD+VJY3GtKahAhhsenql1g2jS5gRheVFj38mb4nfhXt7ii87+Oa6npJrsovyr/rEQTDAmdPjKUGQDDcesNNxmWrFcMBCIqhBIlrderSSsv6bd7D77n2vCY3SAfXGRw336OtXaCIvUBUNKWiKXu+bkGDsGX35R/9s8AycoMkApMwrtxg33mbfFcPTK1Vl2rVpZXmdVsHn/3DVR2Qpmx2ADCuWGffdTuCjy0slXsZUJJy3HyPfkmj/CbgGh2u0dHF5eb12zzvveU9sn8swVVgOmWYwecBADCtHgBwja7g/k/QxWVjcpzAVDRpdWgqa4PnM39Ep/+3mD7TL4N+8XLHLfegJKVUXOdIg4OiMEH1CtIcFmhrFpo33MBFQqzXoyooRjAMENS241b/8UOa6nohHku4hklbHqaiAcB6w82Bc6dAtsuAyHOa8uqxp1MUGa+bj4QBQUiLFVNrAQAQxLx+mxCPeQ6NO/FCVVBS9NCnMY1sUpgo8vGYyHGYWo1go8UOXTwznrcCAG3tQsdNd0nHrM/DhQIIQVL2PCk5ptYUPvDJ7l/9OOOwiBCP9f3hF5hag9FqTK0hbXn6xY1Ko4kgrQ7domWOm++RTidbBozWFH3kc6r8IulUYBnG7RSZBKbVkRYbAIISpG3nbbjB5HzrxdSkM8Y0yzBTz4MErtNjKrr4439FWqWFT0U+HgeBH80HINzekhyzVzDNv8VceB60dYvz73pI+mwknEOh5nNcwI9SFF1SoatfDAgKACLHuva+znrdjM/Det2KHGbkV8w4dEmFurwaAILnTmT84XKUDsu6dXf40oXB5x4XeV6VX1Ty6a8iKKbKL7LvviPW19X/p0eFRBzX6sq++HcYrcG1elVBcXwgJSDb+8F7jtvuC108E2o5H+u+LHMoiKa6Lu+2+6Wtvc0bt/tOfCAkMqxWjmv1hQ9+Mumtwm3N/uMHY71do1khCGm2qcurdPVL/KeyrZzpuPEuAAg1nXXteY31eyUhSlKWzTuloQqUUlk37xp66Ul5KglREOQfOrqodAp/WpRSFdz1CEy1DHl3PCh5Cj4Wcb71kryxg+uNtu23SEUyrd4YH+gNXjglTztTTL8M038ekhB6Y94dD5FWO+N2eg68G2lvlhpQCE6oCop1CxsibS3KNFeY5t/imj8PCIY7brxT8lbBcyeHXn46WVHwHTuoLq8ueuRzCIoiOMEF/OG25pTEV5iRXzHjSL1XosArxy4zkaHT3fn2y9JM2vhQf+TKL0cp1cjrz0vPExcOhZrPS3LKkX8l3SjBprOXf/wvw688E2lvSa3+iJH2lsE/PyadoCSlLq2Qacew7bxNeogBYOT15wae+k3kcutYVqLIeJz+k4f7nvhlfLA3mSoDCBI4c2zwuceTTwYACEzC9e6ryVdLu2DJZHaamzxTLYNu4VIpJkVgmb7f/zx4/pS8a4YL+ode+GOoZfSvYNt+c5a+jCkzI2WY/vOQhMor1NYujHRc6vn1T4IXTiW7e0SOjfV2Ot98MXJ53HWiAab+t5hJploGdUU1rjcCgMAyI2++IG/WAEC0qz14brRzRr9kuVw1x1GXVqrLqgAgePaE/J6Mh/K+sAGfPFmsf7T2xIUCiZGxiWaMa0Q6IAzGpHAUUcjynYz1dSfTkhapYp8CYTDpFy2Vjv0nD/tPHk5RTwY+HnO+/bJSCgAA/uOHpAOUILMMtU6fKZfBvHaLdOA7emC8IDrPe29JB7jemOxenEFmpgzTex4U8JHw4PNPZOkHyMKU/xYzyJTLQBeWSgfxvu6M91MaGQMA6kr7/bpgtHrF51S9gvQmoaLdy4WC0kHiylMlIW24CAAoMen+P8bnJm0OAEBptVIHoKlZKLXGQRQ8B/co1ZMh3Hwu458WAOLDA8ljTKuDGZpymM7UyoDrjarCEuk4YztLIuEa5sIhXKsDAHV5Vbj1otJiGsxaGbI/Dwr8p45MeTBran+LmWXKZcDUGumAi2RewIOPhKUDLIfbOEdQV9TQpZUAEDhzjA34AEH0ixsNy1ar8goRgmT93nDLec/BPQKTSCZROiw+GpGfilf2FONTh67HVl8aP7BiPJJp0+u9AJBsF8SH+rmgP0U3SWJ9XUrRFUSOE3leigrJuAvmTDG1MtAl5dKBwDKMyylXKeBCAclZECarUjc9Zq0M2Z8HBdNZF2Fqf4uZZcplSLZ/xxsiRKlRuZAYe73nONYtuwBA5DnPwT3pg7+kxWbecIO6srb3t/+dfEiUDmu8yrbAjnouBePEVQBKqTRVdaqCYtLqwDVaTK1BCALFCYQgkmN8GSGMJukgMTzWAp0ajC97k/jKcNJ4v2EmmFoZSJNFOkAJsvaffyxXjQemnuHv6syWYcrPg4IJR5GyMLW/xcwy5TIwV5rkqsJSBEXTZ4bTJaNfennXzVwjMTzQ+q9fk441lXV0cTkA+E8d5YJ+BMNB4KXB4nDLBQCwbNqhb1ihyi/SL2qUVpWAdIc17sKVOS9Rhmt1li27DUtXZYlqzUKyXcDHRludU2a8uvdsMrUyYPRo/T93JvXa58JMlWGaz4MCeetgskztbzGzTLkM4UsX+XgMU9G4VmfeuMOTOtuOtDqMy9dKx8Hz47bf5xQWqXrFcd5DewBA5Ln+p36L0epkH/rImy/oG1YAAFVQDOM5rGlC2hzFH/k8rjNIp0IiHuvtSrhH+HCIj0UFlhEZxrJ5p6qgODXdGIjUgQUgTn/Ji7Sv0DVgamVARz+wApOID/Sm6jKTPVh8KsxEGab/PMwkU/tbzCxTLYPAMq53X8279T4AsG7ZRReVhlrOc0E/SpCq4jLj8rVSUzHa1T7e/JM5haa6XloB0X/ycLKjXEjEUxz6lWqmXDijDgtBC+/9uPR0CizjevvlwNnj6VU246r1CokcPhYlTBYAkGJT/zJJ1i75aKTv8f9LVc4SM1CGmXge5kkSOH0U12gtW3YhKKapqtNU1SkMwpcuDL345Fi7cg4z2nvFsd4P9ip1V5CW+gPZACjMrMPSVNZIwz0AMPzKM4p5TEmyDyxyQT8UFEOmCK+/HLiATzrAdQYEw0WeS9XPBtMvw4w8D/PI8Rzcg6poKcRUSMRRkhJYhgsFYn09wXMnsszpmVNoaxaqCkoAwHfiAy6cedCTMFls228BgGh3R0y2ROJMOiypEAAgMIlQ07lU5RiEebQ3NyOxvm5t3WIAUBUUY2qNYtTyL4Ro9+hfCMEwurQiOo2hsSkz/TLMyPMwjxzbztvMa7eAKAy99HTw/Eml+jpB6r0SWMZ7aJ9SBwAAmFpb9PBnMVrNhQJDL/xRrpp4IDl3klubCExCEYmbhC4pT0axZyTc3izVaREMz7LW14cb1u+ND/VLx+a1m1OVs8T0yzAjz8M8SeiiMimU13f80PXrrbR1i6XJXv7jh/hoWKkGwGh18Uc/T1psfDTS98Qvkz1cEjPpsJK1O1yrT85HlYOSlOOmu5XSVBjXSKS9RTo2r9uqW7g0Rf0XQzLwV1NVb16/LVWpJOPdnj7TLMOMPA/zJEl2WiVGUmJKrysQqfdKYBIZN6FAVXTRRz5POQr4SLjvD79IzoIYM1CcTwd5qyHv1nsVEW50UVnJp75COQom7BR0vvXS6LgAghTc85H8ux6hS8rl89RwrU5TvcC287bCBz+dFH7ICF+6kBzusW2/pfCBT6nLquRxA5iKpkvKLZt2lH7mr/PvfCgpn0GmWYaZeh7mkUh2I5rXbVGXVaGUKlV/HaCrX0w5CgDAd+xgem8PSqmKP/I5VX4RFwr2PvbzjFtezWQfVsI5FL50QeqB0tYtrvjqt2J93Vw4iFEqKr+ItNgAIDEyGDh3wr7zdmViGYzXPfjnxwru/wRKUgCIfnGjfnGjKAhCLCoKAqpSJeOAx5vgNk1wrZ6y56EqGqVUKKXCVCrCYktqbdtu5CJhIREXEgkhHhMS8YRzaLy+w+kw/MozGE1L68ZqaxdqaxeO3QSKkr//GSf9kmYrYbZe+Qk0SqmkgWQAQAnKtuNWaRRZSMT5eFxIxOND/emzXqZThpl6Hq45c+R5CDWds2zageAEaXUUf+yLqUpRYBgu4I/2dgZOHUm25eXMgV+BjPZeJeK+I/sVulFvVVDCR8MDz/yej4aTs5FAGrMWRZhZhwUAQy89VfSgWpofhKk12tqFcm20q33w2T9gGh1M9IBGOtt6Hv1p3m33SbGwAICgaMryWBJTjWrJjm7RUvuuO5TSKxhXblBInG++4Lsyc3UGETm2/8nfWDZuN6/fJrmGzDdBFDNOnTFvuMGwbLVSCgAACJ6hf7D/T7+OdCidzjTLMFPPw7VljjwPjNc1/Moz+Xc+NDrZNgUEJSnS5iBtDmPjGs/Bd91XJqUnuea/QrewgbLnA4Dv2IH0sHDj8rWqwlIAwNTa0k9/VaHt/O/vSQGlM+ywhES89w//p1+8TL+4kcovwmi1yLJcJBzv7wm1nA9fuggg8rGYFLOrTJwK4x7p/d3/0iXluroldGk5rjdhNA0IIiQSXNCfGBmKdnck1zb50CKKngPv+k98oF+yXF1RQ9nzMY0WSa4T7RqJ9nRG2prYKyEIV4VplGEGn4e/cEiLzb77Dk1VHQACIPKRiHBlni8AIDiO0ZrRyZgIYtm0k/G451bHPIJYN49Wr7xH3ldqASCHmaQAH7qdn+eZ58MHZc8v+cSXUBUtcpxr72uBsyfSG++AoKr8QvvuO6X5w4mRwe5f/khpc/2Tk1ebZ54psOMHm+5//jaldJ7JY7/xTmmZaefbL/mOHsjgrQBAFOKDfSOv/lk6oxwFMzJ5c64x77Cue7R5mtt+vePThx9MSiq2l358332Eemybg6sKiqO1t1UqpVcZXYH2kTfuMlcacQp7+LU7i9cWKC0+LKCUSl02ensnnNgsX30Tka1Rk1+EA8CO29I6H69gz8cf+pxBKZ11KBVSWklQqrGW37ZbNFodWlIx+jDPcB/WPLPP6i8tGznvti+yjp4jsOKzi8890cxGM68INOM4FluXf2ZJ6ytj8ydmibQ1WCaEKihKDGYYQVOA4Limuj4xMsh6PUpdDiA4jml0yblNGZF2chK50UiFLGBqjdR1Iwr8hItVJAf+RI5LVsRqF1P3fEz/1KOB4gr89od0XW1sPCYsXq5qb2Z8Hn71Zvri6cSl8wkpvKRmISmpDCb04LvRzbvUQ/2cJMEwKCwlujuYvEJco0M7W1kcH5WIIlTUku3NDIpCRS2ZiInuEU5SBf3C8nV0W1OivIbUG1H3ME+qEOmgu4NR5DwyyC1fR7/wxFiwKI4jG3eq33l5NAZivoZ13bP3W4d6PxhbrLJqRxltpi8+oxzvu3oUXYvaTWgw/Mcbn/de9nMJ/k+3vNh3ZBAArLtuVRWV6htXX9lWR4lxzUalKBMiz4sCr6lLGdPMHYQgcJ1OKU1FXVWrrqzJpaeZj4RBmvuBYsntizKDINJ+WQAQ7WpPijtamI7mRGcrI/Dw8pOh+iXkDbdowyGhbgm5ebf6uceCl86P+cGkiqCQhcsojECSEnsBfvZ4/OLphKMQf/nJUMMqKilZvFz16tOh5etUpZUEExdDAT6p0uhQ9wjXsEpFkkg0JKjUSPIgPWfXME+kNgw6WxkURe756Oj9nFwNq6QU6+0Zm23/j9/RPflEtLtrVPL1v9PV1OJtrdyPfxBK1yrIov3ilzX3PaD+2MPenu5RbRZjSCuVHEVWk815ynz8U+oTx9lPfEr9jb8OKFR/9WWtzYH+y7eC3/y27k+PR8cr+aRAriwFg6BI42cWn3u8mY1O/OmW2PXjzXFfovfw4MrPNxiKdcHB8KlHz3e81Q0A2jzNQ6/cceSnpy48Oeb+CpY7bv3Vjre+tr/nQP/mb60pXl+osdEA8LmTj0gGp3938cQvzkrHAiuUbipa+YUGY6k+6olffrv7xK/OCexoMIqlxrTqi0vzltlRHHU1eU788tzQ6dHI5h0/2MRG2O79/Su/0GAo0aWnveUX2wtX5UnHv1rxR+kgerkdwTDCZA6ePiZJJDC1xrxtFx8MAABKqUybbkAwLHT2JOvzJo9Jmx03mnGDMXjiSGJkiAsGCItVYc+Fgqb1W1BaHTh6kAsGDKs3oCpVvK8bQVHCZMGNptCFs/HeLtPaTYzbFe/v1S1empQzI0OmTdtRimScw4Hjh1UFRYzblUtcjsAkYr1d0vp8+Xc/MvjcEwnZYsqjIKi6rNK6dfeVMCBRvlMkz4lmG15aScQio5fraGG0evTCqYTVjj3wacP5E/FYTKysI6sXkEnV5UvM9x91/MNnRjAUkSQlFaM5aLTozffqfG4BACSJx8nvvkvrGubjUaG0imxvYQxmTFItWaEKBXiBB0EQeQEAxg6S10rmXFpJVC+kaheRrRcZqaiVdeT5k/Eb7x5tzE6iUm2zoV/8svZfv5MytUfOy29Ybr9pKlXodP7nF8Yf/yCUdCtZmLBUiqxyz/kqodMhX/973U9+EP6nf9b9/deV7mxqFCx33PS/236z7qmq3WXrv77iT7e9xMUm4bAci20xX/zc481slK29rap0Y+FrX9gzcGIYAHb9aLOx3PDM3a8k7bf+y7qiNfl/uvkFgReNZXqMxFZ+vsG2wPLGV/ZJBjFPPOqJAcCOH2wqWO4QWOHMY03B/lDR6vzFD9Yd+9mZs481AYC5ynjn73d7OvxNf27lE3zVjeWlm4re+pv3+g4PSmnzl9pFUTzz+wxpAQAjMdpENX5qcf1d1UmHRRUU6RYtZdxOTKP1HXpPCjUEAOO6zfGeTsbjst92b7yvBwSB8boNjativd3J4/hAX7y3Oz7YZ7/l7pGXnqHyC+nySv/hA8a1m5I2Q888jhtMdFkFYTIHTh617b5t+Lk/AYBpw9bE0ECst8t+y90jLz5N2uya+sW+A3vl8nDLBQTDRZZBKSp04WzSRiphdlQFJSWf/HKyE51xjSScQ3wsCgiCkhRhMFKOAnngu3vfG4r9EFBU6RtRbHRRzuRBumo8yX2f1D/3WFCZIQqCAB//svHwvujqTeon/s+vUGUk/VrZGathIQj88L8MJIlYreh3/jHY0cH95jHT+XNsSSl28jh77izzV1/R1tTiP/yJYc+7ibffjH/6s5oHH1F/4TO+tlauqgr/6CfVRUXYD39iOHKEeeHZmFwLAHfeTd9ymyqREN9/L/HMUyna9OuOlQ4AAOTG27ZTd91DM4xYWIT99Mdhv09QlOobf68rKcVoGvnh90PSpbMgzxlF4T9/ZEAx2LiJ2rsn8c2/DcizKirG5Nc98gGj+EWK6yp+vhwEQQDg4Y/STz6hjJ2bJgiKLP/MkvNPXdr0zdXF6wp4hj/4/eM9BybusqHNqlc+846/JwgA3e/3P/jS7Y2fWiw5rIt/bpXqMgPHhwEAp/HybSVNf24VeBEA/N1BAEgEGZ4VPG0ZumxUBuq1L+6R0vYeGshrsJVuLJKczsovLmVj3Guff5dL8ADQua/39t/uWv+NlU/f9bKUljarxksLADzDh0eiMX9Knw4zMiQuWBI8fdyybTeCIMk1IFGSFBIJgWFAEFBKxfm9Isd5D+zV1C5MHqsrawSOTa6qnkRur2tYjuv0jGtEinjigmPfGy4cElk2vVstKY91djjueSje3xs4ekhhMyHxwd6+J36Zf8eDhNEMAFKAqNIIAAAYj9P17mvpW4Gk+4ukm0j3FxNK3n05kiFDAQDgyV8HCkuJJx9N+RKnGydJv1Z2xhyWKILUftm5W7XrRlXH/4ZLSrHv/kswWRn57a8jt99F/8u3Rusyv/l1pLZuNHlHB/edfww2LCX+9mujBZVrTWb04Y+o77vLkyy3XJt+3VGjK8iNAQBF4WtfCdTU4l/6qvYrX/TLS9W4gtBoka980V9Wjn3zW/rPfSrDKyRHnnNePmYwop/9pO/Lf6293MEpsnrmqaj8updaOPkvSr+uoswKSBKpX0CEguKnP6f5t+8EXa7x/56ToXp3OaUjLzx5SV+o3f9vR2puqVj718tzcVgxb1zyVgAgCmL/0aHKnWXS6cDxYV9XYME9NZLjqNxeSqjxSy93XEk6AWyUlRJKBHpDjiVW6bhoZV7n3l7JW0l07e1d+7Xl+kJtcCAMWdOOh65hRejcKePqDQhBoJQqGU4dbjpv3rKDcbsElg2ePWHZugv3eeIDffJjADAsXwMA4eYLpNWuX7qSsFgZpzPFRuAJsxUhSFEYdYXpEGarvnE15chnUqcoIySJabS4Vq8qKWe97qRNpLVZbjYesZ7LXT/7D23dYm3NQiqvANcbUZICURRZho9FGY8zMTwY7rgU6+1M1iuvHj7PuG6GSYhdbaOtuavB2Eul0yH/8j19MCDaHejlyxwAxGPijDSdSkqwtjZuPC+bft3stLdxABAMimq18mtWWYmvWEn8zy+MANDRPnFWcoYGeZ4X/+OHBrMZ/dMT0Ru2U4qs5NdV/KJJXTcYFM6eZtxuYd+ehNGE6g3o9B3W4KmR3254+v7nbjv7WBMX57yX/QAAImR5r+TEU+sp8UCC1BIYifEMDwDNz7at/foKjY2OuGK1t1YMnR4J9OU6xSzqjstPRVGU6iAYieE0HvOlaKVTlUklOazx0mZB6rpKn+LPuEaGX3gKRFF6mUdefBrBMGnt0+Qx5cj3HznAet3S/g6uN19KJpfbh5svJBdNdb/zmnTgO/TeqOULTwGA++1XpdOkMxp54SnbjXcM/el3fCzquPOBkReeStrkjsjzoaazoaazSsVfEmMOa9t2VU83/z//FX74I2pHPgrSyIQMhoV0H5EL/f18dTWOIJldf/p1s6NwfPJSXb7MNTdxU+sYEkWgKORfvx2Ix0VIy2rbdkp+XcUvmtR1EQS2bKP+6nP+yircZEIvpzWBp0bNzRWEBm9+fnSBBFJHLv34wnOPjzagskPpxwJ2AEBlVDEhRvJWAND6WueqLy2tva2q/Y3O/GWOff/8gdw4O+MtzM8zPBtlafNYtwsASKfxK15svLRTJPW5ka/ULB0zHpfAJNJ3o5FI2qcv8ZwjwbMnjOs2g8D7jxxQ6ubJmTGHdfIE88hHjQWFWCIhBgIZ/mztrZwjD/vZL40vPBc7fYr96t9oG1eQX1Ejhw4wTz+Z0h1jNKEK7bPPRH/7B1MkIh45zLzxWlyuPXggIb+u1Yr+1Ve0SxqIr/2t7sD+xN49Cbmx06l8XOSl2rcnsXET/7NfGgFg/77E/n0JeVbvv5dyqsh53564KMIPfmIgCGhv537yg7A8K6835YZ43IL8Fz35RFRuvOfdlJwVN2fbduq9vQlRhP/6H8OB95kFC4nmpokDpsry1tUU7ZRLognvoQv/Ix2jGNL4qUVnft8ktbBQAt31o82DJ4ZbXsyp7aa20sYyvdQhhaBI0eo81yVvUstG2bbXu2puLhc4gYmwXXt7x1JKBjGOoMdt/45H35GhknUFuArn4qMuu+KGkuBAWKpezT6RlotK0YySGBpIDKWN7s0zSaZSY/pQ8tWvaY8dZY4eZjAcnvqz+b67xt7YWSbZ+pCT3WHV3Va54gtLn7r9JZ7hAYEbvrcBQZG9/3Qolybhrh9vLmh0xAOJM7+7GA8wdbdXlm4qSo4SSpgqDPf9+dZAX2jg2NDB7x+XpQYAqL6pfNu/rT//x5a+I4M4jYcGw1IH/I4fbDJXGuUjjNu+uz5vqf3JW18EAGOp/s4/3OjvDlx8ppVL8NW7y8q2FL/zdwe69/dNmBZBEVJLkFpy2ccX1t9V/cw9rzAhlgkz8h6xeT6UTPrD+GHl3bcTf/MN7V330Ho98ttHZ3j8Lkdwi5kqLyXyHP7X3lLqxgfFkMZPLz77+4tSI86x2Fa1q4xL8J98/34AeOGjb/q6JmirBvpC5//UsvyzS6QO773fOiT3VgDg6wwMnhwpWOHY882DcrlE+5tdxjJD7S0Vix6oTQSZoz89nXHEUIG/J/jSJ99a/aVlG7+5CsFQ9yXvG1/Z1380paN6PKp2l237t7G9du5/7jYAiAcSf7jh2TGjWcGir6gqvEFL21gu7gq0tffv4fiUrrdJmc0zIfM1rDkEbrWAKCIEwQ4ru42z17Cmw64fb9YX6Z69f7T/eDxu/vkNtEn13EOvKxV/wdCkcf2iL6Ho2Fd/wH2mqftlmQlAzmbXBUZt8cKy2zWqseHai90vDbrPjllMhMO0oKHyvuSpCOLhiz+PxN0yk2xM3Mk9U1AG6wxu6EQZR+dMTRYEwzNuUDwXICxmqryMsE0weD/jTDT4BsYyfeHKvItPX1IqAAAAxYjk9rczyYTFysJ00uaMzVgrd0MAkGfOMJsnR7M5DoriNUU7V9Z9Uu6tJg9Skb9Jfj7svZi7t4JZcFjGqgbpadZXLCZ1ZqV6qpB6i1KUSvK6CnQltbqiGoUqf92takepuX41Zcw8B21CMJTQqKzSPxxLGfzKHZSmhWh0dl62XCA1RPG6gortpTt/sMnXFWh7o0tpAQAARQt3qg15SikATqopzdT/4qVLblGKxiH9QlnSKozzazaqtBZz4SKZySiOyrXGvBpAkLzqDUodAABQpE4hwVASx5Rf5RzN5jJGbfHaBZ8vy1uHTK9NZjfV6dRjj4oIYufgAZl+YmamrmGsXkrqzITW6Gk6os2v8LWd4pm4ffkNod5W29ItpMEWGbwMAOb6lShO+jvOxj1D9sZtgCCepqO0rYDUW0ityd9xFldrk/mwkYB10QaMUkWGuyMDl5P2XDRoXrBGZXKEei9hpMreeAOCYb7WkzHPUN6qG1GcCA90sJFA8rpxz1De6htBFL2tJ+PeIbWtKOF3iam7ToX72xEMI/Vmb0vKHLTcKbQ21pWMzjtt6n5lwH06VZ8TkbPnlaJrCm2hb/jeBhRHh886D37/uMApx45pvUOltUix+wCIzlpK0saQu4uJBXBSnVe9AUGQsLfPN9gCAHItAKh0Nq2pKB52h719AIARKoO9imfjQVenKArGvFrf4FhMBqU2as0lQXcXGw+RtAFBEI2pKBYciYVcaRcSFWnlF0o3jgWdJG3wDmQYIowGhmi9w1LUEAsqW+gSCUYZj8YLDMcrF1TI0WxugqJEdeG2Eseaaboqicr8zfLTEW9TJO6SSyYkpaJB0DqVwQ4AanOhXD4hhNYUGeoa/OAV25JNUWevqWY5bSsSWCbm6o97hl1n9kWGugAg1Htp8IOXTbUrrEs2ui8eHjrymn3ZVkJrijn7JLk8HwTFKJNt8INXApfPy+15Ju46u1+a5m6qX8VGAqG+Nvvy7fqSeibgGvzg5WB3k/y6mEqNUbTzzL6Yq1/keV/7GUJrUpSfi4X1pQuYoEdyiwptLlj0FUrRVJnlddfe/vr7f74vcwdWoDf42LY//27T0298ZV9oUBltQOvsJYtvEgXemFcLACiG0XqHwCVq138MAFCcxAmVwLM8l0jX4gRdvuwONh4i1UbJuHb9xxEEpTQmEUQA4Jho8cJd0oUojblkyc0cE61ceR9GqAyOmooV9/BcomL5PRihUlxIkTb9QlmMFfBsHAEwOKoivszhCE7/JUFICaMb9mZwfDmazUGM2pJ1Cz5f6lib9Fa8wEy58HZjSvUKQOwcmlz1CiSHRelGm1clq+40lzaUrLzDXNqQYpUDyXlYUWefylZorGzwt0m1jLGRdTYSEjgWEAQlSIFNiIIgvZxJuTwfAGDDASmhwj4JRqh4Ji7ynPPUXpRUcbGITDl6XSboHTr6hn3ZNl1xrUybQtwzBKLgbTmO4uSV+sIkQBDUpCtTSicPbjFrViwz3LhDqZiTGBzVru4T/uHWgLMDAASBFwVeYy7GCBpBUCbqj4Vc0cBw0HkZQFRoOTbOJsKGvNqwpxcAdJYy/9AlT/95Z9cJKRg37O1LvuSmggU4QZuLFhOURmMqBAB377nASHvI20upjYoLKdIqLpTdWAETDRAqXWC4zVy0uHTJzUo1QJwJnO54MhAZ4AUmwQT7XCdb+95WGuVsNgexGqrUqrG+lwQTPNn6eCiaMoKcOxUFqdUrX3M4lmHjkuzgAGCvXYeTamfbkdDwZWfrByqDvXLjw/1n3lDaZsWyYA0ABDovAEB0uFudV8bFIwAQdfXnr7s10HFObuxtPpa3+kaBY/wd5yhTSreRPJ8kcnu53Nd6wrFyFxP0RJ19oZ7mws33qPNKos6+YFdT8ro8kzBULkEwHBCEMlgt9atVlvy4ZyjYMzaHy1S7wtd6yrp4A4ITKKni45MLazBoimamSwJBYheamd5+pXxOIvAshlMAgGIkANjLVmA41d/0jt52pbIpislh6DSt2HHsKbUhr2btRy7u+5nAMzhJj6ZKQ+AS7r6zru6T0qmtzCwKqaG2sgulkXIhgOzGKXBsnFSb+pv3GPNqeDZzFII32Hks2KmUppGj2VyjY+A9NWXOMy8CAKf/UlP3KywXtRvH/fBnwWas1avzZQLx8iR7ryRwAOg7+SpG0vbadWpTARPx+ftbml77L6XhRLjOHWCCo/OwREFIeijPxcMIhos8FxnuliR9e58CgP79zyEIIooCdI92N/Ttfcq2bKs8n6Ejo02VuG9kzB4AAFCcAAAm5Ovb9zSCYqLAA0Dvu39MHievCwCJgBNEUcpz8HCGOVxS11Xcl7mrYkIs+kqlaGoIgqq2mizM97+1J/M8prmEd+BC9ZqH1cYClcYMAPGwp2jBdlJtxLDRiT5hX1/pklt01tLe828otJTGXFi/jWfjsZALAELuHkfFmsoV9wKCdJ95GSPpvMp1tN5esvjG4fYP3L1nq1Y9oDUXoxjZdep5WRFGkV+IVBvlaREMl18ouzETD8qztRQt9vafp3W2ogU7Ri4flav+YhAvdr9E4PSwtynZLTu1b7Oy98rXEo5N5XVDAKB09V2jJygecfUYiur9/c3uDmVAcxYM5Yuizj42EgAAY1UDqbc4T+9TGuWAPJ/x0JXU6YqqI0Ndga4ptqVnnFV1nzJqi5OnU+50R3Bc3bCIHXEy/YMK1dWLw5omyS8EAKAoLoi83NVK+3VLBgotgmIIignc2Mx+FMMFnpf3IchBMUIQuPH8uPxCCtIvlMV4nglZVH5HgWVp8jSXOCyboWZZ9UMygXik+VdTa1riAMBGgyOthyTnxTMxV8dxY9ECpWFW5L5D0WqbFLn4oFDvpVBv5oCgawKOUQbN5MYoxoMsKeLDEaqkmBkYGu/NnGvIX/v0zqAsWlHgFS5DuLIVe0YEPtuMyyzeJ/1CWYznmRAUIZSiiVD0Xjl9l6bmrUByWIMX9qQKRX9/TrP85wEAs648Y8DXFBCiMdxIxlrbrxdvNc9fIOgkn3aroVrxRb889L78dFJM7trzpDODAQ0ix/HhMFlUkMveBPPMc22Y5DB6ZWr1yuVvnXL1CmYqcBQAMJS0GWss+kod7aApI4ZRACLHJ2IJXyg67AledvnbBTFbnf96REXqLYYqpXSqcF6fbs1KkeOUi37lBoKgZl25RV+hU+erVWYCozGU4AWG5WIMFw1Fh3zhXm+wK8Eq4xinD02ZLPpKo7ZYo7LSpAHDKBTBeIFluWg04Q1EBrzBLl+oW4qxunpcwzswT0Ys+kqDpkguuTw49eoV5Oiwqgq3yWcAjfiaz10e3WAWADCUrMjfWGxfmT4lhcRxEtcYNEVFthUsF+11HusePswrxqTHB0XwzQ1fI3C1XNgzcmT6YSwERm9e+g0USYnqujz4Xva7iSKYhrbr1A4dnSf9T+AZBuMXlt22sOw2pXQcekeOXup7SzrG9DqqrDR6sQnGW+1QhiC7jSiClThWl9rXUKReZgIAgGMqHFPRlMmgKSyyrRBFYdh7sWv40BRCYDKBOEx1pY61Rm2JUgOAYxSOUZIvq8jflGCCfa5Tvc6jUwvyVgw7eIOdJ9seT57O8h2oK95d4lijlI7PvjPf/8tcnqGyYIv81BVoC0aVA0qTIieHpUAeT2HQFDVU3qsiDTJ9ZghcXVmwtcCy9Hzn84FITqFGgsgNes6VOtbKhQWWhvb+PYI4rX5Th3mhwluJIA6MM9hBEbqaoh06tUOjss1Ud1VGhHCE83hRmp7QWwFA8rXX0vaGyvtynJKKIGi+ZUmeeVH7wN7u4UmsHZqOTp23oPTW3AccKFJfVbi11LH6Uu+bQ96UOLspoJM9hNfqDlw9cJO24K9u6/3ek0oFAJlnYoZ9SikAAJhvXR1t7rXcumbgpy8qVNZ7N+Im3fCv33B8YqfvzRPj5TCzWPQV8tFzAOjMWiHIhcyvn60629eDpkxSZcpmrF1Z9/FcvFUSmjKtrPu43VinVIxDn+ukYpybwNV2U71cMgUKLEsUEm+wM85kDqcgCU2+ZYmWdlxVbwUAhMPOh8MgiJplDUpdGpLDMunKVtd/Osd3NQmCoDVFOxaV36lU5EyRbfma+s/k7q2SELh6ccXdi8rvQJGpfCyTEDhNU0a4dnfgmoCbtOZbx303va8ei18eSvdWAOB9/TgAYBoVpqVnx1tB2uCgO9AeiGSe5JQ7OABUbHio89CTtDEvKTUU1Lras0XK6dX5gsg3VNw7hccORfCGyvtOtT3hDXUpdWlE4x5vqNusK5cLi6yNU57QBAA0ZVQ4fgAYcJ9RSGYfzufnA0GR5wjHxItGcHxcS9uXVT2IoaOBmpOlwNIQig71jGT7Q2eksmCLoqo/WQosS1Wk4XT7k/KG7WTRqfMxlLwmd+DqUfCl21Ca5EMxAAAECr96J0JgmEEz/MvXERyz3reJKrEXfOWO8InW4NEWuTbR77bcvta0a0Xf959J9Cpbu9KEM9ONK3xvjU4YuNqYdeUmbalckr2/JUdwABhuPgAAVVs+EXaNehDaVCA3SsdmrHWYFshX+eH4uCfY6Qv1MFyE4aIYSqgIvUFbZDfWpYfGIgjaUHXf4ab/SzApscUZ6XOeVDgss75cTZmjCa9cmDv55iVS0FkSlos5fePGdomiyAvj7lyU/rYIIqdYDSIL8rYtguN0fS2qUQffm3jWAoJgiyvuVtzbBBtyB9qDkSGGi7BcDMcoitCZdCVWQ3V6DyMA1BTt8AQ7J9WbU+pYM563isTdLn9rNOFNsGFBYElcQxE6k77MoqtQLAgFAGZd+bKq+0+3P5n7vVJg0VdUFmyZ/TsAAL2uE95wD4mrCVxN4moCp68cqElck/7A54i6vhhEsf+Hz2kWl1luXwciSNUl3Zo63dp697MHPS8fMWxeMvzr0Wlzcm3i2YOel49QpQ55hnJQAlOV5fGRhOWOdcO/eZPzhZUWM4riIfEEO3LsCMoODgA6R3nU2+9qOzLcvF+SlqyaoKpcKutx5Ph45+CBXuex9H6lPtcJFCUq8zeV5W9QLE9BYPTC0ltPt/9JLsyI038pwYYpQiuTIYXWZe0De2WSSZCf1h4c8l7IMoIZjo3sPf3/lNIrbF36d4phgZaeN6YW6S7EYihFigkmlz4shykluDeW8LX2ve30t6ZHive5TuCYqiJ/Y1neOoWnRhCs1LE299UvTboyRcC9RCDS39L7RjCSoT+1e+QwhpJleevK8zco6uMWfVV10fa2vnfkwtwptq2Un87OHZCIxj3RuEcpBQAAs65sRe3HldLcIOymxKAHAJhBLwCgair/czfx4Thu1jH9boVxdq0CPhKPtvbz/kjoZBuuozGN6qo6LLOuzKSb+eoVSH1YIy0HASDprQBg8Fyuz1CCDR1tebR75HC6t5IQBLZ9YO/ptj+KaQZWQ3Uus/BEkR9Ma68VWJdNrUfJoClM7++YC+1BAMC0mkRPX+iDI0rFRDj9lz5o+rnTfyn9XZXg+Hhb/7sXM72W+ZbFJK5RSjOBosSistvTb3vn0IHjLb/N6K0keIG5PLj/SNMv03sJyxzrFNXnqTE7d+Bqw7r8ZL4FAAiHEQB0K2uYIe/wo29GznVKBiLHo6rRQPN0bTYQ0C6vDp1qo4qsmE6dmMjBTZMKZfXqsj/cJ5dMmbGHT2srBQCcpPMWbsVVOf39RJE/1fbEeJ8aOZ7g5eae15XStKCy8eh3nVKE8FCE1maokUtyJL16FYoOh6JDCuE1gY9EyOJC7crlSkVW3IGO85efTZ8Wk86g+2y6a0YR3GKY+LMBAOV562jKpBD2jBztGNiXS4BVJO4+2fY4w8mXAAIAWFB6S7oTnBSzdgeuNtHmXgRHi/72Hu2KGlEQos29mqWVBV+6TVU62qeZ6HUSZn3R392rW1Gj0GI6Ou8zN6rrim0PbDbtbEzJF0C3oiZ8qh1EKPybu4QEqyof67CecUzaUnPqakszVb0CeVhD/uIb2vf9rnjlHRF3T8mK29r2/kZmlpk+54ncG/8D7tMFlgZFRdGoLdGp8yaMfI0xfk+gw2qolguLbMud/nE7njKCIKi0VoacqTXfrgaoWg0iYEZDLnFYEhyfaOp+ebzqbTqdg+8XWJcqmudGTdGQ57xckg6OUemRR+GYs60/18o4AETjnku9byypuFcuVKssBZaGdD+SI7N2B2aHwf9JqQN2/8Pv5Kciy/f8yxPJU4V2+NE35adyQifapIPOr/86VTPzKGoh3mCnP9wrl0yHsS+bwLGESotTtLP1MM9OHNongtg1yTCWy4PvKUUA6R4kI30u5eiGxVA1qYgKALDoKxWVf0Hkph8TNFOI8QRKqxAU1TQuVerGoWvo4KTitmOM3xfqVggN2pRY5Izkm5cQmDJKtrXv7cl2mQ97m3zhHoWwLG+dQpI7s3YH5skFo7bEnDpZbTozB9ORDfPFw7U7v9B99DkAwHLY3sYf7p3UgwIA3lB3NOFVU2a50G6sbe/fI5dkxO1vizMBuYdCACm0Lrs8uH/MaCLSw6+cvkssF1MIrxWIiiLstujFpuiFZqUuE6Io9E++ehgI9yu6jShCJz/NSIG1QSEJx5ye4GWFMBd6Ro4qBrw1KptRWzyFbo7ZvAPz5IKyehXq9oVSvk8q0mA31tmMNWrKTBFaEUSWi4ViI95g16D7LMtP8DKOOaye4y8CIFKfZeehp8ZMxsHlH61kTgp3oL3Evlou0ahsJK5J79pQIILY7zpdVbhVLiy0LuscfD+XDhQYne2oDFidckvkajCpSHcA8AQvs1xUKZ2I9F2V0qtOCghcnR4jOuLLyaum4w60c3xCMfZvN9ZNwWHN2h2YQdTWoqh7Bgb4AQDBcH1xfdw7mAhm60dGMJygdUzYp5CjGA4TreozKYzaYsUwWqesPqEiDZUFmwssSxVdlhhJqkiDzVBTVbi1vX9Pr/O4XKtgLKWtenVyhCWXNd1D0aksGOgOdChFAOkvQ0YG3KcVDRAVaci9u9RhWoChoyMsEnEm4J1LC9diRkO0qVmIx3NcrcEzpcKzaZPaUBRPj5OSY9GXK6IBAGCyHYhJBIHzBJWPQS7jxenM2h2YQWyLNyokxorMW9JNiCjwIPKG0oVKRSooTuDqDFVIXXGttlC55V3hmls19lJL3VS2vFNUr3yhHu+V1neBZen6RV8qtDZm+aUYStaV3FRbvEupkDH2RzIU1rvaj0nHuvwqZ9vhpCoj4Xiu3e1yMu7qo6FtrsDE9bUEG3L6Wx2p83IKrcszOsF00scHB9xnc6ydzQ6TXa0hNKVFZvlMc49RBBdg3C+tfOKehCjy4ViGP2WOBKPDDlPKa6al7ShKTDbwfdbuwPTBVZq8FbvYSABEwGmtfckWnFK7Lh5EMMzesIUy2CJDl+MBV1LOxkLJY5XJIW2F57t8Nu4bTspj3iEmHKD0VgCwLlzvaz/FM3HHshvcTR/kr7wRRNHbdjLmHbIv3hT3u6LOXoxUyeVqa1E8bcu70EA7gmGkzpy4NOoNcsSgKbLoq+SSZHdNqWNNbfFuuSoLpY61/nDfePX3MYeFYviVwSlE2lwgC4LA5RKknk48ERAETvE1U/RqZaHfdVLhsOzGWpLQMuwEUXAUoTPrFfE+4qBnDrUHAQDTaQFF+UCuNzY8pUruFNDSyo9tJO5JD6zLnfTBZQRBdbR9snPNZu0OTB9zzQpv64lEwFW88V4uFnY3faDJrzCULRo+/W7cO+w8t0/ac0AuTx4LPBd19rkuHCjacHfv/qeT8ph3LBwn6uw1VS+PjvQILINRaoykB4+/xkaCAODrOGMoWwwA48nlcLGwsXJpwu90LN02cu699N6Jsx1PKyQSiuqVP9ybnHs34D5baF2mpUej8EPRoT7XSU/gcpwNUYTGpCurKdwuX2ajqnDbeA5rrHrm6TpTv/tLZWvvq7/xS76e8zKbDKRXqnNEBDHG+BXC1Cj2bHiCnYoZOQiCFspWmB6PfMtixUi2N9QdS/jlkmuOGE+gGg2mH/vLZUEEccKOv5mCThuNTe8GmhQZY/dUpFEpysps3oHpg+IkzyYElgFRMFcvN1YuFZgYMtr2v9IVI5MrbNhYSOBYBEHS0o4SdfWpLYXGigZfx2km5B068YajYZuuqFZuM55cTsw7BKLgaZ3clncGTaEi6kgee8Xx8VNtf4wxfl5gm7pfOdL8637XqRjjF0U+zgSHPOdPtj0hr+hpVFaNypY8lTNW0/F0ngoMXKJ0FibsZeMTVFims7hP+nJIJJFTnCoAAIj9rlM1RTvkokJbY9fwB8m/ekbyzentwblVvQIAhFYRFjM7NJRLHFbGds1VIn0QLf2POCkyfvBUaVu6Z2c278D08Xedz2/cEfe7BI4VBZ7SW1GcFAURAKKu/oLVt/o7z8nlCpskcjlltJtrV1J6a9zvDPZdiox0axxlXDyiMucby5cgGI5IW9vVrVaZ82PeISbsyygP9o5VZ8w1K7ztp2yLNqA4gRIqPpHTmIZiYQZ/uE8xgpxgQ6fb/oggaHrlGgAicZc70G6TbSCm1+Rn7D5KaZpxiQiXiACArXpN9tUapvO8pi/gh6b2hWdnwH2mqnCrfFaamjKbdWVZ1n7Q0vbULWeB4+Mjvha5ZC4wqVFCjmeUoqsGljabN8ts8FzI6GsmO2d4Nu/A9In7Rnree0oURenL6u+6kNwLw918ZSu8kRS5/Fii572nFPKBwy8ltaIo+DrPAUDcOzTidwKMbm03cPTVpM148iSeS8dgklve6dX5imknGUPbs9fKIwmPvE5Fps7PTYICgEpvBQDamJf8ZygYt8Z4hYnfqPFIf9YVa+llh+Wi6b6myNaokMgpsDQoJEPeC5Pt350FcIuZ9Xhwm1WpyESW2dozDZL+B+Kn5yx4gU2POJ3Udwtm9Q7MDKIoJF8c5UY+V2IL5PLxdvfJKDdWNBBqfai/VToVBV7ySgrGk08HxcIMgUh/+ijwhCh+lJD2eEigAGCrWQcAVVs+kbdwi/RvwuVl0ge5cwcZZ9XA3Ol3nlRI7KZ6xZIJSRBA8szKnsU52B4EAD4Yil1ojhw/pVRcY0YrBTMKknv/yIeDO29V63VodWVKm6akGAeAe+7I/OgCQEE+9tUv5NRS9neeGzm7TymdIWgVUlNF0KoMfzKdOl/elINxqlcTok5dkiAaT+mqToIDQN/JVwBgUsvLpH9ycwfDlB/SXKatyvGFe8Ixp3zoCkXwAsuSjCuxmXRlqtR1vsOxkSxLC1xDUI0aVVG4xcy6PTlGNswOgsArBnbTG4mTAkOJ9G/eHKzzziAEATfvop99aWyUYOkS8rOf0P7sV6GqCvzjj2gvtbLRmLh6BXmhiXW5+e1bVcdPMWfOMVL3wJJFpKSymNHX347deiPd08dLEhyH8lK8tZ0tLsJ1OrTlEksQoxJRhAV1xPkmFkNhQR0RjYnDI7yk8vmFTetV5y8y9bWEyYgODvO0CpEOWts5Rc79A/ym9dRv/pDhD6QYHAxEBtyBdrkkFzCUkO8+JYh8IJI5inissjOp5WWS25FPgfQV79J7tSak36WshhRalyskEpnCr+Zi9QoAOK+PKilGKWpOeSvI1EeOp/0RJwWe6fmZTsfo3Kf5Eoth8NlPjFWXLjYzF5vZ5kssz8Njfww3LiXvvo0OhoRlDeStN6l/9bvwmXNj7e6kiiSRlY0kjiNJSWEB9sHRxPFTTHEh9tgfw2tXU0nJ6hXUH56MbF5P1VQRsbjoDwhJlU6HDo/w61ZTJIkEQ6JajSQP0nMeHOZJUvmBAQCdOs+eWr2a2qrtJfbV8h5Ml791vIdhzGGZSsbaTdJSM1kgMi3emCPpaacwOD3oOadwc1ralr7wMYriioXuBJEfnBvz8tPBjQY+HMEtZphjzaX0SaMZtwvKHTzTVJj0q3yYWFhPHDmesJjH3jiOA4cNrakiItHRFveFZlarQY+dTLR3sF/6rG75UrK+llhYTyxeSCRVb74T++bXDW++E0tKAEDKQadDH7lf43bzScmwk3/gHs3gMB8MCcVF+MDgmGrtSspoQHkeBAEEQQRx7CA955oqYvFComGx8jNTkb9ZXlMORodyiQBXoFFZU6tpYpbNQcbq+cbihb7eC9KxtXKlvz9z4JYEgdMogk+h1xNBsPQlFhIThX2mw/HxYe/FQusyubDQ2qiYj2Y31irGnlz+1inMPpsd+GAIIfDohaZcRglnk1jCJ98qCQDSF0GcFFo6Q/JYIqAUfYh45vkoAHz3P1N+479+PyAI0NbBAsAvHg0BAIYBz4P84HNf9QLAhSY2KbnrYRcAPPdSVJKcPjtaEXN7hCefjchr58+9FEVREAT426/q394b372D/q+fBSXVzx8NSaqMKHJu62C/8NfKTiUt7XCYUibnTmolAgkco5ZW3S8fb+l3nc4SP4wCAKWzlKy6U2stLV19V+nqu8rXP4CRykpQGoi0Z8lkoSlj+mSijGGEE9LnOqGQ5JkXKtqb10t3uwRK06rKCs2KbCOe14T0BctoyjSF/UeSaFTK0HkRxIwROh9u0v2F5JLkB0kmlDz3UjQ9Q0nyv78Msaz4v78c9VZyVUbSr5VOZUFK9SoUHXb5R8cocwRB0MUVd8tjRMMxZ/ZdR3EASIQ8Qxf2kLTe03kKAASejwWUD2g6WtqePbAiI7q0SR4AMLVZacHIYDA6qFePDWhiKOkwLRj0nJVOCYxWRN8mmODUVkSZHYREPHT4qKqyIpfA0dkk/YuHIKhO7UiX54g+NSwOAKJxd3q8y18UCKAiZHAh0qh6RpUCl3tcNxNPiC2tk+4pzoKWtismyU2helVXcpM8gIvlYmcvP5P9MRit7LCx0OD5d8OunrCrJ+rtT0aFZCG9wygXFNMjAQBADE71uU/vepeveGU31SlGMwc8Z9PDf+YOZFEhqtGI7Ew+WDOCL9yTPjAy5d0hMZSwGJSPwdTWXbh+IRGaRGgMwUmERgBRo7p8ooJC1DhCalADjhAUokYBUyFqClHlEWXSsWSPIbgK0Ug2qfaoBtXjCCFZqhANBhiF0ARC6VCzlIN0LS1qNGJ2FDAa1apRHY2Ozo1z4GUWbMKQJoC03qtQbMQ5yepVZcHWYtuK5KkgcGc6npqwsTXWOitdc3fewi2ESifTZsOa9szlQnqqUMw54apd4zHkuaAYTTDpy5MzE9PeKHFwnL2dp0N6TMaUFyoRojEEQWKt7XOqegUAgsClj1UrRjNyx2qoVqzzAwCTbU1c7zjw0nJykRrRV1INhUQ1BoQKUdvxYgBRj1lKiHo7XlxOLqqklnHAgihKx5J9AV5JobRkI7fPIyqseHExUWvDiyWbQrLGihcigBgwq5SDdC0KVWOAOfASHWpmxLgRG2338MCSqCrpv8ZDo7I5zCl//c7B9ycVrFdiXy3vaBdF4Xznc7mspDzmsC69/YuYbyh/yfbS1Xcbixem9zQp0Khs8uZYLlgN1ek97lk2BJwQXmAUS3EjgNiN9QCAY5Q8sgMAfKGeKW9lmIX0If/xZhVMiBCJqpcs0m1cp1TMAdL7/tSUOfcdvOWkL4gcZwLeYJdC+OEmIUajQtCEOwSRE4BXo9q4GIkKIQpRa1CDdBwTIy6uj0LUGswoHUv2PHAB3p1uL4IgijwKGI6Qko0oCgRCCSAIwEs5SNeKCkEa1YWFgA41STlIDU8UMF5ksdQZe+lUFmySLyUQjjnTJ59kocDSUFeyO3kqgnih64Ucl1cbK5ko8IHB1oin31zWYK1c6ajb4Gw9nBw3zEh5/oZzl/+slI5Pxj1yprOHMwD0uU4U21fKJXZTbZ/rhFlfoegVTn/lZoT0MUfFgFquIAggMDf7sADAE+gIx1xaeqx/FABqine6A+25bwABAHnmRQZNkULY6zw+pxYmmwWcXEptAgEkeQc6ElceVH5ULknkNgAwyI72xibtC9BKAIiKoWG2S7LsY1sRQPSYVRD5Ya5bykH6f0BoF0EMM75k/pBWqoxoVFZH6j4MlydTvbKb6heW3Z5sToogNnW9lLsTGKtGWSqWV235ePHyW6K+oY79j7XtedReq/wSKnCYFuSZFyql41BiX5X+pHpDXRnnZOdOOOZUhDKYtGUoiltTO8s4PjHeCjvTJJQ2tmXRV4w3TygbCKKqqlRVVaLqyae9+oggpu8hoqbM9aU3K4RZ0KisdSU3KoQMF+lzKgd8/9IYz1/L5ePZJBlkL/eyl4bYTkWqAO8a5rql44z/T4qK/PTqVa5vlkVfsaTiblnrTWzufmXQc05uk50xh4WrNN2Hn+k6/EzY2QUAoii4L0/8GC0qvytTP7oSq6Eq45KDU5t2pKA/dUMdFMUN6kLFcn3D3ovp3cYzgmKNfQBAUaKmaLtCODGCEL3YJDIM5/PNteqVxIivOb0nq9DaWFu8e8IOBABQqyzLaz6SvmVpW9872QeG5pk7qFUWxTZXnUMHcqxeGbXFS6sekLV7xKbuVyfb7hl7zkaaD3DMaOe3tXIlAHg6Tye144EiWGPNw/UlN4+3jD+KEtWFNyyrfjj9mXb6L6VvuDQFhr1NinaZ1VClWMV0svcld7yhznRXWGhtrCu5cbK97yLDhg4fCx+d+DtxrWjqfiU9yrfUsWZN/WezjBpjKFGRv2ndgi9k6MH0X5rUB3aea0tF/ib5ixyJu0e8TTL9uOjUeY3VD8vCJMXmntemsCUoDgCUzqqQGgprs1evPMHLJl2ZFDSAAFJsX1loa/SFuj3BywkmxHARFMEpUm/QFDpMCzKuc8Ry0Zae15TSKSGI3KDnXKljbVJSbF8l00M45gpE+uWSGYTlYgOuU+mbjJbYV+eZFw17LwYiAwwbEUQORTAMowhMReIaktCqSL2KNHQNHcyxu3EukGBD5y7/eUXNRxRLwejUeavqPhVNeF3+1kjcnWDDPM+QhIYitCZdmVVfmXHpmHDMebHrRaV0DoOhpFlfjmMUjqlwjJIOCIyS/qxX5BmCrjcu+SrHJTg+zgkJjpf+xa8cJHg+wfJxf7h37uw4lxE1Zc5PjcTOcc8qtcqyvPoR2Z0Rm3teT49JygUcAGq3fzbiSekG0ljG/VpKeIKdw96mhWW3JSUogln0lTnufSKI/NmOZ9K/1VOmz3Wy1LEm2ZOncJGDV616JdE1/EGeZXF6Y4fENYo9zdKZzjTya4I/3Hum4+llVQ+m1x/VlFn+2ciOtHP9eHNc5yY0ZVxW9aBSmgMERo/XBElyqu3xOR6MVlGgrF7l2FneWPUQmbIMOlJfclN9yU0ySQbaB/amTyrEAcDVcWzowl65dMLlZUhC0z38AYaRdcW75PFjuSAI3NnLz6Rv/zsdonGPN9St2B1TQhT5q93oSLChsx3PrKj92HRW3bmO8AQvn2j9/dKqB9KXTs4Rb7DzXOezc7xCMY8cNWVWrDPeOXQgl+oVZFoDPb2DKB3FJgwSKAAovBUADJ3fo5AokGoTvSNHz3Q8PanHLprwHr/0u/S+2+nTl7aqn4TL3zaF1SAmiz/ce6rt8antJHQ9EogMHG76vxw/sHJ4gWnte/tU2xOTemzmueaU52+Ue5lo3DOFv/70GavV0waHqWQxgo/2NQyceTOpSie5uojL33ro4v9WFmwutC5LX+hKDstFe0aOdo8cuUrrtDn9lxJsOH0DnqvX3a7AF+o53PzLivyNhdZlGTsyMiJkWu72uoDlouc7n+sZOVqRv9FqqJ7wm8lwkQH3mZ7hI7Pw/ZhnZqEpk2Kd8c6hg9dklttYpatu5xdHLh20lDcGh9tpY17PsReSqqrCbRX5m5KnAOAL95y49Hu5BMcom7HWoq/Q0Q4VacQxUgTg+UQ04QtFhzzByy5/+xSWo5kU6eVMsKED5/9rlu8shpJWQ7VRW2TQFFKEnsBVGEoCiLzAslwswYZiCX8k7g5Fh/2R/vS40+sRitBaDTUmXamWttOkAcMoBBBeYBkuEo17Q9Ehb6jLG+q+Gn8IlCJEllNsLTMDTCd2dzpp58nKWA2LjYd8vRd0eVXO1sPl6+6X2WQgvbOG4xNDnvOKiTKzTHqjd9Bz7mq8JNnhBWbE1zTiy2m498NBgg0PuE9PYZQ6C9abGplhX/BMt+3W5a5XMrf3ASD/oQ3e95tjnSMKOa6jUQ3FDPsV8hwp/NS2gd8ou0oykn6hLGkVxvY7VgWOtdPldv/hv6yplFNmzGFJu1bgJF3QsFNlyLAIzBwHRbDCtL1zZq09OM+ME+ty0iVW08b6eJ9HqQMAAFWJlco3ja7OioCmroi06cPNfaw7hOtp260rAEGibYOBEx0AKVoAoArN6ur8xIA32j4EAJiG0jWU8eF4uKlP5AX98orA0bFuVtKmV9cURJr7WF+EsOoQBFFX58d73fF+j/JCIijSyi+UbhzvcxMW3by3yp2xfofOQ08BQM/xFxIh9+UDfxwzuU5wmBYoAgv84d4JV6v4sLLgE//c8KWf5K2ZYOR4LiNEE4CArqE01pFhdTZVsaXw41tEjtevqAAAlMDpEqsQZyr+6W4AQCkCU1MiwwlxNl2LaVTFn9/JecOkXQ8AqIqo+PY9gCCkwyA1LblQLP+RjdKFSIeh8BNb+XC85K9vwTSUfll5yVdu4qOJ4i/txtSU4kKKtMoLZTWeTcpv/tTiz3/fsijXGJS5w5jD0udVVm76SMWGR8xljaWr75bZXB8opkDDfPXqOodxh3CTJni6y7iutvCT2xRa3dJyz54LwVOdoXM9ACCwvMjz6up8TEMhKMK4gvEBb6zbGTrfA6JSy0fjXCCqX14RuTQIANr6ouDJy/4PLnnePS/1PUXbhkR2dDDEsLoa06qM62txPa2uzAMA34Hm0NnuaOsgYdMrLqRIq7hQduNZA8FwfflCFCcN5SmTbGYfY03j4s99v2D9rdKpecHqxZ/7ft6qXalWKYw5rMKluwfPv9tz9Fnpn8zmOkBHO4zaErmE5WPJYVdSZ6q47bMNX/pJ+S2fltsAgLawquFLP6l98BuTjSab52rDR+OkzeD/4BLjCkgNNzlCgkVVBACgFAEAlu2LMY1q6E8HWU9otJEoioCO/k2VWhG6f/SKd9/Fin+8U8oK04w7qivEGO/7zX2/eLv1bx4Lne8BAIEZHTsazV12ISWpFwLIajxbiDwX7GoS2ISv7Rp/0XUltShB6ssWSqf60nqUIHVl2dZZG+vDSoR9MX+Guvd1QXm+sl494DojTfGzLFxTsP52ns0cUZ23ejcADB97O8cJnHOB0p2PAIL2vP24UvHhwri+zv/BJVWRJe/BDe43la+W/3Br+d/fQVc4qDwjACSG/HkPricsOlQ1GlsTbRss/NQNmrqiwcfeU2jJPGPevWv5SCLe7wWAcEu/Zfeykq/ehCBI36/exbUq682NqmJLwce2uF496Xu/ufTrt2pqC1CK6P1Zhlgf+YVIm16eFiFx+YWyG7PeGZv4MSFdr/9WKboWhHpbjZUNwe7R4algT4uupC7UnW3thzFnX7X5Y4AgMf+wVCseOPf2mCotXCAQ6T/W8hu55BqiU+etWfA5+RChKAqHLv5PLOEHAGvDRk1emevcgep7vhrsbu56bazYuuKaits/H3MPtD39k+vFYSEYvugz/x4d6b384s+VOhkLPvHPhMYwcnLP8NE3lLoPEQiOidxokwohMJET5PEECI4BgGSg0CI4iuBYsi8JAFASF1huvKcApQiB4cYLVpBfSEH6hbIYzzMhYzWs7LOd5ywIgi0ovVUR0DDoOSd5KwBwnzvoPneQtiuX4gIAx2j16q3rxVsBgCa/HL0S3DuP/LVP7wzKohU5QeRS4l2SDb2MCIls0c5ZvE/6hbIYzzMhsiZhyCOPdM++L+GcAVlQeotBUygXCSKXvoEHgioDx3QldZq8spizP9h1PQVM6bO28OeZ58PNmMMqXX23PNJdZjNHUZH6+pKbbak7ZQNA19AHcSagEKaTt3oXAAwff0upmBILP/1dXKVp+t0/CyzjWH6DoaqB1JkElok6e93nDgZ7WuTG5bd+Rl9aHxnq6nj+f+XyJEVb7rEsWseEfC2Pfw9EEVdp7Ct30NYC2lqIUTQAaAsrG770E3kS5+l9Q4dfk0sAAAQewXB741ZjVQOptwCCsiFfsLvZeXofF8vQY0Jo9NaGTfrSelJnRjCMCflCfW2uM/uZoEdhKTU5Wx7/HhcN2ZZtNVYtyZ7/pO6PRN6amxwrtg8ded15ai+u1tkbt+nLFhBao8hzTNAT6GoaOT7WayGRe/klaGuhbdlmTUElodYjmPKTlvA5L/3p+8nTyZYHo2hj9TJ92QLaWoDTOgCRi4Wjzj5vy3HFN7L63q+qLAUXfvUP1kXrHSt3ICjmazs9eOglBMULt9xtrFgi8Ky3+djQkTekpsBk7SUsi9YVbbln7KrjPTMAMPm/r8Sk7uekypNkzGFNKtJ91rAb67S0I874WT7O8wyAiGGUhrIYdSVWQ1X6Xp6h6HDn0AGFMB192QK1ozQ60hvM2sM3WTQFFfmrb6RMo2G3GIbrSup0JXWKviT3uYP60npNfjltLYi5B5NyCQTDjdXLAMDbfEzqNMFojbGqAQAEjkEwDMVJkee5eMoTwycyzCUWRbH63q/S1rEaKGWy20x2Y/XS9md/ykZSpmrryxeW7nwEJaikhDLaKKPNsmBN33vP+C5liDVXO0odK25QWcb2IsmSP+R8f+QQWoPKUlB5++dwtW5UhBO0rSg988mW31TTWLz9IQRFeSYec/ejhIoy2hAUBYCE3xX3DEVHehRJIOfyoARZ/9FvSV+XJITWaNAaDRWLXWf2D37wilyF4oR1ycbCjXdIp9YlG9hoUGVymGqXAwAKlH35DUzI57l4eGr2AJDwOwOdF3Bai6s0pNE64dxPmOTfd7L3cwrlgbkf6W7QFpXnbVBKx4Hj4xe6nhdz2BPBsWoXjPZezSQl2x/kouHu138XGmgXWZYy5xWsv0VXUudYsT060pP8roZ6WxM+J2WyWxZv6H9PuYuHsXIJRtGiKHibj0qShM/Z/Pt/lY5Ldjxs+v/tnXlwG+d1wN/euO+LBAiCoiiKokiapK7otA4rkWonluPE9tSx0ybNNPknM53mj4yTdtq09Uym7UwyGbfpuJm2yaR2Et925NiO7sM6KIm6eJPgBeIg7muxi93tH0uBywVIAiClKop+fy3ee/vhw1vst+97+77d5u6037t00l3E1rUPQdGZc+9HB6/k0wlCa7C07bR2PkpoDI5thyd//1rBUmVzez73VQTD0n6v//xv034vCILC7LBvekzf2O4+8ByXTRfHQXX7nimzfZEy/SNFaXE1PP41js35j3+YnhnlWYbQGLTuZtlAX2n/caXGtffLCIpGB3qmjv+azzMAoDDa1zz5l4Ran5oeKT4uImX2h2eZ+Mh1QqOPDV1Lz4wxiQiKEyqHx7n7CGWwWjv3RPou0JEFy4lqth32fvCz1PSwc/dTxvWbbF37gOeHfvMjOux3H3hO39hubO6WDkCV2qemhlNTw+J2y4vfJ7XGgmoxyj++Vfiziv7Ag1TpLgjcteHXy3mJtL5ho8pWl/GPJyf65bqVgaD46Ls/jY/d5JmcIPB02Df2wX/SET8A2DcflBgKs9dPA4CxuUt2EQYA04atAJAYu1UcRFQKSpCTx14PXjnGpmKCwDOJiO/su+K4oGuYK34Rqd31JIJhdHhm5K1XUtPDApcXeC4bmvYe/a/4yHUAxPno0+LVUkr57YuU7Z951DUeLpcZfP1fwrfO05EAk4ymZ8b8Fz6Mj1yXmlXaf52nBSVIQeCnT74hnl0AQEcDwZ5jAGBs7oJF6vLK7A8ATB771ei7/xHpu5iLhQSe4xg6OdHvPfrfAACAaFzrZPbxsZvxsZscQwd6PgEAjFTM3jyX8Y/zbG72xlkAUBjtK7GvgvKPb9X+rJT5Q6jU22rbDjha9yr0duu6bRKbPwAYNnV58H8iyTG5ogSIXcxeXTiKYLh982Prn/9u+zd/2PKVl2ybDqzQrWnfSC62YMQUOC584ywAqGx1hFpXkEf6L3EMjeKkaf3meWsAUmvUuNYCQPjWXHi1EphEJDrQIxOKwzSuUGOkQpRQeou6xgMAwSvHi1/67b/4EQCQWqO2Tp4uLLP9AuX7R4rvzDs8U7qMTqSK/hMaIwCwqTjH0AUhAORiQQBAcRJXqqVyKcv25w4lbj3TYV8+kwSA+RllQXUnRmNis+K+Gb9XlLCpGADIrm2V2ldB+cd3Jf6siPkBq37rF7PxgFJnYzNxnFzpT71n8AI3Feo5f/unxW+vkZLxj/f+5K/G3n9V39imtDjTM2PJyUFb1z7H1kNsOjF74yzP52u2Hba0lzv9LElxQgoAMoEJcUMhySXxLBO5fQEAzG07pKOkqWULAMIko6sS/aV9o3IRQCFwK9wRVjk84kbaNyJuSKHDPjFBpq5pkKnKbL9A+f4pwOfZ9HSJb5FSRf/z2SQAECqtLGwk1HoAEASeX6TSuJz+LA2bSQJAcbhaSGMLAs+zLACwmTlPiukaQBBpoqdS+yoo//hW7c9Kud+T7rOxIQwl1AqLkjTguAJHSQRBWY5m85lkJhBNeoOxgRyblO+2KIhjy0G4k70K9nySnhlLTQ0BgLL/0rpn/1rrbhYna9VRMvNd+GPhCpVUPnv9jLVjN2Wwat3rkhMDAACAGFu2AEDk1vnFahQrovAPXhpcpRE3FrPPZ5IYpcSLIqDF7BejIv+IcHR62QcEVdH/xNhtYTeHYLhjy+dmLhwVvY0rNdauvQCQHO/n82zBWEo5/SmgrVun9WxQmmsJjR6jlChOIBheXGEjwhfFhgJXlI1F5uO2Su2rYDF/FlO1PyulrKT78PSx4eljUsk9I5oaX8WnvxvWtivMtWnfiDhICTwvbsCd+JmjM1L7Sim+bC4BkwgnvLd1Da2Wtp3igKWtayK1RoHnI30X5dZVIfDlnVplDo5FZuW2f4eK/CMiFH1pCcqxgQVmbDruO/uuc9cR26YDhqbObNiHEpTaXo+SFJOMTp98Q7LbAsrqDwChMXgOfVVldwOAwOVziXAuGuCYHJ9nte7m4skyQNm/okCl9pVT/vGt2p+VMj9gFZLuBteGkVOX5k0eGBBksZuDCIo5th0GQZi9eVamqghMUWKiXshW5LPphRoI9Z7SNbTqPBtIrZFJRo3rNwNAwrsK6faKECcpAECo9UwislAJACDGJmLyZSVU6p8yqa7/s72nhXzetfdLhNZA6IxCPs8kwvHRm6FrJ0pGghXhOfSiyu7O0+npk2/GR29IM2vrn/9u6QHrD5y76s8C8wOW0b0xOnGDY+jw6BWDawOTjkrM7hdqGnfUrttz9aMfFsfDy2Jo6lSYHKmp4dT0gkwHgqDug8+raxp8Z97J+FcUzamsLrkIQGWvFzfosDyDk5oaoiN+hclhbNkSunpCv6YNAMI3z8vMikHEBxKsEpmZMXFDU9sYKTrhlVaneIKl7+R0q6ZS/5RJdf2njLaa7Y8zicjwmz8Rs9SrBak3iz/K/+lvY0NXF+gQpDjd/mBw9/wpZT5EN9S1FrbFNz9XBKUybNz9zW1HXi5IzK72LU/8HYZTEqsVgyCCICBFD2imVMZNh7+n0jlQjOg+9JLBLr+fBQji2Cxmr44uEKOo++DzhrUdM+feD107KVVVgcrhVloXZI4RDDO3bQeATGC8ZNw023saAIzrunSeDShBMonInXxWaTgmCwCk3jz3EJXVoJDjt3bvK1qoiIgFB2w6npxcqmPlUIV/yqG6/tu692OUMnTt5KqfXRgxF0AVZxiMzd0PZHgFd9OfUlAAoLRm95YjGkt9/dan6rc+1bDj2Sp8Wr/xcDIiDU+QupaDvsGTXH517g6IzAyfufLhy6XbXPIENq7rooy25ORg+s7VGAAQFK0/+BVDU8f0yTeCV1YhSScIQsPjf2FoegQjFQiCKsw1DX/yNbEcJnDpY7k1AABEB3o4OkMZrObWbQAQvnV+6TRpZsYLAIRa79z1JK7SAiAoQZJ682I1AWXiO/0Oz+YURnvjk9/SONeKuWGlxek59KIY902feqtETrdCqvBPmVTRf1yhBgCtu5nQGJb+81RKLhbkWQYArF17SZ1JFBIaQ832x+v2PlNeScQfHnfPn1JwAMglwzM3PiGVuvBoDwDwHJeN++WGyzF48Zc6S0NN0y7xo6Wug6A0MyMrSgmVTy4TvfzBD8TtnqP/uFAJCIKKl9nAwpWDdfuf1a/tyM76cLW+8DTh2Wsn83SVyZTAxd+ZWrbWf/YFufzyJ4utAeLzTPj2BVvXXo2rqZx0e2y41/LIbpXNbWnfZWmf8zYA+M6+F7p6XGJYGXQ0MPb+q55Df6Zy1Dce+ZZUJfD89Kk3iwsjq6AK/5RJFf0P3zqvq2/ReTZs+OrfFIQCl2eS0eR4f6Dnk6pzdnye9V84WrvzCyqbu+WF73G5LILhYujnv/g7FCdsXfvk+9xlNK4mS9sOjFKipAIjFYRGDwDmjdt1nlaOyfIMzTG07/Q7bDou37NsKvJn1f2Zy2Gx2aTv+seZaJVJBJH5og8EqWt5zDd4onQoVAoMp2oad5icbUqNBUFxOhWaHjwZmugpGLTu+obe1iRun3vjOwW5yNJaY3M3ZbAmJ/rTM16pXGVzA4DSUqu01BaE0YHLVQ9YApcffO2fbZsO6Ne0kVojn2czgYlQ76lk0aIWKeEbZ6ydexAETYzdXPYkEXhu5K1XbF379I3tpM6MICiXy4hrteSmFZKaHun/xcuWR/boG1pJnRkQhE3FUlNDod5TuWhQbl0V1fmnTCrqP4qTlN7CpGKyFSEIhosrEPWNbYOv/2vJJb7lELp2Mjvrs3XtVZgcuErL5bKpqaHZ3lPJyUEx4rvHUAarvrFdJsRIBWaan0sFLn1cPECUSaX+rLo/85FbRS9SLYne2tiy8+ufvvVdS11nQ8cXrnz4T9ydIv1lQVCsddc3ErOj6ZgPAGrX7dEa3b3HfpSOTYsGKIYTpMbVst/esK14SFpaew8Qn0bgv3C0iqkNoTG0vPg9BEFH3/n35OSgXP1AsBL/rDoYpWx6+tuU0RbpuxS5fZ5JxsSaHgRBUFKhttc79zyFEpT/woeBSx/Jd35IEffSn/N3CVfr8TIIgta1PDYzfHpN5xcN9maBz49efTMys0zAL/DczZP/VviYik52H3pJb20sDFg8l89lY2yudOyztPY+x9K2A0FQJh5OTs4VhT3krmJp30kZbZnA+OTv/1euSydy0aDOs0G/toPSW+TaVQXBcBCEuar0u8G9ep/rvfTn/F1CsdKdySaCA+dQbC7OqgJLXSdOKnxDp6YHjl/+7Q8m+z72tD8hN1qOXCbGcyxOlih9fsAg1DpxPVCo9+TS6fZlUZlLFA1UB4LhhvqNlM4sVywEwXBSs2AKIIJiOIrNXwvvN0idBQDymdLTPQRBKaMVYG5FngxLy3adsxkQxNo6n0AsH5xSkdq5NLypsdPQIJ8WrSKmxi6VpU4uLYW0V8XYNu6mdGaDZ9GZ7Er8WSllVbqXSTw0cuHtlzoPfmd64ATPsZmEHwBAEMpbyoDYPZvNdR1KrQ0nVCiGr3AZ1P0MrlDzeUYQBJXN5Xr0aZSgctFg+NYy5VeuLY9Hx64rjY5UwEvH5UkZALC17vSeek0qMTZ0xLw3yvP/AgSeEwReX9cavHVKrpOA4gSh1DIpecmeztksCHxiaqCKr74HiAVf2vr1lo5d0f7LhbJGjFSoahpsnXsV5lqB44rX/QJANuJTGhzGhg46FpDrAAi1AUEQldmVDo2zmYTSVJtLhPg8Syi1CIbzLGNt3QkIkglNxCf6AADDKYOnjY4GxANK6cxKszPlG8nn0nNNWVyiVtYyAChNNQBAak2JyX6B56T7AiB6dwvHZNnMXA6I1BhV1rq0f4zNJgEAIxXa2iYul00FRjFCubBXAqW3qix1uXgoMzsJAHQsSKgMMe+NO79Szkr8WSmrXOludXdhOOUfnTv3cELpbN47PXhigVEp6tsO1zbtnur7ZOLmUSab4Dhm6xN/Lzd6UHDtf0b6SjiOocd/9/NliwYSviEEw0mtiR5ccCcRp9S1XZ9lMnEAwJUa+8Y9OKUK3jqDYJi97VFKZ0n5R+lEqCBn6WRhW2G0U1ozqTFER3uzMX9Bno3OsOk4pbUAgLVlR2Skh2NoR8f+UN/Z2u5DIAjhocvZ6Iy9dTcdD6VDExipkMpVFhcdD92foxUAzN44q29sV9c0OHcdce46wjE0zzIoQRaqeTiGnvz9a3S0xJDEMzlAQFvb5Lv0gVwHoHM26Vwt4YFPPY/+6chHryqMdpXFGR68ZO/YP9t/HgQBIxX5bEosegAAw5qOQO+xup1Pj370M1JrsnfsiwxerN/z7NjxX+icTcY1nYHrx0WtrGU+zzbse2G271w+lwFBUJpqpfvybC5Ppw31bShBRUeuklqTc9Ph2YEL7t3Peo//XOD5NY/9eej2GVJrEvwjKE5Ie4WRyrrPHAn0HiM1RnHAyucyzi2PD33wivSXSlmJPysFB4CmfV+XSU31jwwd/5lMuCwIgrpaDkwNHOM5FgAQFGv+zIvx0HBg7ILctAhTzYbE7Nhk31xGVmN0wV0r5fh/h0lE2HQCV6rFm0f+Cx/KHrpSknw2bVzzCB0POtr3+m+cKKQnzE3ds0OXcomQe8fT+Wwq1HdOY28w1G+cufZxNjoTuHFcXBEmlRe2eY7NhCaDN0+5tz/lPf16QZ6Nzt9zTIcmTI3d6eA4n2dwSoWRiulLH4gX+cjoVUP9RgBYTH5/InD5kbdeMTZ369d2KM01uFKDERSfZ5h4mI74k1ND0f5Li60mYdIxvXJjYnrA4Gmn9Jbpi+/LDOLjNxPTg2rHGqWpNjZ2vWH/C5HhHkpnFiMyOh5i07HkzLBoHB25kvQN6ZzNhMZgqN8Yun0mHfAqjA6NYw0AREevFrSyltPB8Xw2Fbx1WmxHtm9isi8dHFcY5uZJencrRioNnjZcoVaZXQiKJib7YmNzdR5MOibtFcfQeTqlc60P3p5rPBOaKH5oj5SV+LNScADwnn8dAGrbD0bHe+lEiNKY9a4WuWEZWOu7UYwIjH0KAABI06Zn2Fxq5OqbMrOSpOMzRnuzxdWRy0RVOkfN2p15RvILEQQnFBiuICg1ACi1tjyb5VhaHBmX0d4Tbr36fblocXyn3/adflsuXY5sdMYotIcHL9Z2fRZBkMIqXBSneDbHswwIgmltN6HU0vHg3DLjOzkxqXyBDQdsNsFzLCCIfN87ZGYnreu3kWp94MbJfC7tu3zU0b4vPtmXmJ4vHM8lIyXlBSryzz1A4LlI38Vlq96K4RiaVBv9Vz/WOZvFVQcyUFIBAOIZK/AcHQtaW3fFJ+7cdBIE6ZW4sMIMAYRjaYxUAgBGKHiWBqVGqoWFLQOA9O8t33chPJuLjF6NDF0WP2rsDaLxPAt6JXhP/FJprFmz78WB934stVqCqv1ZKTgAiNNanFIl/MMAwGTitvU7ZHbLgiCoa/2B6f5jope1ZrelrpPn2K2f/wcAuH7sR9lkibRLAW/vu2jnkTVdX0RRPBWdGu75lbN5vrjOWtfZtPm5wsfOg98BgDyTufje3y6rfWAwr+0OD/fYNuxEcQIjFPnc3LKPqPd6TedjdDwoniGUzoLipDgdy8xOOTc/EfP2SuUymwJSuUJvMzdtorQWOh5ITA2kguMaW30+l1YaHQZPO4JigACls1jWbVUaHdnIDJOKlpTHJ/ukX/EAYGhoj3mvK/Q2R+fB2f5zcjWAvq5FobcRKl02MgMAs/3nmz//7du/flnUZkITzq2fV9s8xTPK8OAl984v6ZzNGEmlrnopnfyemqxlKbJ9Zdro6NX63c+prW4UJyfO/iYV8JrXb3Pv+jKCIJPn3+bZnLRXpNbk6NjPMbSYViPVBsuGHQqDvXbT4dDtM+U/cOYuMT/Ye7Z/GQSgEyGFzoKg2NjZBenbh9zPIAgqCIIYUCEoJr1TjmC4GM9L5TKbAovJzWs3sdmkGDohKAYgFD94ZDH5HxXmdZs5NhefuF2YQ5FqQ03358YlN0PE52GV9DMAoBhecmF/ccvFyPa1rP9MPpuKjc8ly1Gc5Dm2kElAMZznuEIQLu0VgmIIihWedHxfMZ909577lcbWQGlM6dB4MjgqsXnI/Y40VpKdCYX/t1S+2NlSUm5s6CBUuvDw3ISipA0sLv+jgufyAscVfG5s7DR62qcuvie1WdpRJUcrKGq5JIV9da71hvqNGKmcOPPree3CAUj2RbK/x9KdfMhDHvKQhzzkIQ95yAPE/wHdnwd3YifvWAAAAABJRU5ErkJggg==",
         "type": "image",
         "xaxis": "x",
         "yaxis": "y"
        }
       ],
       "layout": {
        "template": {
         "data": {
          "bar": [
           {
            "error_x": {
             "color": "#2a3f5f"
            },
            "error_y": {
             "color": "#2a3f5f"
            },
            "marker": {
             "line": {
              "color": "white",
              "width": 0.5
             },
             "pattern": {
              "fillmode": "overlay",
              "size": 10,
              "solidity": 0.2
             }
            },
            "type": "bar"
           }
          ],
          "barpolar": [
           {
            "marker": {
             "line": {
              "color": "white",
              "width": 0.5
             },
             "pattern": {
              "fillmode": "overlay",
              "size": 10,
              "solidity": 0.2
             }
            },
            "type": "barpolar"
           }
          ],
          "carpet": [
           {
            "aaxis": {
             "endlinecolor": "#2a3f5f",
             "gridcolor": "#C8D4E3",
             "linecolor": "#C8D4E3",
             "minorgridcolor": "#C8D4E3",
             "startlinecolor": "#2a3f5f"
            },
            "baxis": {
             "endlinecolor": "#2a3f5f",
             "gridcolor": "#C8D4E3",
             "linecolor": "#C8D4E3",
             "minorgridcolor": "#C8D4E3",
             "startlinecolor": "#2a3f5f"
            },
            "type": "carpet"
           }
          ],
          "choropleth": [
           {
            "colorbar": {
             "outlinewidth": 0,
             "ticks": ""
            },
            "type": "choropleth"
           }
          ],
          "contour": [
           {
            "colorbar": {
             "outlinewidth": 0,
             "ticks": ""
            },
            "colorscale": [
             [
              0,
              "#0d0887"
             ],
             [
              0.1111111111111111,
              "#46039f"
             ],
             [
              0.2222222222222222,
              "#7201a8"
             ],
             [
              0.3333333333333333,
              "#9c179e"
             ],
             [
              0.4444444444444444,
              "#bd3786"
             ],
             [
              0.5555555555555556,
              "#d8576b"
             ],
             [
              0.6666666666666666,
              "#ed7953"
             ],
             [
              0.7777777777777778,
              "#fb9f3a"
             ],
             [
              0.8888888888888888,
              "#fdca26"
             ],
             [
              1,
              "#f0f921"
             ]
            ],
            "type": "contour"
           }
          ],
          "contourcarpet": [
           {
            "colorbar": {
             "outlinewidth": 0,
             "ticks": ""
            },
            "type": "contourcarpet"
           }
          ],
          "heatmap": [
           {
            "colorbar": {
             "outlinewidth": 0,
             "ticks": ""
            },
            "colorscale": [
             [
              0,
              "#0d0887"
             ],
             [
              0.1111111111111111,
              "#46039f"
             ],
             [
              0.2222222222222222,
              "#7201a8"
             ],
             [
              0.3333333333333333,
              "#9c179e"
             ],
             [
              0.4444444444444444,
              "#bd3786"
             ],
             [
              0.5555555555555556,
              "#d8576b"
             ],
             [
              0.6666666666666666,
              "#ed7953"
             ],
             [
              0.7777777777777778,
              "#fb9f3a"
             ],
             [
              0.8888888888888888,
              "#fdca26"
             ],
             [
              1,
              "#f0f921"
             ]
            ],
            "type": "heatmap"
           }
          ],
          "heatmapgl": [
           {
            "colorbar": {
             "outlinewidth": 0,
             "ticks": ""
            },
            "colorscale": [
             [
              0,
              "#0d0887"
             ],
             [
              0.1111111111111111,
              "#46039f"
             ],
             [
              0.2222222222222222,
              "#7201a8"
             ],
             [
              0.3333333333333333,
              "#9c179e"
             ],
             [
              0.4444444444444444,
              "#bd3786"
             ],
             [
              0.5555555555555556,
              "#d8576b"
             ],
             [
              0.6666666666666666,
              "#ed7953"
             ],
             [
              0.7777777777777778,
              "#fb9f3a"
             ],
             [
              0.8888888888888888,
              "#fdca26"
             ],
             [
              1,
              "#f0f921"
             ]
            ],
            "type": "heatmapgl"
           }
          ],
          "histogram": [
           {
            "marker": {
             "pattern": {
              "fillmode": "overlay",
              "size": 10,
              "solidity": 0.2
             }
            },
            "type": "histogram"
           }
          ],
          "histogram2d": [
           {
            "colorbar": {
             "outlinewidth": 0,
             "ticks": ""
            },
            "colorscale": [
             [
              0,
              "#0d0887"
             ],
             [
              0.1111111111111111,
              "#46039f"
             ],
             [
              0.2222222222222222,
              "#7201a8"
             ],
             [
              0.3333333333333333,
              "#9c179e"
             ],
             [
              0.4444444444444444,
              "#bd3786"
             ],
             [
              0.5555555555555556,
              "#d8576b"
             ],
             [
              0.6666666666666666,
              "#ed7953"
             ],
             [
              0.7777777777777778,
              "#fb9f3a"
             ],
             [
              0.8888888888888888,
              "#fdca26"
             ],
             [
              1,
              "#f0f921"
             ]
            ],
            "type": "histogram2d"
           }
          ],
          "histogram2dcontour": [
           {
            "colorbar": {
             "outlinewidth": 0,
             "ticks": ""
            },
            "colorscale": [
             [
              0,
              "#0d0887"
             ],
             [
              0.1111111111111111,
              "#46039f"
             ],
             [
              0.2222222222222222,
              "#7201a8"
             ],
             [
              0.3333333333333333,
              "#9c179e"
             ],
             [
              0.4444444444444444,
              "#bd3786"
             ],
             [
              0.5555555555555556,
              "#d8576b"
             ],
             [
              0.6666666666666666,
              "#ed7953"
             ],
             [
              0.7777777777777778,
              "#fb9f3a"
             ],
             [
              0.8888888888888888,
              "#fdca26"
             ],
             [
              1,
              "#f0f921"
             ]
            ],
            "type": "histogram2dcontour"
           }
          ],
          "mesh3d": [
           {
            "colorbar": {
             "outlinewidth": 0,
             "ticks": ""
            },
            "type": "mesh3d"
           }
          ],
          "parcoords": [
           {
            "line": {
             "colorbar": {
              "outlinewidth": 0,
              "ticks": ""
             }
            },
            "type": "parcoords"
           }
          ],
          "pie": [
           {
            "automargin": true,
            "type": "pie"
           }
          ],
          "scatter": [
           {
            "fillpattern": {
             "fillmode": "overlay",
             "size": 10,
             "solidity": 0.2
            },
            "type": "scatter"
           }
          ],
          "scatter3d": [
           {
            "line": {
             "colorbar": {
              "outlinewidth": 0,
              "ticks": ""
             }
            },
            "marker": {
             "colorbar": {
              "outlinewidth": 0,
              "ticks": ""
             }
            },
            "type": "scatter3d"
           }
          ],
          "scattercarpet": [
           {
            "marker": {
             "colorbar": {
              "outlinewidth": 0,
              "ticks": ""
             }
            },
            "type": "scattercarpet"
           }
          ],
          "scattergeo": [
           {
            "marker": {
             "colorbar": {
              "outlinewidth": 0,
              "ticks": ""
             }
            },
            "type": "scattergeo"
           }
          ],
          "scattergl": [
           {
            "marker": {
             "colorbar": {
              "outlinewidth": 0,
              "ticks": ""
             }
            },
            "type": "scattergl"
           }
          ],
          "scattermapbox": [
           {
            "marker": {
             "colorbar": {
              "outlinewidth": 0,
              "ticks": ""
             }
            },
            "type": "scattermapbox"
           }
          ],
          "scatterpolar": [
           {
            "marker": {
             "colorbar": {
              "outlinewidth": 0,
              "ticks": ""
             }
            },
            "type": "scatterpolar"
           }
          ],
          "scatterpolargl": [
           {
            "marker": {
             "colorbar": {
              "outlinewidth": 0,
              "ticks": ""
             }
            },
            "type": "scatterpolargl"
           }
          ],
          "scatterternary": [
           {
            "marker": {
             "colorbar": {
              "outlinewidth": 0,
              "ticks": ""
             }
            },
            "type": "scatterternary"
           }
          ],
          "surface": [
           {
            "colorbar": {
             "outlinewidth": 0,
             "ticks": ""
            },
            "colorscale": [
             [
              0,
              "#0d0887"
             ],
             [
              0.1111111111111111,
              "#46039f"
             ],
             [
              0.2222222222222222,
              "#7201a8"
             ],
             [
              0.3333333333333333,
              "#9c179e"
             ],
             [
              0.4444444444444444,
              "#bd3786"
             ],
             [
              0.5555555555555556,
              "#d8576b"
             ],
             [
              0.6666666666666666,
              "#ed7953"
             ],
             [
              0.7777777777777778,
              "#fb9f3a"
             ],
             [
              0.8888888888888888,
              "#fdca26"
             ],
             [
              1,
              "#f0f921"
             ]
            ],
            "type": "surface"
           }
          ],
          "table": [
           {
            "cells": {
             "fill": {
              "color": "#EBF0F8"
             },
             "line": {
              "color": "white"
             }
            },
            "header": {
             "fill": {
              "color": "#C8D4E3"
             },
             "line": {
              "color": "white"
             }
            },
            "type": "table"
           }
          ]
         },
         "layout": {
          "annotationdefaults": {
           "arrowcolor": "#2a3f5f",
           "arrowhead": 0,
           "arrowwidth": 1
          },
          "autotypenumbers": "strict",
          "coloraxis": {
           "colorbar": {
            "outlinewidth": 0,
            "ticks": ""
           }
          },
          "colorscale": {
           "diverging": [
            [
             0,
             "#8e0152"
            ],
            [
             0.1,
             "#c51b7d"
            ],
            [
             0.2,
             "#de77ae"
            ],
            [
             0.3,
             "#f1b6da"
            ],
            [
             0.4,
             "#fde0ef"
            ],
            [
             0.5,
             "#f7f7f7"
            ],
            [
             0.6,
             "#e6f5d0"
            ],
            [
             0.7,
             "#b8e186"
            ],
            [
             0.8,
             "#7fbc41"
            ],
            [
             0.9,
             "#4d9221"
            ],
            [
             1,
             "#276419"
            ]
           ],
           "sequential": [
            [
             0,
             "#0d0887"
            ],
            [
             0.1111111111111111,
             "#46039f"
            ],
            [
             0.2222222222222222,
             "#7201a8"
            ],
            [
             0.3333333333333333,
             "#9c179e"
            ],
            [
             0.4444444444444444,
             "#bd3786"
            ],
            [
             0.5555555555555556,
             "#d8576b"
            ],
            [
             0.6666666666666666,
             "#ed7953"
            ],
            [
             0.7777777777777778,
             "#fb9f3a"
            ],
            [
             0.8888888888888888,
             "#fdca26"
            ],
            [
             1,
             "#f0f921"
            ]
           ],
           "sequentialminus": [
            [
             0,
             "#0d0887"
            ],
            [
             0.1111111111111111,
             "#46039f"
            ],
            [
             0.2222222222222222,
             "#7201a8"
            ],
            [
             0.3333333333333333,
             "#9c179e"
            ],
            [
             0.4444444444444444,
             "#bd3786"
            ],
            [
             0.5555555555555556,
             "#d8576b"
            ],
            [
             0.6666666666666666,
             "#ed7953"
            ],
            [
             0.7777777777777778,
             "#fb9f3a"
            ],
            [
             0.8888888888888888,
             "#fdca26"
            ],
            [
             1,
             "#f0f921"
            ]
           ]
          },
          "colorway": [
           "#636efa",
           "#EF553B",
           "#00cc96",
           "#ab63fa",
           "#FFA15A",
           "#19d3f3",
           "#FF6692",
           "#B6E880",
           "#FF97FF",
           "#FECB52"
          ],
          "font": {
           "color": "#2a3f5f"
          },
          "geo": {
           "bgcolor": "white",
           "lakecolor": "white",
           "landcolor": "white",
           "showlakes": true,
           "showland": true,
           "subunitcolor": "#C8D4E3"
          },
          "hoverlabel": {
           "align": "left"
          },
          "hovermode": "closest",
          "mapbox": {
           "style": "light"
          },
          "paper_bgcolor": "white",
          "plot_bgcolor": "white",
          "polar": {
           "angularaxis": {
            "gridcolor": "#EBF0F8",
            "linecolor": "#EBF0F8",
            "ticks": ""
           },
           "bgcolor": "white",
           "radialaxis": {
            "gridcolor": "#EBF0F8",
            "linecolor": "#EBF0F8",
            "ticks": ""
           }
          },
          "scene": {
           "xaxis": {
            "backgroundcolor": "white",
            "gridcolor": "#DFE8F3",
            "gridwidth": 2,
            "linecolor": "#EBF0F8",
            "showbackground": true,
            "ticks": "",
            "zerolinecolor": "#EBF0F8"
           },
           "yaxis": {
            "backgroundcolor": "white",
            "gridcolor": "#DFE8F3",
            "gridwidth": 2,
            "linecolor": "#EBF0F8",
            "showbackground": true,
            "ticks": "",
            "zerolinecolor": "#EBF0F8"
           },
           "zaxis": {
            "backgroundcolor": "white",
            "gridcolor": "#DFE8F3",
            "gridwidth": 2,
            "linecolor": "#EBF0F8",
            "showbackground": true,
            "ticks": "",
            "zerolinecolor": "#EBF0F8"
           }
          },
          "shapedefaults": {
           "line": {
            "color": "#2a3f5f"
           }
          },
          "ternary": {
           "aaxis": {
            "gridcolor": "#DFE8F3",
            "linecolor": "#A2B1C6",
            "ticks": ""
           },
           "baxis": {
            "gridcolor": "#DFE8F3",
            "linecolor": "#A2B1C6",
            "ticks": ""
           },
           "bgcolor": "white",
           "caxis": {
            "gridcolor": "#DFE8F3",
            "linecolor": "#A2B1C6",
            "ticks": ""
           }
          },
          "title": {
           "x": 0.05
          },
          "xaxis": {
           "automargin": true,
           "gridcolor": "#EBF0F8",
           "linecolor": "#EBF0F8",
           "ticks": "",
           "title": {
            "standoff": 15
           },
           "zerolinecolor": "#EBF0F8",
           "zerolinewidth": 2
          },
          "yaxis": {
           "automargin": true,
           "gridcolor": "#EBF0F8",
           "linecolor": "#EBF0F8",
           "ticks": "",
           "title": {
            "standoff": 15
           },
           "zerolinecolor": "#EBF0F8",
           "zerolinewidth": 2
          }
         }
        },
        "title": {
         "text": "Hashtags Word Cloud"
        },
        "xaxis": {
         "anchor": "y",
         "domain": [
          0,
          1
         ]
        },
        "yaxis": {
         "anchor": "x",
         "domain": [
          0,
          1
         ]
        }
       }
      }
     },
     "metadata": {},
     "output_type": "display_data"
    }
   ],
   "source": [
    "from wordcloud import WordCloud\n",
    "\n",
    "hashtags = ' '.join(df['Hashtags'].astype(str))\n",
    "wordcloud = WordCloud().generate(hashtags)\n",
    "\n",
    "fig = px.imshow(wordcloud, title='Hashtags Word Cloud')\n",
    "fig.show()"
   ]
  },
  {
   "cell_type": "code",
   "execution_count": 57,
   "metadata": {},
   "outputs": [
    {
     "data": {
      "application/vnd.plotly.v1+json": {
       "config": {
        "plotlyServerURL": "https://plot.ly"
       },
       "data": [
        {
         "colorscale": [
          [
           1,
           "rgb(255, 0, 255)"
          ],
          [
           0.5,
           "rgb(0, 0, 255)"
          ],
          [
           1,
           "rgb(255, 255, 0)"
          ]
         ],
         "type": "heatmap",
         "x": [
          "Impressions",
          "From Home",
          "From Hashtags",
          "From Explore",
          "From Other",
          "Saves",
          "Comments",
          "Shares",
          "Likes",
          "Profile Visits",
          "Follows"
         ],
         "y": [
          "Impressions",
          "From Home",
          "From Hashtags",
          "From Explore",
          "From Other",
          "Saves",
          "Comments",
          "Shares",
          "Likes",
          "Profile Visits",
          "Follows"
         ],
         "z": [
          [
           1,
           0.8446984764644079,
           0.5607600444158378,
           0.8936074202433567,
           0.5929604758091378,
           0.7792314114268593,
           -0.028523933548663824,
           0.6346751252181763,
           0.8498353377178177,
           0.7609809286546657,
           0.8893634430344086
          ],
          [
           0.8446984764644079,
           1,
           0.1775156543309878,
           0.800573110578866,
           0.5556659551465412,
           0.768817005684724,
           0.012716248342545502,
           0.6749850448685393,
           0.698329637893805,
           0.531076205366268,
           0.6726750588858736
          ],
          [
           0.5607600444158378,
           0.1775156543309878,
           1,
           0.1904532189703739,
           0.2296233181732429,
           0.30592870314657494,
           0.1614388259073108,
           0.21951145515685286,
           0.6621242000877943,
           0.6913449048454711,
           0.5554854735531087
          ],
          [
           0.8936074202433567,
           0.800573110578866,
           0.1904532189703739,
           1,
           0.49568473618614567,
           0.7478028035868068,
           -0.15856537914498336,
           0.6157309658741993,
           0.653699336224973,
           0.5318502558055156,
           0.7960189422044351
          ],
          [
           0.5929604758091378,
           0.5556659551465412,
           0.2296233181732429,
           0.49568473618614567,
           1,
           0.3319068864386735,
           -0.1087029734222875,
           0.15683375635736396,
           0.3935104122090607,
           0.6330799446255249,
           0.5467370225356449
          ],
          [
           0.7792314114268593,
           0.768817005684724,
           0.30592870314657494,
           0.7478028035868068,
           0.3319068864386735,
           1,
           -0.026912263707560984,
           0.860324185158795,
           0.8456432932068351,
           0.36062821319868793,
           0.6284608823148304
          ],
          [
           -0.028523933548663824,
           0.012716248342545502,
           0.1614388259073108,
           -0.15856537914498336,
           -0.1087029734222875,
           -0.026912263707560984,
           1,
           0.016932532855360494,
           0.1235861027264814,
           0.09671424134518669,
           -0.060630774375331827
          ],
          [
           0.6346751252181763,
           0.6749850448685393,
           0.21951145515685286,
           0.6157309658741993,
           0.15683375635736396,
           0.860324185158795,
           0.016932532855360494,
           1,
           0.707794002688105,
           0.24536082330737743,
           0.4930698051158401
          ],
          [
           0.8498353377178177,
           0.698329637893805,
           0.6621242000877943,
           0.653699336224973,
           0.3935104122090607,
           0.8456432932068351,
           0.1235861027264814,
           0.707794002688105,
           1,
           0.6261070345218044,
           0.746333165592919
          ],
          [
           0.7609809286546657,
           0.531076205366268,
           0.6913449048454711,
           0.5318502558055156,
           0.6330799446255249,
           0.36062821319868793,
           0.09671424134518669,
           0.24536082330737743,
           0.6261070345218044,
           1,
           0.8531517459145104
          ],
          [
           0.8893634430344086,
           0.6726750588858736,
           0.5554854735531087,
           0.7960189422044351,
           0.5467370225356449,
           0.6284608823148304,
           -0.060630774375331827,
           0.4930698051158401,
           0.746333165592919,
           0.8531517459145104,
           1
          ]
         ],
         "zmax": 1,
         "zmin": -1
        }
       ],
       "layout": {
        "template": {
         "data": {
          "bar": [
           {
            "error_x": {
             "color": "#2a3f5f"
            },
            "error_y": {
             "color": "#2a3f5f"
            },
            "marker": {
             "line": {
              "color": "white",
              "width": 0.5
             },
             "pattern": {
              "fillmode": "overlay",
              "size": 10,
              "solidity": 0.2
             }
            },
            "type": "bar"
           }
          ],
          "barpolar": [
           {
            "marker": {
             "line": {
              "color": "white",
              "width": 0.5
             },
             "pattern": {
              "fillmode": "overlay",
              "size": 10,
              "solidity": 0.2
             }
            },
            "type": "barpolar"
           }
          ],
          "carpet": [
           {
            "aaxis": {
             "endlinecolor": "#2a3f5f",
             "gridcolor": "#C8D4E3",
             "linecolor": "#C8D4E3",
             "minorgridcolor": "#C8D4E3",
             "startlinecolor": "#2a3f5f"
            },
            "baxis": {
             "endlinecolor": "#2a3f5f",
             "gridcolor": "#C8D4E3",
             "linecolor": "#C8D4E3",
             "minorgridcolor": "#C8D4E3",
             "startlinecolor": "#2a3f5f"
            },
            "type": "carpet"
           }
          ],
          "choropleth": [
           {
            "colorbar": {
             "outlinewidth": 0,
             "ticks": ""
            },
            "type": "choropleth"
           }
          ],
          "contour": [
           {
            "colorbar": {
             "outlinewidth": 0,
             "ticks": ""
            },
            "colorscale": [
             [
              0,
              "#0d0887"
             ],
             [
              0.1111111111111111,
              "#46039f"
             ],
             [
              0.2222222222222222,
              "#7201a8"
             ],
             [
              0.3333333333333333,
              "#9c179e"
             ],
             [
              0.4444444444444444,
              "#bd3786"
             ],
             [
              0.5555555555555556,
              "#d8576b"
             ],
             [
              0.6666666666666666,
              "#ed7953"
             ],
             [
              0.7777777777777778,
              "#fb9f3a"
             ],
             [
              0.8888888888888888,
              "#fdca26"
             ],
             [
              1,
              "#f0f921"
             ]
            ],
            "type": "contour"
           }
          ],
          "contourcarpet": [
           {
            "colorbar": {
             "outlinewidth": 0,
             "ticks": ""
            },
            "type": "contourcarpet"
           }
          ],
          "heatmap": [
           {
            "colorbar": {
             "outlinewidth": 0,
             "ticks": ""
            },
            "colorscale": [
             [
              0,
              "#0d0887"
             ],
             [
              0.1111111111111111,
              "#46039f"
             ],
             [
              0.2222222222222222,
              "#7201a8"
             ],
             [
              0.3333333333333333,
              "#9c179e"
             ],
             [
              0.4444444444444444,
              "#bd3786"
             ],
             [
              0.5555555555555556,
              "#d8576b"
             ],
             [
              0.6666666666666666,
              "#ed7953"
             ],
             [
              0.7777777777777778,
              "#fb9f3a"
             ],
             [
              0.8888888888888888,
              "#fdca26"
             ],
             [
              1,
              "#f0f921"
             ]
            ],
            "type": "heatmap"
           }
          ],
          "heatmapgl": [
           {
            "colorbar": {
             "outlinewidth": 0,
             "ticks": ""
            },
            "colorscale": [
             [
              0,
              "#0d0887"
             ],
             [
              0.1111111111111111,
              "#46039f"
             ],
             [
              0.2222222222222222,
              "#7201a8"
             ],
             [
              0.3333333333333333,
              "#9c179e"
             ],
             [
              0.4444444444444444,
              "#bd3786"
             ],
             [
              0.5555555555555556,
              "#d8576b"
             ],
             [
              0.6666666666666666,
              "#ed7953"
             ],
             [
              0.7777777777777778,
              "#fb9f3a"
             ],
             [
              0.8888888888888888,
              "#fdca26"
             ],
             [
              1,
              "#f0f921"
             ]
            ],
            "type": "heatmapgl"
           }
          ],
          "histogram": [
           {
            "marker": {
             "pattern": {
              "fillmode": "overlay",
              "size": 10,
              "solidity": 0.2
             }
            },
            "type": "histogram"
           }
          ],
          "histogram2d": [
           {
            "colorbar": {
             "outlinewidth": 0,
             "ticks": ""
            },
            "colorscale": [
             [
              0,
              "#0d0887"
             ],
             [
              0.1111111111111111,
              "#46039f"
             ],
             [
              0.2222222222222222,
              "#7201a8"
             ],
             [
              0.3333333333333333,
              "#9c179e"
             ],
             [
              0.4444444444444444,
              "#bd3786"
             ],
             [
              0.5555555555555556,
              "#d8576b"
             ],
             [
              0.6666666666666666,
              "#ed7953"
             ],
             [
              0.7777777777777778,
              "#fb9f3a"
             ],
             [
              0.8888888888888888,
              "#fdca26"
             ],
             [
              1,
              "#f0f921"
             ]
            ],
            "type": "histogram2d"
           }
          ],
          "histogram2dcontour": [
           {
            "colorbar": {
             "outlinewidth": 0,
             "ticks": ""
            },
            "colorscale": [
             [
              0,
              "#0d0887"
             ],
             [
              0.1111111111111111,
              "#46039f"
             ],
             [
              0.2222222222222222,
              "#7201a8"
             ],
             [
              0.3333333333333333,
              "#9c179e"
             ],
             [
              0.4444444444444444,
              "#bd3786"
             ],
             [
              0.5555555555555556,
              "#d8576b"
             ],
             [
              0.6666666666666666,
              "#ed7953"
             ],
             [
              0.7777777777777778,
              "#fb9f3a"
             ],
             [
              0.8888888888888888,
              "#fdca26"
             ],
             [
              1,
              "#f0f921"
             ]
            ],
            "type": "histogram2dcontour"
           }
          ],
          "mesh3d": [
           {
            "colorbar": {
             "outlinewidth": 0,
             "ticks": ""
            },
            "type": "mesh3d"
           }
          ],
          "parcoords": [
           {
            "line": {
             "colorbar": {
              "outlinewidth": 0,
              "ticks": ""
             }
            },
            "type": "parcoords"
           }
          ],
          "pie": [
           {
            "automargin": true,
            "type": "pie"
           }
          ],
          "scatter": [
           {
            "fillpattern": {
             "fillmode": "overlay",
             "size": 10,
             "solidity": 0.2
            },
            "type": "scatter"
           }
          ],
          "scatter3d": [
           {
            "line": {
             "colorbar": {
              "outlinewidth": 0,
              "ticks": ""
             }
            },
            "marker": {
             "colorbar": {
              "outlinewidth": 0,
              "ticks": ""
             }
            },
            "type": "scatter3d"
           }
          ],
          "scattercarpet": [
           {
            "marker": {
             "colorbar": {
              "outlinewidth": 0,
              "ticks": ""
             }
            },
            "type": "scattercarpet"
           }
          ],
          "scattergeo": [
           {
            "marker": {
             "colorbar": {
              "outlinewidth": 0,
              "ticks": ""
             }
            },
            "type": "scattergeo"
           }
          ],
          "scattergl": [
           {
            "marker": {
             "colorbar": {
              "outlinewidth": 0,
              "ticks": ""
             }
            },
            "type": "scattergl"
           }
          ],
          "scattermapbox": [
           {
            "marker": {
             "colorbar": {
              "outlinewidth": 0,
              "ticks": ""
             }
            },
            "type": "scattermapbox"
           }
          ],
          "scatterpolar": [
           {
            "marker": {
             "colorbar": {
              "outlinewidth": 0,
              "ticks": ""
             }
            },
            "type": "scatterpolar"
           }
          ],
          "scatterpolargl": [
           {
            "marker": {
             "colorbar": {
              "outlinewidth": 0,
              "ticks": ""
             }
            },
            "type": "scatterpolargl"
           }
          ],
          "scatterternary": [
           {
            "marker": {
             "colorbar": {
              "outlinewidth": 0,
              "ticks": ""
             }
            },
            "type": "scatterternary"
           }
          ],
          "surface": [
           {
            "colorbar": {
             "outlinewidth": 0,
             "ticks": ""
            },
            "colorscale": [
             [
              0,
              "#0d0887"
             ],
             [
              0.1111111111111111,
              "#46039f"
             ],
             [
              0.2222222222222222,
              "#7201a8"
             ],
             [
              0.3333333333333333,
              "#9c179e"
             ],
             [
              0.4444444444444444,
              "#bd3786"
             ],
             [
              0.5555555555555556,
              "#d8576b"
             ],
             [
              0.6666666666666666,
              "#ed7953"
             ],
             [
              0.7777777777777778,
              "#fb9f3a"
             ],
             [
              0.8888888888888888,
              "#fdca26"
             ],
             [
              1,
              "#f0f921"
             ]
            ],
            "type": "surface"
           }
          ],
          "table": [
           {
            "cells": {
             "fill": {
              "color": "#EBF0F8"
             },
             "line": {
              "color": "white"
             }
            },
            "header": {
             "fill": {
              "color": "#C8D4E3"
             },
             "line": {
              "color": "white"
             }
            },
            "type": "table"
           }
          ]
         },
         "layout": {
          "annotationdefaults": {
           "arrowcolor": "#2a3f5f",
           "arrowhead": 0,
           "arrowwidth": 1
          },
          "autotypenumbers": "strict",
          "coloraxis": {
           "colorbar": {
            "outlinewidth": 0,
            "ticks": ""
           }
          },
          "colorscale": {
           "diverging": [
            [
             0,
             "#8e0152"
            ],
            [
             0.1,
             "#c51b7d"
            ],
            [
             0.2,
             "#de77ae"
            ],
            [
             0.3,
             "#f1b6da"
            ],
            [
             0.4,
             "#fde0ef"
            ],
            [
             0.5,
             "#f7f7f7"
            ],
            [
             0.6,
             "#e6f5d0"
            ],
            [
             0.7,
             "#b8e186"
            ],
            [
             0.8,
             "#7fbc41"
            ],
            [
             0.9,
             "#4d9221"
            ],
            [
             1,
             "#276419"
            ]
           ],
           "sequential": [
            [
             0,
             "#0d0887"
            ],
            [
             0.1111111111111111,
             "#46039f"
            ],
            [
             0.2222222222222222,
             "#7201a8"
            ],
            [
             0.3333333333333333,
             "#9c179e"
            ],
            [
             0.4444444444444444,
             "#bd3786"
            ],
            [
             0.5555555555555556,
             "#d8576b"
            ],
            [
             0.6666666666666666,
             "#ed7953"
            ],
            [
             0.7777777777777778,
             "#fb9f3a"
            ],
            [
             0.8888888888888888,
             "#fdca26"
            ],
            [
             1,
             "#f0f921"
            ]
           ],
           "sequentialminus": [
            [
             0,
             "#0d0887"
            ],
            [
             0.1111111111111111,
             "#46039f"
            ],
            [
             0.2222222222222222,
             "#7201a8"
            ],
            [
             0.3333333333333333,
             "#9c179e"
            ],
            [
             0.4444444444444444,
             "#bd3786"
            ],
            [
             0.5555555555555556,
             "#d8576b"
            ],
            [
             0.6666666666666666,
             "#ed7953"
            ],
            [
             0.7777777777777778,
             "#fb9f3a"
            ],
            [
             0.8888888888888888,
             "#fdca26"
            ],
            [
             1,
             "#f0f921"
            ]
           ]
          },
          "colorway": [
           "#636efa",
           "#EF553B",
           "#00cc96",
           "#ab63fa",
           "#FFA15A",
           "#19d3f3",
           "#FF6692",
           "#B6E880",
           "#FF97FF",
           "#FECB52"
          ],
          "font": {
           "color": "#2a3f5f"
          },
          "geo": {
           "bgcolor": "white",
           "lakecolor": "white",
           "landcolor": "white",
           "showlakes": true,
           "showland": true,
           "subunitcolor": "#C8D4E3"
          },
          "hoverlabel": {
           "align": "left"
          },
          "hovermode": "closest",
          "mapbox": {
           "style": "light"
          },
          "paper_bgcolor": "white",
          "plot_bgcolor": "white",
          "polar": {
           "angularaxis": {
            "gridcolor": "#EBF0F8",
            "linecolor": "#EBF0F8",
            "ticks": ""
           },
           "bgcolor": "white",
           "radialaxis": {
            "gridcolor": "#EBF0F8",
            "linecolor": "#EBF0F8",
            "ticks": ""
           }
          },
          "scene": {
           "xaxis": {
            "backgroundcolor": "white",
            "gridcolor": "#DFE8F3",
            "gridwidth": 2,
            "linecolor": "#EBF0F8",
            "showbackground": true,
            "ticks": "",
            "zerolinecolor": "#EBF0F8"
           },
           "yaxis": {
            "backgroundcolor": "white",
            "gridcolor": "#DFE8F3",
            "gridwidth": 2,
            "linecolor": "#EBF0F8",
            "showbackground": true,
            "ticks": "",
            "zerolinecolor": "#EBF0F8"
           },
           "zaxis": {
            "backgroundcolor": "white",
            "gridcolor": "#DFE8F3",
            "gridwidth": 2,
            "linecolor": "#EBF0F8",
            "showbackground": true,
            "ticks": "",
            "zerolinecolor": "#EBF0F8"
           }
          },
          "shapedefaults": {
           "line": {
            "color": "#2a3f5f"
           }
          },
          "ternary": {
           "aaxis": {
            "gridcolor": "#DFE8F3",
            "linecolor": "#A2B1C6",
            "ticks": ""
           },
           "baxis": {
            "gridcolor": "#DFE8F3",
            "linecolor": "#A2B1C6",
            "ticks": ""
           },
           "bgcolor": "white",
           "caxis": {
            "gridcolor": "#DFE8F3",
            "linecolor": "#A2B1C6",
            "ticks": ""
           }
          },
          "title": {
           "x": 0.05
          },
          "xaxis": {
           "automargin": true,
           "gridcolor": "#EBF0F8",
           "linecolor": "#EBF0F8",
           "ticks": "",
           "title": {
            "standoff": 15
           },
           "zerolinecolor": "#EBF0F8",
           "zerolinewidth": 2
          },
          "yaxis": {
           "automargin": true,
           "gridcolor": "#EBF0F8",
           "linecolor": "#EBF0F8",
           "ticks": "",
           "title": {
            "standoff": 15
           },
           "zerolinecolor": "#EBF0F8",
           "zerolinewidth": 2
          }
         }
        },
        "title": {
         "text": "Correlation Matrix"
        },
        "xaxis": {
         "title": {
          "text": "Features"
         }
        },
        "yaxis": {
         "title": {
          "text": "Features"
         }
        }
       }
      }
     },
     "metadata": {},
     "output_type": "display_data"
    }
   ],
   "source": [
    "num_data = df.select_dtypes(include = \"number\")\n",
    "corr_matrix = num_data.corr()\n",
    "\n",
    "colorscale = [[1, 'rgb(255, 0, 255)'],\n",
    "              [0.5, 'rgb(0, 0, 255)'],\n",
    "              [1, 'rgb(255, 255, 0)']]\n",
    "fig = go.Figure(data=go.Heatmap(z=corr_matrix.values,\n",
    "                                x=corr_matrix.columns,\n",
    "                                y=corr_matrix.index,\n",
    "                                colorscale=colorscale,\n",
    "                                zmin=-1,\n",
    "                                zmax=1,\n",
    "                                ))\n",
    "\n",
    "fig.update_layout(title='Correlation Matrix', xaxis_title='Features', yaxis_title='Features')\n",
    "\n",
    "fig.show()\n"
   ]
  },
  {
   "cell_type": "code",
   "execution_count": 58,
   "metadata": {},
   "outputs": [
    {
     "data": {
      "application/vnd.plotly.v1+json": {
       "config": {
        "plotlyServerURL": "https://plot.ly"
       },
       "data": [
        {
         "alignmentgroup": "True",
         "hovertemplate": "Hashtag=%{x}<br>Count=%{y}<extra></extra>",
         "legendgroup": "",
         "marker": {
          "color": "#636efa",
          "pattern": {
           "shape": ""
          }
         },
         "name": "",
         "offsetgroup": "",
         "orientation": "v",
         "showlegend": false,
         "textposition": "auto",
         "type": "bar",
         "x": [
          "#dataï¿½#datascienceï¿½#dataanalysisï¿½#dataanalyticsï¿½#datascientistï¿½#machinelearningï¿½#pythonï¿½#pythonprogrammingï¿½#pythonprojectsï¿½#pythoncodeï¿½#artificialintelligenceï¿½#aiï¿½#deeplearningï¿½#machinelearningprojectsï¿½#datascienceprojectsï¿½ï¿½#thecleverprogrammer",
          "#pythonï¿½#pythonprogrammingï¿½#pythonprojectsï¿½#pythoncodeï¿½#pythonlearningï¿½#pythondeveloperï¿½#pythoncodingï¿½#pythonprogrammerï¿½ï¿½#thecleverprogrammerï¿½#pythonprojects",
          "#timeseriesï¿½#timeï¿½#statisticsï¿½#datascienceï¿½#bigdataï¿½#machinelearningï¿½#pythonï¿½#aiï¿½#timeseriesanalysisï¿½#datavisualizationï¿½#dataanalyticsï¿½#dataï¿½#iotï¿½#analysisï¿½#timeseriesmalaysiaï¿½#artificialintelligenceï¿½#analyticsï¿½ï¿½#thecleverprogrammer",
          "#dataï¿½#datascienceï¿½#dataanalysisï¿½#dataanalyticsï¿½#datascientistï¿½#machinelearningï¿½#pythonï¿½#pythonprogrammingï¿½#pythonprojectsï¿½#pythoncodeï¿½#artificialintelligenceï¿½#aiï¿½#deeplearningï¿½#sentimentanalysisï¿½#sentimentï¿½#nlpï¿½#naturallanguageprocessingï¿½ï¿½#thecleverprogrammer",
          "#programmingï¿½#codingï¿½#programmerï¿½#pythonï¿½#developerï¿½#javascriptï¿½#technologyï¿½#codeï¿½#coderï¿½#javaï¿½#htmlï¿½#computerscienceï¿½#techï¿½#cssï¿½#webdeveloperï¿½#softwareï¿½#webdevelopmentï¿½#codinglifeï¿½#softwaredeveloperï¿½#linuxï¿½#programmingmemesï¿½#webdesignï¿½#programmersï¿½#phpï¿½#programminglifeï¿½#machinelearningï¿½#hackingï¿½#pythonprogrammingï¿½#thecleverprogrammerï¿½",
          "#deeplearningï¿½#machinelearningï¿½#artificialintelligenceï¿½#datascienceï¿½#aiï¿½#pythonï¿½#codingï¿½#technologyï¿½#programmingï¿½#bigdataï¿½#dataanalyticsï¿½#datascientistï¿½#dataï¿½#computerscienceï¿½#techï¿½#neuralnetworkï¿½ï¿½#thecleverprogrammer",
          "#datascienceï¿½#datasciencejobsï¿½#datasciencetrainingï¿½#datascienceeducationï¿½#datasciencecourseï¿½#dataï¿½#dataanalysisï¿½#dataanalyticsï¿½#datascientistï¿½#machinelearningï¿½#artificialintelligenceï¿½#aiï¿½#deeplearningï¿½#machinelearningprojectsï¿½#datascienceprojectsï¿½ï¿½#thecleverprogrammer",
          "#neuralnetworkï¿½#machinelearningï¿½#artificialintelligenceï¿½#deeplearningï¿½#pythonï¿½#aiï¿½#datascienceï¿½#neuralnetworksï¿½#programmingï¿½#tensorflowï¿½#datascientistï¿½#pythonprogrammingï¿½#techï¿½#technologyï¿½#artificialintelligenceaiï¿½#machinelearningalgorithmsï¿½#computerscienceï¿½#codingï¿½#mlï¿½#dataï¿½ï¿½#thecleverprogrammer",
          "#dataï¿½#datascienceï¿½#dataanalysisï¿½#dataanalyticsï¿½#datascientistï¿½#machinelearningï¿½#pythonï¿½#pythonprogrammingï¿½#pythonprojectsï¿½#pythoncodeï¿½#artificialintelligenceï¿½#aiï¿½#deeplearningï¿½#machinelearningprojectsï¿½#datascienceprojectsï¿½ï¿½#thecleverprogrammerï¿½#bitcoinï¿½#cryptocurrency",
          "#dataanalyticsï¿½#datascienceï¿½#dataï¿½#machinelearningï¿½#datavisualizationï¿½#bigdataï¿½#artificialintelligenceï¿½#datascientistï¿½#pythonï¿½#analyticsï¿½#aiï¿½#dataanalysisï¿½#deeplearningï¿½#technologyï¿½#programmingï¿½#codingï¿½#dataanalystï¿½#businessï¿½#pythonprogrammingï¿½#dataminingï¿½#techï¿½#businessintelligenceï¿½#databaseï¿½#computerscienceï¿½#statisticsï¿½#powerbiï¿½#dataanalysisprojectsï¿½#businessanalyticsï¿½#thecleverprogrammerï¿½",
          "#dataï¿½#datascienceï¿½#dataanalysisï¿½#dataanalyticsï¿½#datascientistï¿½#machinelearningï¿½#pythonï¿½#pythonprogrammingï¿½#pythonprojectsï¿½#pythoncodeï¿½#artificialintelligenceï¿½#aiï¿½#deeplearningï¿½#algorithmï¿½#algorithmsï¿½#machinelearningalgorithmsï¿½#mlï¿½ï¿½#thecleverprogrammerï¿½#projectsï¿½#casestudies",
          "#machinelearningï¿½#machinelearningalgorithmsï¿½#datascienceï¿½#dataanalysisï¿½#dataanalyticsï¿½#datascientistï¿½#pythonï¿½#pythonprogrammingï¿½#pythonprojectsï¿½#pythoncodeï¿½#artificialintelligenceï¿½#aiï¿½#deeplearningï¿½#algorithmï¿½#algorithmsï¿½ï¿½#thecleverprogrammerï¿½#clustering",
          "#dataï¿½#datascienceï¿½#dataanalysisï¿½#dataanalyticsï¿½#datascientistï¿½#machinelearningï¿½#pythonï¿½#pythonprogrammingï¿½#pythonprojectsï¿½#pythoncodeï¿½#artificialintelligenceï¿½#aiï¿½#deeplearningï¿½#machinelearningprojectsï¿½#datascienceprojectsï¿½ï¿½#thecleverprogrammerï¿½#machinelearningmodelsï¿½#zomatoï¿½#businessï¿½#casestudyï¿½#businessmodel",
          "ï¿½#thecleverprogrammer",
          "#pythonï¿½#pythonprogrammingï¿½#pythonprojectsï¿½#pythoncodeï¿½#pythonlearningï¿½#pythondeveloperï¿½#pythoncodingï¿½#pythonprogrammerï¿½ï¿½#thecleverprogrammer",
          "#pythonï¿½#pythonprogrammingï¿½#pythonprojectsï¿½#pythoncodeï¿½#pythonlearningï¿½#pythondeveloperï¿½#pythoncodingï¿½#pythonprogrammerï¿½ï¿½#thecleverprogrammerï¿½#pythonprojectsï¿½#otpï¿½#otpverification",
          "#dataï¿½#datascienceï¿½#dataanalysisï¿½#dataanalyticsï¿½#datascientistï¿½#machinelearningï¿½#pythonï¿½#pythonprogrammingï¿½#pythonprojectsï¿½#pythoncodeï¿½#artificialintelligenceï¿½#aiï¿½#deeplearningï¿½#algorithmï¿½#algorithmsï¿½#machinelearningalgorithmsï¿½ï¿½#thecleverprogrammer",
          "#healthcareï¿½#healthï¿½#covidï¿½#dataï¿½#datascienceï¿½#dataanalysisï¿½#dataanalyticsï¿½#datascientistï¿½#machinelearningï¿½#pythonï¿½#pythonprogrammingï¿½#pythonprojectsï¿½#pythoncodeï¿½#artificialintelligenceï¿½#aiï¿½#dataanalystï¿½ï¿½#thecleverprogrammer",
          "#recommendedï¿½#recommendationsï¿½#recommendationsystemï¿½#recommendationï¿½#dataï¿½#datascienceï¿½#dataanalysisï¿½#dataanalyticsï¿½#datascientistï¿½#machinelearningï¿½#pythonï¿½#pythonprogrammingï¿½#pythonprojectsï¿½#pythoncodeï¿½#artificialintelligenceï¿½#aiï¿½ï¿½#thecleverprogrammer",
          "#dataï¿½#datascienceï¿½#dataanalysisï¿½#dataanalyticsï¿½#datascientistï¿½#machinelearningï¿½#pythonï¿½#pythonprogrammingï¿½#pythonprojectsï¿½#pythoncodeï¿½#artificialintelligenceï¿½#aiï¿½#deeplearningï¿½#machinelearningprojectsï¿½#datascienceprojectsï¿½ï¿½#thecleverprogrammerï¿½#machinelearningmodelsï¿½#zomatoï¿½#businessï¿½#casestudyï¿½#businessmodelï¿½#amazonfinds",
          "#careerï¿½#jobï¿½#jobsï¿½#jobsearchï¿½#educationï¿½#businessï¿½#successï¿½#careergoalsï¿½#motivationï¿½#workï¿½#careerdevelopmentï¿½#careersï¿½#goalsï¿½#resumeï¿½#studentsï¿½#careeradviceï¿½#datascienceï¿½#marketingï¿½#digitalmarketingï¿½#mediaï¿½#socialmediaï¿½#ITï¿½#webdevelopmentï¿½ï¿½#thecleverprogrammer",
          "#dataï¿½#datascienceï¿½#dataanalysisï¿½#dataanalyticsï¿½#datascientistï¿½#machinelearningï¿½#pythonï¿½#pythonprogrammingï¿½#pythonprojectsï¿½#pythoncodeï¿½#artificialintelligenceï¿½#aiï¿½#deeplearningï¿½#machinelearningprojectsï¿½#datascienceprojectsï¿½ï¿½#thecleverprogrammerï¿½#machinelearningmodelsï¿½#stressï¿½#stressdetection",
          "#dataï¿½#datascienceï¿½#dataanalysisï¿½#dataanalyticsï¿½#datascientistï¿½#machinelearningï¿½#pythonï¿½#pythonprogrammingï¿½#pythonprojectsï¿½#pythoncodeï¿½#artificialintelligenceï¿½#aiï¿½#deeplearningï¿½#machinelearningprojectsï¿½#datascienceprojectsï¿½ï¿½#thecleverprogrammerï¿½#roadmap",
          "#pythonï¿½#pythonprogrammingï¿½#pythonprojectsï¿½#pythoncodeï¿½#pythonlearningï¿½#pythondeveloperï¿½#pythoncodingï¿½#pythonprogrammerï¿½#",
          "#datavisualizationï¿½#datascienceï¿½#dataï¿½#dataanalyticsï¿½#machinelearningï¿½#dataanalysisï¿½#artificialintelligenceï¿½#pythonï¿½#datascientistï¿½#bigdataï¿½#deeplearningï¿½#datavizï¿½#aiï¿½#analyticsï¿½#technologyï¿½#dataanalystï¿½#programmingï¿½#pythonprogrammingï¿½#statisticsï¿½ï¿½#thecleverprogrammer",
          "#codingï¿½#programmingï¿½#programmerï¿½#pythonï¿½#developerï¿½#javascriptï¿½#codeï¿½#coderï¿½#technologyï¿½#htmlï¿½#computerscienceï¿½#codinglifeï¿½#javaï¿½#webdeveloperï¿½#techï¿½#cssï¿½#webdevelopmentï¿½#softwareï¿½#softwaredeveloperï¿½#interviewï¿½#jobï¿½#codinginterviewï¿½ï¿½#thecleverprogrammer",
          "#dataï¿½#datascienceï¿½#dataanalysisï¿½#dataanalyticsï¿½#datascientistï¿½#machinelearningï¿½#pythonï¿½#pythonprogrammingï¿½#pythonprojectsï¿½#pythoncodeï¿½#artificialintelligenceï¿½#aiï¿½#deeplearningï¿½#machinelearningprojectsï¿½#datascienceprojectsï¿½ï¿½#thecleverprogrammerï¿½#whatsapp",
          "#pythonï¿½#pythonprogrammingï¿½#pythonprojectsï¿½#pythoncodeï¿½#pythonlearningï¿½#pythondeveloperï¿½#pythoncodingï¿½#pythonprogrammerï¿½ï¿½#thecleverprogrammerï¿½#pythonprogramï¿½@codergallery",
          "#dataï¿½#datascienceï¿½#dataanalysisï¿½#dataanalyticsï¿½#datascientistï¿½#machinelearningï¿½#pythonï¿½#pythonprogrammingï¿½#pythonprojectsï¿½#pythoncodeï¿½#artificialintelligenceï¿½#aiï¿½#deeplearningï¿½#sentimentanalysisï¿½#sentimentï¿½#nlpï¿½#naturallanguageprocessingï¿½ï¿½#thecleverprogrammerï¿½#ukraine",
          "#pythonï¿½#pythonprogrammingï¿½#pythonprojectsï¿½#pythoncodeï¿½#pythonlearningï¿½#pythondeveloperï¿½#pythoncodingï¿½#pythonprogrammerï¿½ï¿½#thecleverprogrammerï¿½#codingï¿½#programmingï¿½#computerscienceï¿½#datascienceï¿½#webdevelopmentï¿½#machinelearning",
          "#dataï¿½#datascienceï¿½#dataanalysisï¿½#dataanalyticsï¿½#datascientistï¿½#machinelearningï¿½#pythonï¿½#pythonprogrammingï¿½#pythonprojectsï¿½#pythoncodeï¿½#artificialintelligenceï¿½#aiï¿½#deeplearningï¿½#machinelearningprojectsï¿½#datascienceprojectsï¿½ï¿½#thecleverprogrammerï¿½#instagramï¿½#instagramreach",
          "#pythonï¿½#pythonprogrammingï¿½#pythonprojectsï¿½#pythoncodeï¿½#pythonlearningï¿½#pythondeveloperï¿½#pythoncodingï¿½#pythonprogrammerï¿½ï¿½#thecleverprogrammerï¿½#naturallanguageprocessingï¿½#nlp",
          "#dataï¿½#datascienceï¿½#dataanalysisï¿½#dataanalyticsï¿½#datascientistï¿½#machinelearningï¿½#pythonï¿½#pythonprogrammingï¿½#pythonprojectsï¿½#pythoncodeï¿½#artificialintelligenceï¿½#aiï¿½#deeplearningï¿½#machinelearningprojectsï¿½#datascienceprojectsï¿½ï¿½#thecleverprogrammerï¿½#news",
          "#dataï¿½#datascienceï¿½#dataanalysisï¿½#dataanalyticsï¿½#datascientistï¿½#machinelearningï¿½#pythonï¿½#pythonprogrammingï¿½#pythonprojectsï¿½#pythoncodeï¿½#artificialintelligenceï¿½#aiï¿½#deeplearningï¿½#sentimentanalysisï¿½#sentimentï¿½#nlpï¿½#naturallanguageprocessingï¿½ï¿½#thecleverprogrammerï¿½#flipkart",
          "#sqlï¿½#mysqlï¿½#datascienceï¿½#datasciencejobsï¿½#datasciencetrainingï¿½#datascienceeducationï¿½#datasciencecourseï¿½#dataï¿½#dataanalysisï¿½#dataanalyticsï¿½#datascientistï¿½#machinelearningï¿½#artificialintelligenceï¿½#aiï¿½#deeplearningï¿½#machinelearningprojectsï¿½#datascienceprojectsï¿½ï¿½#thecleverprogrammer",
          "#datavisualizationï¿½#datascienceï¿½#datasciencejobsï¿½#datasciencetrainingï¿½#datascienceeducationï¿½#datasciencecourseï¿½#dataï¿½#dataanalysisï¿½#dataanalyticsï¿½#datascientistï¿½#machinelearningï¿½#artificialintelligenceï¿½#aiï¿½#deeplearningï¿½#machinelearningprojectsï¿½#datascienceprojectsï¿½ï¿½#thecleverprogrammer",
          "#pythonï¿½#pythonprogrammingï¿½#pythoncodeï¿½#pythonlearningï¿½#pythondeveloperï¿½#pythonprogrammerï¿½#pythonprojectsï¿½#python3ï¿½#pythoncodingï¿½#pythonprogramminglanguageï¿½ï¿½#thecleverprogrammerï¿½#nlpï¿½#naturallanguageprocessing",
          "#pythonï¿½#pythonprogrammingï¿½#pythoncodeï¿½#pythonlearningï¿½#pythondeveloperï¿½#pythonprogrammerï¿½#pythonprojectsï¿½#python3ï¿½#pythoncodingï¿½#pythonprogramminglanguageï¿½ï¿½#thecleverprogrammer",
          "#machinelearningï¿½#machinelearningalgorithmsï¿½#datascienceï¿½#dataanalysisï¿½#dataanalyticsï¿½#datascientistï¿½#pythonï¿½#pythonprogrammingï¿½#pythonprojectsï¿½#pythoncodeï¿½#artificialintelligenceï¿½#aiï¿½#deeplearningï¿½#algorithmï¿½#algorithmsï¿½ï¿½#thecleverprogrammer",
          "#financeï¿½#moneyï¿½#businessï¿½#investingï¿½#investmentï¿½#tradingï¿½#stockmarketï¿½#dataï¿½#datascienceï¿½#dataanalysisï¿½#dataanalyticsï¿½#datascientistï¿½#machinelearningï¿½#pythonï¿½#pythonprogrammingï¿½#pythonprojectsï¿½#pythoncodeï¿½#artificialintelligenceï¿½#aiï¿½#dataanalystï¿½#",
          "#dataï¿½#datascienceï¿½#dataanalysisï¿½#dataanalyticsï¿½#datascientistï¿½#machinelearningï¿½#pythonï¿½#pythonprogrammingï¿½#pythonprojectsï¿½#pythoncodeï¿½#artificialintelligenceï¿½#aiï¿½#deeplearningï¿½#machinelearningprojectsï¿½#datascienceprojectsï¿½ï¿½#thecleverprogrammerï¿½#financeï¿½#businessï¿½#moneyï¿½#investing",
          "#datavisualizationï¿½#datascienceï¿½#dataï¿½#dataanalyticsï¿½#machinelearningï¿½#dataanalysisï¿½#artificialintelligenceï¿½#pythonï¿½#datascientistï¿½#bigdataï¿½#deeplearningï¿½#datavizï¿½#aiï¿½#analyticsï¿½#technologyï¿½#dataanalystï¿½#programmingï¿½#pythonprogrammingï¿½#statisticsï¿½#codingï¿½#businessintelligenceï¿½#dataminingï¿½#techï¿½#businessï¿½#computerscienceï¿½#tableauï¿½#databaseï¿½#bigdataanalyticsï¿½#powerbi",
          "#healthcareï¿½#healthï¿½#covidï¿½#dataï¿½#datascienceï¿½#dataanalysisï¿½#dataanalyticsï¿½#datascientistï¿½#machinelearningï¿½#pythonï¿½#pythonprogrammingï¿½#pythonprojectsï¿½#pythoncodeï¿½#artificialintelligenceï¿½#aiï¿½#dataanalystï¿½#",
          "#dataï¿½#datascienceï¿½#dataanalysisï¿½#dataanalyticsï¿½#datascientistï¿½#machinelearningï¿½#pythonï¿½#pythonprogrammingï¿½#pythonprojectsï¿½#pythoncodeï¿½#artificialintelligenceï¿½#aiï¿½#deeplearningï¿½#machinelearningprojectsï¿½#datascienceprojectsï¿½#",
          "ï¿½#thecleverprogrammerï¿½#machinelearningmodels",
          "ï¿½#thecleverprogrammerï¿½#pythonprojects",
          "#datavisualizationï¿½#datascienceï¿½#dataï¿½#dataanalyticsï¿½#machinelearningï¿½#dataanalysisï¿½#artificialintelligenceï¿½#pythonï¿½#datascientistï¿½#bigdataï¿½#deeplearningï¿½#datavizï¿½#aiï¿½#analyticsï¿½#technologyï¿½#dataanalystï¿½#programmingï¿½#pythonprogrammingï¿½#statisticsï¿½#codingï¿½#businessintelligenceï¿½#dataminingï¿½#techï¿½#businessï¿½#computerscienceï¿½#tableauï¿½#databaseï¿½#thecleverprogrammerï¿½#",
          "#dataï¿½#datascienceï¿½#dataanalysisï¿½#dataanalyticsï¿½#datascientistï¿½#machinelearningï¿½#pythonï¿½#pythonprogrammingï¿½#pythonprojectsï¿½#pythoncodeï¿½#artificialintelligenceï¿½#aiï¿½#deeplearningï¿½#algorithmï¿½#algorithmsï¿½#machinelearningalgorithmsï¿½#mlï¿½#",
          "ï¿½#thecleverprogrammerï¿½#softskills",
          "#stockmarketï¿½#investingï¿½#stocksï¿½#tradingï¿½#moneyï¿½#investmentï¿½#financeï¿½#forexï¿½#datavisualizationï¿½#datascienceï¿½#dataï¿½#dataanalyticsï¿½#machinelearningï¿½#dataanalysisï¿½#aiï¿½#candlestickï¿½#candlestickcharts",
          "ï¿½#thecleverprogrammerï¿½#pythonprojectsï¿½#pythonbooksï¿½#bookstagram",
          "#neuralnetworkï¿½#machinelearningï¿½#artificialintelligenceï¿½#deeplearningï¿½#pythonï¿½#aiï¿½#datascienceï¿½#neuralnetworksï¿½#programmingï¿½#tensorflowï¿½#datascientistï¿½#pythonprogrammingï¿½#techï¿½#technologyï¿½#artificialintelligenceaiï¿½#machinelearningalgorithmsï¿½#computerscienceï¿½#codingï¿½#mlï¿½#dataï¿½ï¿½#thecleverprogrammerï¿½#alexnet",
          "#dataï¿½#datascienceï¿½#dataanalysisï¿½#dataanalyticsï¿½#datascientistï¿½#machinelearningï¿½#pythonï¿½#pythonprogrammingï¿½#pythonprojectsï¿½#pythoncodeï¿½#artificialintelligenceï¿½#aiï¿½#deeplearningï¿½#algorithmï¿½#algorithmsï¿½#machinelearningalgorithmsï¿½#mlï¿½ï¿½#thecleverprogrammer",
          "#stockmarketï¿½#investingï¿½#stocksï¿½#tradingï¿½#moneyï¿½#investmentï¿½#financeï¿½#forexï¿½#datavisualizationï¿½#datascienceï¿½#dataï¿½#dataanalyticsï¿½#machinelearningï¿½#dataanalysisï¿½#aiï¿½#candlestickï¿½#candlestickchartsï¿½ï¿½#thecleverprogrammer",
          "#datavisualizationï¿½#datascienceï¿½#dataï¿½#dataanalyticsï¿½#machinelearningï¿½#dataanalysisï¿½#artificialintelligenceï¿½#pythonï¿½#datascientistï¿½#bigdataï¿½#deeplearningï¿½#datavizï¿½#aiï¿½#analyticsï¿½#technologyï¿½#dataanalystï¿½#programmingï¿½#pythonprogrammingï¿½#statisticsï¿½#codingï¿½#businessintelligenceï¿½#dataminingï¿½#techï¿½#businessï¿½#boxplotsï¿½#thecleverprogrammerï¿½",
          "#dataï¿½#technologyï¿½#datascienceï¿½#businessï¿½#techï¿½#bigdataï¿½#dataanalyticsï¿½#machinelearningï¿½#aiï¿½#analyticsï¿½#datavisualizationï¿½#securityï¿½#artificialintelligenceï¿½#cybersecurityï¿½#programmingï¿½#pythonï¿½#softwareï¿½#codingï¿½#networkï¿½#internetï¿½#cloudï¿½#dataanalysisï¿½#innovationï¿½#datascientistï¿½#databaseï¿½ï¿½#thecleverprogrammerï¿½#facebook",
          "#dataï¿½#datascienceï¿½#dataanalysisï¿½#dataanalyticsï¿½#datascientistï¿½#machinelearningï¿½#pythonï¿½#pythonprogrammingï¿½#pythonprojectsï¿½#pythoncodeï¿½#artificialintelligenceï¿½#aiï¿½#deeplearningï¿½#machinelearningprojectsï¿½#datascienceprojectsï¿½ï¿½#thecleverprogrammerï¿½#interviewï¿½#datascienceinterview",
          "#dataï¿½#datascienceï¿½#dataanalysisï¿½#dataanalyticsï¿½#datascientistï¿½#machinelearningï¿½#pythonï¿½#pythonprogrammingï¿½#pythonprojectsï¿½#pythoncodeï¿½#artificialintelligenceï¿½#aiï¿½#deeplearningï¿½#machinelearningprojectsï¿½#datascienceprojectsï¿½ï¿½#thecleverprogrammerï¿½#interviewï¿½#neuralnetworks",
          "#pythonï¿½#pythonprogrammingï¿½#pythonprojectsï¿½#pythoncodeï¿½#pythonlearningï¿½#pythondeveloperï¿½#pythoncodingï¿½#pythonprogrammerï¿½ï¿½#thecleverprogrammerï¿½#pythonprojectsï¿½#qrcodes",
          "#dataï¿½#technologyï¿½#datascienceï¿½#businessï¿½#techï¿½#bigdataï¿½#dataanalyticsï¿½#machinelearningï¿½#aiï¿½#analyticsï¿½#datavisualizationï¿½#securityï¿½#artificialintelligenceï¿½#cybersecurityï¿½#programmingï¿½#pythonï¿½#softwareï¿½#codingï¿½#networkï¿½#internetï¿½#cloudï¿½#dataanalysisï¿½#innovationï¿½#datascientistï¿½#databaseï¿½ï¿½#thecleverprogrammerï¿½#google"
         ],
         "xaxis": "x",
         "y": [
          19,
          7,
          6,
          5,
          5,
          4,
          4,
          3,
          3,
          3,
          2,
          2,
          2,
          2,
          2,
          2,
          2,
          2,
          2,
          2,
          2,
          2,
          2,
          2,
          2,
          2,
          1,
          1,
          1,
          1,
          1,
          1,
          1,
          1,
          1,
          1,
          1,
          1,
          1,
          1,
          1,
          1,
          1,
          1,
          1,
          1,
          1,
          1,
          1,
          1,
          1,
          1,
          1,
          1,
          1,
          1,
          1,
          1,
          1,
          1
         ],
         "yaxis": "y"
        }
       ],
       "layout": {
        "barmode": "relative",
        "legend": {
         "tracegroupgap": 0
        },
        "template": {
         "data": {
          "bar": [
           {
            "error_x": {
             "color": "#2a3f5f"
            },
            "error_y": {
             "color": "#2a3f5f"
            },
            "marker": {
             "line": {
              "color": "white",
              "width": 0.5
             },
             "pattern": {
              "fillmode": "overlay",
              "size": 10,
              "solidity": 0.2
             }
            },
            "type": "bar"
           }
          ],
          "barpolar": [
           {
            "marker": {
             "line": {
              "color": "white",
              "width": 0.5
             },
             "pattern": {
              "fillmode": "overlay",
              "size": 10,
              "solidity": 0.2
             }
            },
            "type": "barpolar"
           }
          ],
          "carpet": [
           {
            "aaxis": {
             "endlinecolor": "#2a3f5f",
             "gridcolor": "#C8D4E3",
             "linecolor": "#C8D4E3",
             "minorgridcolor": "#C8D4E3",
             "startlinecolor": "#2a3f5f"
            },
            "baxis": {
             "endlinecolor": "#2a3f5f",
             "gridcolor": "#C8D4E3",
             "linecolor": "#C8D4E3",
             "minorgridcolor": "#C8D4E3",
             "startlinecolor": "#2a3f5f"
            },
            "type": "carpet"
           }
          ],
          "choropleth": [
           {
            "colorbar": {
             "outlinewidth": 0,
             "ticks": ""
            },
            "type": "choropleth"
           }
          ],
          "contour": [
           {
            "colorbar": {
             "outlinewidth": 0,
             "ticks": ""
            },
            "colorscale": [
             [
              0,
              "#0d0887"
             ],
             [
              0.1111111111111111,
              "#46039f"
             ],
             [
              0.2222222222222222,
              "#7201a8"
             ],
             [
              0.3333333333333333,
              "#9c179e"
             ],
             [
              0.4444444444444444,
              "#bd3786"
             ],
             [
              0.5555555555555556,
              "#d8576b"
             ],
             [
              0.6666666666666666,
              "#ed7953"
             ],
             [
              0.7777777777777778,
              "#fb9f3a"
             ],
             [
              0.8888888888888888,
              "#fdca26"
             ],
             [
              1,
              "#f0f921"
             ]
            ],
            "type": "contour"
           }
          ],
          "contourcarpet": [
           {
            "colorbar": {
             "outlinewidth": 0,
             "ticks": ""
            },
            "type": "contourcarpet"
           }
          ],
          "heatmap": [
           {
            "colorbar": {
             "outlinewidth": 0,
             "ticks": ""
            },
            "colorscale": [
             [
              0,
              "#0d0887"
             ],
             [
              0.1111111111111111,
              "#46039f"
             ],
             [
              0.2222222222222222,
              "#7201a8"
             ],
             [
              0.3333333333333333,
              "#9c179e"
             ],
             [
              0.4444444444444444,
              "#bd3786"
             ],
             [
              0.5555555555555556,
              "#d8576b"
             ],
             [
              0.6666666666666666,
              "#ed7953"
             ],
             [
              0.7777777777777778,
              "#fb9f3a"
             ],
             [
              0.8888888888888888,
              "#fdca26"
             ],
             [
              1,
              "#f0f921"
             ]
            ],
            "type": "heatmap"
           }
          ],
          "heatmapgl": [
           {
            "colorbar": {
             "outlinewidth": 0,
             "ticks": ""
            },
            "colorscale": [
             [
              0,
              "#0d0887"
             ],
             [
              0.1111111111111111,
              "#46039f"
             ],
             [
              0.2222222222222222,
              "#7201a8"
             ],
             [
              0.3333333333333333,
              "#9c179e"
             ],
             [
              0.4444444444444444,
              "#bd3786"
             ],
             [
              0.5555555555555556,
              "#d8576b"
             ],
             [
              0.6666666666666666,
              "#ed7953"
             ],
             [
              0.7777777777777778,
              "#fb9f3a"
             ],
             [
              0.8888888888888888,
              "#fdca26"
             ],
             [
              1,
              "#f0f921"
             ]
            ],
            "type": "heatmapgl"
           }
          ],
          "histogram": [
           {
            "marker": {
             "pattern": {
              "fillmode": "overlay",
              "size": 10,
              "solidity": 0.2
             }
            },
            "type": "histogram"
           }
          ],
          "histogram2d": [
           {
            "colorbar": {
             "outlinewidth": 0,
             "ticks": ""
            },
            "colorscale": [
             [
              0,
              "#0d0887"
             ],
             [
              0.1111111111111111,
              "#46039f"
             ],
             [
              0.2222222222222222,
              "#7201a8"
             ],
             [
              0.3333333333333333,
              "#9c179e"
             ],
             [
              0.4444444444444444,
              "#bd3786"
             ],
             [
              0.5555555555555556,
              "#d8576b"
             ],
             [
              0.6666666666666666,
              "#ed7953"
             ],
             [
              0.7777777777777778,
              "#fb9f3a"
             ],
             [
              0.8888888888888888,
              "#fdca26"
             ],
             [
              1,
              "#f0f921"
             ]
            ],
            "type": "histogram2d"
           }
          ],
          "histogram2dcontour": [
           {
            "colorbar": {
             "outlinewidth": 0,
             "ticks": ""
            },
            "colorscale": [
             [
              0,
              "#0d0887"
             ],
             [
              0.1111111111111111,
              "#46039f"
             ],
             [
              0.2222222222222222,
              "#7201a8"
             ],
             [
              0.3333333333333333,
              "#9c179e"
             ],
             [
              0.4444444444444444,
              "#bd3786"
             ],
             [
              0.5555555555555556,
              "#d8576b"
             ],
             [
              0.6666666666666666,
              "#ed7953"
             ],
             [
              0.7777777777777778,
              "#fb9f3a"
             ],
             [
              0.8888888888888888,
              "#fdca26"
             ],
             [
              1,
              "#f0f921"
             ]
            ],
            "type": "histogram2dcontour"
           }
          ],
          "mesh3d": [
           {
            "colorbar": {
             "outlinewidth": 0,
             "ticks": ""
            },
            "type": "mesh3d"
           }
          ],
          "parcoords": [
           {
            "line": {
             "colorbar": {
              "outlinewidth": 0,
              "ticks": ""
             }
            },
            "type": "parcoords"
           }
          ],
          "pie": [
           {
            "automargin": true,
            "type": "pie"
           }
          ],
          "scatter": [
           {
            "fillpattern": {
             "fillmode": "overlay",
             "size": 10,
             "solidity": 0.2
            },
            "type": "scatter"
           }
          ],
          "scatter3d": [
           {
            "line": {
             "colorbar": {
              "outlinewidth": 0,
              "ticks": ""
             }
            },
            "marker": {
             "colorbar": {
              "outlinewidth": 0,
              "ticks": ""
             }
            },
            "type": "scatter3d"
           }
          ],
          "scattercarpet": [
           {
            "marker": {
             "colorbar": {
              "outlinewidth": 0,
              "ticks": ""
             }
            },
            "type": "scattercarpet"
           }
          ],
          "scattergeo": [
           {
            "marker": {
             "colorbar": {
              "outlinewidth": 0,
              "ticks": ""
             }
            },
            "type": "scattergeo"
           }
          ],
          "scattergl": [
           {
            "marker": {
             "colorbar": {
              "outlinewidth": 0,
              "ticks": ""
             }
            },
            "type": "scattergl"
           }
          ],
          "scattermapbox": [
           {
            "marker": {
             "colorbar": {
              "outlinewidth": 0,
              "ticks": ""
             }
            },
            "type": "scattermapbox"
           }
          ],
          "scatterpolar": [
           {
            "marker": {
             "colorbar": {
              "outlinewidth": 0,
              "ticks": ""
             }
            },
            "type": "scatterpolar"
           }
          ],
          "scatterpolargl": [
           {
            "marker": {
             "colorbar": {
              "outlinewidth": 0,
              "ticks": ""
             }
            },
            "type": "scatterpolargl"
           }
          ],
          "scatterternary": [
           {
            "marker": {
             "colorbar": {
              "outlinewidth": 0,
              "ticks": ""
             }
            },
            "type": "scatterternary"
           }
          ],
          "surface": [
           {
            "colorbar": {
             "outlinewidth": 0,
             "ticks": ""
            },
            "colorscale": [
             [
              0,
              "#0d0887"
             ],
             [
              0.1111111111111111,
              "#46039f"
             ],
             [
              0.2222222222222222,
              "#7201a8"
             ],
             [
              0.3333333333333333,
              "#9c179e"
             ],
             [
              0.4444444444444444,
              "#bd3786"
             ],
             [
              0.5555555555555556,
              "#d8576b"
             ],
             [
              0.6666666666666666,
              "#ed7953"
             ],
             [
              0.7777777777777778,
              "#fb9f3a"
             ],
             [
              0.8888888888888888,
              "#fdca26"
             ],
             [
              1,
              "#f0f921"
             ]
            ],
            "type": "surface"
           }
          ],
          "table": [
           {
            "cells": {
             "fill": {
              "color": "#EBF0F8"
             },
             "line": {
              "color": "white"
             }
            },
            "header": {
             "fill": {
              "color": "#C8D4E3"
             },
             "line": {
              "color": "white"
             }
            },
            "type": "table"
           }
          ]
         },
         "layout": {
          "annotationdefaults": {
           "arrowcolor": "#2a3f5f",
           "arrowhead": 0,
           "arrowwidth": 1
          },
          "autotypenumbers": "strict",
          "coloraxis": {
           "colorbar": {
            "outlinewidth": 0,
            "ticks": ""
           }
          },
          "colorscale": {
           "diverging": [
            [
             0,
             "#8e0152"
            ],
            [
             0.1,
             "#c51b7d"
            ],
            [
             0.2,
             "#de77ae"
            ],
            [
             0.3,
             "#f1b6da"
            ],
            [
             0.4,
             "#fde0ef"
            ],
            [
             0.5,
             "#f7f7f7"
            ],
            [
             0.6,
             "#e6f5d0"
            ],
            [
             0.7,
             "#b8e186"
            ],
            [
             0.8,
             "#7fbc41"
            ],
            [
             0.9,
             "#4d9221"
            ],
            [
             1,
             "#276419"
            ]
           ],
           "sequential": [
            [
             0,
             "#0d0887"
            ],
            [
             0.1111111111111111,
             "#46039f"
            ],
            [
             0.2222222222222222,
             "#7201a8"
            ],
            [
             0.3333333333333333,
             "#9c179e"
            ],
            [
             0.4444444444444444,
             "#bd3786"
            ],
            [
             0.5555555555555556,
             "#d8576b"
            ],
            [
             0.6666666666666666,
             "#ed7953"
            ],
            [
             0.7777777777777778,
             "#fb9f3a"
            ],
            [
             0.8888888888888888,
             "#fdca26"
            ],
            [
             1,
             "#f0f921"
            ]
           ],
           "sequentialminus": [
            [
             0,
             "#0d0887"
            ],
            [
             0.1111111111111111,
             "#46039f"
            ],
            [
             0.2222222222222222,
             "#7201a8"
            ],
            [
             0.3333333333333333,
             "#9c179e"
            ],
            [
             0.4444444444444444,
             "#bd3786"
            ],
            [
             0.5555555555555556,
             "#d8576b"
            ],
            [
             0.6666666666666666,
             "#ed7953"
            ],
            [
             0.7777777777777778,
             "#fb9f3a"
            ],
            [
             0.8888888888888888,
             "#fdca26"
            ],
            [
             1,
             "#f0f921"
            ]
           ]
          },
          "colorway": [
           "#636efa",
           "#EF553B",
           "#00cc96",
           "#ab63fa",
           "#FFA15A",
           "#19d3f3",
           "#FF6692",
           "#B6E880",
           "#FF97FF",
           "#FECB52"
          ],
          "font": {
           "color": "#2a3f5f"
          },
          "geo": {
           "bgcolor": "white",
           "lakecolor": "white",
           "landcolor": "white",
           "showlakes": true,
           "showland": true,
           "subunitcolor": "#C8D4E3"
          },
          "hoverlabel": {
           "align": "left"
          },
          "hovermode": "closest",
          "mapbox": {
           "style": "light"
          },
          "paper_bgcolor": "white",
          "plot_bgcolor": "white",
          "polar": {
           "angularaxis": {
            "gridcolor": "#EBF0F8",
            "linecolor": "#EBF0F8",
            "ticks": ""
           },
           "bgcolor": "white",
           "radialaxis": {
            "gridcolor": "#EBF0F8",
            "linecolor": "#EBF0F8",
            "ticks": ""
           }
          },
          "scene": {
           "xaxis": {
            "backgroundcolor": "white",
            "gridcolor": "#DFE8F3",
            "gridwidth": 2,
            "linecolor": "#EBF0F8",
            "showbackground": true,
            "ticks": "",
            "zerolinecolor": "#EBF0F8"
           },
           "yaxis": {
            "backgroundcolor": "white",
            "gridcolor": "#DFE8F3",
            "gridwidth": 2,
            "linecolor": "#EBF0F8",
            "showbackground": true,
            "ticks": "",
            "zerolinecolor": "#EBF0F8"
           },
           "zaxis": {
            "backgroundcolor": "white",
            "gridcolor": "#DFE8F3",
            "gridwidth": 2,
            "linecolor": "#EBF0F8",
            "showbackground": true,
            "ticks": "",
            "zerolinecolor": "#EBF0F8"
           }
          },
          "shapedefaults": {
           "line": {
            "color": "#2a3f5f"
           }
          },
          "ternary": {
           "aaxis": {
            "gridcolor": "#DFE8F3",
            "linecolor": "#A2B1C6",
            "ticks": ""
           },
           "baxis": {
            "gridcolor": "#DFE8F3",
            "linecolor": "#A2B1C6",
            "ticks": ""
           },
           "bgcolor": "white",
           "caxis": {
            "gridcolor": "#DFE8F3",
            "linecolor": "#A2B1C6",
            "ticks": ""
           }
          },
          "title": {
           "x": 0.05
          },
          "xaxis": {
           "automargin": true,
           "gridcolor": "#EBF0F8",
           "linecolor": "#EBF0F8",
           "ticks": "",
           "title": {
            "standoff": 15
           },
           "zerolinecolor": "#EBF0F8",
           "zerolinewidth": 2
          },
          "yaxis": {
           "automargin": true,
           "gridcolor": "#EBF0F8",
           "linecolor": "#EBF0F8",
           "ticks": "",
           "title": {
            "standoff": 15
           },
           "zerolinecolor": "#EBF0F8",
           "zerolinewidth": 2
          }
         }
        },
        "title": {
         "text": "Distribution of Hashtags"
        },
        "xaxis": {
         "anchor": "y",
         "domain": [
          0,
          1
         ],
         "title": {
          "text": "Hashtag"
         }
        },
        "yaxis": {
         "anchor": "x",
         "domain": [
          0,
          1
         ],
         "title": {
          "text": "Count"
         }
        }
       }
      }
     },
     "metadata": {},
     "output_type": "display_data"
    }
   ],
   "source": [
    "# Create a list to store all hashtags\n",
    "all_hashtags = []\n",
    "\n",
    "# Iterate through each row in the 'Hashtags' column\n",
    "for row in df['Hashtags']:\n",
    "    hashtags = str(row).split()\n",
    "    hashtags = [tag.strip() for tag in hashtags]\n",
    "    all_hashtags.extend(hashtags)\n",
    "\n",
    "# Create a pandas DataFrame to store the hashtag distribution\n",
    "hashtag_distribution = pd.Series(all_hashtags).value_counts().reset_index()\n",
    "hashtag_distribution.columns = ['Hashtag', 'Count']\n",
    "\n",
    "fig = px.bar(hashtag_distribution, x='Hashtag', \n",
    "             y='Count', title='Distribution of Hashtags')\n",
    "fig.show()"
   ]
  },
  {
   "cell_type": "code",
   "execution_count": 60,
   "metadata": {},
   "outputs": [
    {
     "data": {
      "application/vnd.plotly.v1+json": {
       "config": {
        "plotlyServerURL": "https://plot.ly"
       },
       "data": [
        {
         "alignmentgroup": "True",
         "hovertemplate": "Hashtag=%{x}<br>Likes=%{y}<extra></extra>",
         "legendgroup": "",
         "marker": {
          "color": "#636efa",
          "pattern": {
           "shape": ""
          }
         },
         "name": "",
         "offsetgroup": "",
         "orientation": "v",
         "showlegend": false,
         "textposition": "auto",
         "type": "bar",
         "x": [
          "#financeï¿½#moneyï¿½#businessï¿½#investingï¿½#investmentï¿½#tradingï¿½#stockmarketï¿½#dataï¿½#datascienceï¿½#dataanalysisï¿½#dataanalyticsï¿½#datascientistï¿½#machinelearningï¿½#pythonï¿½#pythonprogrammingï¿½#pythonprojectsï¿½#pythoncodeï¿½#artificialintelligenceï¿½#aiï¿½#dataanalystï¿½#",
          "ï¿½#thecleverprogrammer",
          "#healthcareï¿½#healthï¿½#covidï¿½#dataï¿½#datascienceï¿½#dataanalysisï¿½#dataanalyticsï¿½#datascientistï¿½#machinelearningï¿½#pythonï¿½#pythonprogrammingï¿½#pythonprojectsï¿½#pythoncodeï¿½#artificialintelligenceï¿½#aiï¿½#dataanalystï¿½#",
          "#dataï¿½#datascienceï¿½#dataanalysisï¿½#dataanalyticsï¿½#datascientistï¿½#machinelearningï¿½#pythonï¿½#pythonprogrammingï¿½#pythonprojectsï¿½#pythoncodeï¿½#artificialintelligenceï¿½#aiï¿½#deeplearningï¿½#machinelearningprojectsï¿½#datascienceprojectsï¿½#",
          "ï¿½#thecleverprogrammerï¿½#machinelearningmodels",
          "#pythonï¿½#pythonprogrammingï¿½#pythonprojectsï¿½#pythoncodeï¿½#pythonlearningï¿½#pythondeveloperï¿½#pythoncodingï¿½#pythonprogrammerï¿½#",
          "ï¿½#thecleverprogrammerï¿½#pythonprojects",
          "#datavisualizationï¿½#datascienceï¿½#dataï¿½#dataanalyticsï¿½#machinelearningï¿½#dataanalysisï¿½#artificialintelligenceï¿½#pythonï¿½#datascientistï¿½#bigdataï¿½#deeplearningï¿½#datavizï¿½#aiï¿½#analyticsï¿½#technologyï¿½#dataanalystï¿½#programmingï¿½#pythonprogrammingï¿½#statisticsï¿½#codingï¿½#businessintelligenceï¿½#dataminingï¿½#techï¿½#businessï¿½#computerscienceï¿½#tableauï¿½#databaseï¿½#thecleverprogrammerï¿½#",
          "#dataï¿½#datascienceï¿½#dataanalysisï¿½#dataanalyticsï¿½#datascientistï¿½#machinelearningï¿½#pythonï¿½#pythonprogrammingï¿½#pythonprojectsï¿½#pythoncodeï¿½#artificialintelligenceï¿½#aiï¿½#deeplearningï¿½#algorithmï¿½#algorithmsï¿½#machinelearningalgorithmsï¿½#mlï¿½#",
          "ï¿½#thecleverprogrammerï¿½#softskills",
          "#stockmarketï¿½#investingï¿½#stocksï¿½#tradingï¿½#moneyï¿½#investmentï¿½#financeï¿½#forexï¿½#datavisualizationï¿½#datascienceï¿½#dataï¿½#dataanalyticsï¿½#machinelearningï¿½#dataanalysisï¿½#aiï¿½#candlestickï¿½#candlestickcharts",
          "ï¿½#thecleverprogrammerï¿½#pythonprojectsï¿½#pythonbooksï¿½#bookstagram",
          "#dataanalyticsï¿½#datascienceï¿½#dataï¿½#machinelearningï¿½#datavisualizationï¿½#bigdataï¿½#artificialintelligenceï¿½#datascientistï¿½#pythonï¿½#analyticsï¿½#aiï¿½#dataanalysisï¿½#deeplearningï¿½#technologyï¿½#programmingï¿½#codingï¿½#dataanalystï¿½#businessï¿½#pythonprogrammingï¿½#dataminingï¿½#techï¿½#businessintelligenceï¿½#databaseï¿½#computerscienceï¿½#statisticsï¿½#powerbiï¿½#dataanalysisprojectsï¿½#businessanalyticsï¿½#thecleverprogrammerï¿½",
          "#pythonï¿½#pythonprogrammingï¿½#pythonprojectsï¿½#pythoncodeï¿½#pythonlearningï¿½#pythondeveloperï¿½#pythoncodingï¿½#pythonprogrammerï¿½ï¿½#thecleverprogrammerï¿½#pythonprojects",
          "#neuralnetworkï¿½#machinelearningï¿½#artificialintelligenceï¿½#deeplearningï¿½#pythonï¿½#aiï¿½#datascienceï¿½#neuralnetworksï¿½#programmingï¿½#tensorflowï¿½#datascientistï¿½#pythonprogrammingï¿½#techï¿½#technologyï¿½#artificialintelligenceaiï¿½#machinelearningalgorithmsï¿½#computerscienceï¿½#codingï¿½#mlï¿½#dataï¿½ï¿½#thecleverprogrammerï¿½#alexnet",
          "#dataï¿½#datascienceï¿½#dataanalysisï¿½#dataanalyticsï¿½#datascientistï¿½#machinelearningï¿½#pythonï¿½#pythonprogrammingï¿½#pythonprojectsï¿½#pythoncodeï¿½#artificialintelligenceï¿½#aiï¿½#deeplearningï¿½#algorithmï¿½#algorithmsï¿½#machinelearningalgorithmsï¿½#mlï¿½ï¿½#thecleverprogrammer",
          "#stockmarketï¿½#investingï¿½#stocksï¿½#tradingï¿½#moneyï¿½#investmentï¿½#financeï¿½#forexï¿½#datavisualizationï¿½#datascienceï¿½#dataï¿½#dataanalyticsï¿½#machinelearningï¿½#dataanalysisï¿½#aiï¿½#candlestickï¿½#candlestickchartsï¿½ï¿½#thecleverprogrammer",
          "#dataï¿½#datascienceï¿½#dataanalysisï¿½#dataanalyticsï¿½#datascientistï¿½#machinelearningï¿½#pythonï¿½#pythonprogrammingï¿½#pythonprojectsï¿½#pythoncodeï¿½#artificialintelligenceï¿½#aiï¿½#deeplearningï¿½#sentimentanalysisï¿½#sentimentï¿½#nlpï¿½#naturallanguageprocessingï¿½ï¿½#thecleverprogrammer",
          "#timeseriesï¿½#timeï¿½#statisticsï¿½#datascienceï¿½#bigdataï¿½#machinelearningï¿½#pythonï¿½#aiï¿½#timeseriesanalysisï¿½#datavisualizationï¿½#dataanalyticsï¿½#dataï¿½#iotï¿½#analysisï¿½#timeseriesmalaysiaï¿½#artificialintelligenceï¿½#analyticsï¿½ï¿½#thecleverprogrammer",
          "#careerï¿½#jobï¿½#jobsï¿½#jobsearchï¿½#educationï¿½#businessï¿½#successï¿½#careergoalsï¿½#motivationï¿½#workï¿½#careerdevelopmentï¿½#careersï¿½#goalsï¿½#resumeï¿½#studentsï¿½#careeradviceï¿½#datascienceï¿½#marketingï¿½#digitalmarketingï¿½#mediaï¿½#socialmediaï¿½#ITï¿½#webdevelopmentï¿½ï¿½#thecleverprogrammer",
          "#dataï¿½#datascienceï¿½#dataanalysisï¿½#dataanalyticsï¿½#datascientistï¿½#machinelearningï¿½#pythonï¿½#pythonprogrammingï¿½#pythonprojectsï¿½#pythoncodeï¿½#artificialintelligenceï¿½#aiï¿½#deeplearningï¿½#machinelearningprojectsï¿½#datascienceprojectsï¿½ï¿½#thecleverprogrammerï¿½#machinelearningmodelsï¿½#stressï¿½#stressdetection",
          "#dataï¿½#datascienceï¿½#dataanalysisï¿½#dataanalyticsï¿½#datascientistï¿½#machinelearningï¿½#pythonï¿½#pythonprogrammingï¿½#pythonprojectsï¿½#pythoncodeï¿½#artificialintelligenceï¿½#aiï¿½#deeplearningï¿½#machinelearningprojectsï¿½#datascienceprojectsï¿½ï¿½#thecleverprogrammerï¿½#machinelearningmodelsï¿½#zomatoï¿½#businessï¿½#casestudyï¿½#businessmodel",
          "#datavisualizationï¿½#datascienceï¿½#dataï¿½#dataanalyticsï¿½#machinelearningï¿½#dataanalysisï¿½#artificialintelligenceï¿½#pythonï¿½#datascientistï¿½#bigdataï¿½#deeplearningï¿½#datavizï¿½#aiï¿½#analyticsï¿½#technologyï¿½#dataanalystï¿½#programmingï¿½#pythonprogrammingï¿½#statisticsï¿½#codingï¿½#businessintelligenceï¿½#dataminingï¿½#techï¿½#businessï¿½#boxplotsï¿½#thecleverprogrammerï¿½",
          "#neuralnetworkï¿½#machinelearningï¿½#artificialintelligenceï¿½#deeplearningï¿½#pythonï¿½#aiï¿½#datascienceï¿½#neuralnetworksï¿½#programmingï¿½#tensorflowï¿½#datascientistï¿½#pythonprogrammingï¿½#techï¿½#technologyï¿½#artificialintelligenceaiï¿½#machinelearningalgorithmsï¿½#computerscienceï¿½#codingï¿½#mlï¿½#dataï¿½ï¿½#thecleverprogrammer",
          "#programmingï¿½#codingï¿½#programmerï¿½#pythonï¿½#developerï¿½#javascriptï¿½#technologyï¿½#codeï¿½#coderï¿½#javaï¿½#htmlï¿½#computerscienceï¿½#techï¿½#cssï¿½#webdeveloperï¿½#softwareï¿½#webdevelopmentï¿½#codinglifeï¿½#softwaredeveloperï¿½#linuxï¿½#programmingmemesï¿½#webdesignï¿½#programmersï¿½#phpï¿½#programminglifeï¿½#machinelearningï¿½#hackingï¿½#pythonprogrammingï¿½#thecleverprogrammerï¿½",
          "#deeplearningï¿½#machinelearningï¿½#artificialintelligenceï¿½#datascienceï¿½#aiï¿½#pythonï¿½#codingï¿½#technologyï¿½#programmingï¿½#bigdataï¿½#dataanalyticsï¿½#datascientistï¿½#dataï¿½#computerscienceï¿½#techï¿½#neuralnetworkï¿½ï¿½#thecleverprogrammer",
          "#dataï¿½#datascienceï¿½#dataanalysisï¿½#dataanalyticsï¿½#datascientistï¿½#machinelearningï¿½#pythonï¿½#pythonprogrammingï¿½#pythonprojectsï¿½#pythoncodeï¿½#artificialintelligenceï¿½#aiï¿½#deeplearningï¿½#machinelearningprojectsï¿½#datascienceprojectsï¿½ï¿½#thecleverprogrammerï¿½#bitcoinï¿½#cryptocurrency",
          "#dataï¿½#datascienceï¿½#dataanalysisï¿½#dataanalyticsï¿½#datascientistï¿½#machinelearningï¿½#pythonï¿½#pythonprogrammingï¿½#pythonprojectsï¿½#pythoncodeï¿½#artificialintelligenceï¿½#aiï¿½#deeplearningï¿½#algorithmï¿½#algorithmsï¿½#machinelearningalgorithmsï¿½#mlï¿½ï¿½#thecleverprogrammerï¿½#projectsï¿½#casestudies",
          "#dataï¿½#datascienceï¿½#dataanalysisï¿½#dataanalyticsï¿½#datascientistï¿½#machinelearningï¿½#pythonï¿½#pythonprogrammingï¿½#pythonprojectsï¿½#pythoncodeï¿½#artificialintelligenceï¿½#aiï¿½#deeplearningï¿½#machinelearningprojectsï¿½#datascienceprojectsï¿½ï¿½#thecleverprogrammerï¿½#machinelearningmodelsï¿½#zomatoï¿½#businessï¿½#casestudyï¿½#businessmodelï¿½#amazonfinds",
          "#dataï¿½#datascienceï¿½#dataanalysisï¿½#dataanalyticsï¿½#datascientistï¿½#machinelearningï¿½#pythonï¿½#pythonprogrammingï¿½#pythonprojectsï¿½#pythoncodeï¿½#artificialintelligenceï¿½#aiï¿½#deeplearningï¿½#machinelearningprojectsï¿½#datascienceprojectsï¿½ï¿½#thecleverprogrammer",
          "#dataï¿½#technologyï¿½#datascienceï¿½#businessï¿½#techï¿½#bigdataï¿½#dataanalyticsï¿½#machinelearningï¿½#aiï¿½#analyticsï¿½#datavisualizationï¿½#securityï¿½#artificialintelligenceï¿½#cybersecurityï¿½#programmingï¿½#pythonï¿½#softwareï¿½#codingï¿½#networkï¿½#internetï¿½#cloudï¿½#dataanalysisï¿½#innovationï¿½#datascientistï¿½#databaseï¿½ï¿½#thecleverprogrammerï¿½#google",
          "#dataï¿½#technologyï¿½#datascienceï¿½#businessï¿½#techï¿½#bigdataï¿½#dataanalyticsï¿½#machinelearningï¿½#aiï¿½#analyticsï¿½#datavisualizationï¿½#securityï¿½#artificialintelligenceï¿½#cybersecurityï¿½#programmingï¿½#pythonï¿½#softwareï¿½#codingï¿½#networkï¿½#internetï¿½#cloudï¿½#dataanalysisï¿½#innovationï¿½#datascientistï¿½#databaseï¿½ï¿½#thecleverprogrammerï¿½#facebook",
          "#dataï¿½#datascienceï¿½#dataanalysisï¿½#dataanalyticsï¿½#datascientistï¿½#machinelearningï¿½#pythonï¿½#pythonprogrammingï¿½#pythonprojectsï¿½#pythoncodeï¿½#artificialintelligenceï¿½#aiï¿½#deeplearningï¿½#machinelearningprojectsï¿½#datascienceprojectsï¿½ï¿½#thecleverprogrammerï¿½#interviewï¿½#datascienceinterview",
          "#dataï¿½#datascienceï¿½#dataanalysisï¿½#dataanalyticsï¿½#datascientistï¿½#machinelearningï¿½#pythonï¿½#pythonprogrammingï¿½#pythonprojectsï¿½#pythoncodeï¿½#artificialintelligenceï¿½#aiï¿½#deeplearningï¿½#machinelearningprojectsï¿½#datascienceprojectsï¿½ï¿½#thecleverprogrammerï¿½#interviewï¿½#neuralnetworks",
          "#pythonï¿½#pythonprogrammingï¿½#pythonprojectsï¿½#pythoncodeï¿½#pythonlearningï¿½#pythondeveloperï¿½#pythoncodingï¿½#pythonprogrammerï¿½ï¿½#thecleverprogrammerï¿½#pythonprojectsï¿½#otpï¿½#otpverification",
          "#pythonï¿½#pythonprogrammingï¿½#pythonprojectsï¿½#pythoncodeï¿½#pythonlearningï¿½#pythondeveloperï¿½#pythoncodingï¿½#pythonprogrammerï¿½ï¿½#thecleverprogrammerï¿½#pythonprojectsï¿½#qrcodes",
          "#datavisualizationï¿½#datascienceï¿½#dataï¿½#dataanalyticsï¿½#machinelearningï¿½#dataanalysisï¿½#artificialintelligenceï¿½#pythonï¿½#datascientistï¿½#bigdataï¿½#deeplearningï¿½#datavizï¿½#aiï¿½#analyticsï¿½#technologyï¿½#dataanalystï¿½#programmingï¿½#pythonprogrammingï¿½#statisticsï¿½#codingï¿½#businessintelligenceï¿½#dataminingï¿½#techï¿½#businessï¿½#computerscienceï¿½#tableauï¿½#databaseï¿½#bigdataanalyticsï¿½#powerbi",
          "#recommendedï¿½#recommendationsï¿½#recommendationsystemï¿½#recommendationï¿½#dataï¿½#datascienceï¿½#dataanalysisï¿½#dataanalyticsï¿½#datascientistï¿½#machinelearningï¿½#pythonï¿½#pythonprogrammingï¿½#pythonprojectsï¿½#pythoncodeï¿½#artificialintelligenceï¿½#aiï¿½ï¿½#thecleverprogrammer",
          "#datavisualizationï¿½#datascienceï¿½#dataï¿½#dataanalyticsï¿½#machinelearningï¿½#dataanalysisï¿½#artificialintelligenceï¿½#pythonï¿½#datascientistï¿½#bigdataï¿½#deeplearningï¿½#datavizï¿½#aiï¿½#analyticsï¿½#technologyï¿½#dataanalystï¿½#programmingï¿½#pythonprogrammingï¿½#statisticsï¿½ï¿½#thecleverprogrammer",
          "#dataï¿½#datascienceï¿½#dataanalysisï¿½#dataanalyticsï¿½#datascientistï¿½#machinelearningï¿½#pythonï¿½#pythonprogrammingï¿½#pythonprojectsï¿½#pythoncodeï¿½#artificialintelligenceï¿½#aiï¿½#deeplearningï¿½#machinelearningprojectsï¿½#datascienceprojectsï¿½ï¿½#thecleverprogrammerï¿½#financeï¿½#businessï¿½#moneyï¿½#investing",
          "#codingï¿½#programmingï¿½#programmerï¿½#pythonï¿½#developerï¿½#javascriptï¿½#codeï¿½#coderï¿½#technologyï¿½#htmlï¿½#computerscienceï¿½#codinglifeï¿½#javaï¿½#webdeveloperï¿½#techï¿½#cssï¿½#webdevelopmentï¿½#softwareï¿½#softwaredeveloperï¿½#interviewï¿½#jobï¿½#codinginterviewï¿½ï¿½#thecleverprogrammer",
          "#healthcareï¿½#healthï¿½#covidï¿½#dataï¿½#datascienceï¿½#dataanalysisï¿½#dataanalyticsï¿½#datascientistï¿½#machinelearningï¿½#pythonï¿½#pythonprogrammingï¿½#pythonprojectsï¿½#pythoncodeï¿½#artificialintelligenceï¿½#aiï¿½#dataanalystï¿½ï¿½#thecleverprogrammer",
          "#dataï¿½#datascienceï¿½#dataanalysisï¿½#dataanalyticsï¿½#datascientistï¿½#machinelearningï¿½#pythonï¿½#pythonprogrammingï¿½#pythonprojectsï¿½#pythoncodeï¿½#artificialintelligenceï¿½#aiï¿½#deeplearningï¿½#algorithmï¿½#algorithmsï¿½#machinelearningalgorithmsï¿½ï¿½#thecleverprogrammer",
          "#pythonï¿½#pythonprogrammingï¿½#pythonprojectsï¿½#pythoncodeï¿½#pythonlearningï¿½#pythondeveloperï¿½#pythoncodingï¿½#pythonprogrammerï¿½ï¿½#thecleverprogrammer",
          "#dataï¿½#datascienceï¿½#dataanalysisï¿½#dataanalyticsï¿½#datascientistï¿½#machinelearningï¿½#pythonï¿½#pythonprogrammingï¿½#pythonprojectsï¿½#pythoncodeï¿½#artificialintelligenceï¿½#aiï¿½#deeplearningï¿½#sentimentanalysisï¿½#sentimentï¿½#nlpï¿½#naturallanguageprocessingï¿½ï¿½#thecleverprogrammerï¿½#flipkart",
          "#dataï¿½#datascienceï¿½#dataanalysisï¿½#dataanalyticsï¿½#datascientistï¿½#machinelearningï¿½#pythonï¿½#pythonprogrammingï¿½#pythonprojectsï¿½#pythoncodeï¿½#artificialintelligenceï¿½#aiï¿½#deeplearningï¿½#machinelearningprojectsï¿½#datascienceprojectsï¿½ï¿½#thecleverprogrammerï¿½#news",
          "#pythonï¿½#pythonprogrammingï¿½#pythonprojectsï¿½#pythoncodeï¿½#pythonlearningï¿½#pythondeveloperï¿½#pythoncodingï¿½#pythonprogrammerï¿½ï¿½#thecleverprogrammerï¿½#naturallanguageprocessingï¿½#nlp",
          "#pythonï¿½#pythonprogrammingï¿½#pythonprojectsï¿½#pythoncodeï¿½#pythonlearningï¿½#pythondeveloperï¿½#pythoncodingï¿½#pythonprogrammerï¿½ï¿½#thecleverprogrammerï¿½#pythonprogramï¿½@codergallery",
          "#dataï¿½#datascienceï¿½#dataanalysisï¿½#dataanalyticsï¿½#datascientistï¿½#machinelearningï¿½#pythonï¿½#pythonprogrammingï¿½#pythonprojectsï¿½#pythoncodeï¿½#artificialintelligenceï¿½#aiï¿½#deeplearningï¿½#machinelearningprojectsï¿½#datascienceprojectsï¿½ï¿½#thecleverprogrammerï¿½#whatsapp",
          "#dataï¿½#datascienceï¿½#dataanalysisï¿½#dataanalyticsï¿½#datascientistï¿½#machinelearningï¿½#pythonï¿½#pythonprogrammingï¿½#pythonprojectsï¿½#pythoncodeï¿½#artificialintelligenceï¿½#aiï¿½#deeplearningï¿½#machinelearningprojectsï¿½#datascienceprojectsï¿½ï¿½#thecleverprogrammerï¿½#roadmap",
          "#dataï¿½#datascienceï¿½#dataanalysisï¿½#dataanalyticsï¿½#datascientistï¿½#machinelearningï¿½#pythonï¿½#pythonprogrammingï¿½#pythonprojectsï¿½#pythoncodeï¿½#artificialintelligenceï¿½#aiï¿½#deeplearningï¿½#sentimentanalysisï¿½#sentimentï¿½#nlpï¿½#naturallanguageprocessingï¿½ï¿½#thecleverprogrammerï¿½#ukraine",
          "#pythonï¿½#pythonprogrammingï¿½#pythonprojectsï¿½#pythoncodeï¿½#pythonlearningï¿½#pythondeveloperï¿½#pythoncodingï¿½#pythonprogrammerï¿½ï¿½#thecleverprogrammerï¿½#codingï¿½#programmingï¿½#computerscienceï¿½#datascienceï¿½#webdevelopmentï¿½#machinelearning",
          "#dataï¿½#datascienceï¿½#dataanalysisï¿½#dataanalyticsï¿½#datascientistï¿½#machinelearningï¿½#pythonï¿½#pythonprogrammingï¿½#pythonprojectsï¿½#pythoncodeï¿½#artificialintelligenceï¿½#aiï¿½#deeplearningï¿½#machinelearningprojectsï¿½#datascienceprojectsï¿½ï¿½#thecleverprogrammerï¿½#instagramï¿½#instagramreach",
          "#machinelearningï¿½#machinelearningalgorithmsï¿½#datascienceï¿½#dataanalysisï¿½#dataanalyticsï¿½#datascientistï¿½#pythonï¿½#pythonprogrammingï¿½#pythonprojectsï¿½#pythoncodeï¿½#artificialintelligenceï¿½#aiï¿½#deeplearningï¿½#algorithmï¿½#algorithmsï¿½ï¿½#thecleverprogrammer",
          "#datascienceï¿½#datasciencejobsï¿½#datasciencetrainingï¿½#datascienceeducationï¿½#datasciencecourseï¿½#dataï¿½#dataanalysisï¿½#dataanalyticsï¿½#datascientistï¿½#machinelearningï¿½#artificialintelligenceï¿½#aiï¿½#deeplearningï¿½#machinelearningprojectsï¿½#datascienceprojectsï¿½ï¿½#thecleverprogrammer",
          "#sqlï¿½#mysqlï¿½#datascienceï¿½#datasciencejobsï¿½#datasciencetrainingï¿½#datascienceeducationï¿½#datasciencecourseï¿½#dataï¿½#dataanalysisï¿½#dataanalyticsï¿½#datascientistï¿½#machinelearningï¿½#artificialintelligenceï¿½#aiï¿½#deeplearningï¿½#machinelearningprojectsï¿½#datascienceprojectsï¿½ï¿½#thecleverprogrammer",
          "#datavisualizationï¿½#datascienceï¿½#datasciencejobsï¿½#datasciencetrainingï¿½#datascienceeducationï¿½#datasciencecourseï¿½#dataï¿½#dataanalysisï¿½#dataanalyticsï¿½#datascientistï¿½#machinelearningï¿½#artificialintelligenceï¿½#aiï¿½#deeplearningï¿½#machinelearningprojectsï¿½#datascienceprojectsï¿½ï¿½#thecleverprogrammer",
          "#pythonï¿½#pythonprogrammingï¿½#pythoncodeï¿½#pythonlearningï¿½#pythondeveloperï¿½#pythonprogrammerï¿½#pythonprojectsï¿½#python3ï¿½#pythoncodingï¿½#pythonprogramminglanguageï¿½ï¿½#thecleverprogrammerï¿½#nlpï¿½#naturallanguageprocessing",
          "#pythonï¿½#pythonprogrammingï¿½#pythoncodeï¿½#pythonlearningï¿½#pythondeveloperï¿½#pythonprogrammerï¿½#pythonprojectsï¿½#python3ï¿½#pythoncodingï¿½#pythonprogramminglanguageï¿½ï¿½#thecleverprogrammer",
          "#machinelearningï¿½#machinelearningalgorithmsï¿½#datascienceï¿½#dataanalysisï¿½#dataanalyticsï¿½#datascientistï¿½#pythonï¿½#pythonprogrammingï¿½#pythonprojectsï¿½#pythoncodeï¿½#artificialintelligenceï¿½#aiï¿½#deeplearningï¿½#algorithmï¿½#algorithmsï¿½ï¿½#thecleverprogrammerï¿½#clustering"
         ],
         "xaxis": "x",
         "y": [
          162,
          386,
          224,
          131,
          131,
          337,
          213,
          123,
          144,
          144,
          76,
          124,
          387,
          1803,
          81,
          162,
          142,
          760,
          812,
          410,
          302,
          144,
          76,
          369,
          608,
          670,
          390,
          302,
          184,
          4044,
          150,
          85,
          180,
          150,
          272,
          167,
          142,
          373,
          226,
          149,
          270,
          505,
          351,
          403,
          94,
          96,
          95,
          118,
          178,
          525,
          203,
          168,
          171,
          416,
          1343,
          308,
          163,
          86,
          210,
          240
         ],
         "yaxis": "y"
        }
       ],
       "layout": {
        "barmode": "relative",
        "legend": {
         "tracegroupgap": 0
        },
        "template": {
         "data": {
          "bar": [
           {
            "error_x": {
             "color": "#2a3f5f"
            },
            "error_y": {
             "color": "#2a3f5f"
            },
            "marker": {
             "line": {
              "color": "white",
              "width": 0.5
             },
             "pattern": {
              "fillmode": "overlay",
              "size": 10,
              "solidity": 0.2
             }
            },
            "type": "bar"
           }
          ],
          "barpolar": [
           {
            "marker": {
             "line": {
              "color": "white",
              "width": 0.5
             },
             "pattern": {
              "fillmode": "overlay",
              "size": 10,
              "solidity": 0.2
             }
            },
            "type": "barpolar"
           }
          ],
          "carpet": [
           {
            "aaxis": {
             "endlinecolor": "#2a3f5f",
             "gridcolor": "#C8D4E3",
             "linecolor": "#C8D4E3",
             "minorgridcolor": "#C8D4E3",
             "startlinecolor": "#2a3f5f"
            },
            "baxis": {
             "endlinecolor": "#2a3f5f",
             "gridcolor": "#C8D4E3",
             "linecolor": "#C8D4E3",
             "minorgridcolor": "#C8D4E3",
             "startlinecolor": "#2a3f5f"
            },
            "type": "carpet"
           }
          ],
          "choropleth": [
           {
            "colorbar": {
             "outlinewidth": 0,
             "ticks": ""
            },
            "type": "choropleth"
           }
          ],
          "contour": [
           {
            "colorbar": {
             "outlinewidth": 0,
             "ticks": ""
            },
            "colorscale": [
             [
              0,
              "#0d0887"
             ],
             [
              0.1111111111111111,
              "#46039f"
             ],
             [
              0.2222222222222222,
              "#7201a8"
             ],
             [
              0.3333333333333333,
              "#9c179e"
             ],
             [
              0.4444444444444444,
              "#bd3786"
             ],
             [
              0.5555555555555556,
              "#d8576b"
             ],
             [
              0.6666666666666666,
              "#ed7953"
             ],
             [
              0.7777777777777778,
              "#fb9f3a"
             ],
             [
              0.8888888888888888,
              "#fdca26"
             ],
             [
              1,
              "#f0f921"
             ]
            ],
            "type": "contour"
           }
          ],
          "contourcarpet": [
           {
            "colorbar": {
             "outlinewidth": 0,
             "ticks": ""
            },
            "type": "contourcarpet"
           }
          ],
          "heatmap": [
           {
            "colorbar": {
             "outlinewidth": 0,
             "ticks": ""
            },
            "colorscale": [
             [
              0,
              "#0d0887"
             ],
             [
              0.1111111111111111,
              "#46039f"
             ],
             [
              0.2222222222222222,
              "#7201a8"
             ],
             [
              0.3333333333333333,
              "#9c179e"
             ],
             [
              0.4444444444444444,
              "#bd3786"
             ],
             [
              0.5555555555555556,
              "#d8576b"
             ],
             [
              0.6666666666666666,
              "#ed7953"
             ],
             [
              0.7777777777777778,
              "#fb9f3a"
             ],
             [
              0.8888888888888888,
              "#fdca26"
             ],
             [
              1,
              "#f0f921"
             ]
            ],
            "type": "heatmap"
           }
          ],
          "heatmapgl": [
           {
            "colorbar": {
             "outlinewidth": 0,
             "ticks": ""
            },
            "colorscale": [
             [
              0,
              "#0d0887"
             ],
             [
              0.1111111111111111,
              "#46039f"
             ],
             [
              0.2222222222222222,
              "#7201a8"
             ],
             [
              0.3333333333333333,
              "#9c179e"
             ],
             [
              0.4444444444444444,
              "#bd3786"
             ],
             [
              0.5555555555555556,
              "#d8576b"
             ],
             [
              0.6666666666666666,
              "#ed7953"
             ],
             [
              0.7777777777777778,
              "#fb9f3a"
             ],
             [
              0.8888888888888888,
              "#fdca26"
             ],
             [
              1,
              "#f0f921"
             ]
            ],
            "type": "heatmapgl"
           }
          ],
          "histogram": [
           {
            "marker": {
             "pattern": {
              "fillmode": "overlay",
              "size": 10,
              "solidity": 0.2
             }
            },
            "type": "histogram"
           }
          ],
          "histogram2d": [
           {
            "colorbar": {
             "outlinewidth": 0,
             "ticks": ""
            },
            "colorscale": [
             [
              0,
              "#0d0887"
             ],
             [
              0.1111111111111111,
              "#46039f"
             ],
             [
              0.2222222222222222,
              "#7201a8"
             ],
             [
              0.3333333333333333,
              "#9c179e"
             ],
             [
              0.4444444444444444,
              "#bd3786"
             ],
             [
              0.5555555555555556,
              "#d8576b"
             ],
             [
              0.6666666666666666,
              "#ed7953"
             ],
             [
              0.7777777777777778,
              "#fb9f3a"
             ],
             [
              0.8888888888888888,
              "#fdca26"
             ],
             [
              1,
              "#f0f921"
             ]
            ],
            "type": "histogram2d"
           }
          ],
          "histogram2dcontour": [
           {
            "colorbar": {
             "outlinewidth": 0,
             "ticks": ""
            },
            "colorscale": [
             [
              0,
              "#0d0887"
             ],
             [
              0.1111111111111111,
              "#46039f"
             ],
             [
              0.2222222222222222,
              "#7201a8"
             ],
             [
              0.3333333333333333,
              "#9c179e"
             ],
             [
              0.4444444444444444,
              "#bd3786"
             ],
             [
              0.5555555555555556,
              "#d8576b"
             ],
             [
              0.6666666666666666,
              "#ed7953"
             ],
             [
              0.7777777777777778,
              "#fb9f3a"
             ],
             [
              0.8888888888888888,
              "#fdca26"
             ],
             [
              1,
              "#f0f921"
             ]
            ],
            "type": "histogram2dcontour"
           }
          ],
          "mesh3d": [
           {
            "colorbar": {
             "outlinewidth": 0,
             "ticks": ""
            },
            "type": "mesh3d"
           }
          ],
          "parcoords": [
           {
            "line": {
             "colorbar": {
              "outlinewidth": 0,
              "ticks": ""
             }
            },
            "type": "parcoords"
           }
          ],
          "pie": [
           {
            "automargin": true,
            "type": "pie"
           }
          ],
          "scatter": [
           {
            "fillpattern": {
             "fillmode": "overlay",
             "size": 10,
             "solidity": 0.2
            },
            "type": "scatter"
           }
          ],
          "scatter3d": [
           {
            "line": {
             "colorbar": {
              "outlinewidth": 0,
              "ticks": ""
             }
            },
            "marker": {
             "colorbar": {
              "outlinewidth": 0,
              "ticks": ""
             }
            },
            "type": "scatter3d"
           }
          ],
          "scattercarpet": [
           {
            "marker": {
             "colorbar": {
              "outlinewidth": 0,
              "ticks": ""
             }
            },
            "type": "scattercarpet"
           }
          ],
          "scattergeo": [
           {
            "marker": {
             "colorbar": {
              "outlinewidth": 0,
              "ticks": ""
             }
            },
            "type": "scattergeo"
           }
          ],
          "scattergl": [
           {
            "marker": {
             "colorbar": {
              "outlinewidth": 0,
              "ticks": ""
             }
            },
            "type": "scattergl"
           }
          ],
          "scattermapbox": [
           {
            "marker": {
             "colorbar": {
              "outlinewidth": 0,
              "ticks": ""
             }
            },
            "type": "scattermapbox"
           }
          ],
          "scatterpolar": [
           {
            "marker": {
             "colorbar": {
              "outlinewidth": 0,
              "ticks": ""
             }
            },
            "type": "scatterpolar"
           }
          ],
          "scatterpolargl": [
           {
            "marker": {
             "colorbar": {
              "outlinewidth": 0,
              "ticks": ""
             }
            },
            "type": "scatterpolargl"
           }
          ],
          "scatterternary": [
           {
            "marker": {
             "colorbar": {
              "outlinewidth": 0,
              "ticks": ""
             }
            },
            "type": "scatterternary"
           }
          ],
          "surface": [
           {
            "colorbar": {
             "outlinewidth": 0,
             "ticks": ""
            },
            "colorscale": [
             [
              0,
              "#0d0887"
             ],
             [
              0.1111111111111111,
              "#46039f"
             ],
             [
              0.2222222222222222,
              "#7201a8"
             ],
             [
              0.3333333333333333,
              "#9c179e"
             ],
             [
              0.4444444444444444,
              "#bd3786"
             ],
             [
              0.5555555555555556,
              "#d8576b"
             ],
             [
              0.6666666666666666,
              "#ed7953"
             ],
             [
              0.7777777777777778,
              "#fb9f3a"
             ],
             [
              0.8888888888888888,
              "#fdca26"
             ],
             [
              1,
              "#f0f921"
             ]
            ],
            "type": "surface"
           }
          ],
          "table": [
           {
            "cells": {
             "fill": {
              "color": "#EBF0F8"
             },
             "line": {
              "color": "white"
             }
            },
            "header": {
             "fill": {
              "color": "#C8D4E3"
             },
             "line": {
              "color": "white"
             }
            },
            "type": "table"
           }
          ]
         },
         "layout": {
          "annotationdefaults": {
           "arrowcolor": "#2a3f5f",
           "arrowhead": 0,
           "arrowwidth": 1
          },
          "autotypenumbers": "strict",
          "coloraxis": {
           "colorbar": {
            "outlinewidth": 0,
            "ticks": ""
           }
          },
          "colorscale": {
           "diverging": [
            [
             0,
             "#8e0152"
            ],
            [
             0.1,
             "#c51b7d"
            ],
            [
             0.2,
             "#de77ae"
            ],
            [
             0.3,
             "#f1b6da"
            ],
            [
             0.4,
             "#fde0ef"
            ],
            [
             0.5,
             "#f7f7f7"
            ],
            [
             0.6,
             "#e6f5d0"
            ],
            [
             0.7,
             "#b8e186"
            ],
            [
             0.8,
             "#7fbc41"
            ],
            [
             0.9,
             "#4d9221"
            ],
            [
             1,
             "#276419"
            ]
           ],
           "sequential": [
            [
             0,
             "#0d0887"
            ],
            [
             0.1111111111111111,
             "#46039f"
            ],
            [
             0.2222222222222222,
             "#7201a8"
            ],
            [
             0.3333333333333333,
             "#9c179e"
            ],
            [
             0.4444444444444444,
             "#bd3786"
            ],
            [
             0.5555555555555556,
             "#d8576b"
            ],
            [
             0.6666666666666666,
             "#ed7953"
            ],
            [
             0.7777777777777778,
             "#fb9f3a"
            ],
            [
             0.8888888888888888,
             "#fdca26"
            ],
            [
             1,
             "#f0f921"
            ]
           ],
           "sequentialminus": [
            [
             0,
             "#0d0887"
            ],
            [
             0.1111111111111111,
             "#46039f"
            ],
            [
             0.2222222222222222,
             "#7201a8"
            ],
            [
             0.3333333333333333,
             "#9c179e"
            ],
            [
             0.4444444444444444,
             "#bd3786"
            ],
            [
             0.5555555555555556,
             "#d8576b"
            ],
            [
             0.6666666666666666,
             "#ed7953"
            ],
            [
             0.7777777777777778,
             "#fb9f3a"
            ],
            [
             0.8888888888888888,
             "#fdca26"
            ],
            [
             1,
             "#f0f921"
            ]
           ]
          },
          "colorway": [
           "#636efa",
           "#EF553B",
           "#00cc96",
           "#ab63fa",
           "#FFA15A",
           "#19d3f3",
           "#FF6692",
           "#B6E880",
           "#FF97FF",
           "#FECB52"
          ],
          "font": {
           "color": "#2a3f5f"
          },
          "geo": {
           "bgcolor": "white",
           "lakecolor": "white",
           "landcolor": "white",
           "showlakes": true,
           "showland": true,
           "subunitcolor": "#C8D4E3"
          },
          "hoverlabel": {
           "align": "left"
          },
          "hovermode": "closest",
          "mapbox": {
           "style": "light"
          },
          "paper_bgcolor": "white",
          "plot_bgcolor": "white",
          "polar": {
           "angularaxis": {
            "gridcolor": "#EBF0F8",
            "linecolor": "#EBF0F8",
            "ticks": ""
           },
           "bgcolor": "white",
           "radialaxis": {
            "gridcolor": "#EBF0F8",
            "linecolor": "#EBF0F8",
            "ticks": ""
           }
          },
          "scene": {
           "xaxis": {
            "backgroundcolor": "white",
            "gridcolor": "#DFE8F3",
            "gridwidth": 2,
            "linecolor": "#EBF0F8",
            "showbackground": true,
            "ticks": "",
            "zerolinecolor": "#EBF0F8"
           },
           "yaxis": {
            "backgroundcolor": "white",
            "gridcolor": "#DFE8F3",
            "gridwidth": 2,
            "linecolor": "#EBF0F8",
            "showbackground": true,
            "ticks": "",
            "zerolinecolor": "#EBF0F8"
           },
           "zaxis": {
            "backgroundcolor": "white",
            "gridcolor": "#DFE8F3",
            "gridwidth": 2,
            "linecolor": "#EBF0F8",
            "showbackground": true,
            "ticks": "",
            "zerolinecolor": "#EBF0F8"
           }
          },
          "shapedefaults": {
           "line": {
            "color": "#2a3f5f"
           }
          },
          "ternary": {
           "aaxis": {
            "gridcolor": "#DFE8F3",
            "linecolor": "#A2B1C6",
            "ticks": ""
           },
           "baxis": {
            "gridcolor": "#DFE8F3",
            "linecolor": "#A2B1C6",
            "ticks": ""
           },
           "bgcolor": "white",
           "caxis": {
            "gridcolor": "#DFE8F3",
            "linecolor": "#A2B1C6",
            "ticks": ""
           }
          },
          "title": {
           "x": 0.05
          },
          "xaxis": {
           "automargin": true,
           "gridcolor": "#EBF0F8",
           "linecolor": "#EBF0F8",
           "ticks": "",
           "title": {
            "standoff": 15
           },
           "zerolinecolor": "#EBF0F8",
           "zerolinewidth": 2
          },
          "yaxis": {
           "automargin": true,
           "gridcolor": "#EBF0F8",
           "linecolor": "#EBF0F8",
           "ticks": "",
           "title": {
            "standoff": 15
           },
           "zerolinecolor": "#EBF0F8",
           "zerolinewidth": 2
          }
         }
        },
        "title": {
         "text": "Likes Distribution for Each Hashtag"
        },
        "xaxis": {
         "anchor": "y",
         "domain": [
          0,
          1
         ],
         "title": {
          "text": "Hashtag"
         }
        },
        "yaxis": {
         "anchor": "x",
         "domain": [
          0,
          1
         ],
         "title": {
          "text": "Likes"
         }
        }
       }
      }
     },
     "metadata": {},
     "output_type": "display_data"
    },
    {
     "data": {
      "application/vnd.plotly.v1+json": {
       "config": {
        "plotlyServerURL": "https://plot.ly"
       },
       "data": [
        {
         "alignmentgroup": "True",
         "hovertemplate": "Hashtag=%{x}<br>Impressions=%{y}<extra></extra>",
         "legendgroup": "",
         "marker": {
          "color": "#636efa",
          "pattern": {
           "shape": ""
          }
         },
         "name": "",
         "offsetgroup": "",
         "orientation": "v",
         "showlegend": false,
         "textposition": "auto",
         "type": "bar",
         "x": [
          "#financeï¿½#moneyï¿½#businessï¿½#investingï¿½#investmentï¿½#tradingï¿½#stockmarketï¿½#dataï¿½#datascienceï¿½#dataanalysisï¿½#dataanalyticsï¿½#datascientistï¿½#machinelearningï¿½#pythonï¿½#pythonprogrammingï¿½#pythonprojectsï¿½#pythoncodeï¿½#artificialintelligenceï¿½#aiï¿½#dataanalystï¿½#",
          "ï¿½#thecleverprogrammer",
          "#healthcareï¿½#healthï¿½#covidï¿½#dataï¿½#datascienceï¿½#dataanalysisï¿½#dataanalyticsï¿½#datascientistï¿½#machinelearningï¿½#pythonï¿½#pythonprogrammingï¿½#pythonprojectsï¿½#pythoncodeï¿½#artificialintelligenceï¿½#aiï¿½#dataanalystï¿½#",
          "#dataï¿½#datascienceï¿½#dataanalysisï¿½#dataanalyticsï¿½#datascientistï¿½#machinelearningï¿½#pythonï¿½#pythonprogrammingï¿½#pythonprojectsï¿½#pythoncodeï¿½#artificialintelligenceï¿½#aiï¿½#deeplearningï¿½#machinelearningprojectsï¿½#datascienceprojectsï¿½#",
          "ï¿½#thecleverprogrammerï¿½#machinelearningmodels",
          "#pythonï¿½#pythonprogrammingï¿½#pythonprojectsï¿½#pythoncodeï¿½#pythonlearningï¿½#pythondeveloperï¿½#pythoncodingï¿½#pythonprogrammerï¿½#",
          "ï¿½#thecleverprogrammerï¿½#pythonprojects",
          "#datavisualizationï¿½#datascienceï¿½#dataï¿½#dataanalyticsï¿½#machinelearningï¿½#dataanalysisï¿½#artificialintelligenceï¿½#pythonï¿½#datascientistï¿½#bigdataï¿½#deeplearningï¿½#datavizï¿½#aiï¿½#analyticsï¿½#technologyï¿½#dataanalystï¿½#programmingï¿½#pythonprogrammingï¿½#statisticsï¿½#codingï¿½#businessintelligenceï¿½#dataminingï¿½#techï¿½#businessï¿½#computerscienceï¿½#tableauï¿½#databaseï¿½#thecleverprogrammerï¿½#",
          "#dataï¿½#datascienceï¿½#dataanalysisï¿½#dataanalyticsï¿½#datascientistï¿½#machinelearningï¿½#pythonï¿½#pythonprogrammingï¿½#pythonprojectsï¿½#pythoncodeï¿½#artificialintelligenceï¿½#aiï¿½#deeplearningï¿½#algorithmï¿½#algorithmsï¿½#machinelearningalgorithmsï¿½#mlï¿½#",
          "ï¿½#thecleverprogrammerï¿½#softskills",
          "#stockmarketï¿½#investingï¿½#stocksï¿½#tradingï¿½#moneyï¿½#investmentï¿½#financeï¿½#forexï¿½#datavisualizationï¿½#datascienceï¿½#dataï¿½#dataanalyticsï¿½#machinelearningï¿½#dataanalysisï¿½#aiï¿½#candlestickï¿½#candlestickcharts",
          "ï¿½#thecleverprogrammerï¿½#pythonprojectsï¿½#pythonbooksï¿½#bookstagram",
          "#dataanalyticsï¿½#datascienceï¿½#dataï¿½#machinelearningï¿½#datavisualizationï¿½#bigdataï¿½#artificialintelligenceï¿½#datascientistï¿½#pythonï¿½#analyticsï¿½#aiï¿½#dataanalysisï¿½#deeplearningï¿½#technologyï¿½#programmingï¿½#codingï¿½#dataanalystï¿½#businessï¿½#pythonprogrammingï¿½#dataminingï¿½#techï¿½#businessintelligenceï¿½#databaseï¿½#computerscienceï¿½#statisticsï¿½#powerbiï¿½#dataanalysisprojectsï¿½#businessanalyticsï¿½#thecleverprogrammerï¿½",
          "#pythonï¿½#pythonprogrammingï¿½#pythonprojectsï¿½#pythoncodeï¿½#pythonlearningï¿½#pythondeveloperï¿½#pythoncodingï¿½#pythonprogrammerï¿½ï¿½#thecleverprogrammerï¿½#pythonprojects",
          "#neuralnetworkï¿½#machinelearningï¿½#artificialintelligenceï¿½#deeplearningï¿½#pythonï¿½#aiï¿½#datascienceï¿½#neuralnetworksï¿½#programmingï¿½#tensorflowï¿½#datascientistï¿½#pythonprogrammingï¿½#techï¿½#technologyï¿½#artificialintelligenceaiï¿½#machinelearningalgorithmsï¿½#computerscienceï¿½#codingï¿½#mlï¿½#dataï¿½ï¿½#thecleverprogrammerï¿½#alexnet",
          "#dataï¿½#datascienceï¿½#dataanalysisï¿½#dataanalyticsï¿½#datascientistï¿½#machinelearningï¿½#pythonï¿½#pythonprogrammingï¿½#pythonprojectsï¿½#pythoncodeï¿½#artificialintelligenceï¿½#aiï¿½#deeplearningï¿½#algorithmï¿½#algorithmsï¿½#machinelearningalgorithmsï¿½#mlï¿½ï¿½#thecleverprogrammer",
          "#stockmarketï¿½#investingï¿½#stocksï¿½#tradingï¿½#moneyï¿½#investmentï¿½#financeï¿½#forexï¿½#datavisualizationï¿½#datascienceï¿½#dataï¿½#dataanalyticsï¿½#machinelearningï¿½#dataanalysisï¿½#aiï¿½#candlestickï¿½#candlestickchartsï¿½ï¿½#thecleverprogrammer",
          "#dataï¿½#datascienceï¿½#dataanalysisï¿½#dataanalyticsï¿½#datascientistï¿½#machinelearningï¿½#pythonï¿½#pythonprogrammingï¿½#pythonprojectsï¿½#pythoncodeï¿½#artificialintelligenceï¿½#aiï¿½#deeplearningï¿½#sentimentanalysisï¿½#sentimentï¿½#nlpï¿½#naturallanguageprocessingï¿½ï¿½#thecleverprogrammer",
          "#timeseriesï¿½#timeï¿½#statisticsï¿½#datascienceï¿½#bigdataï¿½#machinelearningï¿½#pythonï¿½#aiï¿½#timeseriesanalysisï¿½#datavisualizationï¿½#dataanalyticsï¿½#dataï¿½#iotï¿½#analysisï¿½#timeseriesmalaysiaï¿½#artificialintelligenceï¿½#analyticsï¿½ï¿½#thecleverprogrammer",
          "#careerï¿½#jobï¿½#jobsï¿½#jobsearchï¿½#educationï¿½#businessï¿½#successï¿½#careergoalsï¿½#motivationï¿½#workï¿½#careerdevelopmentï¿½#careersï¿½#goalsï¿½#resumeï¿½#studentsï¿½#careeradviceï¿½#datascienceï¿½#marketingï¿½#digitalmarketingï¿½#mediaï¿½#socialmediaï¿½#ITï¿½#webdevelopmentï¿½ï¿½#thecleverprogrammer",
          "#dataï¿½#datascienceï¿½#dataanalysisï¿½#dataanalyticsï¿½#datascientistï¿½#machinelearningï¿½#pythonï¿½#pythonprogrammingï¿½#pythonprojectsï¿½#pythoncodeï¿½#artificialintelligenceï¿½#aiï¿½#deeplearningï¿½#machinelearningprojectsï¿½#datascienceprojectsï¿½ï¿½#thecleverprogrammerï¿½#machinelearningmodelsï¿½#stressï¿½#stressdetection",
          "#dataï¿½#datascienceï¿½#dataanalysisï¿½#dataanalyticsï¿½#datascientistï¿½#machinelearningï¿½#pythonï¿½#pythonprogrammingï¿½#pythonprojectsï¿½#pythoncodeï¿½#artificialintelligenceï¿½#aiï¿½#deeplearningï¿½#machinelearningprojectsï¿½#datascienceprojectsï¿½ï¿½#thecleverprogrammerï¿½#machinelearningmodelsï¿½#zomatoï¿½#businessï¿½#casestudyï¿½#businessmodel",
          "#datavisualizationï¿½#datascienceï¿½#dataï¿½#dataanalyticsï¿½#machinelearningï¿½#dataanalysisï¿½#artificialintelligenceï¿½#pythonï¿½#datascientistï¿½#bigdataï¿½#deeplearningï¿½#datavizï¿½#aiï¿½#analyticsï¿½#technologyï¿½#dataanalystï¿½#programmingï¿½#pythonprogrammingï¿½#statisticsï¿½#codingï¿½#businessintelligenceï¿½#dataminingï¿½#techï¿½#businessï¿½#boxplotsï¿½#thecleverprogrammerï¿½",
          "#neuralnetworkï¿½#machinelearningï¿½#artificialintelligenceï¿½#deeplearningï¿½#pythonï¿½#aiï¿½#datascienceï¿½#neuralnetworksï¿½#programmingï¿½#tensorflowï¿½#datascientistï¿½#pythonprogrammingï¿½#techï¿½#technologyï¿½#artificialintelligenceaiï¿½#machinelearningalgorithmsï¿½#computerscienceï¿½#codingï¿½#mlï¿½#dataï¿½ï¿½#thecleverprogrammer",
          "#programmingï¿½#codingï¿½#programmerï¿½#pythonï¿½#developerï¿½#javascriptï¿½#technologyï¿½#codeï¿½#coderï¿½#javaï¿½#htmlï¿½#computerscienceï¿½#techï¿½#cssï¿½#webdeveloperï¿½#softwareï¿½#webdevelopmentï¿½#codinglifeï¿½#softwaredeveloperï¿½#linuxï¿½#programmingmemesï¿½#webdesignï¿½#programmersï¿½#phpï¿½#programminglifeï¿½#machinelearningï¿½#hackingï¿½#pythonprogrammingï¿½#thecleverprogrammerï¿½",
          "#deeplearningï¿½#machinelearningï¿½#artificialintelligenceï¿½#datascienceï¿½#aiï¿½#pythonï¿½#codingï¿½#technologyï¿½#programmingï¿½#bigdataï¿½#dataanalyticsï¿½#datascientistï¿½#dataï¿½#computerscienceï¿½#techï¿½#neuralnetworkï¿½ï¿½#thecleverprogrammer",
          "#dataï¿½#datascienceï¿½#dataanalysisï¿½#dataanalyticsï¿½#datascientistï¿½#machinelearningï¿½#pythonï¿½#pythonprogrammingï¿½#pythonprojectsï¿½#pythoncodeï¿½#artificialintelligenceï¿½#aiï¿½#deeplearningï¿½#machinelearningprojectsï¿½#datascienceprojectsï¿½ï¿½#thecleverprogrammerï¿½#bitcoinï¿½#cryptocurrency",
          "#dataï¿½#datascienceï¿½#dataanalysisï¿½#dataanalyticsï¿½#datascientistï¿½#machinelearningï¿½#pythonï¿½#pythonprogrammingï¿½#pythonprojectsï¿½#pythoncodeï¿½#artificialintelligenceï¿½#aiï¿½#deeplearningï¿½#algorithmï¿½#algorithmsï¿½#machinelearningalgorithmsï¿½#mlï¿½ï¿½#thecleverprogrammerï¿½#projectsï¿½#casestudies",
          "#dataï¿½#datascienceï¿½#dataanalysisï¿½#dataanalyticsï¿½#datascientistï¿½#machinelearningï¿½#pythonï¿½#pythonprogrammingï¿½#pythonprojectsï¿½#pythoncodeï¿½#artificialintelligenceï¿½#aiï¿½#deeplearningï¿½#machinelearningprojectsï¿½#datascienceprojectsï¿½ï¿½#thecleverprogrammerï¿½#machinelearningmodelsï¿½#zomatoï¿½#businessï¿½#casestudyï¿½#businessmodelï¿½#amazonfinds",
          "#dataï¿½#datascienceï¿½#dataanalysisï¿½#dataanalyticsï¿½#datascientistï¿½#machinelearningï¿½#pythonï¿½#pythonprogrammingï¿½#pythonprojectsï¿½#pythoncodeï¿½#artificialintelligenceï¿½#aiï¿½#deeplearningï¿½#machinelearningprojectsï¿½#datascienceprojectsï¿½ï¿½#thecleverprogrammer",
          "#dataï¿½#technologyï¿½#datascienceï¿½#businessï¿½#techï¿½#bigdataï¿½#dataanalyticsï¿½#machinelearningï¿½#aiï¿½#analyticsï¿½#datavisualizationï¿½#securityï¿½#artificialintelligenceï¿½#cybersecurityï¿½#programmingï¿½#pythonï¿½#softwareï¿½#codingï¿½#networkï¿½#internetï¿½#cloudï¿½#dataanalysisï¿½#innovationï¿½#datascientistï¿½#databaseï¿½ï¿½#thecleverprogrammerï¿½#google",
          "#dataï¿½#technologyï¿½#datascienceï¿½#businessï¿½#techï¿½#bigdataï¿½#dataanalyticsï¿½#machinelearningï¿½#aiï¿½#analyticsï¿½#datavisualizationï¿½#securityï¿½#artificialintelligenceï¿½#cybersecurityï¿½#programmingï¿½#pythonï¿½#softwareï¿½#codingï¿½#networkï¿½#internetï¿½#cloudï¿½#dataanalysisï¿½#innovationï¿½#datascientistï¿½#databaseï¿½ï¿½#thecleverprogrammerï¿½#facebook",
          "#dataï¿½#datascienceï¿½#dataanalysisï¿½#dataanalyticsï¿½#datascientistï¿½#machinelearningï¿½#pythonï¿½#pythonprogrammingï¿½#pythonprojectsï¿½#pythoncodeï¿½#artificialintelligenceï¿½#aiï¿½#deeplearningï¿½#machinelearningprojectsï¿½#datascienceprojectsï¿½ï¿½#thecleverprogrammerï¿½#interviewï¿½#datascienceinterview",
          "#dataï¿½#datascienceï¿½#dataanalysisï¿½#dataanalyticsï¿½#datascientistï¿½#machinelearningï¿½#pythonï¿½#pythonprogrammingï¿½#pythonprojectsï¿½#pythoncodeï¿½#artificialintelligenceï¿½#aiï¿½#deeplearningï¿½#machinelearningprojectsï¿½#datascienceprojectsï¿½ï¿½#thecleverprogrammerï¿½#interviewï¿½#neuralnetworks",
          "#pythonï¿½#pythonprogrammingï¿½#pythonprojectsï¿½#pythoncodeï¿½#pythonlearningï¿½#pythondeveloperï¿½#pythoncodingï¿½#pythonprogrammerï¿½ï¿½#thecleverprogrammerï¿½#pythonprojectsï¿½#otpï¿½#otpverification",
          "#pythonï¿½#pythonprogrammingï¿½#pythonprojectsï¿½#pythoncodeï¿½#pythonlearningï¿½#pythondeveloperï¿½#pythoncodingï¿½#pythonprogrammerï¿½ï¿½#thecleverprogrammerï¿½#pythonprojectsï¿½#qrcodes",
          "#datavisualizationï¿½#datascienceï¿½#dataï¿½#dataanalyticsï¿½#machinelearningï¿½#dataanalysisï¿½#artificialintelligenceï¿½#pythonï¿½#datascientistï¿½#bigdataï¿½#deeplearningï¿½#datavizï¿½#aiï¿½#analyticsï¿½#technologyï¿½#dataanalystï¿½#programmingï¿½#pythonprogrammingï¿½#statisticsï¿½#codingï¿½#businessintelligenceï¿½#dataminingï¿½#techï¿½#businessï¿½#computerscienceï¿½#tableauï¿½#databaseï¿½#bigdataanalyticsï¿½#powerbi",
          "#recommendedï¿½#recommendationsï¿½#recommendationsystemï¿½#recommendationï¿½#dataï¿½#datascienceï¿½#dataanalysisï¿½#dataanalyticsï¿½#datascientistï¿½#machinelearningï¿½#pythonï¿½#pythonprogrammingï¿½#pythonprojectsï¿½#pythoncodeï¿½#artificialintelligenceï¿½#aiï¿½ï¿½#thecleverprogrammer",
          "#datavisualizationï¿½#datascienceï¿½#dataï¿½#dataanalyticsï¿½#machinelearningï¿½#dataanalysisï¿½#artificialintelligenceï¿½#pythonï¿½#datascientistï¿½#bigdataï¿½#deeplearningï¿½#datavizï¿½#aiï¿½#analyticsï¿½#technologyï¿½#dataanalystï¿½#programmingï¿½#pythonprogrammingï¿½#statisticsï¿½ï¿½#thecleverprogrammer",
          "#dataï¿½#datascienceï¿½#dataanalysisï¿½#dataanalyticsï¿½#datascientistï¿½#machinelearningï¿½#pythonï¿½#pythonprogrammingï¿½#pythonprojectsï¿½#pythoncodeï¿½#artificialintelligenceï¿½#aiï¿½#deeplearningï¿½#machinelearningprojectsï¿½#datascienceprojectsï¿½ï¿½#thecleverprogrammerï¿½#financeï¿½#businessï¿½#moneyï¿½#investing",
          "#codingï¿½#programmingï¿½#programmerï¿½#pythonï¿½#developerï¿½#javascriptï¿½#codeï¿½#coderï¿½#technologyï¿½#htmlï¿½#computerscienceï¿½#codinglifeï¿½#javaï¿½#webdeveloperï¿½#techï¿½#cssï¿½#webdevelopmentï¿½#softwareï¿½#softwaredeveloperï¿½#interviewï¿½#jobï¿½#codinginterviewï¿½ï¿½#thecleverprogrammer",
          "#healthcareï¿½#healthï¿½#covidï¿½#dataï¿½#datascienceï¿½#dataanalysisï¿½#dataanalyticsï¿½#datascientistï¿½#machinelearningï¿½#pythonï¿½#pythonprogrammingï¿½#pythonprojectsï¿½#pythoncodeï¿½#artificialintelligenceï¿½#aiï¿½#dataanalystï¿½ï¿½#thecleverprogrammer",
          "#dataï¿½#datascienceï¿½#dataanalysisï¿½#dataanalyticsï¿½#datascientistï¿½#machinelearningï¿½#pythonï¿½#pythonprogrammingï¿½#pythonprojectsï¿½#pythoncodeï¿½#artificialintelligenceï¿½#aiï¿½#deeplearningï¿½#algorithmï¿½#algorithmsï¿½#machinelearningalgorithmsï¿½ï¿½#thecleverprogrammer",
          "#pythonï¿½#pythonprogrammingï¿½#pythonprojectsï¿½#pythoncodeï¿½#pythonlearningï¿½#pythondeveloperï¿½#pythoncodingï¿½#pythonprogrammerï¿½ï¿½#thecleverprogrammer",
          "#dataï¿½#datascienceï¿½#dataanalysisï¿½#dataanalyticsï¿½#datascientistï¿½#machinelearningï¿½#pythonï¿½#pythonprogrammingï¿½#pythonprojectsï¿½#pythoncodeï¿½#artificialintelligenceï¿½#aiï¿½#deeplearningï¿½#sentimentanalysisï¿½#sentimentï¿½#nlpï¿½#naturallanguageprocessingï¿½ï¿½#thecleverprogrammerï¿½#flipkart",
          "#dataï¿½#datascienceï¿½#dataanalysisï¿½#dataanalyticsï¿½#datascientistï¿½#machinelearningï¿½#pythonï¿½#pythonprogrammingï¿½#pythonprojectsï¿½#pythoncodeï¿½#artificialintelligenceï¿½#aiï¿½#deeplearningï¿½#machinelearningprojectsï¿½#datascienceprojectsï¿½ï¿½#thecleverprogrammerï¿½#news",
          "#pythonï¿½#pythonprogrammingï¿½#pythonprojectsï¿½#pythoncodeï¿½#pythonlearningï¿½#pythondeveloperï¿½#pythoncodingï¿½#pythonprogrammerï¿½ï¿½#thecleverprogrammerï¿½#naturallanguageprocessingï¿½#nlp",
          "#pythonï¿½#pythonprogrammingï¿½#pythonprojectsï¿½#pythoncodeï¿½#pythonlearningï¿½#pythondeveloperï¿½#pythoncodingï¿½#pythonprogrammerï¿½ï¿½#thecleverprogrammerï¿½#pythonprogramï¿½@codergallery",
          "#dataï¿½#datascienceï¿½#dataanalysisï¿½#dataanalyticsï¿½#datascientistï¿½#machinelearningï¿½#pythonï¿½#pythonprogrammingï¿½#pythonprojectsï¿½#pythoncodeï¿½#artificialintelligenceï¿½#aiï¿½#deeplearningï¿½#machinelearningprojectsï¿½#datascienceprojectsï¿½ï¿½#thecleverprogrammerï¿½#whatsapp",
          "#dataï¿½#datascienceï¿½#dataanalysisï¿½#dataanalyticsï¿½#datascientistï¿½#machinelearningï¿½#pythonï¿½#pythonprogrammingï¿½#pythonprojectsï¿½#pythoncodeï¿½#artificialintelligenceï¿½#aiï¿½#deeplearningï¿½#machinelearningprojectsï¿½#datascienceprojectsï¿½ï¿½#thecleverprogrammerï¿½#roadmap",
          "#dataï¿½#datascienceï¿½#dataanalysisï¿½#dataanalyticsï¿½#datascientistï¿½#machinelearningï¿½#pythonï¿½#pythonprogrammingï¿½#pythonprojectsï¿½#pythoncodeï¿½#artificialintelligenceï¿½#aiï¿½#deeplearningï¿½#sentimentanalysisï¿½#sentimentï¿½#nlpï¿½#naturallanguageprocessingï¿½ï¿½#thecleverprogrammerï¿½#ukraine",
          "#pythonï¿½#pythonprogrammingï¿½#pythonprojectsï¿½#pythoncodeï¿½#pythonlearningï¿½#pythondeveloperï¿½#pythoncodingï¿½#pythonprogrammerï¿½ï¿½#thecleverprogrammerï¿½#codingï¿½#programmingï¿½#computerscienceï¿½#datascienceï¿½#webdevelopmentï¿½#machinelearning",
          "#dataï¿½#datascienceï¿½#dataanalysisï¿½#dataanalyticsï¿½#datascientistï¿½#machinelearningï¿½#pythonï¿½#pythonprogrammingï¿½#pythonprojectsï¿½#pythoncodeï¿½#artificialintelligenceï¿½#aiï¿½#deeplearningï¿½#machinelearningprojectsï¿½#datascienceprojectsï¿½ï¿½#thecleverprogrammerï¿½#instagramï¿½#instagramreach",
          "#machinelearningï¿½#machinelearningalgorithmsï¿½#datascienceï¿½#dataanalysisï¿½#dataanalyticsï¿½#datascientistï¿½#pythonï¿½#pythonprogrammingï¿½#pythonprojectsï¿½#pythoncodeï¿½#artificialintelligenceï¿½#aiï¿½#deeplearningï¿½#algorithmï¿½#algorithmsï¿½ï¿½#thecleverprogrammer",
          "#datascienceï¿½#datasciencejobsï¿½#datasciencetrainingï¿½#datascienceeducationï¿½#datasciencecourseï¿½#dataï¿½#dataanalysisï¿½#dataanalyticsï¿½#datascientistï¿½#machinelearningï¿½#artificialintelligenceï¿½#aiï¿½#deeplearningï¿½#machinelearningprojectsï¿½#datascienceprojectsï¿½ï¿½#thecleverprogrammer",
          "#sqlï¿½#mysqlï¿½#datascienceï¿½#datasciencejobsï¿½#datasciencetrainingï¿½#datascienceeducationï¿½#datasciencecourseï¿½#dataï¿½#dataanalysisï¿½#dataanalyticsï¿½#datascientistï¿½#machinelearningï¿½#artificialintelligenceï¿½#aiï¿½#deeplearningï¿½#machinelearningprojectsï¿½#datascienceprojectsï¿½ï¿½#thecleverprogrammer",
          "#datavisualizationï¿½#datascienceï¿½#datasciencejobsï¿½#datasciencetrainingï¿½#datascienceeducationï¿½#datasciencecourseï¿½#dataï¿½#dataanalysisï¿½#dataanalyticsï¿½#datascientistï¿½#machinelearningï¿½#artificialintelligenceï¿½#aiï¿½#deeplearningï¿½#machinelearningprojectsï¿½#datascienceprojectsï¿½ï¿½#thecleverprogrammer",
          "#pythonï¿½#pythonprogrammingï¿½#pythoncodeï¿½#pythonlearningï¿½#pythondeveloperï¿½#pythonprogrammerï¿½#pythonprojectsï¿½#python3ï¿½#pythoncodingï¿½#pythonprogramminglanguageï¿½ï¿½#thecleverprogrammerï¿½#nlpï¿½#naturallanguageprocessing",
          "#pythonï¿½#pythonprogrammingï¿½#pythoncodeï¿½#pythonlearningï¿½#pythondeveloperï¿½#pythonprogrammerï¿½#pythonprojectsï¿½#python3ï¿½#pythoncodingï¿½#pythonprogramminglanguageï¿½ï¿½#thecleverprogrammer",
          "#machinelearningï¿½#machinelearningalgorithmsï¿½#datascienceï¿½#dataanalysisï¿½#dataanalyticsï¿½#datascientistï¿½#pythonï¿½#pythonprogrammingï¿½#pythonprojectsï¿½#pythoncodeï¿½#artificialintelligenceï¿½#aiï¿½#deeplearningï¿½#algorithmï¿½#algorithmsï¿½ï¿½#thecleverprogrammerï¿½#clustering"
         ],
         "xaxis": "x",
         "y": [
          3920,
          9314,
          5394,
          4021,
          4021,
          8069,
          4528,
          2518,
          3884,
          3884,
          2621,
          3541,
          9401,
          77447,
          2218,
          4344,
          3216,
          22500,
          22444,
          8004,
          12336,
          4814,
          2064,
          12022,
          15991,
          17420,
          14121,
          7848,
          6030,
          128684,
          3854,
          2327,
          4998,
          4289,
          8030,
          3786,
          3988,
          10036,
          6868,
          4467,
          6852,
          12898,
          13947,
          11389,
          3601,
          3525,
          3623,
          2957,
          5538,
          10682,
          8001,
          4609,
          7231,
          17396,
          63415,
          17713,
          5563,
          4842,
          11149,
          9870
         ],
         "yaxis": "y"
        }
       ],
       "layout": {
        "barmode": "relative",
        "legend": {
         "tracegroupgap": 0
        },
        "template": {
         "data": {
          "bar": [
           {
            "error_x": {
             "color": "#2a3f5f"
            },
            "error_y": {
             "color": "#2a3f5f"
            },
            "marker": {
             "line": {
              "color": "white",
              "width": 0.5
             },
             "pattern": {
              "fillmode": "overlay",
              "size": 10,
              "solidity": 0.2
             }
            },
            "type": "bar"
           }
          ],
          "barpolar": [
           {
            "marker": {
             "line": {
              "color": "white",
              "width": 0.5
             },
             "pattern": {
              "fillmode": "overlay",
              "size": 10,
              "solidity": 0.2
             }
            },
            "type": "barpolar"
           }
          ],
          "carpet": [
           {
            "aaxis": {
             "endlinecolor": "#2a3f5f",
             "gridcolor": "#C8D4E3",
             "linecolor": "#C8D4E3",
             "minorgridcolor": "#C8D4E3",
             "startlinecolor": "#2a3f5f"
            },
            "baxis": {
             "endlinecolor": "#2a3f5f",
             "gridcolor": "#C8D4E3",
             "linecolor": "#C8D4E3",
             "minorgridcolor": "#C8D4E3",
             "startlinecolor": "#2a3f5f"
            },
            "type": "carpet"
           }
          ],
          "choropleth": [
           {
            "colorbar": {
             "outlinewidth": 0,
             "ticks": ""
            },
            "type": "choropleth"
           }
          ],
          "contour": [
           {
            "colorbar": {
             "outlinewidth": 0,
             "ticks": ""
            },
            "colorscale": [
             [
              0,
              "#0d0887"
             ],
             [
              0.1111111111111111,
              "#46039f"
             ],
             [
              0.2222222222222222,
              "#7201a8"
             ],
             [
              0.3333333333333333,
              "#9c179e"
             ],
             [
              0.4444444444444444,
              "#bd3786"
             ],
             [
              0.5555555555555556,
              "#d8576b"
             ],
             [
              0.6666666666666666,
              "#ed7953"
             ],
             [
              0.7777777777777778,
              "#fb9f3a"
             ],
             [
              0.8888888888888888,
              "#fdca26"
             ],
             [
              1,
              "#f0f921"
             ]
            ],
            "type": "contour"
           }
          ],
          "contourcarpet": [
           {
            "colorbar": {
             "outlinewidth": 0,
             "ticks": ""
            },
            "type": "contourcarpet"
           }
          ],
          "heatmap": [
           {
            "colorbar": {
             "outlinewidth": 0,
             "ticks": ""
            },
            "colorscale": [
             [
              0,
              "#0d0887"
             ],
             [
              0.1111111111111111,
              "#46039f"
             ],
             [
              0.2222222222222222,
              "#7201a8"
             ],
             [
              0.3333333333333333,
              "#9c179e"
             ],
             [
              0.4444444444444444,
              "#bd3786"
             ],
             [
              0.5555555555555556,
              "#d8576b"
             ],
             [
              0.6666666666666666,
              "#ed7953"
             ],
             [
              0.7777777777777778,
              "#fb9f3a"
             ],
             [
              0.8888888888888888,
              "#fdca26"
             ],
             [
              1,
              "#f0f921"
             ]
            ],
            "type": "heatmap"
           }
          ],
          "heatmapgl": [
           {
            "colorbar": {
             "outlinewidth": 0,
             "ticks": ""
            },
            "colorscale": [
             [
              0,
              "#0d0887"
             ],
             [
              0.1111111111111111,
              "#46039f"
             ],
             [
              0.2222222222222222,
              "#7201a8"
             ],
             [
              0.3333333333333333,
              "#9c179e"
             ],
             [
              0.4444444444444444,
              "#bd3786"
             ],
             [
              0.5555555555555556,
              "#d8576b"
             ],
             [
              0.6666666666666666,
              "#ed7953"
             ],
             [
              0.7777777777777778,
              "#fb9f3a"
             ],
             [
              0.8888888888888888,
              "#fdca26"
             ],
             [
              1,
              "#f0f921"
             ]
            ],
            "type": "heatmapgl"
           }
          ],
          "histogram": [
           {
            "marker": {
             "pattern": {
              "fillmode": "overlay",
              "size": 10,
              "solidity": 0.2
             }
            },
            "type": "histogram"
           }
          ],
          "histogram2d": [
           {
            "colorbar": {
             "outlinewidth": 0,
             "ticks": ""
            },
            "colorscale": [
             [
              0,
              "#0d0887"
             ],
             [
              0.1111111111111111,
              "#46039f"
             ],
             [
              0.2222222222222222,
              "#7201a8"
             ],
             [
              0.3333333333333333,
              "#9c179e"
             ],
             [
              0.4444444444444444,
              "#bd3786"
             ],
             [
              0.5555555555555556,
              "#d8576b"
             ],
             [
              0.6666666666666666,
              "#ed7953"
             ],
             [
              0.7777777777777778,
              "#fb9f3a"
             ],
             [
              0.8888888888888888,
              "#fdca26"
             ],
             [
              1,
              "#f0f921"
             ]
            ],
            "type": "histogram2d"
           }
          ],
          "histogram2dcontour": [
           {
            "colorbar": {
             "outlinewidth": 0,
             "ticks": ""
            },
            "colorscale": [
             [
              0,
              "#0d0887"
             ],
             [
              0.1111111111111111,
              "#46039f"
             ],
             [
              0.2222222222222222,
              "#7201a8"
             ],
             [
              0.3333333333333333,
              "#9c179e"
             ],
             [
              0.4444444444444444,
              "#bd3786"
             ],
             [
              0.5555555555555556,
              "#d8576b"
             ],
             [
              0.6666666666666666,
              "#ed7953"
             ],
             [
              0.7777777777777778,
              "#fb9f3a"
             ],
             [
              0.8888888888888888,
              "#fdca26"
             ],
             [
              1,
              "#f0f921"
             ]
            ],
            "type": "histogram2dcontour"
           }
          ],
          "mesh3d": [
           {
            "colorbar": {
             "outlinewidth": 0,
             "ticks": ""
            },
            "type": "mesh3d"
           }
          ],
          "parcoords": [
           {
            "line": {
             "colorbar": {
              "outlinewidth": 0,
              "ticks": ""
             }
            },
            "type": "parcoords"
           }
          ],
          "pie": [
           {
            "automargin": true,
            "type": "pie"
           }
          ],
          "scatter": [
           {
            "fillpattern": {
             "fillmode": "overlay",
             "size": 10,
             "solidity": 0.2
            },
            "type": "scatter"
           }
          ],
          "scatter3d": [
           {
            "line": {
             "colorbar": {
              "outlinewidth": 0,
              "ticks": ""
             }
            },
            "marker": {
             "colorbar": {
              "outlinewidth": 0,
              "ticks": ""
             }
            },
            "type": "scatter3d"
           }
          ],
          "scattercarpet": [
           {
            "marker": {
             "colorbar": {
              "outlinewidth": 0,
              "ticks": ""
             }
            },
            "type": "scattercarpet"
           }
          ],
          "scattergeo": [
           {
            "marker": {
             "colorbar": {
              "outlinewidth": 0,
              "ticks": ""
             }
            },
            "type": "scattergeo"
           }
          ],
          "scattergl": [
           {
            "marker": {
             "colorbar": {
              "outlinewidth": 0,
              "ticks": ""
             }
            },
            "type": "scattergl"
           }
          ],
          "scattermapbox": [
           {
            "marker": {
             "colorbar": {
              "outlinewidth": 0,
              "ticks": ""
             }
            },
            "type": "scattermapbox"
           }
          ],
          "scatterpolar": [
           {
            "marker": {
             "colorbar": {
              "outlinewidth": 0,
              "ticks": ""
             }
            },
            "type": "scatterpolar"
           }
          ],
          "scatterpolargl": [
           {
            "marker": {
             "colorbar": {
              "outlinewidth": 0,
              "ticks": ""
             }
            },
            "type": "scatterpolargl"
           }
          ],
          "scatterternary": [
           {
            "marker": {
             "colorbar": {
              "outlinewidth": 0,
              "ticks": ""
             }
            },
            "type": "scatterternary"
           }
          ],
          "surface": [
           {
            "colorbar": {
             "outlinewidth": 0,
             "ticks": ""
            },
            "colorscale": [
             [
              0,
              "#0d0887"
             ],
             [
              0.1111111111111111,
              "#46039f"
             ],
             [
              0.2222222222222222,
              "#7201a8"
             ],
             [
              0.3333333333333333,
              "#9c179e"
             ],
             [
              0.4444444444444444,
              "#bd3786"
             ],
             [
              0.5555555555555556,
              "#d8576b"
             ],
             [
              0.6666666666666666,
              "#ed7953"
             ],
             [
              0.7777777777777778,
              "#fb9f3a"
             ],
             [
              0.8888888888888888,
              "#fdca26"
             ],
             [
              1,
              "#f0f921"
             ]
            ],
            "type": "surface"
           }
          ],
          "table": [
           {
            "cells": {
             "fill": {
              "color": "#EBF0F8"
             },
             "line": {
              "color": "white"
             }
            },
            "header": {
             "fill": {
              "color": "#C8D4E3"
             },
             "line": {
              "color": "white"
             }
            },
            "type": "table"
           }
          ]
         },
         "layout": {
          "annotationdefaults": {
           "arrowcolor": "#2a3f5f",
           "arrowhead": 0,
           "arrowwidth": 1
          },
          "autotypenumbers": "strict",
          "coloraxis": {
           "colorbar": {
            "outlinewidth": 0,
            "ticks": ""
           }
          },
          "colorscale": {
           "diverging": [
            [
             0,
             "#8e0152"
            ],
            [
             0.1,
             "#c51b7d"
            ],
            [
             0.2,
             "#de77ae"
            ],
            [
             0.3,
             "#f1b6da"
            ],
            [
             0.4,
             "#fde0ef"
            ],
            [
             0.5,
             "#f7f7f7"
            ],
            [
             0.6,
             "#e6f5d0"
            ],
            [
             0.7,
             "#b8e186"
            ],
            [
             0.8,
             "#7fbc41"
            ],
            [
             0.9,
             "#4d9221"
            ],
            [
             1,
             "#276419"
            ]
           ],
           "sequential": [
            [
             0,
             "#0d0887"
            ],
            [
             0.1111111111111111,
             "#46039f"
            ],
            [
             0.2222222222222222,
             "#7201a8"
            ],
            [
             0.3333333333333333,
             "#9c179e"
            ],
            [
             0.4444444444444444,
             "#bd3786"
            ],
            [
             0.5555555555555556,
             "#d8576b"
            ],
            [
             0.6666666666666666,
             "#ed7953"
            ],
            [
             0.7777777777777778,
             "#fb9f3a"
            ],
            [
             0.8888888888888888,
             "#fdca26"
            ],
            [
             1,
             "#f0f921"
            ]
           ],
           "sequentialminus": [
            [
             0,
             "#0d0887"
            ],
            [
             0.1111111111111111,
             "#46039f"
            ],
            [
             0.2222222222222222,
             "#7201a8"
            ],
            [
             0.3333333333333333,
             "#9c179e"
            ],
            [
             0.4444444444444444,
             "#bd3786"
            ],
            [
             0.5555555555555556,
             "#d8576b"
            ],
            [
             0.6666666666666666,
             "#ed7953"
            ],
            [
             0.7777777777777778,
             "#fb9f3a"
            ],
            [
             0.8888888888888888,
             "#fdca26"
            ],
            [
             1,
             "#f0f921"
            ]
           ]
          },
          "colorway": [
           "#636efa",
           "#EF553B",
           "#00cc96",
           "#ab63fa",
           "#FFA15A",
           "#19d3f3",
           "#FF6692",
           "#B6E880",
           "#FF97FF",
           "#FECB52"
          ],
          "font": {
           "color": "#2a3f5f"
          },
          "geo": {
           "bgcolor": "white",
           "lakecolor": "white",
           "landcolor": "white",
           "showlakes": true,
           "showland": true,
           "subunitcolor": "#C8D4E3"
          },
          "hoverlabel": {
           "align": "left"
          },
          "hovermode": "closest",
          "mapbox": {
           "style": "light"
          },
          "paper_bgcolor": "white",
          "plot_bgcolor": "white",
          "polar": {
           "angularaxis": {
            "gridcolor": "#EBF0F8",
            "linecolor": "#EBF0F8",
            "ticks": ""
           },
           "bgcolor": "white",
           "radialaxis": {
            "gridcolor": "#EBF0F8",
            "linecolor": "#EBF0F8",
            "ticks": ""
           }
          },
          "scene": {
           "xaxis": {
            "backgroundcolor": "white",
            "gridcolor": "#DFE8F3",
            "gridwidth": 2,
            "linecolor": "#EBF0F8",
            "showbackground": true,
            "ticks": "",
            "zerolinecolor": "#EBF0F8"
           },
           "yaxis": {
            "backgroundcolor": "white",
            "gridcolor": "#DFE8F3",
            "gridwidth": 2,
            "linecolor": "#EBF0F8",
            "showbackground": true,
            "ticks": "",
            "zerolinecolor": "#EBF0F8"
           },
           "zaxis": {
            "backgroundcolor": "white",
            "gridcolor": "#DFE8F3",
            "gridwidth": 2,
            "linecolor": "#EBF0F8",
            "showbackground": true,
            "ticks": "",
            "zerolinecolor": "#EBF0F8"
           }
          },
          "shapedefaults": {
           "line": {
            "color": "#2a3f5f"
           }
          },
          "ternary": {
           "aaxis": {
            "gridcolor": "#DFE8F3",
            "linecolor": "#A2B1C6",
            "ticks": ""
           },
           "baxis": {
            "gridcolor": "#DFE8F3",
            "linecolor": "#A2B1C6",
            "ticks": ""
           },
           "bgcolor": "white",
           "caxis": {
            "gridcolor": "#DFE8F3",
            "linecolor": "#A2B1C6",
            "ticks": ""
           }
          },
          "title": {
           "x": 0.05
          },
          "xaxis": {
           "automargin": true,
           "gridcolor": "#EBF0F8",
           "linecolor": "#EBF0F8",
           "ticks": "",
           "title": {
            "standoff": 15
           },
           "zerolinecolor": "#EBF0F8",
           "zerolinewidth": 2
          },
          "yaxis": {
           "automargin": true,
           "gridcolor": "#EBF0F8",
           "linecolor": "#EBF0F8",
           "ticks": "",
           "title": {
            "standoff": 15
           },
           "zerolinecolor": "#EBF0F8",
           "zerolinewidth": 2
          }
         }
        },
        "title": {
         "text": "Impressions Distribution for Each Hashtag"
        },
        "xaxis": {
         "anchor": "y",
         "domain": [
          0,
          1
         ],
         "title": {
          "text": "Hashtag"
         }
        },
        "yaxis": {
         "anchor": "x",
         "domain": [
          0,
          1
         ],
         "title": {
          "text": "Impressions"
         }
        }
       }
      }
     },
     "metadata": {},
     "output_type": "display_data"
    }
   ],
   "source": [
    "# Create a dictionary to store the likes and impressions for each hashtag\n",
    "hashtag_likes = {}\n",
    "hashtag_impressions = {}\n",
    "\n",
    "# Iterate through each row in the dataset\n",
    "for index, row in df.iterrows():\n",
    "    hashtags = str(row['Hashtags']).split()\n",
    "    for hashtag in hashtags:\n",
    "        hashtag = hashtag.strip()\n",
    "        if hashtag not in hashtag_likes:\n",
    "            hashtag_likes[hashtag] = 0\n",
    "            hashtag_impressions[hashtag] = 0\n",
    "        hashtag_likes[hashtag] += row['Likes']\n",
    "        hashtag_impressions[hashtag] += row['Impressions']\n",
    "\n",
    "# Create a DataFrame for likes distribution\n",
    "likes_distribution = pd.DataFrame(list(hashtag_likes.items()), columns=['Hashtag', 'Likes'])\n",
    "\n",
    "# Create a DataFrame for impressions distribution\n",
    "impressions_distribution = pd.DataFrame(list(hashtag_impressions.items()), columns=['Hashtag', 'Impressions'])\n",
    "\n",
    "fig_likes = px.bar(likes_distribution, x='Hashtag', y='Likes', \n",
    "                   title='Likes Distribution for Each Hashtag')\n",
    "\n",
    "fig_impressions = px.bar(impressions_distribution, x='Hashtag', \n",
    "                         y='Impressions', \n",
    "                         title='Impressions Distribution for Each Hashtag')\n",
    "\n",
    "fig_likes.show()\n",
    "fig_impressions.show()"
   ]
  },
  {
   "cell_type": "code",
   "execution_count": null,
   "metadata": {},
   "outputs": [],
   "source": []
  }
 ],
 "metadata": {
  "kernelspec": {
   "display_name": "Python 3",
   "language": "python",
   "name": "python3"
  },
  "language_info": {
   "codemirror_mode": {
    "name": "ipython",
    "version": 3
   },
   "file_extension": ".py",
   "mimetype": "text/x-python",
   "name": "python",
   "nbconvert_exporter": "python",
   "pygments_lexer": "ipython3",
   "version": "3.11.5"
  },
  "orig_nbformat": 4
 },
 "nbformat": 4,
 "nbformat_minor": 2
}
